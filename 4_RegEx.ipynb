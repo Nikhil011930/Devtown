{
  "cells": [
    {
      "cell_type": "markdown",
      "metadata": {
        "id": "YQGpyQtqLvPt"
      },
      "source": [
        "# Day 21"
      ]
    },
    {
      "cell_type": "markdown",
      "metadata": {
        "id": "rE6Ah4KlL5Rv"
      },
      "source": [
        "# Regular Expression \n",
        "\n",
        "## Data cleaning"
      ]
    },
    {
      "cell_type": "code",
      "execution_count": 1,
      "metadata": {
        "id": "grupvHcZLo0S"
      },
      "outputs": [],
      "source": [
        "import re"
      ]
    },
    {
      "cell_type": "code",
      "execution_count": 4,
      "metadata": {
        "colab": {
          "base_uri": "https://localhost:8080/",
          "height": 35
        },
        "id": "HkVXaBuPYl0U",
        "outputId": "c1e8f721-ab1d-4ea5-ae5d-a384ffb2cd4d"
      },
      "outputs": [
        {
          "data": {
            "text/plain": [
              "\"I was occupied on Sunday and after I've got free, I called my friend\\nand his number was 111-9876543210 and 103-9999999999\""
            ]
          },
          "execution_count": 4,
          "metadata": {},
          "output_type": "execute_result"
        }
      ],
      "source": [
        "stri = '''I was occupied on Sunday and after I've got free, I called my friend\n",
        "and his number was 111-9876543210 and 103-9999999999'''\n",
        "stri"
      ]
    },
    {
      "cell_type": "markdown",
      "metadata": {
        "id": "EYO6vA16kOCj"
      },
      "source": [
        "## findall\n",
        "\n",
        "### d -> single digit\n",
        "###  d+ -> multiple digit\n",
        "### \\d{3}-\\d{10}, \\d{3}-\\d+ --> for exach mobile no\n",
        "### This types is use in authantication "
      ]
    },
    {
      "cell_type": "code",
      "execution_count": 5,
      "metadata": {
        "colab": {
          "base_uri": "https://localhost:8080/"
        },
        "id": "DKsEYLPWZACr",
        "outputId": "25f0f3d2-a865-4742-8103-428b6b19c390"
      },
      "outputs": [
        {
          "data": {
            "text/plain": [
              "['111-9876543210']"
            ]
          },
          "execution_count": 5,
          "metadata": {},
          "output_type": "execute_result"
        }
      ],
      "source": [
        "number = re.findall('111-9876543210',stri)\n",
        "number"
      ]
    },
    {
      "cell_type": "code",
      "execution_count": 6,
      "metadata": {
        "colab": {
          "base_uri": "https://localhost:8080/"
        },
        "id": "DXzJWULHdxQY",
        "outputId": "43518f41-ce05-491e-9ad2-787d19f03417"
      },
      "outputs": [
        {
          "data": {
            "text/plain": [
              "['1',\n",
              " '1',\n",
              " '1',\n",
              " '9',\n",
              " '8',\n",
              " '7',\n",
              " '6',\n",
              " '5',\n",
              " '4',\n",
              " '3',\n",
              " '2',\n",
              " '1',\n",
              " '0',\n",
              " '1',\n",
              " '0',\n",
              " '3',\n",
              " '9',\n",
              " '9',\n",
              " '9',\n",
              " '9',\n",
              " '9',\n",
              " '9',\n",
              " '9',\n",
              " '9',\n",
              " '9',\n",
              " '9']"
            ]
          },
          "execution_count": 6,
          "metadata": {},
          "output_type": "execute_result"
        }
      ],
      "source": [
        "number = re.findall('\\d',stri)  \n",
        "# d -> single digit\n",
        "# d+ -> multiple digit\n",
        "number"
      ]
    },
    {
      "cell_type": "code",
      "execution_count": 7,
      "metadata": {
        "colab": {
          "base_uri": "https://localhost:8080/"
        },
        "id": "A3MorIhMd2xa",
        "outputId": "263db782-130c-4eaf-d65d-9282844694f2"
      },
      "outputs": [
        {
          "data": {
            "text/plain": [
              "['111', '9876543210', '103', '9999999999']"
            ]
          },
          "execution_count": 7,
          "metadata": {},
          "output_type": "execute_result"
        }
      ],
      "source": [
        "number = re.findall('\\d+',stri)  \n",
        "# d -> single digit\n",
        "# d+ -> multiple digit\n",
        "number"
      ]
    },
    {
      "cell_type": "code",
      "execution_count": 8,
      "metadata": {
        "colab": {
          "base_uri": "https://localhost:8080/"
        },
        "id": "FD5UQpPnfQES",
        "outputId": "a924775a-8f7b-4b9b-c992-938159d6fa47"
      },
      "outputs": [
        {
          "data": {
            "text/plain": [
              "['111-9876543210', '103-9999999999']"
            ]
          },
          "execution_count": 8,
          "metadata": {},
          "output_type": "execute_result"
        }
      ],
      "source": [
        "number = re.findall('\\d{3}-\\d{10}',stri)  \n",
        "# d -> single digit\n",
        "# d+ -> multiple digit\n",
        "# \\d{3}-\\d{10}, \\d{3}-\\d+ --> for exach mobile no\n",
        "# This types is use in authantication \n",
        "number"
      ]
    },
    {
      "cell_type": "markdown",
      "metadata": {
        "id": "P2HexgsrhqoM"
      },
      "source": [
        "## Further concept\n",
        "\n",
        "## Search\n",
        "\n",
        "- ^On --> to search the word"
      ]
    },
    {
      "cell_type": "code",
      "execution_count": null,
      "metadata": {
        "colab": {
          "base_uri": "https://localhost:8080/",
          "height": 35
        },
        "id": "MX5kb9y8gH9B",
        "outputId": "ab5cf93f-eeba-4d5c-d71f-0616f9708160"
      },
      "outputs": [
        {
          "data": {
            "application/vnd.google.colaboratory.intrinsic+json": {
              "type": "string"
            },
            "text/plain": [
              "'On Monday, there wil be a chance for heavy rainfall.'"
            ]
          },
          "execution_count": 21,
          "metadata": {},
          "output_type": "execute_result"
        }
      ],
      "source": [
        "stri = \"On Monday, there wil be a chance for heavy rainfall.\"\n",
        "stri"
      ]
    },
    {
      "cell_type": "code",
      "execution_count": null,
      "metadata": {
        "colab": {
          "base_uri": "https://localhost:8080/"
        },
        "id": "hj4K_mPyh54L",
        "outputId": "d293fe38-37b0-4537-c6e5-ac623d91cecd"
      },
      "outputs": [
        {
          "name": "stdout",
          "output_type": "stream",
          "text": [
            "Matched\n"
          ]
        }
      ],
      "source": [
        "strin = re.search(\"^On\",stri)\n",
        "if strin:\n",
        "  print (\"Matched\")\n",
        "else: \n",
        "  print(\"No matched\")\n",
        "# ^On"
      ]
    },
    {
      "cell_type": "markdown",
      "metadata": {
        "id": "SFuqAjJdkEuZ"
      },
      "source": [
        "## match --> It will going to check only the begining of the string.\n",
        "\n",
        "- D\\w\\w --> D is the starting of the string and \n",
        "- \\w\\w is Single character --> A-Z/a-z/0-9/_"
      ]
    },
    {
      "cell_type": "code",
      "execution_count": 2,
      "metadata": {
        "colab": {
          "base_uri": "https://localhost:8080/",
          "height": 35
        },
        "id": "jSAVJo6vkEIR",
        "outputId": "20eefd27-f07d-450a-ebab-4813c6c8d46f"
      },
      "outputs": [
        {
          "data": {
            "text/plain": [
              "'Dog is a pet animal Duck and Dob'"
            ]
          },
          "execution_count": 2,
          "metadata": {},
          "output_type": "execute_result"
        }
      ],
      "source": [
        "stri = '''Dog is a pet animal Duck and Dob'''\n",
        "stri"
      ]
    },
    {
      "cell_type": "code",
      "execution_count": 6,
      "metadata": {
        "colab": {
          "base_uri": "https://localhost:8080/",
          "height": 35
        },
        "id": "f_hIgWiki4IC",
        "outputId": "944ac3a9-f778-4409-e64b-b48269b05d15"
      },
      "outputs": [
        {
          "data": {
            "text/plain": [
              "'Dog'"
            ]
          },
          "execution_count": 6,
          "metadata": {},
          "output_type": "execute_result"
        }
      ],
      "source": [
        "mat = re.match(\"D\\w\\w\",stri)\n",
        "mat.group()"
      ]
    },
    {
      "cell_type": "code",
      "execution_count": 4,
      "metadata": {
        "colab": {
          "base_uri": "https://localhost:8080/"
        },
        "id": "dMwdoJ3ekkHo",
        "outputId": "f70ef995-e459-4eb8-f25e-444066a0f436"
      },
      "outputs": [
        {
          "data": {
            "text/plain": [
              "<re.Match object; span=(0, 3), match='Dog'>"
            ]
          },
          "execution_count": 4,
          "metadata": {},
          "output_type": "execute_result"
        }
      ],
      "source": [
        "mat"
      ]
    },
    {
      "cell_type": "markdown",
      "metadata": {
        "id": "rabHaGXZm6u5"
      },
      "source": [
        "## split --> To break it of\n",
        "\n",
        "- \\s --> Space"
      ]
    },
    {
      "cell_type": "code",
      "execution_count": null,
      "metadata": {
        "colab": {
          "base_uri": "https://localhost:8080/",
          "height": 35
        },
        "id": "kbieT4TklSiR",
        "outputId": "0b1dc3b8-2bbb-4b37-8f28-5c39be68e108"
      },
      "outputs": [
        {
          "data": {
            "application/vnd.google.colaboratory.intrinsic+json": {
              "type": "string"
            },
            "text/plain": [
              "'On Monday, there wil be a chance for heavy rainfall.'"
            ]
          },
          "execution_count": 46,
          "metadata": {},
          "output_type": "execute_result"
        }
      ],
      "source": [
        "stri = \"On Monday, there wil be a chance for heavy rainfall.\"\n",
        "stri"
      ]
    },
    {
      "cell_type": "code",
      "execution_count": null,
      "metadata": {
        "colab": {
          "base_uri": "https://localhost:8080/"
        },
        "id": "zVhQysi7m9Qq",
        "outputId": "53da791d-d1b0-4e64-87d9-4531c2254923"
      },
      "outputs": [
        {
          "data": {
            "text/plain": [
              "['On',\n",
              " 'Monday,',\n",
              " 'there',\n",
              " 'wil',\n",
              " 'be',\n",
              " 'a',\n",
              " 'chance',\n",
              " 'for',\n",
              " 'heavy',\n",
              " 'rainfall.']"
            ]
          },
          "execution_count": 47,
          "metadata": {},
          "output_type": "execute_result"
        }
      ],
      "source": [
        "spli = re.split(\"\\s\",stri)\n",
        "spli"
      ]
    },
    {
      "cell_type": "code",
      "execution_count": null,
      "metadata": {
        "colab": {
          "base_uri": "https://localhost:8080/"
        },
        "id": "HnECAWv_n5x4",
        "outputId": "981d07c5-75bb-457e-d9af-0c4c5e6a86b4"
      },
      "outputs": [
        {
          "data": {
            "text/plain": [
              "['On', 'Monday,', 'there wil be a chance for heavy rainfall.']"
            ]
          },
          "execution_count": 50,
          "metadata": {},
          "output_type": "execute_result"
        }
      ],
      "source": [
        "spli = re.split(\"\\s\",stri,2)\n",
        "spli"
      ]
    },
    {
      "cell_type": "code",
      "execution_count": null,
      "metadata": {
        "colab": {
          "base_uri": "https://localhost:8080/"
        },
        "id": "Y1MheDbyoKHY",
        "outputId": "8f0e7986-4815-4fdc-d5d4-ba0f43ee6fd2"
      },
      "outputs": [
        {
          "data": {
            "text/plain": [
              "['On',\n",
              " 'Monday,',\n",
              " 'there',\n",
              " 'wil',\n",
              " 'be',\n",
              " 'a',\n",
              " 'chance',\n",
              " 'for',\n",
              " 'heavy',\n",
              " 'rainfall.']"
            ]
          },
          "execution_count": 49,
          "metadata": {},
          "output_type": "execute_result"
        }
      ],
      "source": [
        "stri.split(\" \")"
      ]
    },
    {
      "cell_type": "code",
      "execution_count": null,
      "metadata": {
        "colab": {
          "base_uri": "https://localhost:8080/",
          "height": 35
        },
        "id": "ZCqd5ceBoTZB",
        "outputId": "c50d708f-a468-4a73-9dec-f0c33814c441"
      },
      "outputs": [
        {
          "data": {
            "application/vnd.google.colaboratory.intrinsic+json": {
              "type": "string"
            },
            "text/plain": [
              "'Rahul 45 Male (+91)9898989898 Student'"
            ]
          },
          "execution_count": 52,
          "metadata": {},
          "output_type": "execute_result"
        }
      ],
      "source": [
        "spl = '''Rahul 45 Male (+91)9898989898 Student'''\n",
        "spl"
      ]
    },
    {
      "cell_type": "code",
      "execution_count": null,
      "metadata": {
        "colab": {
          "base_uri": "https://localhost:8080/"
        },
        "id": "qBULQveEpUAi",
        "outputId": "841ca075-8081-4699-f264-8f717ab8221a"
      },
      "outputs": [
        {
          "data": {
            "text/plain": [
              "['Rahul', '45', 'Male', '(+91)9898989898', 'Student']"
            ]
          },
          "execution_count": 54,
          "metadata": {},
          "output_type": "execute_result"
        }
      ],
      "source": [
        "spli = re.split('\\s',spl)\n",
        "spli"
      ]
    },
    {
      "cell_type": "code",
      "execution_count": null,
      "metadata": {
        "id": "BVZ0AEeapcoQ"
      },
      "outputs": [],
      "source": [
        "# This is how we can use the split function for Data Cleaning. \n",
        "\n",
        "# table.name = spli[0]\n",
        "# table.age = spli[1]\n",
        "# table.gender = spli[2]\n",
        "# table.Monile_no = spli[3]\n",
        "# table.Occu = spli[4]"
      ]
    },
    {
      "cell_type": "markdown",
      "metadata": {
        "id": "anHDDY7HwPNy"
      },
      "source": [
        "# Sub --> replace\n",
        "\n",
        "- SYNTAX: re.sub(pattern, replace pattern, string)"
      ]
    },
    {
      "cell_type": "code",
      "execution_count": null,
      "metadata": {
        "id": "0F6ra7QapxyR"
      },
      "outputs": [],
      "source": [
        "stri = \"Football is not a ball of foot\" "
      ]
    },
    {
      "cell_type": "code",
      "execution_count": null,
      "metadata": {
        "colab": {
          "base_uri": "https://localhost:8080/",
          "height": 35
        },
        "id": "rJjO2wDrxhgp",
        "outputId": "a50142d4-76e0-4254-807e-2cb205ba419e"
      },
      "outputs": [
        {
          "data": {
            "application/vnd.google.colaboratory.intrinsic+json": {
              "type": "string"
            },
            "text/plain": [
              "'Feetball is net a ball ef feet'"
            ]
          },
          "execution_count": 58,
          "metadata": {},
          "output_type": "execute_result"
        }
      ],
      "source": [
        "rep = re.sub('o',\"e\",stri)\n",
        "rep"
      ]
    },
    {
      "cell_type": "code",
      "execution_count": null,
      "metadata": {
        "colab": {
          "base_uri": "https://localhost:8080/",
          "height": 35
        },
        "id": "GA8cGZRgxsl5",
        "outputId": "175d3c15-69bf-4012-be44-c5989c5e8e23"
      },
      "outputs": [
        {
          "data": {
            "application/vnd.google.colaboratory.intrinsic+json": {
              "type": "string"
            },
            "text/plain": [
              "'Feetball is not a ball of foot'"
            ]
          },
          "execution_count": 59,
          "metadata": {},
          "output_type": "execute_result"
        }
      ],
      "source": [
        "rep = re.sub('o',\"e\",stri,2)\n",
        "rep"
      ]
    },
    {
      "cell_type": "markdown",
      "metadata": {
        "id": "NUy0aeiFyJWs"
      },
      "source": [
        "This 5 are the methods of re model\n",
        "1. Findall\n",
        "2. Search\n",
        "3. Match\n",
        "4. Split\n",
        "5. Sub\n"
      ]
    },
    {
      "cell_type": "markdown",
      "metadata": {
        "id": "DHeqrocSyWTE"
      },
      "source": [
        "# Metacharacters"
      ]
    },
    {
      "cell_type": "markdown",
      "metadata": {
        "id": "k0h8bv6OybAN"
      },
      "source": [
        "## 1. [a-b] -> A set of character"
      ]
    },
    {
      "cell_type": "code",
      "execution_count": null,
      "metadata": {
        "id": "UMDXZRagx2xp"
      },
      "outputs": [],
      "source": [
        "stri = '''Mumbai is the financial capital of India'''"
      ]
    },
    {
      "cell_type": "code",
      "execution_count": null,
      "metadata": {
        "colab": {
          "base_uri": "https://localhost:8080/"
        },
        "id": "FvLIeYBhyyZJ",
        "outputId": "c17717da-5e92-4a20-8b46-683b37234e44"
      },
      "outputs": [
        {
          "data": {
            "text/plain": [
              "['b', 'e', 'c', 'c', 'd']"
            ]
          },
          "execution_count": 65,
          "metadata": {},
          "output_type": "execute_result"
        }
      ],
      "source": [
        "asd = re.findall('[b-e]',stri)\n",
        "asd"
      ]
    },
    {
      "cell_type": "markdown",
      "metadata": {
        "id": "NsFT53xB67SF"
      },
      "source": [
        "## 2. ^ --> Start with\n",
        "\n",
        "## 3. $ --> End with"
      ]
    },
    {
      "cell_type": "code",
      "execution_count": null,
      "metadata": {
        "colab": {
          "base_uri": "https://localhost:8080/",
          "height": 35
        },
        "id": "8j_0Pe5_y3xx",
        "outputId": "b7c0c4a6-b19d-4d25-e573-f7befbd1d89d"
      },
      "outputs": [
        {
          "data": {
            "application/vnd.google.colaboratory.intrinsic+json": {
              "type": "string"
            },
            "text/plain": [
              "'Mumbai is the financial capital of India'"
            ]
          },
          "execution_count": 66,
          "metadata": {},
          "output_type": "execute_result"
        }
      ],
      "source": [
        "stri"
      ]
    },
    {
      "cell_type": "code",
      "execution_count": null,
      "metadata": {
        "colab": {
          "base_uri": "https://localhost:8080/"
        },
        "id": "yAcgOOqs7ESK",
        "outputId": "73614591-4000-4de0-e746-a16bb9ccb1fe"
      },
      "outputs": [
        {
          "data": {
            "text/plain": [
              "['India']"
            ]
          },
          "execution_count": 68,
          "metadata": {},
          "output_type": "execute_result"
        }
      ],
      "source": [
        "asd = re.findall(\"India$\",stri)\n",
        "asd"
      ]
    },
    {
      "cell_type": "markdown",
      "metadata": {
        "id": "5vV1qQ6CY36l"
      },
      "source": [
        "## 4. .--> Match single character except new line.\n",
        "\n",
        "## 5 + --> Match one or more occurance\n",
        "\n",
        "## 6 * --> Match zero or more occurance "
      ]
    },
    {
      "cell_type": "code",
      "execution_count": null,
      "metadata": {
        "id": "hcOWb7ea7OUX"
      },
      "outputs": [],
      "source": [
        "import re\n",
        "stri = \"Today is Monday\""
      ]
    },
    {
      "cell_type": "code",
      "execution_count": null,
      "metadata": {
        "colab": {
          "base_uri": "https://localhost:8080/",
          "height": 35
        },
        "id": "zHGEDQsQZD2K",
        "outputId": "1fac269d-e876-45a2-bf02-38ff524dc461"
      },
      "outputs": [
        {
          "data": {
            "application/vnd.google.colaboratory.intrinsic+json": {
              "type": "string"
            },
            "text/plain": [
              "'Today is Monday'"
            ]
          },
          "execution_count": 30,
          "metadata": {},
          "output_type": "execute_result"
        }
      ],
      "source": [
        "asd = re.search (\"^Today.*Monday\",stri)\n",
        "asd.group()"
      ]
    },
    {
      "cell_type": "code",
      "execution_count": null,
      "metadata": {
        "colab": {
          "base_uri": "https://localhost:8080/"
        },
        "id": "647F55f9ZPqq",
        "outputId": "c7582930-7f6d-44fc-c1d0-72965258e1fa"
      },
      "outputs": [
        {
          "data": {
            "text/plain": [
              "['i', 'i', 'in', 'in', 'i', 'in', 'i']"
            ]
          },
          "execution_count": 16,
          "metadata": {},
          "output_type": "execute_result"
        }
      ],
      "source": [
        "strin = \"Delhi is in india and inside globe\"\n",
        "asd = re.findall(\"in*\",strin)\n",
        "asd"
      ]
    },
    {
      "cell_type": "code",
      "execution_count": null,
      "metadata": {
        "colab": {
          "base_uri": "https://localhost:8080/"
        },
        "id": "KgCxBn6haBVq",
        "outputId": "3c28d721-9502-4191-e205-bafc8b14a9c5"
      },
      "outputs": [
        {
          "data": {
            "text/plain": [
              "['in', 'in', 'in']"
            ]
          },
          "execution_count": 19,
          "metadata": {},
          "output_type": "execute_result"
        }
      ],
      "source": [
        "asd = re.findall('in+',strin)\n",
        "asd"
      ]
    },
    {
      "cell_type": "code",
      "execution_count": null,
      "metadata": {
        "colab": {
          "base_uri": "https://localhost:8080/"
        },
        "id": "hLs17aMjay1Z",
        "outputId": "668e6358-9b6f-417c-ddd0-eadb1e6de89f"
      },
      "outputs": [
        {
          "name": "stdout",
          "output_type": "stream",
          "text": [
            "Toy\n",
            "Today\n",
            "Tolayed\n",
            "Tummy\n"
          ]
        }
      ],
      "source": [
        "# Print out the wors that satrt with T and end with Y.\n",
        "srt = \"Toy Today Tolayed Total Tummy Tank\"\n",
        "\n",
        "for i in srt.split():\n",
        "  if re.findall(\"^T.*y\",i):\n",
        "    print(i)\n",
        "  else :\n",
        "    pass"
      ]
    },
    {
      "cell_type": "markdown",
      "metadata": {
        "id": "vlsRaVJSn9nM"
      },
      "source": [
        "![image.png](data:image/png;base64,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)"
      ]
    },
    {
      "cell_type": "code",
      "execution_count": null,
      "metadata": {
        "colab": {
          "base_uri": "https://localhost:8080/"
        },
        "id": "l0P21zrNh9DC",
        "outputId": "35725999-b15a-445a-82e3-011fc301d59e"
      },
      "outputs": [
        {
          "name": "stdout",
          "output_type": "stream",
          "text": [
            "enter the mail address: abcedf@gmail.com\n",
            "valid email:  abcedf@gmail.com\n"
          ]
        }
      ],
      "source": [
        "#  Quiz\n",
        "\n",
        "# User --> email (input)\n",
        "# Valid --> len (100), _______@_______(10).___(3)\n",
        "\n",
        "email = input(\"enter the mail address: \")\n",
        "valid = re.search(r'[\\w.-]+@[\\w.-]+.\\w+', email)\n",
        "\n",
        "if valid:\n",
        "  print (\"valid email: \", valid.group())\n",
        "else:\n",
        "  print (\"not valid: \")"
      ]
    },
    {
      "cell_type": "code",
      "execution_count": null,
      "metadata": {
        "id": "oqFBRj0DjytB"
      },
      "outputs": [],
      "source": []
    }
  ],
  "metadata": {
    "colab": {
      "provenance": [],
      "toc_visible": true
    },
    "kernelspec": {
      "display_name": "Python 3",
      "language": "python",
      "name": "python3"
    },
    "language_info": {
      "codemirror_mode": {
        "name": "ipython",
        "version": 3
      },
      "file_extension": ".py",
      "mimetype": "text/x-python",
      "name": "python",
      "nbconvert_exporter": "python",
      "pygments_lexer": "ipython3",
      "version": "3.9.13"
    },
    "vscode": {
      "interpreter": {
        "hash": "1d04659f779425b4779ce901f7c7f4af747918a419b2140d26b4a15082a887e3"
      }
    }
  },
  "nbformat": 4,
  "nbformat_minor": 0
}
