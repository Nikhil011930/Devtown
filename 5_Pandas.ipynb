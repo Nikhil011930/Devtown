{
  "cells": [
    {
      "cell_type": "markdown",
      "metadata": {
        "id": "KBLQcqh8pJ6w"
      },
      "source": [
        "# Day 22"
      ]
    },
    {
      "cell_type": "markdown",
      "metadata": {
        "id": "Fc00HhbRsunZ"
      },
      "source": [
        "## Pandas\n",
        "Pandas is also known as Data Manuplation tool.\n",
        "\n",
        "- It's a python library that is used while you are working with the datasets.\n",
        "\n",
        "- It has some functions:\n",
        "  - 1. Explore \n",
        "  - 2. Manipulation \n",
        "  - 3. Cleaning\n",
        "  - 4. Analyze\n",
        "\n",
        "\n",
        "\n",
        "-  Why Pandas?\n",
        "  - It allows us to analyse big datas. ( data that is so large, fast or complex that it's difficult or impossible to process using traditional methods )\n",
        "  \n",
        "  - It is used to clean messy datasets and then make it readable and relevant.\n",
        "\n",
        "# The more our data is relevant the more the accuracy of the model. \n",
        "\n"
      ]
    },
    {
      "cell_type": "code",
      "execution_count": 105,
      "metadata": {
        "id": "hRHi7mPgpD0z"
      },
      "outputs": [],
      "source": [
        "# Dataaset --> table (rows and columns)\n",
        "# A dataset contain multiple datapoints\n",
        "# Datapoint --> particular row"
      ]
    },
    {
      "cell_type": "markdown",
      "metadata": {
        "id": "5mXIHqdv5QF8"
      },
      "source": [
        "### Importation of Pandas "
      ]
    },
    {
      "cell_type": "code",
      "execution_count": 226,
      "metadata": {
        "id": "Q94mIXQc2PXU"
      },
      "outputs": [],
      "source": [
        "import pandas as pd\n",
        "import warnings\n",
        "warnings.filterwarnings(action = 'ignore')"
      ]
    },
    {
      "cell_type": "code",
      "execution_count": 107,
      "metadata": {
        "colab": {
          "base_uri": "https://localhost:8080/",
          "height": 35
        },
        "id": "AqefcVaq5vSc",
        "outputId": "113c72ab-dc88-4e7a-a55a-bdbbbdc93cea"
      },
      "outputs": [
        {
          "data": {
            "text/plain": [
              "'1.5.3'"
            ]
          },
          "execution_count": 107,
          "metadata": {},
          "output_type": "execute_result"
        }
      ],
      "source": [
        "\n",
        "pd. __version__"
      ]
    },
    {
      "cell_type": "markdown",
      "metadata": {
        "id": "05XWgrEL6QGN"
      },
      "source": [
        "## Pandas Data Structure\n",
        "\n",
        "1. Series\n",
        "2. Dataframe\n",
        "3. Panel\n",
        "\n",
        "Pandas DS are very fast because it is bulilt on top of numpy array "
      ]
    },
    {
      "cell_type": "markdown",
      "metadata": {
        "id": "FTKuQSOx7dB4"
      },
      "source": [
        "1. Series --> Dimensions ( Columns)\n",
        "2. Dataframe --> Dimension (Rows and columns)\n",
        "3. Panel --> Dataframe (3-Dimensionl, Representing the 3-D in 2-D plane is very difficult.)\n"
      ]
    },
    {
      "cell_type": "markdown",
      "metadata": {
        "id": "VxEZDeF2Och0"
      },
      "source": [
        "## 1. Series\n",
        "\n",
        "1. It is a 1-Dimensional array like Datastructure (DS)\n",
        "2. [1,2,3,4,5,6,8,9] --> column\n",
        "\n",
        "SYNATX : pd.Series (data, index, dtype)\n",
        "- You can create a series by using various input datas such as:\n",
        "    - 1. Array\n",
        "    - 2. Dictionary\n",
        "    - 3. Scalar value."
      ]
    },
    {
      "cell_type": "markdown",
      "metadata": {
        "id": "GgmMoI4gPYm-"
      },
      "source": [
        "### Creating an empty series: "
      ]
    },
    {
      "cell_type": "code",
      "execution_count": 108,
      "metadata": {
        "colab": {
          "base_uri": "https://localhost:8080/"
        },
        "id": "JK2qsZf05vA-",
        "outputId": "37483ebf-21ed-433b-cfb3-0c46c9e8a36a"
      },
      "outputs": [
        {
          "name": "stderr",
          "output_type": "stream",
          "text": [
            "C:\\Users\\Shree\\AppData\\Local\\Temp\\ipykernel_14724\\3032608601.py:1: FutureWarning: The default dtype for empty Series will be 'object' instead of 'float64' in a future version. Specify a dtype explicitly to silence this warning.\n",
            "  s = pd.Series()\n"
          ]
        },
        {
          "data": {
            "text/plain": [
              "Series([], dtype: float64)"
            ]
          },
          "execution_count": 108,
          "metadata": {},
          "output_type": "execute_result"
        }
      ],
      "source": [
        "s = pd.Series()\n",
        "s"
      ]
    },
    {
      "cell_type": "markdown",
      "metadata": {
        "id": "2puyBh9CP1TZ"
      },
      "source": [
        "### Creating the series using numpy array\n",
        "\n",
        "- If we are accessing the\n",
        "  - Row --> Index\n",
        "  - Columns --> Column value(Name)."
      ]
    },
    {
      "cell_type": "code",
      "execution_count": 109,
      "metadata": {
        "colab": {
          "base_uri": "https://localhost:8080/"
        },
        "id": "U4ieV6w75u00",
        "outputId": "e649c432-4ebf-425f-ba0b-525b4f7138d6"
      },
      "outputs": [
        {
          "data": {
            "text/plain": [
              "0    12\n",
              "1    45\n",
              "2    32\n",
              "3    89\n",
              "dtype: int32"
            ]
          },
          "execution_count": 109,
          "metadata": {},
          "output_type": "execute_result"
        }
      ],
      "source": [
        "import numpy as np\n",
        "data = np.array([12,45,32,89])\n",
        "s = pd.Series(data)\n",
        "s"
      ]
    },
    {
      "cell_type": "markdown",
      "metadata": {
        "id": "jOViiJ0sRT0h"
      },
      "source": [
        "- If we want to change the index value then we can use the index function or if we want to acces only the data from specific index we can call a index function."
      ]
    },
    {
      "cell_type": "code",
      "execution_count": 110,
      "metadata": {
        "colab": {
          "base_uri": "https://localhost:8080/"
        },
        "id": "O_fo3mF-5unA",
        "outputId": "ae0a4b15-decb-41b5-b1e5-cda64dd52bac"
      },
      "outputs": [
        {
          "data": {
            "text/plain": [
              "101    12\n",
              "102    45\n",
              "103    32\n",
              "104    89\n",
              "dtype: int32"
            ]
          },
          "execution_count": 110,
          "metadata": {},
          "output_type": "execute_result"
        }
      ],
      "source": [
        "data = np.array([12,45,32,89])\n",
        "s = pd.Series(data,index =[101,102,103,104])\n",
        "s"
      ]
    },
    {
      "cell_type": "markdown",
      "metadata": {
        "id": "LQGpSfsURXxk"
      },
      "source": [
        "### Creating the Series using Dictionary."
      ]
    },
    {
      "cell_type": "code",
      "execution_count": 111,
      "metadata": {
        "colab": {
          "base_uri": "https://localhost:8080/"
        },
        "id": "A3qYfM2l2QL8",
        "outputId": "2bfe22f2-0bb1-40f3-be91-bb4dcfd44a68"
      },
      "outputs": [
        {
          "data": {
            "text/plain": [
              "a    10\n",
              "b    20\n",
              "c    90\n",
              "d    95\n",
              "dtype: int64"
            ]
          },
          "execution_count": 111,
          "metadata": {},
          "output_type": "execute_result"
        }
      ],
      "source": [
        "data = ({'a':10, 'b':20, \"c\":90, 'd':95})\n",
        "s = pd.Series(data) \n",
        "s"
      ]
    },
    {
      "cell_type": "markdown",
      "metadata": {
        "id": "F4vqfgRaSKK0"
      },
      "source": [
        "- If we want to change the index value then we can use the index function or if we want to acces only the data from specific index we can call a index function. "
      ]
    },
    {
      "cell_type": "code",
      "execution_count": 112,
      "metadata": {
        "colab": {
          "base_uri": "https://localhost:8080/"
        },
        "id": "uMymAPqV2QuD",
        "outputId": "921b463d-41fa-483b-b92d-154fdcdbb7b6"
      },
      "outputs": [
        {
          "data": {
            "text/plain": [
              "f   NaN\n",
              "g   NaN\n",
              "h   NaN\n",
              "i   NaN\n",
              "dtype: float64"
            ]
          },
          "execution_count": 112,
          "metadata": {},
          "output_type": "execute_result"
        }
      ],
      "source": [
        "data = ({'a':10, 'b':20, \"c\":90, 'd':95})\n",
        "s = pd.Series(data,index = ['f','g','h','i']) \n",
        "s"
      ]
    },
    {
      "cell_type": "code",
      "execution_count": 113,
      "metadata": {
        "colab": {
          "base_uri": "https://localhost:8080/"
        },
        "id": "RaWpoMzESErn",
        "outputId": "d009aa15-39dd-4454-b503-cfaad50eed26"
      },
      "outputs": [
        {
          "data": {
            "text/plain": [
              "c    90.0\n",
              "d    95.0\n",
              "e     NaN\n",
              "b    20.0\n",
              "a    10.0\n",
              "dtype: float64"
            ]
          },
          "execution_count": 113,
          "metadata": {},
          "output_type": "execute_result"
        }
      ],
      "source": [
        "data = ({'a':10, 'b':20, \"c\":90, 'd':95})\n",
        "s = pd.Series(data,index = ['c','d','e','b','a']) \n",
        "s"
      ]
    },
    {
      "cell_type": "markdown",
      "metadata": {
        "id": "hkJgL9FyTb1Q"
      },
      "source": [
        "### Creating the series using Scalar Value."
      ]
    },
    {
      "cell_type": "code",
      "execution_count": 114,
      "metadata": {
        "colab": {
          "base_uri": "https://localhost:8080/"
        },
        "id": "72iYX6LJSdG2",
        "outputId": "b852f49d-5b3b-4405-af70-4beb30b3604d"
      },
      "outputs": [
        {
          "data": {
            "text/plain": [
              "102    99\n",
              "102    99\n",
              "103    99\n",
              "104    99\n",
              "105    99\n",
              "106    99\n",
              "dtype: int64"
            ]
          },
          "execution_count": 114,
          "metadata": {},
          "output_type": "execute_result"
        }
      ],
      "source": [
        "data = 99\n",
        "s = pd.Series(data,index = [102,102,103,104,105,106])\n",
        "s"
      ]
    },
    {
      "cell_type": "markdown",
      "metadata": {
        "id": "07A5TJofT4yi"
      },
      "source": [
        "## U --> Updation\n",
        "1. Accessing the data from the Pandas Series DS"
      ]
    },
    {
      "cell_type": "code",
      "execution_count": 115,
      "metadata": {
        "colab": {
          "base_uri": "https://localhost:8080/"
        },
        "id": "vFPpwzVDTxAp",
        "outputId": "79225235-f4bb-45ce-8a07-eb770b9bd17e"
      },
      "outputs": [
        {
          "data": {
            "text/plain": [
              "0    12.0\n",
              "1    45.0\n",
              "2    32.0\n",
              "3    89.0\n",
              "4     7.0\n",
              "5   -10.0\n",
              "6    21.0\n",
              "7    -0.5\n",
              "8    -7.0\n",
              "9    30.0\n",
              "dtype: float64"
            ]
          },
          "execution_count": 115,
          "metadata": {},
          "output_type": "execute_result"
        }
      ],
      "source": [
        "data = np.array([12,45,32,89,7,-10,21,-0.5,-7,30])\n",
        "s = pd.Series(data)\n",
        "s"
      ]
    },
    {
      "cell_type": "code",
      "execution_count": 116,
      "metadata": {
        "colab": {
          "base_uri": "https://localhost:8080/"
        },
        "id": "wjOsE1EQUX2x",
        "outputId": "07db6d58-faea-49b0-eeac-f445f80dc66f"
      },
      "outputs": [
        {
          "data": {
            "text/plain": [
              "0    12.0\n",
              "1    45.0\n",
              "2    32.0\n",
              "dtype: float64"
            ]
          },
          "execution_count": 116,
          "metadata": {},
          "output_type": "execute_result"
        }
      ],
      "source": [
        "s[0:3]"
      ]
    },
    {
      "cell_type": "code",
      "execution_count": 117,
      "metadata": {
        "colab": {
          "base_uri": "https://localhost:8080/"
        },
        "id": "YnhG2bTQUmhT",
        "outputId": "28132356-f00e-470a-e655-a5760b2f515e"
      },
      "outputs": [
        {
          "data": {
            "text/plain": [
              "7    -0.5\n",
              "8    -7.0\n",
              "9    30.0\n",
              "dtype: float64"
            ]
          },
          "execution_count": 117,
          "metadata": {},
          "output_type": "execute_result"
        }
      ],
      "source": [
        "s[-3:]"
      ]
    },
    {
      "cell_type": "code",
      "execution_count": 118,
      "metadata": {
        "colab": {
          "base_uri": "https://localhost:8080/"
        },
        "id": "qvQN_wQLVj1h",
        "outputId": "80e49ac9-44ee-45a1-8be4-7218f7a606ad"
      },
      "outputs": [
        {
          "data": {
            "text/plain": [
              "c    90.0\n",
              "d    95.0\n",
              "e     NaN\n",
              "b    20.0\n",
              "a    10.0\n",
              "dtype: float64"
            ]
          },
          "execution_count": 118,
          "metadata": {},
          "output_type": "execute_result"
        }
      ],
      "source": [
        "data = ({'a':10, 'b':20, \"c\":90, 'd':95})\n",
        "s = pd.Series(data,index = ['c','d','e','b','a']) \n",
        "s"
      ]
    },
    {
      "cell_type": "markdown",
      "metadata": {
        "id": "mKQ7m6laWdPH"
      },
      "source": [
        "- While performing with the list the stoping index will not be including. \n",
        "- But while performing with dict the stoping index will be including."
      ]
    },
    {
      "cell_type": "code",
      "execution_count": 119,
      "metadata": {
        "colab": {
          "base_uri": "https://localhost:8080/"
        },
        "id": "RNXw5D5PVveY",
        "outputId": "0a3961e6-6c0d-41f6-92c3-42a06f727312"
      },
      "outputs": [
        {
          "data": {
            "text/plain": [
              "d    95.0\n",
              "e     NaN\n",
              "b    20.0\n",
              "a    10.0\n",
              "dtype: float64"
            ]
          },
          "execution_count": 119,
          "metadata": {},
          "output_type": "execute_result"
        }
      ],
      "source": [
        "s['d':'a']"
      ]
    },
    {
      "cell_type": "code",
      "execution_count": 120,
      "metadata": {
        "colab": {
          "base_uri": "https://localhost:8080/"
        },
        "id": "VpSFjKxdVy2M",
        "outputId": "1d018637-68b1-467e-b0c2-efe173dd317c"
      },
      "outputs": [
        {
          "data": {
            "text/plain": [
              "c    90.0\n",
              "b    20.0\n",
              "dtype: float64"
            ]
          },
          "execution_count": 120,
          "metadata": {},
          "output_type": "execute_result"
        }
      ],
      "source": [
        "s[['c','b']]"
      ]
    },
    {
      "cell_type": "code",
      "execution_count": 121,
      "metadata": {
        "colab": {
          "base_uri": "https://localhost:8080/"
        },
        "id": "Ej1TC9UwW8TN",
        "outputId": "911441d7-a4e1-4083-f1e1-4718129f35f1"
      },
      "outputs": [
        {
          "name": "stderr",
          "output_type": "stream",
          "text": [
            "C:\\Users\\Shree\\AppData\\Local\\Temp\\ipykernel_14724\\900033985.py:1: FutureWarning: Passing a set as an indexer is deprecated and will raise in a future version. Use a list instead.\n",
            "  s[{'c','b'}]\n"
          ]
        },
        {
          "data": {
            "text/plain": [
              "c    90.0\n",
              "b    20.0\n",
              "dtype: float64"
            ]
          },
          "execution_count": 121,
          "metadata": {},
          "output_type": "execute_result"
        }
      ],
      "source": [
        "s[{'c','b'}]"
      ]
    },
    {
      "cell_type": "code",
      "execution_count": 122,
      "metadata": {
        "colab": {
          "base_uri": "https://localhost:8080/"
        },
        "id": "LkyLn6hPYLym",
        "outputId": "d61350fc-13f0-43a6-b56d-86e91e35e6ee"
      },
      "outputs": [
        {
          "data": {
            "text/plain": [
              "c    90.0\n",
              "d    95.0\n",
              "e     NaN\n",
              "b    20.0\n",
              "a    10.0\n",
              "dtype: float64"
            ]
          },
          "execution_count": 122,
          "metadata": {},
          "output_type": "execute_result"
        }
      ],
      "source": [
        "s\n",
        "# If we want to change the e value = 85.5"
      ]
    },
    {
      "cell_type": "code",
      "execution_count": 123,
      "metadata": {
        "colab": {
          "base_uri": "https://localhost:8080/"
        },
        "id": "Y_fUGA-PYM65",
        "outputId": "7cc20763-f585-41ea-91a9-dc37ba15dc9b"
      },
      "outputs": [
        {
          "data": {
            "text/plain": [
              "c    90.0\n",
              "d    95.0\n",
              "e    85.5\n",
              "b    20.0\n",
              "a    10.0\n",
              "dtype: float64"
            ]
          },
          "execution_count": 123,
          "metadata": {},
          "output_type": "execute_result"
        }
      ],
      "source": [
        "s['e'] = 85.5\n",
        "s"
      ]
    },
    {
      "cell_type": "markdown",
      "metadata": {
        "id": "N_lhdHbVZdK9"
      },
      "source": [
        "### Boolean Masking\n",
        "  - 0 - Flase\n",
        "  - 1 - True"
      ]
    },
    {
      "cell_type": "code",
      "execution_count": 124,
      "metadata": {
        "colab": {
          "base_uri": "https://localhost:8080/"
        },
        "id": "uSimeqWsZL5Y",
        "outputId": "c48ad2f7-7025-4087-8508-b47e227ea894"
      },
      "outputs": [
        {
          "data": {
            "text/plain": [
              "c     True\n",
              "d     True\n",
              "e     True\n",
              "b    False\n",
              "a    False\n",
              "dtype: bool"
            ]
          },
          "execution_count": 124,
          "metadata": {},
          "output_type": "execute_result"
        }
      ],
      "source": [
        "s > 50"
      ]
    },
    {
      "cell_type": "code",
      "execution_count": 125,
      "metadata": {
        "colab": {
          "base_uri": "https://localhost:8080/"
        },
        "id": "RrtV4jIJZM5Z",
        "outputId": "85783c75-6c3e-4661-e79b-5758d0c5f813"
      },
      "outputs": [
        {
          "data": {
            "text/plain": [
              "c    90.0\n",
              "d    95.0\n",
              "e    85.5\n",
              "dtype: float64"
            ]
          },
          "execution_count": 125,
          "metadata": {},
          "output_type": "execute_result"
        }
      ],
      "source": [
        "# This is how we will call the values which are satisfying the certain condition\n",
        "s[s>50]"
      ]
    },
    {
      "cell_type": "code",
      "execution_count": 126,
      "metadata": {
        "id": "hBJjayKdapUm"
      },
      "outputs": [],
      "source": [
        "# print all the values >90 and also print the value 10 for \"s\" dataset.\n",
        "# s [s>90 and s==10]"
      ]
    },
    {
      "cell_type": "code",
      "execution_count": 127,
      "metadata": {
        "colab": {
          "base_uri": "https://localhost:8080/"
        },
        "id": "g35pUuXrbIoJ",
        "outputId": "dd4cfbee-0df5-4e1b-8338-61142f570654"
      },
      "outputs": [
        {
          "data": {
            "text/plain": [
              "(5,)"
            ]
          },
          "execution_count": 127,
          "metadata": {},
          "output_type": "execute_result"
        }
      ],
      "source": [
        "s.shape"
      ]
    },
    {
      "cell_type": "code",
      "execution_count": 128,
      "metadata": {
        "colab": {
          "base_uri": "https://localhost:8080/"
        },
        "id": "EW_rGxiAekgp",
        "outputId": "1807773e-2b5f-4e51-fbbb-809193dcd932"
      },
      "outputs": [
        {
          "data": {
            "text/plain": [
              "1"
            ]
          },
          "execution_count": 128,
          "metadata": {},
          "output_type": "execute_result"
        }
      ],
      "source": [
        "s.ndim"
      ]
    },
    {
      "cell_type": "code",
      "execution_count": 129,
      "metadata": {
        "colab": {
          "base_uri": "https://localhost:8080/"
        },
        "id": "OmYpNj_kf7SM",
        "outputId": "11e76e98-c079-4e84-fd35-01334248fbe1"
      },
      "outputs": [
        {
          "data": {
            "text/plain": [
              "5"
            ]
          },
          "execution_count": 129,
          "metadata": {},
          "output_type": "execute_result"
        }
      ],
      "source": [
        "s.size"
      ]
    },
    {
      "cell_type": "code",
      "execution_count": 130,
      "metadata": {
        "colab": {
          "base_uri": "https://localhost:8080/"
        },
        "id": "9FmIk5o0f_15",
        "outputId": "b490ce64-e3c1-4eb8-9961-00de0e035b7f"
      },
      "outputs": [
        {
          "data": {
            "text/plain": [
              "Index(['c', 'd', 'e', 'b', 'a'], dtype='object')"
            ]
          },
          "execution_count": 130,
          "metadata": {},
          "output_type": "execute_result"
        }
      ],
      "source": [
        "s.index"
      ]
    },
    {
      "cell_type": "code",
      "execution_count": 131,
      "metadata": {
        "colab": {
          "base_uri": "https://localhost:8080/"
        },
        "id": "8cACPNqAgFyA",
        "outputId": "6280005b-f4bb-4913-b05d-a074b87102f6"
      },
      "outputs": [
        {
          "data": {
            "text/plain": [
              "array([90. , 95. , 85.5, 20. , 10. ])"
            ]
          },
          "execution_count": 131,
          "metadata": {},
          "output_type": "execute_result"
        }
      ],
      "source": [
        "s.values\n",
        "# Decimal --> 3\n",
        "# Float --> 5.688888"
      ]
    },
    {
      "cell_type": "markdown",
      "metadata": {
        "id": "g0QN9wOumNpK"
      },
      "source": [
        "## Delete"
      ]
    },
    {
      "cell_type": "code",
      "execution_count": 132,
      "metadata": {
        "colab": {
          "base_uri": "https://localhost:8080/"
        },
        "id": "mlIBk2moklv2",
        "outputId": "d0e5a8b6-7deb-4fe6-d9af-30f77aec6f42"
      },
      "outputs": [
        {
          "data": {
            "text/plain": [
              "c    90.0\n",
              "d    95.0\n",
              "e    85.5\n",
              "b    20.0\n",
              "a    10.0\n",
              "dtype: float64"
            ]
          },
          "execution_count": 132,
          "metadata": {},
          "output_type": "execute_result"
        }
      ],
      "source": [
        "s"
      ]
    },
    {
      "cell_type": "code",
      "execution_count": 133,
      "metadata": {
        "colab": {
          "base_uri": "https://localhost:8080/"
        },
        "id": "oqTpDMOamUTf",
        "outputId": "40751c7c-40b4-41d3-d958-6659a16fb9a2"
      },
      "outputs": [
        {
          "data": {
            "text/plain": [
              "e    85.5\n",
              "b    20.0\n",
              "a    10.0\n",
              "dtype: float64"
            ]
          },
          "execution_count": 133,
          "metadata": {},
          "output_type": "execute_result"
        }
      ],
      "source": [
        "# it is temp deletion\n",
        "s.drop(['c','d'])"
      ]
    },
    {
      "cell_type": "code",
      "execution_count": 134,
      "metadata": {
        "id": "CZvUQSyEmaY5"
      },
      "outputs": [],
      "source": [
        "# for permanat delete\n",
        "s.drop('a',inplace=True)"
      ]
    },
    {
      "cell_type": "code",
      "execution_count": 135,
      "metadata": {
        "id": "_3QigYRImkhP"
      },
      "outputs": [
        {
          "data": {
            "text/plain": [
              "c    90.0\n",
              "d    95.0\n",
              "e    85.5\n",
              "b    20.0\n",
              "dtype: float64"
            ]
          },
          "execution_count": 135,
          "metadata": {},
          "output_type": "execute_result"
        }
      ],
      "source": [
        "s"
      ]
    },
    {
      "cell_type": "markdown",
      "metadata": {
        "id": "B81VHVC_5GNp"
      },
      "source": [
        "# Day 23"
      ]
    },
    {
      "cell_type": "markdown",
      "metadata": {
        "id": "sVHssQJv58GD"
      },
      "source": [
        "## 2. DataFrame \n",
        "\n",
        "1. It is a 2-D Datastructure (DS).\\\n",
        "It has rows and columns.\n",
        "2. SYNTAX : pd.DataFrame (data, index, columns, dtype, copy)"
      ]
    },
    {
      "cell_type": "markdown",
      "metadata": {
        "id": "lkd8fuNn6-18"
      },
      "source": [
        "### CRUD Operations"
      ]
    },
    {
      "cell_type": "code",
      "execution_count": 136,
      "metadata": {
        "id": "2-1XiBrDnuLo"
      },
      "outputs": [],
      "source": [
        "import pandas as pd"
      ]
    },
    {
      "cell_type": "markdown",
      "metadata": {
        "id": "ukmApYV57WCI"
      },
      "source": [
        "- C --> Create\n",
        "\n",
        "1. List\n",
        "2. Dict\n",
        "3. nd.array\n",
        "4. Series\n",
        "5. Another DataFrame"
      ]
    },
    {
      "cell_type": "markdown",
      "metadata": {
        "id": "DtRnKrZ17ohM"
      },
      "source": [
        "#### 1.Empty DataFrame"
      ]
    },
    {
      "cell_type": "code",
      "execution_count": 137,
      "metadata": {
        "colab": {
          "base_uri": "https://localhost:8080/",
          "height": 49
        },
        "id": "hJlXGdcC7LzA",
        "outputId": "4822249d-7474-4d45-a7cf-8f92a03e1c3d"
      },
      "outputs": [
        {
          "data": {
            "text/html": [
              "<div>\n",
              "<style scoped>\n",
              "    .dataframe tbody tr th:only-of-type {\n",
              "        vertical-align: middle;\n",
              "    }\n",
              "\n",
              "    .dataframe tbody tr th {\n",
              "        vertical-align: top;\n",
              "    }\n",
              "\n",
              "    .dataframe thead th {\n",
              "        text-align: right;\n",
              "    }\n",
              "</style>\n",
              "<table border=\"1\" class=\"dataframe\">\n",
              "  <thead>\n",
              "    <tr style=\"text-align: right;\">\n",
              "      <th></th>\n",
              "    </tr>\n",
              "  </thead>\n",
              "  <tbody>\n",
              "  </tbody>\n",
              "</table>\n",
              "</div>"
            ],
            "text/plain": [
              "Empty DataFrame\n",
              "Columns: []\n",
              "Index: []"
            ]
          },
          "execution_count": 137,
          "metadata": {},
          "output_type": "execute_result"
        }
      ],
      "source": [
        "df = pd.DataFrame()\n",
        "df"
      ]
    },
    {
      "cell_type": "markdown",
      "metadata": {
        "id": "eL2Dc-7t7-G2"
      },
      "source": [
        "#### 2.Create A DataFrame using List"
      ]
    },
    {
      "cell_type": "code",
      "execution_count": 138,
      "metadata": {
        "colab": {
          "base_uri": "https://localhost:8080/",
          "height": 237
        },
        "id": "zSl65TsX7y8f",
        "outputId": "85e19702-727f-4dbf-864b-f1dba916e33f"
      },
      "outputs": [
        {
          "data": {
            "text/html": [
              "<div>\n",
              "<style scoped>\n",
              "    .dataframe tbody tr th:only-of-type {\n",
              "        vertical-align: middle;\n",
              "    }\n",
              "\n",
              "    .dataframe tbody tr th {\n",
              "        vertical-align: top;\n",
              "    }\n",
              "\n",
              "    .dataframe thead th {\n",
              "        text-align: right;\n",
              "    }\n",
              "</style>\n",
              "<table border=\"1\" class=\"dataframe\">\n",
              "  <thead>\n",
              "    <tr style=\"text-align: right;\">\n",
              "      <th></th>\n",
              "      <th>0</th>\n",
              "    </tr>\n",
              "  </thead>\n",
              "  <tbody>\n",
              "    <tr>\n",
              "      <th>0</th>\n",
              "      <td>7</td>\n",
              "    </tr>\n",
              "    <tr>\n",
              "      <th>1</th>\n",
              "      <td>8</td>\n",
              "    </tr>\n",
              "    <tr>\n",
              "      <th>2</th>\n",
              "      <td>44</td>\n",
              "    </tr>\n",
              "    <tr>\n",
              "      <th>3</th>\n",
              "      <td>56</td>\n",
              "    </tr>\n",
              "    <tr>\n",
              "      <th>4</th>\n",
              "      <td>23</td>\n",
              "    </tr>\n",
              "    <tr>\n",
              "      <th>5</th>\n",
              "      <td>98</td>\n",
              "    </tr>\n",
              "  </tbody>\n",
              "</table>\n",
              "</div>"
            ],
            "text/plain": [
              "    0\n",
              "0   7\n",
              "1   8\n",
              "2  44\n",
              "3  56\n",
              "4  23\n",
              "5  98"
            ]
          },
          "execution_count": 138,
          "metadata": {},
          "output_type": "execute_result"
        }
      ],
      "source": [
        "data = [7,8,44,56,23,98]\n",
        "df = pd.DataFrame(data)\n",
        "df"
      ]
    },
    {
      "cell_type": "code",
      "execution_count": 139,
      "metadata": {
        "colab": {
          "base_uri": "https://localhost:8080/"
        },
        "id": "kah02lK48Pu_",
        "outputId": "ef5dab81-665c-4885-ccac-b952f562c45f"
      },
      "outputs": [
        {
          "data": {
            "text/plain": [
              "(6, 1)"
            ]
          },
          "execution_count": 139,
          "metadata": {},
          "output_type": "execute_result"
        }
      ],
      "source": [
        "df.shape"
      ]
    },
    {
      "cell_type": "code",
      "execution_count": 140,
      "metadata": {
        "colab": {
          "base_uri": "https://localhost:8080/",
          "height": 143
        },
        "id": "jrTGGtr28ZOX",
        "outputId": "4660dc09-4b9e-48cb-f6af-7656e6af264f"
      },
      "outputs": [
        {
          "data": {
            "text/html": [
              "<div>\n",
              "<style scoped>\n",
              "    .dataframe tbody tr th:only-of-type {\n",
              "        vertical-align: middle;\n",
              "    }\n",
              "\n",
              "    .dataframe tbody tr th {\n",
              "        vertical-align: top;\n",
              "    }\n",
              "\n",
              "    .dataframe thead th {\n",
              "        text-align: right;\n",
              "    }\n",
              "</style>\n",
              "<table border=\"1\" class=\"dataframe\">\n",
              "  <thead>\n",
              "    <tr style=\"text-align: right;\">\n",
              "      <th></th>\n",
              "      <th>0</th>\n",
              "      <th>1</th>\n",
              "    </tr>\n",
              "  </thead>\n",
              "  <tbody>\n",
              "    <tr>\n",
              "      <th>0</th>\n",
              "      <td>Dog</td>\n",
              "      <td>Bhaw bhaw</td>\n",
              "    </tr>\n",
              "    <tr>\n",
              "      <th>1</th>\n",
              "      <td>Cat</td>\n",
              "      <td>Meow</td>\n",
              "    </tr>\n",
              "    <tr>\n",
              "      <th>2</th>\n",
              "      <td>Cow</td>\n",
              "      <td>Moo</td>\n",
              "    </tr>\n",
              "  </tbody>\n",
              "</table>\n",
              "</div>"
            ],
            "text/plain": [
              "     0          1\n",
              "0  Dog  Bhaw bhaw\n",
              "1  Cat       Meow\n",
              "2  Cow        Moo"
            ]
          },
          "execution_count": 140,
          "metadata": {},
          "output_type": "execute_result"
        }
      ],
      "source": [
        "data = [[\"Dog\", \"Bhaw bhaw\"],[\"Cat\", \"Meow\"], ['Cow', 'Moo']]\n",
        "df = pd.DataFrame (data)\n",
        "df"
      ]
    },
    {
      "cell_type": "code",
      "execution_count": 141,
      "metadata": {
        "colab": {
          "base_uri": "https://localhost:8080/",
          "height": 143
        },
        "id": "q3Vt7Gsj9RWX",
        "outputId": "1599c5d2-a769-4854-c075-f7ed02b780b9"
      },
      "outputs": [
        {
          "data": {
            "text/html": [
              "<div>\n",
              "<style scoped>\n",
              "    .dataframe tbody tr th:only-of-type {\n",
              "        vertical-align: middle;\n",
              "    }\n",
              "\n",
              "    .dataframe tbody tr th {\n",
              "        vertical-align: top;\n",
              "    }\n",
              "\n",
              "    .dataframe thead th {\n",
              "        text-align: right;\n",
              "    }\n",
              "</style>\n",
              "<table border=\"1\" class=\"dataframe\">\n",
              "  <thead>\n",
              "    <tr style=\"text-align: right;\">\n",
              "      <th></th>\n",
              "      <th>Animal_name</th>\n",
              "      <th>Animal_sound</th>\n",
              "    </tr>\n",
              "  </thead>\n",
              "  <tbody>\n",
              "    <tr>\n",
              "      <th>0</th>\n",
              "      <td>Dog</td>\n",
              "      <td>Bhaw bhaw</td>\n",
              "    </tr>\n",
              "    <tr>\n",
              "      <th>1</th>\n",
              "      <td>Cat</td>\n",
              "      <td>Meow</td>\n",
              "    </tr>\n",
              "    <tr>\n",
              "      <th>2</th>\n",
              "      <td>Cow</td>\n",
              "      <td>Moo</td>\n",
              "    </tr>\n",
              "  </tbody>\n",
              "</table>\n",
              "</div>"
            ],
            "text/plain": [
              "  Animal_name Animal_sound\n",
              "0         Dog    Bhaw bhaw\n",
              "1         Cat         Meow\n",
              "2         Cow          Moo"
            ]
          },
          "execution_count": 141,
          "metadata": {},
          "output_type": "execute_result"
        }
      ],
      "source": [
        "# Giving the column name insted of 0 and 1\n",
        "data = [[\"Dog\", \"Bhaw bhaw\"],[\"Cat\", \"Meow\"], ['Cow', 'Moo']]\n",
        "df = pd.DataFrame (data, columns = [\"Animal_name\", \"Animal_sound\"])\n",
        "df"
      ]
    },
    {
      "cell_type": "markdown",
      "metadata": {
        "id": "V-6ZPacP-7id"
      },
      "source": [
        "#### 3.dic"
      ]
    },
    {
      "cell_type": "code",
      "execution_count": 142,
      "metadata": {
        "colab": {
          "base_uri": "https://localhost:8080/",
          "height": 143
        },
        "id": "FVgQlY5t9WXO",
        "outputId": "6c281414-1d13-4331-b72f-ebc5b44f43c6"
      },
      "outputs": [
        {
          "data": {
            "text/html": [
              "<div>\n",
              "<style scoped>\n",
              "    .dataframe tbody tr th:only-of-type {\n",
              "        vertical-align: middle;\n",
              "    }\n",
              "\n",
              "    .dataframe tbody tr th {\n",
              "        vertical-align: top;\n",
              "    }\n",
              "\n",
              "    .dataframe thead th {\n",
              "        text-align: right;\n",
              "    }\n",
              "</style>\n",
              "<table border=\"1\" class=\"dataframe\">\n",
              "  <thead>\n",
              "    <tr style=\"text-align: right;\">\n",
              "      <th></th>\n",
              "      <th>Name</th>\n",
              "      <th>Age</th>\n",
              "    </tr>\n",
              "  </thead>\n",
              "  <tbody>\n",
              "    <tr>\n",
              "      <th>0</th>\n",
              "      <td>Ram</td>\n",
              "      <td>25</td>\n",
              "    </tr>\n",
              "    <tr>\n",
              "      <th>1</th>\n",
              "      <td>Rahul</td>\n",
              "      <td>20</td>\n",
              "    </tr>\n",
              "    <tr>\n",
              "      <th>2</th>\n",
              "      <td>Bhwan</td>\n",
              "      <td>18</td>\n",
              "    </tr>\n",
              "  </tbody>\n",
              "</table>\n",
              "</div>"
            ],
            "text/plain": [
              "    Name  Age\n",
              "0    Ram   25\n",
              "1  Rahul   20\n",
              "2  Bhwan   18"
            ]
          },
          "execution_count": 142,
          "metadata": {},
          "output_type": "execute_result"
        }
      ],
      "source": [
        "data ={'Name' : [\"Ram\", \"Rahul\", 'Bhwan'], 'Age': [25,20,18]}\n",
        "df = pd.DataFrame (data)\n",
        "df"
      ]
    },
    {
      "cell_type": "code",
      "execution_count": 143,
      "metadata": {
        "colab": {
          "base_uri": "https://localhost:8080/",
          "height": 143
        },
        "id": "GPs5UFbp9Y-f",
        "outputId": "b0dc8950-c41c-4467-a4e5-44941b2d2fd1"
      },
      "outputs": [
        {
          "data": {
            "text/html": [
              "<div>\n",
              "<style scoped>\n",
              "    .dataframe tbody tr th:only-of-type {\n",
              "        vertical-align: middle;\n",
              "    }\n",
              "\n",
              "    .dataframe tbody tr th {\n",
              "        vertical-align: top;\n",
              "    }\n",
              "\n",
              "    .dataframe thead th {\n",
              "        text-align: right;\n",
              "    }\n",
              "</style>\n",
              "<table border=\"1\" class=\"dataframe\">\n",
              "  <thead>\n",
              "    <tr style=\"text-align: right;\">\n",
              "      <th></th>\n",
              "      <th>Name</th>\n",
              "      <th>Age</th>\n",
              "    </tr>\n",
              "  </thead>\n",
              "  <tbody>\n",
              "    <tr>\n",
              "      <th>A</th>\n",
              "      <td>Ram</td>\n",
              "      <td>25</td>\n",
              "    </tr>\n",
              "    <tr>\n",
              "      <th>B</th>\n",
              "      <td>Rahul</td>\n",
              "      <td>20</td>\n",
              "    </tr>\n",
              "    <tr>\n",
              "      <th>C</th>\n",
              "      <td>Bhwan</td>\n",
              "      <td>18</td>\n",
              "    </tr>\n",
              "  </tbody>\n",
              "</table>\n",
              "</div>"
            ],
            "text/plain": [
              "    Name  Age\n",
              "A    Ram   25\n",
              "B  Rahul   20\n",
              "C  Bhwan   18"
            ]
          },
          "execution_count": 143,
          "metadata": {},
          "output_type": "execute_result"
        }
      ],
      "source": [
        "# Renaming of the index\n",
        "data ={'Name' : [\"Ram\", \"Rahul\", 'Bhwan'], 'Age': [25,20,18]}\n",
        "df = pd.DataFrame (data,index = [\"A\", 'B', 'C'])\n",
        "df"
      ]
    },
    {
      "cell_type": "markdown",
      "metadata": {
        "id": "wZ7xZgh3v1nH"
      },
      "source": [
        "#### 4.Create DataFrame using series"
      ]
    },
    {
      "cell_type": "code",
      "execution_count": 144,
      "metadata": {
        "colab": {
          "base_uri": "https://localhost:8080/",
          "height": 206
        },
        "id": "sXP55laGAF7Q",
        "outputId": "d53386bf-bd9c-478b-fef5-0563f42d030b"
      },
      "outputs": [
        {
          "data": {
            "text/html": [
              "<div>\n",
              "<style scoped>\n",
              "    .dataframe tbody tr th:only-of-type {\n",
              "        vertical-align: middle;\n",
              "    }\n",
              "\n",
              "    .dataframe tbody tr th {\n",
              "        vertical-align: top;\n",
              "    }\n",
              "\n",
              "    .dataframe thead th {\n",
              "        text-align: right;\n",
              "    }\n",
              "</style>\n",
              "<table border=\"1\" class=\"dataframe\">\n",
              "  <thead>\n",
              "    <tr style=\"text-align: right;\">\n",
              "      <th></th>\n",
              "      <th>Karan_marks</th>\n",
              "      <th>Arjun_marks</th>\n",
              "    </tr>\n",
              "  </thead>\n",
              "  <tbody>\n",
              "    <tr>\n",
              "      <th>Test1</th>\n",
              "      <td>50.0</td>\n",
              "      <td>67</td>\n",
              "    </tr>\n",
              "    <tr>\n",
              "      <th>Test2</th>\n",
              "      <td>77.0</td>\n",
              "      <td>89</td>\n",
              "    </tr>\n",
              "    <tr>\n",
              "      <th>Test3</th>\n",
              "      <td>65.0</td>\n",
              "      <td>32</td>\n",
              "    </tr>\n",
              "    <tr>\n",
              "      <th>Test4</th>\n",
              "      <td>NaN</td>\n",
              "      <td>98</td>\n",
              "    </tr>\n",
              "    <tr>\n",
              "      <th>Test5</th>\n",
              "      <td>NaN</td>\n",
              "      <td>51</td>\n",
              "    </tr>\n",
              "  </tbody>\n",
              "</table>\n",
              "</div>"
            ],
            "text/plain": [
              "       Karan_marks   Arjun_marks\n",
              "Test1         50.0            67\n",
              "Test2         77.0            89\n",
              "Test3         65.0            32\n",
              "Test4          NaN            98\n",
              "Test5          NaN            51"
            ]
          },
          "execution_count": 144,
          "metadata": {},
          "output_type": "execute_result"
        }
      ],
      "source": [
        "# Creating different dataset using series\n",
        "data ={'Karan_marks':pd.Series([50, 77, 65], index = [\"Test1\", 'Test2', \"Test3\"]),\n",
        "       \" Arjun_marks\": pd.Series([67,89,32,98,51],index = [\"Test1\", 'Test2', \"Test3\",'Test4','Test5'])}\n",
        "df = pd.DataFrame (data)\n",
        "df"
      ]
    },
    {
      "cell_type": "code",
      "execution_count": 145,
      "metadata": {
        "colab": {
          "base_uri": "https://localhost:8080/",
          "height": 112
        },
        "id": "ytunZmbOASSP",
        "outputId": "aba3dfa5-5253-4cf5-d1ab-2fadca9ca635"
      },
      "outputs": [
        {
          "data": {
            "text/html": [
              "<div>\n",
              "<style scoped>\n",
              "    .dataframe tbody tr th:only-of-type {\n",
              "        vertical-align: middle;\n",
              "    }\n",
              "\n",
              "    .dataframe tbody tr th {\n",
              "        vertical-align: top;\n",
              "    }\n",
              "\n",
              "    .dataframe thead th {\n",
              "        text-align: right;\n",
              "    }\n",
              "</style>\n",
              "<table border=\"1\" class=\"dataframe\">\n",
              "  <thead>\n",
              "    <tr style=\"text-align: right;\">\n",
              "      <th></th>\n",
              "      <th>A</th>\n",
              "      <th>B</th>\n",
              "    </tr>\n",
              "  </thead>\n",
              "  <tbody>\n",
              "    <tr>\n",
              "      <th>AA</th>\n",
              "      <td>NaN</td>\n",
              "      <td>NaN</td>\n",
              "    </tr>\n",
              "    <tr>\n",
              "      <th>AB</th>\n",
              "      <td>NaN</td>\n",
              "      <td>NaN</td>\n",
              "    </tr>\n",
              "  </tbody>\n",
              "</table>\n",
              "</div>"
            ],
            "text/plain": [
              "      A    B\n",
              "AA  NaN  NaN\n",
              "AB  NaN  NaN"
            ]
          },
          "execution_count": 145,
          "metadata": {},
          "output_type": "execute_result"
        }
      ],
      "source": [
        "data ={'Karan_marks':pd.Series([50, 77, 65], index = [\"Test1\", 'Test2', \"Test3\"]),\n",
        "       \" Arjun_marks\": pd.Series([67,89,32,98,51],index = [\"Test1\", 'Test2', \"Test3\",'Test4','Test5'])}\n",
        "df = pd.DataFrame (data, columns = [\"A\", \"B\"],index = [\"AA\", \"AB\"])\n",
        "df\n",
        "\n",
        "# If Columns headings are changed to A & B and all the vlaues --> NaN \n",
        "# Its same as the series\n",
        "# If only columns headings are changed and A & B but the data remains the same.\n",
        "# Column Overwriiting is possible in the Columns"
      ]
    },
    {
      "cell_type": "markdown",
      "metadata": {
        "id": "dCdekWz0192B"
      },
      "source": [
        "#### 5.Creat a DataFrame from List of Dict."
      ]
    },
    {
      "cell_type": "code",
      "execution_count": 146,
      "metadata": {
        "colab": {
          "base_uri": "https://localhost:8080/",
          "height": 143
        },
        "id": "T0rQPa_j1YNp",
        "outputId": "c6ce1d9b-57e9-473f-bd12-c328c300fcbe"
      },
      "outputs": [
        {
          "data": {
            "text/html": [
              "<div>\n",
              "<style scoped>\n",
              "    .dataframe tbody tr th:only-of-type {\n",
              "        vertical-align: middle;\n",
              "    }\n",
              "\n",
              "    .dataframe tbody tr th {\n",
              "        vertical-align: top;\n",
              "    }\n",
              "\n",
              "    .dataframe thead th {\n",
              "        text-align: right;\n",
              "    }\n",
              "</style>\n",
              "<table border=\"1\" class=\"dataframe\">\n",
              "  <thead>\n",
              "    <tr style=\"text-align: right;\">\n",
              "      <th></th>\n",
              "      <th>A</th>\n",
              "      <th>B</th>\n",
              "      <th>C</th>\n",
              "      <th>D</th>\n",
              "      <th>E</th>\n",
              "      <th>F</th>\n",
              "    </tr>\n",
              "  </thead>\n",
              "  <tbody>\n",
              "    <tr>\n",
              "      <th>0</th>\n",
              "      <td>1.0</td>\n",
              "      <td>2.0</td>\n",
              "      <td>NaN</td>\n",
              "      <td>NaN</td>\n",
              "      <td>NaN</td>\n",
              "      <td>NaN</td>\n",
              "    </tr>\n",
              "    <tr>\n",
              "      <th>1</th>\n",
              "      <td>NaN</td>\n",
              "      <td>NaN</td>\n",
              "      <td>3.0</td>\n",
              "      <td>4.0</td>\n",
              "      <td>NaN</td>\n",
              "      <td>NaN</td>\n",
              "    </tr>\n",
              "    <tr>\n",
              "      <th>2</th>\n",
              "      <td>NaN</td>\n",
              "      <td>NaN</td>\n",
              "      <td>NaN</td>\n",
              "      <td>NaN</td>\n",
              "      <td>5.0</td>\n",
              "      <td>6.0</td>\n",
              "    </tr>\n",
              "  </tbody>\n",
              "</table>\n",
              "</div>"
            ],
            "text/plain": [
              "     A    B    C    D    E    F\n",
              "0  1.0  2.0  NaN  NaN  NaN  NaN\n",
              "1  NaN  NaN  3.0  4.0  NaN  NaN\n",
              "2  NaN  NaN  NaN  NaN  5.0  6.0"
            ]
          },
          "execution_count": 146,
          "metadata": {},
          "output_type": "execute_result"
        }
      ],
      "source": [
        "data = [{'A':1,\"B\":2},{\"C\":3,\"D\":4},{\"E\":5,\"F\":6}]\n",
        "df = pd.DataFrame (data)\n",
        "df"
      ]
    },
    {
      "cell_type": "code",
      "execution_count": 147,
      "metadata": {
        "colab": {
          "base_uri": "https://localhost:8080/",
          "height": 143
        },
        "id": "c93QOVtu2gRh",
        "outputId": "b26f1dae-989b-4f91-b523-09629dbe526f"
      },
      "outputs": [
        {
          "data": {
            "text/html": [
              "<div>\n",
              "<style scoped>\n",
              "    .dataframe tbody tr th:only-of-type {\n",
              "        vertical-align: middle;\n",
              "    }\n",
              "\n",
              "    .dataframe tbody tr th {\n",
              "        vertical-align: top;\n",
              "    }\n",
              "\n",
              "    .dataframe thead th {\n",
              "        text-align: right;\n",
              "    }\n",
              "</style>\n",
              "<table border=\"1\" class=\"dataframe\">\n",
              "  <thead>\n",
              "    <tr style=\"text-align: right;\">\n",
              "      <th></th>\n",
              "      <th>A</th>\n",
              "      <th>B</th>\n",
              "      <th>C</th>\n",
              "      <th>D</th>\n",
              "      <th>E</th>\n",
              "      <th>F</th>\n",
              "    </tr>\n",
              "  </thead>\n",
              "  <tbody>\n",
              "    <tr>\n",
              "      <th>X</th>\n",
              "      <td>1.0</td>\n",
              "      <td>2.0</td>\n",
              "      <td>NaN</td>\n",
              "      <td>NaN</td>\n",
              "      <td>NaN</td>\n",
              "      <td>NaN</td>\n",
              "    </tr>\n",
              "    <tr>\n",
              "      <th>Y</th>\n",
              "      <td>NaN</td>\n",
              "      <td>NaN</td>\n",
              "      <td>3.0</td>\n",
              "      <td>4.0</td>\n",
              "      <td>NaN</td>\n",
              "      <td>NaN</td>\n",
              "    </tr>\n",
              "    <tr>\n",
              "      <th>Z</th>\n",
              "      <td>NaN</td>\n",
              "      <td>NaN</td>\n",
              "      <td>NaN</td>\n",
              "      <td>NaN</td>\n",
              "      <td>5.0</td>\n",
              "      <td>6.0</td>\n",
              "    </tr>\n",
              "  </tbody>\n",
              "</table>\n",
              "</div>"
            ],
            "text/plain": [
              "     A    B    C    D    E    F\n",
              "X  1.0  2.0  NaN  NaN  NaN  NaN\n",
              "Y  NaN  NaN  3.0  4.0  NaN  NaN\n",
              "Z  NaN  NaN  NaN  NaN  5.0  6.0"
            ]
          },
          "execution_count": 147,
          "metadata": {},
          "output_type": "execute_result"
        }
      ],
      "source": [
        "# Changing the Index value.\n",
        "data = [{'A':1,\"B\":2},{\"C\":3,\"D\":4},{\"E\":5,\"F\":6}]\n",
        "df = pd.DataFrame (data, index =['X', 'Y', 'Z'])\n",
        "df"
      ]
    },
    {
      "cell_type": "code",
      "execution_count": 148,
      "metadata": {
        "colab": {
          "base_uri": "https://localhost:8080/",
          "height": 143
        },
        "id": "wvnPBPWQ3FNh",
        "outputId": "a1a3d649-3ce4-4b74-a0ff-f3a276b882fa"
      },
      "outputs": [
        {
          "data": {
            "text/html": [
              "<div>\n",
              "<style scoped>\n",
              "    .dataframe tbody tr th:only-of-type {\n",
              "        vertical-align: middle;\n",
              "    }\n",
              "\n",
              "    .dataframe tbody tr th {\n",
              "        vertical-align: top;\n",
              "    }\n",
              "\n",
              "    .dataframe thead th {\n",
              "        text-align: right;\n",
              "    }\n",
              "</style>\n",
              "<table border=\"1\" class=\"dataframe\">\n",
              "  <thead>\n",
              "    <tr style=\"text-align: right;\">\n",
              "      <th></th>\n",
              "      <th>x</th>\n",
              "      <th>y</th>\n",
              "      <th>z</th>\n",
              "      <th>l</th>\n",
              "      <th>m</th>\n",
              "    </tr>\n",
              "  </thead>\n",
              "  <tbody>\n",
              "    <tr>\n",
              "      <th>X</th>\n",
              "      <td>NaN</td>\n",
              "      <td>NaN</td>\n",
              "      <td>NaN</td>\n",
              "      <td>NaN</td>\n",
              "      <td>NaN</td>\n",
              "    </tr>\n",
              "    <tr>\n",
              "      <th>Y</th>\n",
              "      <td>NaN</td>\n",
              "      <td>NaN</td>\n",
              "      <td>NaN</td>\n",
              "      <td>NaN</td>\n",
              "      <td>NaN</td>\n",
              "    </tr>\n",
              "    <tr>\n",
              "      <th>Z</th>\n",
              "      <td>NaN</td>\n",
              "      <td>NaN</td>\n",
              "      <td>NaN</td>\n",
              "      <td>NaN</td>\n",
              "      <td>NaN</td>\n",
              "    </tr>\n",
              "  </tbody>\n",
              "</table>\n",
              "</div>"
            ],
            "text/plain": [
              "    x   y   z   l   m\n",
              "X NaN NaN NaN NaN NaN\n",
              "Y NaN NaN NaN NaN NaN\n",
              "Z NaN NaN NaN NaN NaN"
            ]
          },
          "execution_count": 148,
          "metadata": {},
          "output_type": "execute_result"
        }
      ],
      "source": [
        "#  If we change the column name in df then it will create the different data\n",
        "data = [{'A':1,\"B\":2},{\"C\":3,\"D\":4},{\"E\":5,\"F\":6}]\n",
        "df = pd.DataFrame (data, index =['X', 'Y', 'Z'], columns = ['x', 'y', 'z','l','m'])\n",
        "df"
      ]
    },
    {
      "cell_type": "markdown",
      "metadata": {
        "id": "Z02hGZYY356w"
      },
      "source": [
        "### U - Update"
      ]
    },
    {
      "cell_type": "code",
      "execution_count": 149,
      "metadata": {
        "colab": {
          "base_uri": "https://localhost:8080/",
          "height": 112
        },
        "id": "u-nvpome3YHR",
        "outputId": "d0204cef-142c-4c1d-a0df-829bceda4f8c"
      },
      "outputs": [
        {
          "data": {
            "text/html": [
              "<div>\n",
              "<style scoped>\n",
              "    .dataframe tbody tr th:only-of-type {\n",
              "        vertical-align: middle;\n",
              "    }\n",
              "\n",
              "    .dataframe tbody tr th {\n",
              "        vertical-align: top;\n",
              "    }\n",
              "\n",
              "    .dataframe thead th {\n",
              "        text-align: right;\n",
              "    }\n",
              "</style>\n",
              "<table border=\"1\" class=\"dataframe\">\n",
              "  <thead>\n",
              "    <tr style=\"text-align: right;\">\n",
              "      <th></th>\n",
              "      <th>A</th>\n",
              "      <th>B</th>\n",
              "      <th>C</th>\n",
              "      <th>D</th>\n",
              "      <th>E</th>\n",
              "      <th>F</th>\n",
              "      <th>G</th>\n",
              "      <th>H</th>\n",
              "    </tr>\n",
              "  </thead>\n",
              "  <tbody>\n",
              "    <tr>\n",
              "      <th>0</th>\n",
              "      <td>10</td>\n",
              "      <td>20</td>\n",
              "      <td>30</td>\n",
              "      <td>40</td>\n",
              "      <td>50</td>\n",
              "      <td>60</td>\n",
              "      <td>70</td>\n",
              "      <td>80</td>\n",
              "    </tr>\n",
              "    <tr>\n",
              "      <th>1</th>\n",
              "      <td>100</td>\n",
              "      <td>200</td>\n",
              "      <td>300</td>\n",
              "      <td>400</td>\n",
              "      <td>500</td>\n",
              "      <td>600</td>\n",
              "      <td>700</td>\n",
              "      <td>800</td>\n",
              "    </tr>\n",
              "  </tbody>\n",
              "</table>\n",
              "</div>"
            ],
            "text/plain": [
              "     A    B    C    D    E    F    G    H\n",
              "0   10   20   30   40   50   60   70   80\n",
              "1  100  200  300  400  500  600  700  800"
            ]
          },
          "execution_count": 149,
          "metadata": {},
          "output_type": "execute_result"
        }
      ],
      "source": [
        "data = [10,20,30,40,50,60,70,80]\n",
        "data1 = [100,200,300,400,500,600,700,800]\n",
        "df = pd.DataFrame ([data,data1], columns =['A',\"B\",\"C\",\"D\",\"E\",\"F\",\"G\",\"H\"])\n",
        "df"
      ]
    },
    {
      "cell_type": "markdown",
      "metadata": {
        "id": "GYO5f8GJ43B9"
      },
      "source": [
        "#### 1.Column Selection"
      ]
    },
    {
      "cell_type": "code",
      "execution_count": 150,
      "metadata": {
        "colab": {
          "base_uri": "https://localhost:8080/"
        },
        "id": "umeHhIam4Koh",
        "outputId": "cc5e007c-fc4b-4ec6-ca15-65331c8b1bfe"
      },
      "outputs": [
        {
          "data": {
            "text/plain": [
              "0     60\n",
              "1    600\n",
              "Name: F, dtype: int64"
            ]
          },
          "execution_count": 150,
          "metadata": {},
          "output_type": "execute_result"
        }
      ],
      "source": [
        "df['F']"
      ]
    },
    {
      "cell_type": "markdown",
      "metadata": {
        "id": "Z_WjARZP5bON"
      },
      "source": [
        "#### 2.Adding new column in DF"
      ]
    },
    {
      "cell_type": "code",
      "execution_count": 151,
      "metadata": {
        "colab": {
          "base_uri": "https://localhost:8080/",
          "height": 112
        },
        "id": "dJwPfYP05H3Z",
        "outputId": "510e70c2-b1da-45ec-b844-4ab42f07d7a2"
      },
      "outputs": [
        {
          "data": {
            "text/html": [
              "<div>\n",
              "<style scoped>\n",
              "    .dataframe tbody tr th:only-of-type {\n",
              "        vertical-align: middle;\n",
              "    }\n",
              "\n",
              "    .dataframe tbody tr th {\n",
              "        vertical-align: top;\n",
              "    }\n",
              "\n",
              "    .dataframe thead th {\n",
              "        text-align: right;\n",
              "    }\n",
              "</style>\n",
              "<table border=\"1\" class=\"dataframe\">\n",
              "  <thead>\n",
              "    <tr style=\"text-align: right;\">\n",
              "      <th></th>\n",
              "      <th>A</th>\n",
              "      <th>B</th>\n",
              "      <th>C</th>\n",
              "      <th>D</th>\n",
              "      <th>E</th>\n",
              "      <th>F</th>\n",
              "      <th>G</th>\n",
              "      <th>H</th>\n",
              "      <th>I</th>\n",
              "    </tr>\n",
              "  </thead>\n",
              "  <tbody>\n",
              "    <tr>\n",
              "      <th>0</th>\n",
              "      <td>10</td>\n",
              "      <td>20</td>\n",
              "      <td>30</td>\n",
              "      <td>40</td>\n",
              "      <td>50</td>\n",
              "      <td>60</td>\n",
              "      <td>70</td>\n",
              "      <td>80</td>\n",
              "      <td>86</td>\n",
              "    </tr>\n",
              "    <tr>\n",
              "      <th>1</th>\n",
              "      <td>100</td>\n",
              "      <td>200</td>\n",
              "      <td>300</td>\n",
              "      <td>400</td>\n",
              "      <td>500</td>\n",
              "      <td>600</td>\n",
              "      <td>700</td>\n",
              "      <td>800</td>\n",
              "      <td>880</td>\n",
              "    </tr>\n",
              "  </tbody>\n",
              "</table>\n",
              "</div>"
            ],
            "text/plain": [
              "     A    B    C    D    E    F    G    H    I\n",
              "0   10   20   30   40   50   60   70   80   86\n",
              "1  100  200  300  400  500  600  700  800  880"
            ]
          },
          "execution_count": 151,
          "metadata": {},
          "output_type": "execute_result"
        }
      ],
      "source": [
        "df[\"I\"] = [86,880]\n",
        "df"
      ]
    },
    {
      "cell_type": "code",
      "execution_count": 152,
      "metadata": {
        "id": "LDWgedrN5iQA"
      },
      "outputs": [
        {
          "data": {
            "text/html": [
              "<div>\n",
              "<style scoped>\n",
              "    .dataframe tbody tr th:only-of-type {\n",
              "        vertical-align: middle;\n",
              "    }\n",
              "\n",
              "    .dataframe tbody tr th {\n",
              "        vertical-align: top;\n",
              "    }\n",
              "\n",
              "    .dataframe thead th {\n",
              "        text-align: right;\n",
              "    }\n",
              "</style>\n",
              "<table border=\"1\" class=\"dataframe\">\n",
              "  <thead>\n",
              "    <tr style=\"text-align: right;\">\n",
              "      <th></th>\n",
              "      <th>A</th>\n",
              "      <th>B</th>\n",
              "      <th>C</th>\n",
              "      <th>D</th>\n",
              "      <th>E</th>\n",
              "      <th>F</th>\n",
              "      <th>G</th>\n",
              "      <th>H</th>\n",
              "      <th>I</th>\n",
              "      <th>M</th>\n",
              "    </tr>\n",
              "  </thead>\n",
              "  <tbody>\n",
              "    <tr>\n",
              "      <th>0</th>\n",
              "      <td>10</td>\n",
              "      <td>20</td>\n",
              "      <td>30</td>\n",
              "      <td>40</td>\n",
              "      <td>50</td>\n",
              "      <td>60</td>\n",
              "      <td>70</td>\n",
              "      <td>80</td>\n",
              "      <td>86</td>\n",
              "      <td>56</td>\n",
              "    </tr>\n",
              "    <tr>\n",
              "      <th>1</th>\n",
              "      <td>100</td>\n",
              "      <td>200</td>\n",
              "      <td>300</td>\n",
              "      <td>400</td>\n",
              "      <td>500</td>\n",
              "      <td>600</td>\n",
              "      <td>700</td>\n",
              "      <td>800</td>\n",
              "      <td>880</td>\n",
              "      <td>78</td>\n",
              "    </tr>\n",
              "  </tbody>\n",
              "</table>\n",
              "</div>"
            ],
            "text/plain": [
              "     A    B    C    D    E    F    G    H    I   M\n",
              "0   10   20   30   40   50   60   70   80   86  56\n",
              "1  100  200  300  400  500  600  700  800  880  78"
            ]
          },
          "execution_count": 152,
          "metadata": {},
          "output_type": "execute_result"
        }
      ],
      "source": [
        "# The size of perticular table won't allow me to add the three elements. \n",
        "df[\"M\"] = pd.Series ([56,78,89])\n",
        "df"
      ]
    },
    {
      "cell_type": "code",
      "execution_count": 153,
      "metadata": {
        "colab": {
          "base_uri": "https://localhost:8080/",
          "height": 112
        },
        "id": "kTLLgJQW5vBJ",
        "outputId": "75ff0b74-143b-41fe-b6c9-b8e18146da19"
      },
      "outputs": [
        {
          "data": {
            "text/html": [
              "<div>\n",
              "<style scoped>\n",
              "    .dataframe tbody tr th:only-of-type {\n",
              "        vertical-align: middle;\n",
              "    }\n",
              "\n",
              "    .dataframe tbody tr th {\n",
              "        vertical-align: top;\n",
              "    }\n",
              "\n",
              "    .dataframe thead th {\n",
              "        text-align: right;\n",
              "    }\n",
              "</style>\n",
              "<table border=\"1\" class=\"dataframe\">\n",
              "  <thead>\n",
              "    <tr style=\"text-align: right;\">\n",
              "      <th></th>\n",
              "      <th>A</th>\n",
              "      <th>B</th>\n",
              "      <th>C</th>\n",
              "      <th>D</th>\n",
              "      <th>E</th>\n",
              "      <th>F</th>\n",
              "      <th>G</th>\n",
              "      <th>H</th>\n",
              "      <th>I</th>\n",
              "      <th>M</th>\n",
              "      <th>N</th>\n",
              "    </tr>\n",
              "  </thead>\n",
              "  <tbody>\n",
              "    <tr>\n",
              "      <th>0</th>\n",
              "      <td>10</td>\n",
              "      <td>20</td>\n",
              "      <td>30</td>\n",
              "      <td>40</td>\n",
              "      <td>50</td>\n",
              "      <td>60</td>\n",
              "      <td>70</td>\n",
              "      <td>80</td>\n",
              "      <td>86</td>\n",
              "      <td>56</td>\n",
              "      <td>56.0</td>\n",
              "    </tr>\n",
              "    <tr>\n",
              "      <th>1</th>\n",
              "      <td>100</td>\n",
              "      <td>200</td>\n",
              "      <td>300</td>\n",
              "      <td>400</td>\n",
              "      <td>500</td>\n",
              "      <td>600</td>\n",
              "      <td>700</td>\n",
              "      <td>800</td>\n",
              "      <td>880</td>\n",
              "      <td>78</td>\n",
              "      <td>NaN</td>\n",
              "    </tr>\n",
              "  </tbody>\n",
              "</table>\n",
              "</div>"
            ],
            "text/plain": [
              "     A    B    C    D    E    F    G    H    I   M     N\n",
              "0   10   20   30   40   50   60   70   80   86  56  56.0\n",
              "1  100  200  300  400  500  600  700  800  880  78   NaN"
            ]
          },
          "execution_count": 153,
          "metadata": {},
          "output_type": "execute_result"
        }
      ],
      "source": [
        "# Series allow me to write 1 element in index0 in the dataframe and it gives us the NaN value on index1\n",
        "df[\"N\"] = pd.Series ([56])\n",
        "df"
      ]
    },
    {
      "cell_type": "code",
      "execution_count": 154,
      "metadata": {
        "colab": {
          "base_uri": "https://localhost:8080/",
          "height": 112
        },
        "id": "wTP-DmSk6td6",
        "outputId": "6c7f08aa-c38c-4f25-e300-42ba062690b4"
      },
      "outputs": [
        {
          "data": {
            "text/html": [
              "<div>\n",
              "<style scoped>\n",
              "    .dataframe tbody tr th:only-of-type {\n",
              "        vertical-align: middle;\n",
              "    }\n",
              "\n",
              "    .dataframe tbody tr th {\n",
              "        vertical-align: top;\n",
              "    }\n",
              "\n",
              "    .dataframe thead th {\n",
              "        text-align: right;\n",
              "    }\n",
              "</style>\n",
              "<table border=\"1\" class=\"dataframe\">\n",
              "  <thead>\n",
              "    <tr style=\"text-align: right;\">\n",
              "      <th></th>\n",
              "      <th>A</th>\n",
              "      <th>B</th>\n",
              "      <th>C</th>\n",
              "      <th>D</th>\n",
              "      <th>E</th>\n",
              "      <th>F</th>\n",
              "      <th>G</th>\n",
              "      <th>H</th>\n",
              "      <th>I</th>\n",
              "      <th>M</th>\n",
              "      <th>N</th>\n",
              "      <th>O</th>\n",
              "    </tr>\n",
              "  </thead>\n",
              "  <tbody>\n",
              "    <tr>\n",
              "      <th>0</th>\n",
              "      <td>10</td>\n",
              "      <td>20</td>\n",
              "      <td>30</td>\n",
              "      <td>40</td>\n",
              "      <td>50</td>\n",
              "      <td>60</td>\n",
              "      <td>70</td>\n",
              "      <td>80</td>\n",
              "      <td>86</td>\n",
              "      <td>56</td>\n",
              "      <td>56.0</td>\n",
              "      <td>1</td>\n",
              "    </tr>\n",
              "    <tr>\n",
              "      <th>1</th>\n",
              "      <td>100</td>\n",
              "      <td>200</td>\n",
              "      <td>300</td>\n",
              "      <td>400</td>\n",
              "      <td>500</td>\n",
              "      <td>600</td>\n",
              "      <td>700</td>\n",
              "      <td>800</td>\n",
              "      <td>880</td>\n",
              "      <td>78</td>\n",
              "      <td>NaN</td>\n",
              "      <td>2</td>\n",
              "    </tr>\n",
              "  </tbody>\n",
              "</table>\n",
              "</div>"
            ],
            "text/plain": [
              "     A    B    C    D    E    F    G    H    I   M     N  O\n",
              "0   10   20   30   40   50   60   70   80   86  56  56.0  1\n",
              "1  100  200  300  400  500  600  700  800  880  78   NaN  2"
            ]
          },
          "execution_count": 154,
          "metadata": {},
          "output_type": "execute_result"
        }
      ],
      "source": [
        "df[\"O\"] = pd.Series ([1,2,3,4], index = [0,1,2,3])\n",
        "df"
      ]
    },
    {
      "cell_type": "code",
      "execution_count": 155,
      "metadata": {
        "colab": {
          "base_uri": "https://localhost:8080/",
          "height": 112
        },
        "id": "KB3qQWXc89kL",
        "outputId": "af50ab06-69af-407b-c273-d7bc8db76eeb"
      },
      "outputs": [
        {
          "data": {
            "text/html": [
              "<div>\n",
              "<style scoped>\n",
              "    .dataframe tbody tr th:only-of-type {\n",
              "        vertical-align: middle;\n",
              "    }\n",
              "\n",
              "    .dataframe tbody tr th {\n",
              "        vertical-align: top;\n",
              "    }\n",
              "\n",
              "    .dataframe thead th {\n",
              "        text-align: right;\n",
              "    }\n",
              "</style>\n",
              "<table border=\"1\" class=\"dataframe\">\n",
              "  <thead>\n",
              "    <tr style=\"text-align: right;\">\n",
              "      <th></th>\n",
              "      <th>A</th>\n",
              "      <th>B</th>\n",
              "      <th>C</th>\n",
              "      <th>D</th>\n",
              "      <th>E</th>\n",
              "      <th>F</th>\n",
              "      <th>G</th>\n",
              "      <th>H</th>\n",
              "      <th>I</th>\n",
              "      <th>M</th>\n",
              "      <th>N</th>\n",
              "      <th>O</th>\n",
              "      <th>Y</th>\n",
              "    </tr>\n",
              "  </thead>\n",
              "  <tbody>\n",
              "    <tr>\n",
              "      <th>0</th>\n",
              "      <td>10</td>\n",
              "      <td>20</td>\n",
              "      <td>30</td>\n",
              "      <td>40</td>\n",
              "      <td>50</td>\n",
              "      <td>60</td>\n",
              "      <td>70</td>\n",
              "      <td>80</td>\n",
              "      <td>86</td>\n",
              "      <td>56</td>\n",
              "      <td>56.0</td>\n",
              "      <td>1</td>\n",
              "      <td>NaN</td>\n",
              "    </tr>\n",
              "    <tr>\n",
              "      <th>1</th>\n",
              "      <td>100</td>\n",
              "      <td>200</td>\n",
              "      <td>300</td>\n",
              "      <td>400</td>\n",
              "      <td>500</td>\n",
              "      <td>600</td>\n",
              "      <td>700</td>\n",
              "      <td>800</td>\n",
              "      <td>880</td>\n",
              "      <td>78</td>\n",
              "      <td>NaN</td>\n",
              "      <td>2</td>\n",
              "      <td>NaN</td>\n",
              "    </tr>\n",
              "  </tbody>\n",
              "</table>\n",
              "</div>"
            ],
            "text/plain": [
              "     A    B    C    D    E    F    G    H    I   M     N  O   Y\n",
              "0   10   20   30   40   50   60   70   80   86  56  56.0  1 NaN\n",
              "1  100  200  300  400  500  600  700  800  880  78   NaN  2 NaN"
            ]
          },
          "execution_count": 155,
          "metadata": {},
          "output_type": "execute_result"
        }
      ],
      "source": [
        "df ['Y'] = pd.Series([1,2,3,4], index = ['A','B','C','D'])\n",
        "df"
      ]
    },
    {
      "cell_type": "markdown",
      "metadata": {
        "id": "mqQYg55z8u15"
      },
      "source": [
        "#### 3.Delete a column"
      ]
    },
    {
      "cell_type": "code",
      "execution_count": 156,
      "metadata": {
        "colab": {
          "base_uri": "https://localhost:8080/",
          "height": 112
        },
        "id": "AmIaw7PW7ffs",
        "outputId": "32604db2-214a-476f-d62a-fc7114a5d2ec"
      },
      "outputs": [
        {
          "data": {
            "text/html": [
              "<div>\n",
              "<style scoped>\n",
              "    .dataframe tbody tr th:only-of-type {\n",
              "        vertical-align: middle;\n",
              "    }\n",
              "\n",
              "    .dataframe tbody tr th {\n",
              "        vertical-align: top;\n",
              "    }\n",
              "\n",
              "    .dataframe thead th {\n",
              "        text-align: right;\n",
              "    }\n",
              "</style>\n",
              "<table border=\"1\" class=\"dataframe\">\n",
              "  <thead>\n",
              "    <tr style=\"text-align: right;\">\n",
              "      <th></th>\n",
              "      <th>A</th>\n",
              "      <th>B</th>\n",
              "      <th>C</th>\n",
              "      <th>D</th>\n",
              "      <th>E</th>\n",
              "      <th>F</th>\n",
              "      <th>G</th>\n",
              "      <th>H</th>\n",
              "      <th>I</th>\n",
              "      <th>M</th>\n",
              "      <th>N</th>\n",
              "      <th>O</th>\n",
              "      <th>Y</th>\n",
              "    </tr>\n",
              "  </thead>\n",
              "  <tbody>\n",
              "    <tr>\n",
              "      <th>0</th>\n",
              "      <td>10</td>\n",
              "      <td>20</td>\n",
              "      <td>30</td>\n",
              "      <td>40</td>\n",
              "      <td>50</td>\n",
              "      <td>60</td>\n",
              "      <td>70</td>\n",
              "      <td>80</td>\n",
              "      <td>86</td>\n",
              "      <td>56</td>\n",
              "      <td>56.0</td>\n",
              "      <td>1</td>\n",
              "      <td>NaN</td>\n",
              "    </tr>\n",
              "    <tr>\n",
              "      <th>1</th>\n",
              "      <td>100</td>\n",
              "      <td>200</td>\n",
              "      <td>300</td>\n",
              "      <td>400</td>\n",
              "      <td>500</td>\n",
              "      <td>600</td>\n",
              "      <td>700</td>\n",
              "      <td>800</td>\n",
              "      <td>880</td>\n",
              "      <td>78</td>\n",
              "      <td>NaN</td>\n",
              "      <td>2</td>\n",
              "      <td>NaN</td>\n",
              "    </tr>\n",
              "  </tbody>\n",
              "</table>\n",
              "</div>"
            ],
            "text/plain": [
              "     A    B    C    D    E    F    G    H    I   M     N  O   Y\n",
              "0   10   20   30   40   50   60   70   80   86  56  56.0  1 NaN\n",
              "1  100  200  300  400  500  600  700  800  880  78   NaN  2 NaN"
            ]
          },
          "execution_count": 156,
          "metadata": {},
          "output_type": "execute_result"
        }
      ],
      "source": [
        "df"
      ]
    },
    {
      "cell_type": "code",
      "execution_count": 157,
      "metadata": {
        "colab": {
          "base_uri": "https://localhost:8080/",
          "height": 112
        },
        "id": "uEOLld2A81Px",
        "outputId": "6de751bb-8e8a-43ec-b01a-ca8cebf25f33"
      },
      "outputs": [
        {
          "data": {
            "text/html": [
              "<div>\n",
              "<style scoped>\n",
              "    .dataframe tbody tr th:only-of-type {\n",
              "        vertical-align: middle;\n",
              "    }\n",
              "\n",
              "    .dataframe tbody tr th {\n",
              "        vertical-align: top;\n",
              "    }\n",
              "\n",
              "    .dataframe thead th {\n",
              "        text-align: right;\n",
              "    }\n",
              "</style>\n",
              "<table border=\"1\" class=\"dataframe\">\n",
              "  <thead>\n",
              "    <tr style=\"text-align: right;\">\n",
              "      <th></th>\n",
              "      <th>A</th>\n",
              "      <th>B</th>\n",
              "      <th>C</th>\n",
              "      <th>D</th>\n",
              "      <th>E</th>\n",
              "      <th>F</th>\n",
              "      <th>H</th>\n",
              "      <th>I</th>\n",
              "      <th>M</th>\n",
              "      <th>N</th>\n",
              "      <th>O</th>\n",
              "      <th>Y</th>\n",
              "    </tr>\n",
              "  </thead>\n",
              "  <tbody>\n",
              "    <tr>\n",
              "      <th>0</th>\n",
              "      <td>10</td>\n",
              "      <td>20</td>\n",
              "      <td>30</td>\n",
              "      <td>40</td>\n",
              "      <td>50</td>\n",
              "      <td>60</td>\n",
              "      <td>80</td>\n",
              "      <td>86</td>\n",
              "      <td>56</td>\n",
              "      <td>56.0</td>\n",
              "      <td>1</td>\n",
              "      <td>NaN</td>\n",
              "    </tr>\n",
              "    <tr>\n",
              "      <th>1</th>\n",
              "      <td>100</td>\n",
              "      <td>200</td>\n",
              "      <td>300</td>\n",
              "      <td>400</td>\n",
              "      <td>500</td>\n",
              "      <td>600</td>\n",
              "      <td>800</td>\n",
              "      <td>880</td>\n",
              "      <td>78</td>\n",
              "      <td>NaN</td>\n",
              "      <td>2</td>\n",
              "      <td>NaN</td>\n",
              "    </tr>\n",
              "  </tbody>\n",
              "</table>\n",
              "</div>"
            ],
            "text/plain": [
              "     A    B    C    D    E    F    H    I   M     N  O   Y\n",
              "0   10   20   30   40   50   60   80   86  56  56.0  1 NaN\n",
              "1  100  200  300  400  500  600  800  880  78   NaN  2 NaN"
            ]
          },
          "execution_count": 157,
          "metadata": {},
          "output_type": "execute_result"
        }
      ],
      "source": [
        "# Using the del keyword\n",
        "del df['G']\n",
        "df"
      ]
    },
    {
      "cell_type": "code",
      "execution_count": 158,
      "metadata": {
        "colab": {
          "base_uri": "https://localhost:8080/",
          "height": 112
        },
        "id": "KQNDHa819NBa",
        "outputId": "0b30f92e-be88-4da7-c8f4-359c5ab14905"
      },
      "outputs": [
        {
          "data": {
            "text/html": [
              "<div>\n",
              "<style scoped>\n",
              "    .dataframe tbody tr th:only-of-type {\n",
              "        vertical-align: middle;\n",
              "    }\n",
              "\n",
              "    .dataframe tbody tr th {\n",
              "        vertical-align: top;\n",
              "    }\n",
              "\n",
              "    .dataframe thead th {\n",
              "        text-align: right;\n",
              "    }\n",
              "</style>\n",
              "<table border=\"1\" class=\"dataframe\">\n",
              "  <thead>\n",
              "    <tr style=\"text-align: right;\">\n",
              "      <th></th>\n",
              "      <th>A</th>\n",
              "      <th>B</th>\n",
              "      <th>C</th>\n",
              "      <th>D</th>\n",
              "      <th>E</th>\n",
              "      <th>F</th>\n",
              "      <th>H</th>\n",
              "      <th>I</th>\n",
              "      <th>M</th>\n",
              "      <th>N</th>\n",
              "      <th>O</th>\n",
              "    </tr>\n",
              "  </thead>\n",
              "  <tbody>\n",
              "    <tr>\n",
              "      <th>0</th>\n",
              "      <td>10</td>\n",
              "      <td>20</td>\n",
              "      <td>30</td>\n",
              "      <td>40</td>\n",
              "      <td>50</td>\n",
              "      <td>60</td>\n",
              "      <td>80</td>\n",
              "      <td>86</td>\n",
              "      <td>56</td>\n",
              "      <td>56.0</td>\n",
              "      <td>1</td>\n",
              "    </tr>\n",
              "    <tr>\n",
              "      <th>1</th>\n",
              "      <td>100</td>\n",
              "      <td>200</td>\n",
              "      <td>300</td>\n",
              "      <td>400</td>\n",
              "      <td>500</td>\n",
              "      <td>600</td>\n",
              "      <td>800</td>\n",
              "      <td>880</td>\n",
              "      <td>78</td>\n",
              "      <td>NaN</td>\n",
              "      <td>2</td>\n",
              "    </tr>\n",
              "  </tbody>\n",
              "</table>\n",
              "</div>"
            ],
            "text/plain": [
              "     A    B    C    D    E    F    H    I   M     N  O\n",
              "0   10   20   30   40   50   60   80   86  56  56.0  1\n",
              "1  100  200  300  400  500  600  800  880  78   NaN  2"
            ]
          },
          "execution_count": 158,
          "metadata": {},
          "output_type": "execute_result"
        }
      ],
      "source": [
        "# pop function\n",
        "df.pop ('Y')\n",
        "df"
      ]
    },
    {
      "cell_type": "markdown",
      "metadata": {
        "id": "i68emlC0B_d2"
      },
      "source": [
        "- If we are using del and pop we can only delet single column from the data."
      ]
    },
    {
      "cell_type": "code",
      "execution_count": 159,
      "metadata": {
        "colab": {
          "base_uri": "https://localhost:8080/"
        },
        "id": "6uaW_C9X-ZEx",
        "outputId": "7ec7199f-14b7-46d2-e6c5-9f98d4d93e31"
      },
      "outputs": [
        {
          "data": {
            "text/plain": [
              "0     30\n",
              "1    300\n",
              "Name: C, dtype: int64"
            ]
          },
          "execution_count": 159,
          "metadata": {},
          "output_type": "execute_result"
        }
      ],
      "source": [
        "df['C']"
      ]
    },
    {
      "cell_type": "code",
      "execution_count": 160,
      "metadata": {
        "colab": {
          "base_uri": "https://localhost:8080/",
          "height": 112
        },
        "id": "llWUeyu_-r0h",
        "outputId": "ae49636b-6708-4acf-bdab-1b18de856b5a"
      },
      "outputs": [
        {
          "data": {
            "text/html": [
              "<div>\n",
              "<style scoped>\n",
              "    .dataframe tbody tr th:only-of-type {\n",
              "        vertical-align: middle;\n",
              "    }\n",
              "\n",
              "    .dataframe tbody tr th {\n",
              "        vertical-align: top;\n",
              "    }\n",
              "\n",
              "    .dataframe thead th {\n",
              "        text-align: right;\n",
              "    }\n",
              "</style>\n",
              "<table border=\"1\" class=\"dataframe\">\n",
              "  <thead>\n",
              "    <tr style=\"text-align: right;\">\n",
              "      <th></th>\n",
              "      <th>C</th>\n",
              "    </tr>\n",
              "  </thead>\n",
              "  <tbody>\n",
              "    <tr>\n",
              "      <th>0</th>\n",
              "      <td>30</td>\n",
              "    </tr>\n",
              "    <tr>\n",
              "      <th>1</th>\n",
              "      <td>300</td>\n",
              "    </tr>\n",
              "  </tbody>\n",
              "</table>\n",
              "</div>"
            ],
            "text/plain": [
              "     C\n",
              "0   30\n",
              "1  300"
            ]
          },
          "execution_count": 160,
          "metadata": {},
          "output_type": "execute_result"
        }
      ],
      "source": [
        "df [['C']]"
      ]
    },
    {
      "cell_type": "code",
      "execution_count": 161,
      "metadata": {
        "colab": {
          "base_uri": "https://localhost:8080/",
          "height": 112
        },
        "id": "YlYmjS0L-5ui",
        "outputId": "540be815-50a9-4f51-f57f-43b6ceebcf1a"
      },
      "outputs": [
        {
          "data": {
            "text/html": [
              "<div>\n",
              "<style scoped>\n",
              "    .dataframe tbody tr th:only-of-type {\n",
              "        vertical-align: middle;\n",
              "    }\n",
              "\n",
              "    .dataframe tbody tr th {\n",
              "        vertical-align: top;\n",
              "    }\n",
              "\n",
              "    .dataframe thead th {\n",
              "        text-align: right;\n",
              "    }\n",
              "</style>\n",
              "<table border=\"1\" class=\"dataframe\">\n",
              "  <thead>\n",
              "    <tr style=\"text-align: right;\">\n",
              "      <th></th>\n",
              "      <th>E</th>\n",
              "      <th>A</th>\n",
              "      <th>N</th>\n",
              "    </tr>\n",
              "  </thead>\n",
              "  <tbody>\n",
              "    <tr>\n",
              "      <th>0</th>\n",
              "      <td>50</td>\n",
              "      <td>10</td>\n",
              "      <td>56.0</td>\n",
              "    </tr>\n",
              "    <tr>\n",
              "      <th>1</th>\n",
              "      <td>500</td>\n",
              "      <td>100</td>\n",
              "      <td>NaN</td>\n",
              "    </tr>\n",
              "  </tbody>\n",
              "</table>\n",
              "</div>"
            ],
            "text/plain": [
              "     E    A     N\n",
              "0   50   10  56.0\n",
              "1  500  100   NaN"
            ]
          },
          "execution_count": 161,
          "metadata": {},
          "output_type": "execute_result"
        }
      ],
      "source": [
        "# If I want to see column E A & N\n",
        "df[['E',\"A\",'N']]"
      ]
    },
    {
      "cell_type": "code",
      "execution_count": 162,
      "metadata": {
        "id": "KyNQqHoTBb_x"
      },
      "outputs": [
        {
          "data": {
            "text/html": [
              "<div>\n",
              "<style scoped>\n",
              "    .dataframe tbody tr th:only-of-type {\n",
              "        vertical-align: middle;\n",
              "    }\n",
              "\n",
              "    .dataframe tbody tr th {\n",
              "        vertical-align: top;\n",
              "    }\n",
              "\n",
              "    .dataframe thead th {\n",
              "        text-align: right;\n",
              "    }\n",
              "</style>\n",
              "<table border=\"1\" class=\"dataframe\">\n",
              "  <thead>\n",
              "    <tr style=\"text-align: right;\">\n",
              "      <th></th>\n",
              "      <th>A</th>\n",
              "      <th>B</th>\n",
              "      <th>C</th>\n",
              "      <th>D</th>\n",
              "      <th>E</th>\n",
              "      <th>F</th>\n",
              "      <th>H</th>\n",
              "      <th>I</th>\n",
              "      <th>M</th>\n",
              "      <th>N</th>\n",
              "      <th>O</th>\n",
              "    </tr>\n",
              "  </thead>\n",
              "  <tbody>\n",
              "    <tr>\n",
              "      <th>0</th>\n",
              "      <td>10</td>\n",
              "      <td>20</td>\n",
              "      <td>30</td>\n",
              "      <td>40</td>\n",
              "      <td>50</td>\n",
              "      <td>60</td>\n",
              "      <td>80</td>\n",
              "      <td>86</td>\n",
              "      <td>56</td>\n",
              "      <td>56.0</td>\n",
              "      <td>1</td>\n",
              "    </tr>\n",
              "    <tr>\n",
              "      <th>1</th>\n",
              "      <td>100</td>\n",
              "      <td>200</td>\n",
              "      <td>300</td>\n",
              "      <td>400</td>\n",
              "      <td>500</td>\n",
              "      <td>600</td>\n",
              "      <td>800</td>\n",
              "      <td>880</td>\n",
              "      <td>78</td>\n",
              "      <td>NaN</td>\n",
              "      <td>2</td>\n",
              "    </tr>\n",
              "  </tbody>\n",
              "</table>\n",
              "</div>"
            ],
            "text/plain": [
              "     A    B    C    D    E    F    H    I   M     N  O\n",
              "0   10   20   30   40   50   60   80   86  56  56.0  1\n",
              "1  100  200  300  400  500  600  800  880  78   NaN  2"
            ]
          },
          "execution_count": 162,
          "metadata": {},
          "output_type": "execute_result"
        }
      ],
      "source": [
        "df"
      ]
    },
    {
      "cell_type": "code",
      "execution_count": 163,
      "metadata": {
        "colab": {
          "base_uri": "https://localhost:8080/",
          "height": 112
        },
        "id": "P_MU3VFH_Qdi",
        "outputId": "92d10a95-5fce-44a8-a205-aef1177af918"
      },
      "outputs": [
        {
          "data": {
            "text/html": [
              "<div>\n",
              "<style scoped>\n",
              "    .dataframe tbody tr th:only-of-type {\n",
              "        vertical-align: middle;\n",
              "    }\n",
              "\n",
              "    .dataframe tbody tr th {\n",
              "        vertical-align: top;\n",
              "    }\n",
              "\n",
              "    .dataframe thead th {\n",
              "        text-align: right;\n",
              "    }\n",
              "</style>\n",
              "<table border=\"1\" class=\"dataframe\">\n",
              "  <thead>\n",
              "    <tr style=\"text-align: right;\">\n",
              "      <th></th>\n",
              "      <th>A</th>\n",
              "      <th>B</th>\n",
              "      <th>C</th>\n",
              "      <th>D</th>\n",
              "      <th>E</th>\n",
              "      <th>F</th>\n",
              "      <th>H</th>\n",
              "      <th>M</th>\n",
              "      <th>N</th>\n",
              "    </tr>\n",
              "  </thead>\n",
              "  <tbody>\n",
              "    <tr>\n",
              "      <th>0</th>\n",
              "      <td>10</td>\n",
              "      <td>20</td>\n",
              "      <td>30</td>\n",
              "      <td>40</td>\n",
              "      <td>50</td>\n",
              "      <td>60</td>\n",
              "      <td>80</td>\n",
              "      <td>56</td>\n",
              "      <td>56.0</td>\n",
              "    </tr>\n",
              "    <tr>\n",
              "      <th>1</th>\n",
              "      <td>100</td>\n",
              "      <td>200</td>\n",
              "      <td>300</td>\n",
              "      <td>400</td>\n",
              "      <td>500</td>\n",
              "      <td>600</td>\n",
              "      <td>800</td>\n",
              "      <td>78</td>\n",
              "      <td>NaN</td>\n",
              "    </tr>\n",
              "  </tbody>\n",
              "</table>\n",
              "</div>"
            ],
            "text/plain": [
              "     A    B    C    D    E    F    H   M     N\n",
              "0   10   20   30   40   50   60   80  56  56.0\n",
              "1  100  200  300  400  500  600  800  78   NaN"
            ]
          },
          "execution_count": 163,
          "metadata": {},
          "output_type": "execute_result"
        }
      ],
      "source": [
        "# if i want to delet I and O\n",
        "# drop for multiple columns\n",
        "# axis 1 = column, axis 0 = row\n",
        "# it will be temp delete\n",
        "\n",
        "df.drop([\"I\",\"O\"],axis = 1)"
      ]
    },
    {
      "cell_type": "code",
      "execution_count": 164,
      "metadata": {
        "colab": {
          "base_uri": "https://localhost:8080/",
          "height": 112
        },
        "id": "01SyZ3-oCzDp",
        "outputId": "3238618d-162a-475b-b035-67331e27f4b7"
      },
      "outputs": [
        {
          "data": {
            "text/html": [
              "<div>\n",
              "<style scoped>\n",
              "    .dataframe tbody tr th:only-of-type {\n",
              "        vertical-align: middle;\n",
              "    }\n",
              "\n",
              "    .dataframe tbody tr th {\n",
              "        vertical-align: top;\n",
              "    }\n",
              "\n",
              "    .dataframe thead th {\n",
              "        text-align: right;\n",
              "    }\n",
              "</style>\n",
              "<table border=\"1\" class=\"dataframe\">\n",
              "  <thead>\n",
              "    <tr style=\"text-align: right;\">\n",
              "      <th></th>\n",
              "      <th>A</th>\n",
              "      <th>B</th>\n",
              "      <th>C</th>\n",
              "      <th>D</th>\n",
              "      <th>E</th>\n",
              "      <th>F</th>\n",
              "      <th>H</th>\n",
              "      <th>I</th>\n",
              "      <th>M</th>\n",
              "      <th>N</th>\n",
              "      <th>O</th>\n",
              "      <th>P</th>\n",
              "    </tr>\n",
              "  </thead>\n",
              "  <tbody>\n",
              "    <tr>\n",
              "      <th>0</th>\n",
              "      <td>10</td>\n",
              "      <td>20</td>\n",
              "      <td>30</td>\n",
              "      <td>40</td>\n",
              "      <td>50</td>\n",
              "      <td>60</td>\n",
              "      <td>80</td>\n",
              "      <td>86</td>\n",
              "      <td>56</td>\n",
              "      <td>56.0</td>\n",
              "      <td>1</td>\n",
              "      <td>106.0</td>\n",
              "    </tr>\n",
              "    <tr>\n",
              "      <th>1</th>\n",
              "      <td>100</td>\n",
              "      <td>200</td>\n",
              "      <td>300</td>\n",
              "      <td>400</td>\n",
              "      <td>500</td>\n",
              "      <td>600</td>\n",
              "      <td>800</td>\n",
              "      <td>880</td>\n",
              "      <td>78</td>\n",
              "      <td>NaN</td>\n",
              "      <td>2</td>\n",
              "      <td>NaN</td>\n",
              "    </tr>\n",
              "  </tbody>\n",
              "</table>\n",
              "</div>"
            ],
            "text/plain": [
              "     A    B    C    D    E    F    H    I   M     N  O      P\n",
              "0   10   20   30   40   50   60   80   86  56  56.0  1  106.0\n",
              "1  100  200  300  400  500  600  800  880  78   NaN  2    NaN"
            ]
          },
          "execution_count": 164,
          "metadata": {},
          "output_type": "execute_result"
        }
      ],
      "source": [
        "df [\"P\"] = df['E'] + df['N']\n",
        "df\n",
        "# 0 != Null, Void, NaN"
      ]
    },
    {
      "cell_type": "code",
      "execution_count": 165,
      "metadata": {
        "colab": {
          "base_uri": "https://localhost:8080/",
          "height": 112
        },
        "id": "lpkQC5X-DYmp",
        "outputId": "73a44575-84e4-4862-dca7-ecfab4f3768c"
      },
      "outputs": [
        {
          "data": {
            "text/html": [
              "<div>\n",
              "<style scoped>\n",
              "    .dataframe tbody tr th:only-of-type {\n",
              "        vertical-align: middle;\n",
              "    }\n",
              "\n",
              "    .dataframe tbody tr th {\n",
              "        vertical-align: top;\n",
              "    }\n",
              "\n",
              "    .dataframe thead th {\n",
              "        text-align: right;\n",
              "    }\n",
              "</style>\n",
              "<table border=\"1\" class=\"dataframe\">\n",
              "  <thead>\n",
              "    <tr style=\"text-align: right;\">\n",
              "      <th></th>\n",
              "      <th>A</th>\n",
              "      <th>B</th>\n",
              "      <th>C</th>\n",
              "      <th>D</th>\n",
              "      <th>E</th>\n",
              "      <th>F</th>\n",
              "      <th>H</th>\n",
              "      <th>I</th>\n",
              "      <th>M</th>\n",
              "      <th>N</th>\n",
              "      <th>O</th>\n",
              "      <th>P</th>\n",
              "    </tr>\n",
              "  </thead>\n",
              "  <tbody>\n",
              "    <tr>\n",
              "      <th>0</th>\n",
              "      <td>10</td>\n",
              "      <td>20</td>\n",
              "      <td>30</td>\n",
              "      <td>40</td>\n",
              "      <td>50</td>\n",
              "      <td>60</td>\n",
              "      <td>80</td>\n",
              "      <td>86</td>\n",
              "      <td>56</td>\n",
              "      <td>56.0</td>\n",
              "      <td>1</td>\n",
              "      <td>106.0</td>\n",
              "    </tr>\n",
              "    <tr>\n",
              "      <th>1</th>\n",
              "      <td>100</td>\n",
              "      <td>200</td>\n",
              "      <td>300</td>\n",
              "      <td>400</td>\n",
              "      <td>500</td>\n",
              "      <td>600</td>\n",
              "      <td>800</td>\n",
              "      <td>880</td>\n",
              "      <td>78</td>\n",
              "      <td>NaN</td>\n",
              "      <td>2</td>\n",
              "      <td>NaN</td>\n",
              "    </tr>\n",
              "  </tbody>\n",
              "</table>\n",
              "</div>"
            ],
            "text/plain": [
              "     A    B    C    D    E    F    H    I   M     N  O      P\n",
              "0   10   20   30   40   50   60   80   86  56  56.0  1  106.0\n",
              "1  100  200  300  400  500  600  800  880  78   NaN  2    NaN"
            ]
          },
          "execution_count": 165,
          "metadata": {},
          "output_type": "execute_result"
        }
      ],
      "source": [
        "df"
      ]
    },
    {
      "cell_type": "code",
      "execution_count": 166,
      "metadata": {
        "id": "Z_I9sCmaLLza"
      },
      "outputs": [],
      "source": [
        "df1 = [{\"A\":45,\"B\":98,\"P\":104}]"
      ]
    },
    {
      "cell_type": "code",
      "execution_count": 167,
      "metadata": {
        "colab": {
          "base_uri": "https://localhost:8080/",
          "height": 143
        },
        "id": "QX_WukAULUji",
        "outputId": "6c0bd928-74e4-439e-acf9-52cbe62a2a25"
      },
      "outputs": [
        {
          "name": "stderr",
          "output_type": "stream",
          "text": [
            "C:\\Users\\Shree\\AppData\\Local\\Temp\\ipykernel_14724\\1156893483.py:1: FutureWarning: The frame.append method is deprecated and will be removed from pandas in a future version. Use pandas.concat instead.\n",
            "  df = df.append(df1)\n"
          ]
        },
        {
          "data": {
            "text/html": [
              "<div>\n",
              "<style scoped>\n",
              "    .dataframe tbody tr th:only-of-type {\n",
              "        vertical-align: middle;\n",
              "    }\n",
              "\n",
              "    .dataframe tbody tr th {\n",
              "        vertical-align: top;\n",
              "    }\n",
              "\n",
              "    .dataframe thead th {\n",
              "        text-align: right;\n",
              "    }\n",
              "</style>\n",
              "<table border=\"1\" class=\"dataframe\">\n",
              "  <thead>\n",
              "    <tr style=\"text-align: right;\">\n",
              "      <th></th>\n",
              "      <th>A</th>\n",
              "      <th>B</th>\n",
              "      <th>C</th>\n",
              "      <th>D</th>\n",
              "      <th>E</th>\n",
              "      <th>F</th>\n",
              "      <th>H</th>\n",
              "      <th>I</th>\n",
              "      <th>M</th>\n",
              "      <th>N</th>\n",
              "      <th>O</th>\n",
              "      <th>P</th>\n",
              "    </tr>\n",
              "  </thead>\n",
              "  <tbody>\n",
              "    <tr>\n",
              "      <th>0</th>\n",
              "      <td>10</td>\n",
              "      <td>20</td>\n",
              "      <td>30.0</td>\n",
              "      <td>40.0</td>\n",
              "      <td>50.0</td>\n",
              "      <td>60.0</td>\n",
              "      <td>80.0</td>\n",
              "      <td>86.0</td>\n",
              "      <td>56.0</td>\n",
              "      <td>56.0</td>\n",
              "      <td>1.0</td>\n",
              "      <td>106.0</td>\n",
              "    </tr>\n",
              "    <tr>\n",
              "      <th>1</th>\n",
              "      <td>100</td>\n",
              "      <td>200</td>\n",
              "      <td>300.0</td>\n",
              "      <td>400.0</td>\n",
              "      <td>500.0</td>\n",
              "      <td>600.0</td>\n",
              "      <td>800.0</td>\n",
              "      <td>880.0</td>\n",
              "      <td>78.0</td>\n",
              "      <td>NaN</td>\n",
              "      <td>2.0</td>\n",
              "      <td>NaN</td>\n",
              "    </tr>\n",
              "    <tr>\n",
              "      <th>0</th>\n",
              "      <td>45</td>\n",
              "      <td>98</td>\n",
              "      <td>NaN</td>\n",
              "      <td>NaN</td>\n",
              "      <td>NaN</td>\n",
              "      <td>NaN</td>\n",
              "      <td>NaN</td>\n",
              "      <td>NaN</td>\n",
              "      <td>NaN</td>\n",
              "      <td>NaN</td>\n",
              "      <td>NaN</td>\n",
              "      <td>104.0</td>\n",
              "    </tr>\n",
              "  </tbody>\n",
              "</table>\n",
              "</div>"
            ],
            "text/plain": [
              "     A    B      C      D      E      F      H      I     M     N    O      P\n",
              "0   10   20   30.0   40.0   50.0   60.0   80.0   86.0  56.0  56.0  1.0  106.0\n",
              "1  100  200  300.0  400.0  500.0  600.0  800.0  880.0  78.0   NaN  2.0    NaN\n",
              "0   45   98    NaN    NaN    NaN    NaN    NaN    NaN   NaN   NaN  NaN  104.0"
            ]
          },
          "execution_count": 167,
          "metadata": {},
          "output_type": "execute_result"
        }
      ],
      "source": [
        "df = df.append(df1)\n",
        "df"
      ]
    },
    {
      "cell_type": "code",
      "execution_count": 168,
      "metadata": {
        "colab": {
          "base_uri": "https://localhost:8080/",
          "height": 81
        },
        "id": "cc7NH056Lah6",
        "outputId": "83449669-f361-472e-f42c-9f4b6f5d2d12"
      },
      "outputs": [
        {
          "data": {
            "text/html": [
              "<div>\n",
              "<style scoped>\n",
              "    .dataframe tbody tr th:only-of-type {\n",
              "        vertical-align: middle;\n",
              "    }\n",
              "\n",
              "    .dataframe tbody tr th {\n",
              "        vertical-align: top;\n",
              "    }\n",
              "\n",
              "    .dataframe thead th {\n",
              "        text-align: right;\n",
              "    }\n",
              "</style>\n",
              "<table border=\"1\" class=\"dataframe\">\n",
              "  <thead>\n",
              "    <tr style=\"text-align: right;\">\n",
              "      <th></th>\n",
              "      <th>A</th>\n",
              "      <th>B</th>\n",
              "      <th>P</th>\n",
              "    </tr>\n",
              "  </thead>\n",
              "  <tbody>\n",
              "    <tr>\n",
              "      <th>Hey</th>\n",
              "      <td>45</td>\n",
              "      <td>98</td>\n",
              "      <td>104</td>\n",
              "    </tr>\n",
              "  </tbody>\n",
              "</table>\n",
              "</div>"
            ],
            "text/plain": [
              "      A   B    P\n",
              "Hey  45  98  104"
            ]
          },
          "execution_count": 168,
          "metadata": {},
          "output_type": "execute_result"
        }
      ],
      "source": [
        "df = pd.DataFrame (df1, index = ['Hey'])\n",
        "df"
      ]
    },
    {
      "cell_type": "code",
      "execution_count": 169,
      "metadata": {
        "colab": {
          "base_uri": "https://localhost:8080/",
          "height": 81
        },
        "id": "1yrNlVU-MoLU",
        "outputId": "76c21ee1-cace-4495-9ed6-a66b59da4a3b"
      },
      "outputs": [
        {
          "data": {
            "text/html": [
              "<div>\n",
              "<style scoped>\n",
              "    .dataframe tbody tr th:only-of-type {\n",
              "        vertical-align: middle;\n",
              "    }\n",
              "\n",
              "    .dataframe tbody tr th {\n",
              "        vertical-align: top;\n",
              "    }\n",
              "\n",
              "    .dataframe thead th {\n",
              "        text-align: right;\n",
              "    }\n",
              "</style>\n",
              "<table border=\"1\" class=\"dataframe\">\n",
              "  <thead>\n",
              "    <tr style=\"text-align: right;\">\n",
              "      <th></th>\n",
              "      <th>A</th>\n",
              "      <th>B</th>\n",
              "      <th>P</th>\n",
              "    </tr>\n",
              "  </thead>\n",
              "  <tbody>\n",
              "    <tr>\n",
              "      <th>0</th>\n",
              "      <td>45</td>\n",
              "      <td>98</td>\n",
              "      <td>104</td>\n",
              "    </tr>\n",
              "  </tbody>\n",
              "</table>\n",
              "</div>"
            ],
            "text/plain": [
              "    A   B    P\n",
              "0  45  98  104"
            ]
          },
          "execution_count": 169,
          "metadata": {},
          "output_type": "execute_result"
        }
      ],
      "source": [
        "df = pd.DataFrame (df1)\n",
        "df"
      ]
    },
    {
      "cell_type": "code",
      "execution_count": 170,
      "metadata": {
        "colab": {
          "base_uri": "https://localhost:8080/",
          "height": 81
        },
        "id": "KiB2-1DBM3wz",
        "outputId": "b4aec057-fb85-4b41-e4e5-69350007c592"
      },
      "outputs": [
        {
          "data": {
            "text/html": [
              "<div>\n",
              "<style scoped>\n",
              "    .dataframe tbody tr th:only-of-type {\n",
              "        vertical-align: middle;\n",
              "    }\n",
              "\n",
              "    .dataframe tbody tr th {\n",
              "        vertical-align: top;\n",
              "    }\n",
              "\n",
              "    .dataframe thead th {\n",
              "        text-align: right;\n",
              "    }\n",
              "</style>\n",
              "<table border=\"1\" class=\"dataframe\">\n",
              "  <thead>\n",
              "    <tr style=\"text-align: right;\">\n",
              "      <th></th>\n",
              "      <th>A</th>\n",
              "      <th>B</th>\n",
              "      <th>P</th>\n",
              "      <th>Hello</th>\n",
              "    </tr>\n",
              "  </thead>\n",
              "  <tbody>\n",
              "    <tr>\n",
              "      <th>0</th>\n",
              "      <td>45</td>\n",
              "      <td>98</td>\n",
              "      <td>104</td>\n",
              "      <td>130</td>\n",
              "    </tr>\n",
              "  </tbody>\n",
              "</table>\n",
              "</div>"
            ],
            "text/plain": [
              "    A   B    P  Hello\n",
              "0  45  98  104    130"
            ]
          },
          "execution_count": 170,
          "metadata": {},
          "output_type": "execute_result"
        }
      ],
      "source": [
        "# Add a column = Hello, with value = 130\n",
        "df['Hello'] = 130\n",
        "df"
      ]
    },
    {
      "cell_type": "code",
      "execution_count": 171,
      "metadata": {
        "id": "MA-yChB3NxP6"
      },
      "outputs": [],
      "source": [
        "# create a new column in 2nd position 'bye'\n",
        "# df.insert(location, name_of_column, data)\n",
        "df.insert(2,'Bye',[100])"
      ]
    },
    {
      "cell_type": "code",
      "execution_count": 172,
      "metadata": {
        "colab": {
          "base_uri": "https://localhost:8080/",
          "height": 81
        },
        "id": "xgJYZ8YuOtWJ",
        "outputId": "fb23b3ee-1bc5-4250-e5ec-0cccd4a99f58"
      },
      "outputs": [
        {
          "data": {
            "text/html": [
              "<div>\n",
              "<style scoped>\n",
              "    .dataframe tbody tr th:only-of-type {\n",
              "        vertical-align: middle;\n",
              "    }\n",
              "\n",
              "    .dataframe tbody tr th {\n",
              "        vertical-align: top;\n",
              "    }\n",
              "\n",
              "    .dataframe thead th {\n",
              "        text-align: right;\n",
              "    }\n",
              "</style>\n",
              "<table border=\"1\" class=\"dataframe\">\n",
              "  <thead>\n",
              "    <tr style=\"text-align: right;\">\n",
              "      <th></th>\n",
              "      <th>A</th>\n",
              "      <th>B</th>\n",
              "      <th>Bye</th>\n",
              "      <th>P</th>\n",
              "      <th>Hello</th>\n",
              "    </tr>\n",
              "  </thead>\n",
              "  <tbody>\n",
              "    <tr>\n",
              "      <th>0</th>\n",
              "      <td>45</td>\n",
              "      <td>98</td>\n",
              "      <td>100</td>\n",
              "      <td>104</td>\n",
              "      <td>130</td>\n",
              "    </tr>\n",
              "  </tbody>\n",
              "</table>\n",
              "</div>"
            ],
            "text/plain": [
              "    A   B  Bye    P  Hello\n",
              "0  45  98  100  104    130"
            ]
          },
          "execution_count": 172,
          "metadata": {},
          "output_type": "execute_result"
        }
      ],
      "source": [
        "df"
      ]
    },
    {
      "cell_type": "code",
      "execution_count": 173,
      "metadata": {
        "id": "YC3izl4QPEmR"
      },
      "outputs": [],
      "source": [
        "df.insert(2,'Bank',200)"
      ]
    },
    {
      "cell_type": "code",
      "execution_count": 174,
      "metadata": {
        "colab": {
          "base_uri": "https://localhost:8080/",
          "height": 81
        },
        "id": "WPp6YNhWPNz6",
        "outputId": "c8dd99de-f7fc-4d7c-c82e-4d906a40daa6"
      },
      "outputs": [
        {
          "data": {
            "text/html": [
              "<div>\n",
              "<style scoped>\n",
              "    .dataframe tbody tr th:only-of-type {\n",
              "        vertical-align: middle;\n",
              "    }\n",
              "\n",
              "    .dataframe tbody tr th {\n",
              "        vertical-align: top;\n",
              "    }\n",
              "\n",
              "    .dataframe thead th {\n",
              "        text-align: right;\n",
              "    }\n",
              "</style>\n",
              "<table border=\"1\" class=\"dataframe\">\n",
              "  <thead>\n",
              "    <tr style=\"text-align: right;\">\n",
              "      <th></th>\n",
              "      <th>A</th>\n",
              "      <th>B</th>\n",
              "      <th>Bank</th>\n",
              "      <th>Bye</th>\n",
              "      <th>P</th>\n",
              "      <th>Hello</th>\n",
              "    </tr>\n",
              "  </thead>\n",
              "  <tbody>\n",
              "    <tr>\n",
              "      <th>0</th>\n",
              "      <td>45</td>\n",
              "      <td>98</td>\n",
              "      <td>200</td>\n",
              "      <td>100</td>\n",
              "      <td>104</td>\n",
              "      <td>130</td>\n",
              "    </tr>\n",
              "  </tbody>\n",
              "</table>\n",
              "</div>"
            ],
            "text/plain": [
              "    A   B  Bank  Bye    P  Hello\n",
              "0  45  98   200  100  104    130"
            ]
          },
          "execution_count": 174,
          "metadata": {},
          "output_type": "execute_result"
        }
      ],
      "source": [
        "df"
      ]
    },
    {
      "cell_type": "markdown",
      "metadata": {
        "id": "E2OO4OY_Ps6N"
      },
      "source": [
        "# Day 24"
      ]
    },
    {
      "cell_type": "code",
      "execution_count": 175,
      "metadata": {
        "id": "wv7Z6kv8PSbz"
      },
      "outputs": [],
      "source": [
        "import pandas as pd"
      ]
    },
    {
      "cell_type": "code",
      "execution_count": 181,
      "metadata": {
        "colab": {
          "base_uri": "https://localhost:8080/",
          "height": 175
        },
        "id": "14L3yiO5ouFJ",
        "outputId": "6353c0e2-4600-4886-d54f-851e5d60baa0"
      },
      "outputs": [
        {
          "data": {
            "text/html": [
              "<div>\n",
              "<style scoped>\n",
              "    .dataframe tbody tr th:only-of-type {\n",
              "        vertical-align: middle;\n",
              "    }\n",
              "\n",
              "    .dataframe tbody tr th {\n",
              "        vertical-align: top;\n",
              "    }\n",
              "\n",
              "    .dataframe thead th {\n",
              "        text-align: right;\n",
              "    }\n",
              "</style>\n",
              "<table border=\"1\" class=\"dataframe\">\n",
              "  <thead>\n",
              "    <tr style=\"text-align: right;\">\n",
              "      <th></th>\n",
              "      <th>Apples</th>\n",
              "      <th>Grapes</th>\n",
              "    </tr>\n",
              "  </thead>\n",
              "  <tbody>\n",
              "    <tr>\n",
              "      <th>A</th>\n",
              "      <td>102</td>\n",
              "      <td>50</td>\n",
              "    </tr>\n",
              "    <tr>\n",
              "      <th>B</th>\n",
              "      <td>500</td>\n",
              "      <td>150</td>\n",
              "    </tr>\n",
              "    <tr>\n",
              "      <th>C</th>\n",
              "      <td>250</td>\n",
              "      <td>90</td>\n",
              "    </tr>\n",
              "    <tr>\n",
              "      <th>D</th>\n",
              "      <td>75</td>\n",
              "      <td>45</td>\n",
              "    </tr>\n",
              "  </tbody>\n",
              "</table>\n",
              "</div>"
            ],
            "text/plain": [
              "   Apples  Grapes\n",
              "A     102      50\n",
              "B     500     150\n",
              "C     250      90\n",
              "D      75      45"
            ]
          },
          "execution_count": 181,
          "metadata": {},
          "output_type": "execute_result"
        }
      ],
      "source": [
        "data = {'Apples':[102, 500, 250, 75],\"Grapes\":[50, 150, 90, 45]}\n",
        "df = pd.DataFrame(data, index = ['A', 'B', 'C', 'D'])\n",
        "df"
      ]
    },
    {
      "cell_type": "code",
      "execution_count": 182,
      "metadata": {
        "colab": {
          "base_uri": "https://localhost:8080/",
          "height": 175
        },
        "id": "xj_rNANBpKta",
        "outputId": "6518b10d-e1f6-4317-91ff-b4d832df8218"
      },
      "outputs": [
        {
          "data": {
            "text/html": [
              "<div>\n",
              "<style scoped>\n",
              "    .dataframe tbody tr th:only-of-type {\n",
              "        vertical-align: middle;\n",
              "    }\n",
              "\n",
              "    .dataframe tbody tr th {\n",
              "        vertical-align: top;\n",
              "    }\n",
              "\n",
              "    .dataframe thead th {\n",
              "        text-align: right;\n",
              "    }\n",
              "</style>\n",
              "<table border=\"1\" class=\"dataframe\">\n",
              "  <thead>\n",
              "    <tr style=\"text-align: right;\">\n",
              "      <th></th>\n",
              "      <th>Grapes</th>\n",
              "    </tr>\n",
              "  </thead>\n",
              "  <tbody>\n",
              "    <tr>\n",
              "      <th>A</th>\n",
              "      <td>50</td>\n",
              "    </tr>\n",
              "    <tr>\n",
              "      <th>B</th>\n",
              "      <td>150</td>\n",
              "    </tr>\n",
              "    <tr>\n",
              "      <th>C</th>\n",
              "      <td>90</td>\n",
              "    </tr>\n",
              "    <tr>\n",
              "      <th>D</th>\n",
              "      <td>45</td>\n",
              "    </tr>\n",
              "  </tbody>\n",
              "</table>\n",
              "</div>"
            ],
            "text/plain": [
              "   Grapes\n",
              "A      50\n",
              "B     150\n",
              "C      90\n",
              "D      45"
            ]
          },
          "execution_count": 182,
          "metadata": {},
          "output_type": "execute_result"
        }
      ],
      "source": [
        "df[['Grapes']]"
      ]
    },
    {
      "cell_type": "code",
      "execution_count": 183,
      "metadata": {
        "colab": {
          "base_uri": "https://localhost:8080/",
          "height": 175
        },
        "id": "8LP-dLTwpu4y",
        "outputId": "41359bb1-9ba4-47a0-8529-7286ab6ef239"
      },
      "outputs": [
        {
          "data": {
            "text/html": [
              "<div>\n",
              "<style scoped>\n",
              "    .dataframe tbody tr th:only-of-type {\n",
              "        vertical-align: middle;\n",
              "    }\n",
              "\n",
              "    .dataframe tbody tr th {\n",
              "        vertical-align: top;\n",
              "    }\n",
              "\n",
              "    .dataframe thead th {\n",
              "        text-align: right;\n",
              "    }\n",
              "</style>\n",
              "<table border=\"1\" class=\"dataframe\">\n",
              "  <thead>\n",
              "    <tr style=\"text-align: right;\">\n",
              "      <th></th>\n",
              "      <th>Apples</th>\n",
              "      <th>Grapes</th>\n",
              "      <th>Bananas</th>\n",
              "    </tr>\n",
              "  </thead>\n",
              "  <tbody>\n",
              "    <tr>\n",
              "      <th>A</th>\n",
              "      <td>102</td>\n",
              "      <td>50</td>\n",
              "      <td>100</td>\n",
              "    </tr>\n",
              "    <tr>\n",
              "      <th>B</th>\n",
              "      <td>500</td>\n",
              "      <td>150</td>\n",
              "      <td>200</td>\n",
              "    </tr>\n",
              "    <tr>\n",
              "      <th>C</th>\n",
              "      <td>250</td>\n",
              "      <td>90</td>\n",
              "      <td>140</td>\n",
              "    </tr>\n",
              "    <tr>\n",
              "      <th>D</th>\n",
              "      <td>75</td>\n",
              "      <td>45</td>\n",
              "      <td>95</td>\n",
              "    </tr>\n",
              "  </tbody>\n",
              "</table>\n",
              "</div>"
            ],
            "text/plain": [
              "   Apples  Grapes  Bananas\n",
              "A     102      50      100\n",
              "B     500     150      200\n",
              "C     250      90      140\n",
              "D      75      45       95"
            ]
          },
          "execution_count": 183,
          "metadata": {},
          "output_type": "execute_result"
        }
      ],
      "source": [
        "df [\"Bananas\"] = df[\"Grapes\"] + 50\n",
        "df"
      ]
    },
    {
      "cell_type": "markdown",
      "metadata": {
        "id": "0TzYEv5Pqjwr"
      },
      "source": [
        "- As drop function is not a parmenent delete so to make it permenent delet we can use ( inplace = True ) function."
      ]
    },
    {
      "cell_type": "code",
      "execution_count": 179,
      "metadata": {
        "colab": {
          "base_uri": "https://localhost:8080/",
          "height": 175
        },
        "id": "nGwoUdBRqM8J",
        "outputId": "5bca799c-9f0d-4d45-d6fe-3700198c0edd"
      },
      "outputs": [
        {
          "data": {
            "text/html": [
              "<div>\n",
              "<style scoped>\n",
              "    .dataframe tbody tr th:only-of-type {\n",
              "        vertical-align: middle;\n",
              "    }\n",
              "\n",
              "    .dataframe tbody tr th {\n",
              "        vertical-align: top;\n",
              "    }\n",
              "\n",
              "    .dataframe thead th {\n",
              "        text-align: right;\n",
              "    }\n",
              "</style>\n",
              "<table border=\"1\" class=\"dataframe\">\n",
              "  <thead>\n",
              "    <tr style=\"text-align: right;\">\n",
              "      <th></th>\n",
              "      <th>Apples</th>\n",
              "      <th>Grapes</th>\n",
              "    </tr>\n",
              "  </thead>\n",
              "  <tbody>\n",
              "    <tr>\n",
              "      <th>A</th>\n",
              "      <td>102</td>\n",
              "      <td>50</td>\n",
              "    </tr>\n",
              "    <tr>\n",
              "      <th>B</th>\n",
              "      <td>500</td>\n",
              "      <td>150</td>\n",
              "    </tr>\n",
              "    <tr>\n",
              "      <th>C</th>\n",
              "      <td>250</td>\n",
              "      <td>90</td>\n",
              "    </tr>\n",
              "    <tr>\n",
              "      <th>D</th>\n",
              "      <td>75</td>\n",
              "      <td>45</td>\n",
              "    </tr>\n",
              "  </tbody>\n",
              "</table>\n",
              "</div>"
            ],
            "text/plain": [
              "   Apples  Grapes\n",
              "A     102      50\n",
              "B     500     150\n",
              "C     250      90\n",
              "D      75      45"
            ]
          },
          "execution_count": 179,
          "metadata": {},
          "output_type": "execute_result"
        }
      ],
      "source": [
        "df.drop(['Bananas'],axis = 1,inplace = True)\n",
        "# Inplace will do the changes in the original dataset.\n",
        "df"
      ]
    },
    {
      "cell_type": "markdown",
      "metadata": {
        "id": "DQuaJ_2PrIlH"
      },
      "source": [
        "## Row - CRUD"
      ]
    },
    {
      "cell_type": "code",
      "execution_count": 184,
      "metadata": {
        "id": "g-n1nXxcqavY"
      },
      "outputs": [],
      "source": [
        "df['Pear'] = df ['Bananas'] + 100\n",
        "df['Mangoes'] = df ['Pear'] + 500\n",
        "df['Jackfruit'] = df ['Grapes'] + 150\n",
        "df['Strawberry'] = df ['Jackfruit'] + 200\n",
        "df['Oranges'] = df ['Strawberry'] + 70"
      ]
    },
    {
      "cell_type": "code",
      "execution_count": 185,
      "metadata": {
        "colab": {
          "base_uri": "https://localhost:8080/",
          "height": 175
        },
        "id": "JfdqZ24GsC0q",
        "outputId": "44090aae-24c3-42ca-ed46-8bf778129e09"
      },
      "outputs": [
        {
          "data": {
            "text/html": [
              "<div>\n",
              "<style scoped>\n",
              "    .dataframe tbody tr th:only-of-type {\n",
              "        vertical-align: middle;\n",
              "    }\n",
              "\n",
              "    .dataframe tbody tr th {\n",
              "        vertical-align: top;\n",
              "    }\n",
              "\n",
              "    .dataframe thead th {\n",
              "        text-align: right;\n",
              "    }\n",
              "</style>\n",
              "<table border=\"1\" class=\"dataframe\">\n",
              "  <thead>\n",
              "    <tr style=\"text-align: right;\">\n",
              "      <th></th>\n",
              "      <th>Apples</th>\n",
              "      <th>Grapes</th>\n",
              "      <th>Bananas</th>\n",
              "      <th>Pear</th>\n",
              "      <th>Mangoes</th>\n",
              "      <th>Jackfruit</th>\n",
              "      <th>Strawberry</th>\n",
              "      <th>Oranges</th>\n",
              "    </tr>\n",
              "  </thead>\n",
              "  <tbody>\n",
              "    <tr>\n",
              "      <th>A</th>\n",
              "      <td>102</td>\n",
              "      <td>50</td>\n",
              "      <td>100</td>\n",
              "      <td>200</td>\n",
              "      <td>700</td>\n",
              "      <td>200</td>\n",
              "      <td>400</td>\n",
              "      <td>470</td>\n",
              "    </tr>\n",
              "    <tr>\n",
              "      <th>B</th>\n",
              "      <td>500</td>\n",
              "      <td>150</td>\n",
              "      <td>200</td>\n",
              "      <td>300</td>\n",
              "      <td>800</td>\n",
              "      <td>300</td>\n",
              "      <td>500</td>\n",
              "      <td>570</td>\n",
              "    </tr>\n",
              "    <tr>\n",
              "      <th>C</th>\n",
              "      <td>250</td>\n",
              "      <td>90</td>\n",
              "      <td>140</td>\n",
              "      <td>240</td>\n",
              "      <td>740</td>\n",
              "      <td>240</td>\n",
              "      <td>440</td>\n",
              "      <td>510</td>\n",
              "    </tr>\n",
              "    <tr>\n",
              "      <th>D</th>\n",
              "      <td>75</td>\n",
              "      <td>45</td>\n",
              "      <td>95</td>\n",
              "      <td>195</td>\n",
              "      <td>695</td>\n",
              "      <td>195</td>\n",
              "      <td>395</td>\n",
              "      <td>465</td>\n",
              "    </tr>\n",
              "  </tbody>\n",
              "</table>\n",
              "</div>"
            ],
            "text/plain": [
              "   Apples  Grapes  Bananas  Pear  Mangoes  Jackfruit  Strawberry  Oranges\n",
              "A     102      50      100   200      700        200         400      470\n",
              "B     500     150      200   300      800        300         500      570\n",
              "C     250      90      140   240      740        240         440      510\n",
              "D      75      45       95   195      695        195         395      465"
            ]
          },
          "execution_count": 185,
          "metadata": {},
          "output_type": "execute_result"
        }
      ],
      "source": [
        "df"
      ]
    },
    {
      "cell_type": "markdown",
      "metadata": {
        "id": "Lqrg8DqusSOx"
      },
      "source": [
        "### Row Selection\n",
        "- loc & iloc"
      ]
    },
    {
      "cell_type": "code",
      "execution_count": 186,
      "metadata": {
        "colab": {
          "base_uri": "https://localhost:8080/",
          "height": 81
        },
        "id": "D9MiqTGVsD0Z",
        "outputId": "a73a471f-70d1-4a97-b318-6c5de713b438"
      },
      "outputs": [
        {
          "data": {
            "text/html": [
              "<div>\n",
              "<style scoped>\n",
              "    .dataframe tbody tr th:only-of-type {\n",
              "        vertical-align: middle;\n",
              "    }\n",
              "\n",
              "    .dataframe tbody tr th {\n",
              "        vertical-align: top;\n",
              "    }\n",
              "\n",
              "    .dataframe thead th {\n",
              "        text-align: right;\n",
              "    }\n",
              "</style>\n",
              "<table border=\"1\" class=\"dataframe\">\n",
              "  <thead>\n",
              "    <tr style=\"text-align: right;\">\n",
              "      <th></th>\n",
              "      <th>Apples</th>\n",
              "      <th>Grapes</th>\n",
              "      <th>Bananas</th>\n",
              "      <th>Pear</th>\n",
              "      <th>Mangoes</th>\n",
              "      <th>Jackfruit</th>\n",
              "      <th>Strawberry</th>\n",
              "      <th>Oranges</th>\n",
              "    </tr>\n",
              "  </thead>\n",
              "  <tbody>\n",
              "    <tr>\n",
              "      <th>D</th>\n",
              "      <td>75</td>\n",
              "      <td>45</td>\n",
              "      <td>95</td>\n",
              "      <td>195</td>\n",
              "      <td>695</td>\n",
              "      <td>195</td>\n",
              "      <td>395</td>\n",
              "      <td>465</td>\n",
              "    </tr>\n",
              "  </tbody>\n",
              "</table>\n",
              "</div>"
            ],
            "text/plain": [
              "   Apples  Grapes  Bananas  Pear  Mangoes  Jackfruit  Strawberry  Oranges\n",
              "D      75      45       95   195      695        195         395      465"
            ]
          },
          "execution_count": 186,
          "metadata": {},
          "output_type": "execute_result"
        }
      ],
      "source": [
        "# If i want to select row3\n",
        "# loc --> works with the index name\n",
        "df.loc[['D']]"
      ]
    },
    {
      "cell_type": "code",
      "execution_count": 187,
      "metadata": {
        "colab": {
          "base_uri": "https://localhost:8080/",
          "height": 175
        },
        "id": "XmXcG6StuEpr",
        "outputId": "58e558f2-b1cc-436d-fb39-81b85acdd544"
      },
      "outputs": [
        {
          "data": {
            "text/html": [
              "<div>\n",
              "<style scoped>\n",
              "    .dataframe tbody tr th:only-of-type {\n",
              "        vertical-align: middle;\n",
              "    }\n",
              "\n",
              "    .dataframe tbody tr th {\n",
              "        vertical-align: top;\n",
              "    }\n",
              "\n",
              "    .dataframe thead th {\n",
              "        text-align: right;\n",
              "    }\n",
              "</style>\n",
              "<table border=\"1\" class=\"dataframe\">\n",
              "  <thead>\n",
              "    <tr style=\"text-align: right;\">\n",
              "      <th></th>\n",
              "      <th>Apples</th>\n",
              "      <th>Grapes</th>\n",
              "      <th>Bananas</th>\n",
              "      <th>Pear</th>\n",
              "      <th>Mangoes</th>\n",
              "      <th>Jackfruit</th>\n",
              "      <th>Strawberry</th>\n",
              "      <th>Oranges</th>\n",
              "    </tr>\n",
              "  </thead>\n",
              "  <tbody>\n",
              "    <tr>\n",
              "      <th>A</th>\n",
              "      <td>102</td>\n",
              "      <td>50</td>\n",
              "      <td>100</td>\n",
              "      <td>200</td>\n",
              "      <td>700</td>\n",
              "      <td>200</td>\n",
              "      <td>400</td>\n",
              "      <td>470</td>\n",
              "    </tr>\n",
              "    <tr>\n",
              "      <th>B</th>\n",
              "      <td>500</td>\n",
              "      <td>150</td>\n",
              "      <td>200</td>\n",
              "      <td>300</td>\n",
              "      <td>800</td>\n",
              "      <td>300</td>\n",
              "      <td>500</td>\n",
              "      <td>570</td>\n",
              "    </tr>\n",
              "    <tr>\n",
              "      <th>C</th>\n",
              "      <td>250</td>\n",
              "      <td>90</td>\n",
              "      <td>140</td>\n",
              "      <td>240</td>\n",
              "      <td>740</td>\n",
              "      <td>240</td>\n",
              "      <td>440</td>\n",
              "      <td>510</td>\n",
              "    </tr>\n",
              "    <tr>\n",
              "      <th>D</th>\n",
              "      <td>75</td>\n",
              "      <td>45</td>\n",
              "      <td>95</td>\n",
              "      <td>195</td>\n",
              "      <td>695</td>\n",
              "      <td>195</td>\n",
              "      <td>395</td>\n",
              "      <td>465</td>\n",
              "    </tr>\n",
              "  </tbody>\n",
              "</table>\n",
              "</div>"
            ],
            "text/plain": [
              "   Apples  Grapes  Bananas  Pear  Mangoes  Jackfruit  Strawberry  Oranges\n",
              "A     102      50      100   200      700        200         400      470\n",
              "B     500     150      200   300      800        300         500      570\n",
              "C     250      90      140   240      740        240         440      510\n",
              "D      75      45       95   195      695        195         395      465"
            ]
          },
          "execution_count": 187,
          "metadata": {},
          "output_type": "execute_result"
        }
      ],
      "source": [
        "# In the lock it will include the starting and the ending point.\n",
        "df.loc['A':'D']"
      ]
    },
    {
      "cell_type": "code",
      "execution_count": 188,
      "metadata": {
        "colab": {
          "base_uri": "https://localhost:8080/",
          "height": 81
        },
        "id": "_q3zVk5LsODy",
        "outputId": "4c2b345e-9d03-4f18-a00e-c314f050aa38"
      },
      "outputs": [
        {
          "data": {
            "text/html": [
              "<div>\n",
              "<style scoped>\n",
              "    .dataframe tbody tr th:only-of-type {\n",
              "        vertical-align: middle;\n",
              "    }\n",
              "\n",
              "    .dataframe tbody tr th {\n",
              "        vertical-align: top;\n",
              "    }\n",
              "\n",
              "    .dataframe thead th {\n",
              "        text-align: right;\n",
              "    }\n",
              "</style>\n",
              "<table border=\"1\" class=\"dataframe\">\n",
              "  <thead>\n",
              "    <tr style=\"text-align: right;\">\n",
              "      <th></th>\n",
              "      <th>Apples</th>\n",
              "      <th>Grapes</th>\n",
              "      <th>Bananas</th>\n",
              "      <th>Pear</th>\n",
              "      <th>Mangoes</th>\n",
              "      <th>Jackfruit</th>\n",
              "      <th>Strawberry</th>\n",
              "      <th>Oranges</th>\n",
              "    </tr>\n",
              "  </thead>\n",
              "  <tbody>\n",
              "    <tr>\n",
              "      <th>D</th>\n",
              "      <td>75</td>\n",
              "      <td>45</td>\n",
              "      <td>95</td>\n",
              "      <td>195</td>\n",
              "      <td>695</td>\n",
              "      <td>195</td>\n",
              "      <td>395</td>\n",
              "      <td>465</td>\n",
              "    </tr>\n",
              "  </tbody>\n",
              "</table>\n",
              "</div>"
            ],
            "text/plain": [
              "   Apples  Grapes  Bananas  Pear  Mangoes  Jackfruit  Strawberry  Oranges\n",
              "D      75      45       95   195      695        195         395      465"
            ]
          },
          "execution_count": 188,
          "metadata": {},
          "output_type": "execute_result"
        }
      ],
      "source": [
        "# iloc --> it will take the index.\n",
        "df.iloc[[-1]]"
      ]
    },
    {
      "cell_type": "code",
      "execution_count": 189,
      "metadata": {
        "colab": {
          "base_uri": "https://localhost:8080/",
          "height": 81
        },
        "id": "E4_UAx6_sm-D",
        "outputId": "8f0137c6-ed61-4e9e-d65f-7a4f1598feaf"
      },
      "outputs": [
        {
          "data": {
            "text/html": [
              "<div>\n",
              "<style scoped>\n",
              "    .dataframe tbody tr th:only-of-type {\n",
              "        vertical-align: middle;\n",
              "    }\n",
              "\n",
              "    .dataframe tbody tr th {\n",
              "        vertical-align: top;\n",
              "    }\n",
              "\n",
              "    .dataframe thead th {\n",
              "        text-align: right;\n",
              "    }\n",
              "</style>\n",
              "<table border=\"1\" class=\"dataframe\">\n",
              "  <thead>\n",
              "    <tr style=\"text-align: right;\">\n",
              "      <th></th>\n",
              "      <th>Apples</th>\n",
              "      <th>Grapes</th>\n",
              "      <th>Bananas</th>\n",
              "      <th>Pear</th>\n",
              "      <th>Mangoes</th>\n",
              "      <th>Jackfruit</th>\n",
              "      <th>Strawberry</th>\n",
              "      <th>Oranges</th>\n",
              "    </tr>\n",
              "  </thead>\n",
              "  <tbody>\n",
              "    <tr>\n",
              "      <th>C</th>\n",
              "      <td>250</td>\n",
              "      <td>90</td>\n",
              "      <td>140</td>\n",
              "      <td>240</td>\n",
              "      <td>740</td>\n",
              "      <td>240</td>\n",
              "      <td>440</td>\n",
              "      <td>510</td>\n",
              "    </tr>\n",
              "  </tbody>\n",
              "</table>\n",
              "</div>"
            ],
            "text/plain": [
              "   Apples  Grapes  Bananas  Pear  Mangoes  Jackfruit  Strawberry  Oranges\n",
              "C     250      90      140   240      740        240         440      510"
            ]
          },
          "execution_count": 189,
          "metadata": {},
          "output_type": "execute_result"
        }
      ],
      "source": [
        "df.iloc[2:3]"
      ]
    },
    {
      "cell_type": "markdown",
      "metadata": {
        "id": "wCjw-pNXvCac"
      },
      "source": [
        "### Row Addition"
      ]
    },
    {
      "cell_type": "code",
      "execution_count": 190,
      "metadata": {
        "colab": {
          "base_uri": "https://localhost:8080/",
          "height": 206
        },
        "id": "GyajSUG2twHr",
        "outputId": "5f997381-8b29-47b7-96b5-83fa51a35d9d"
      },
      "outputs": [
        {
          "data": {
            "text/html": [
              "<div>\n",
              "<style scoped>\n",
              "    .dataframe tbody tr th:only-of-type {\n",
              "        vertical-align: middle;\n",
              "    }\n",
              "\n",
              "    .dataframe tbody tr th {\n",
              "        vertical-align: top;\n",
              "    }\n",
              "\n",
              "    .dataframe thead th {\n",
              "        text-align: right;\n",
              "    }\n",
              "</style>\n",
              "<table border=\"1\" class=\"dataframe\">\n",
              "  <thead>\n",
              "    <tr style=\"text-align: right;\">\n",
              "      <th></th>\n",
              "      <th>Name</th>\n",
              "      <th>OS</th>\n",
              "      <th>DBMS</th>\n",
              "    </tr>\n",
              "  </thead>\n",
              "  <tbody>\n",
              "    <tr>\n",
              "      <th>0</th>\n",
              "      <td>Rahul</td>\n",
              "      <td>25.0</td>\n",
              "      <td>20</td>\n",
              "    </tr>\n",
              "    <tr>\n",
              "      <th>1</th>\n",
              "      <td>Rohit</td>\n",
              "      <td>75.5</td>\n",
              "      <td>80</td>\n",
              "    </tr>\n",
              "    <tr>\n",
              "      <th>2</th>\n",
              "      <td>Venkat</td>\n",
              "      <td>96.0</td>\n",
              "      <td>60</td>\n",
              "    </tr>\n",
              "    <tr>\n",
              "      <th>3</th>\n",
              "      <td>Sahil</td>\n",
              "      <td>0.0</td>\n",
              "      <td>50</td>\n",
              "    </tr>\n",
              "    <tr>\n",
              "      <th>4</th>\n",
              "      <td>Ankita</td>\n",
              "      <td>100.0</td>\n",
              "      <td>99</td>\n",
              "    </tr>\n",
              "  </tbody>\n",
              "</table>\n",
              "</div>"
            ],
            "text/plain": [
              "     Name     OS  DBMS\n",
              "0   Rahul   25.0    20\n",
              "1   Rohit   75.5    80\n",
              "2  Venkat   96.0    60\n",
              "3   Sahil    0.0    50\n",
              "4  Ankita  100.0    99"
            ]
          },
          "execution_count": 190,
          "metadata": {},
          "output_type": "execute_result"
        }
      ],
      "source": [
        "Student_marks = {'Name': [\"Rahul\", 'Rohit', \"Venkat\",'Sahil','Ankita'],\n",
        "                 'OS': [25, 75.5,96,0,100],\n",
        "                 \"DBMS\": [20,80,60,50,99]}\n",
        "        \n",
        "df1 = pd.DataFrame(Student_marks)\n",
        "df1"
      ]
    },
    {
      "cell_type": "markdown",
      "metadata": {
        "id": "Ah6sjaKww_bT"
      },
      "source": [
        "#### 1.append"
      ]
    },
    {
      "cell_type": "code",
      "execution_count": 191,
      "metadata": {
        "id": "9hw9Ngstvk7r"
      },
      "outputs": [],
      "source": [
        "data2 = {\"Name\":'Robby', \"OS\": 60.5, \"DBMS\": 55.5}"
      ]
    },
    {
      "cell_type": "code",
      "execution_count": 192,
      "metadata": {
        "colab": {
          "base_uri": "https://localhost:8080/",
          "height": 269
        },
        "id": "v7pwF-tuwIFT",
        "outputId": "018a7812-9785-4f46-8b6d-bb1a8c0c921c"
      },
      "outputs": [
        {
          "name": "stderr",
          "output_type": "stream",
          "text": [
            "C:\\Users\\Shree\\AppData\\Local\\Temp\\ipykernel_14724\\681358049.py:2: FutureWarning: The frame.append method is deprecated and will be removed from pandas in a future version. Use pandas.concat instead.\n",
            "  df1 = df1.append(data2,ignore_index = True)\n"
          ]
        },
        {
          "data": {
            "text/html": [
              "<div>\n",
              "<style scoped>\n",
              "    .dataframe tbody tr th:only-of-type {\n",
              "        vertical-align: middle;\n",
              "    }\n",
              "\n",
              "    .dataframe tbody tr th {\n",
              "        vertical-align: top;\n",
              "    }\n",
              "\n",
              "    .dataframe thead th {\n",
              "        text-align: right;\n",
              "    }\n",
              "</style>\n",
              "<table border=\"1\" class=\"dataframe\">\n",
              "  <thead>\n",
              "    <tr style=\"text-align: right;\">\n",
              "      <th></th>\n",
              "      <th>Name</th>\n",
              "      <th>OS</th>\n",
              "      <th>DBMS</th>\n",
              "    </tr>\n",
              "  </thead>\n",
              "  <tbody>\n",
              "    <tr>\n",
              "      <th>0</th>\n",
              "      <td>Rahul</td>\n",
              "      <td>25.0</td>\n",
              "      <td>20.0</td>\n",
              "    </tr>\n",
              "    <tr>\n",
              "      <th>1</th>\n",
              "      <td>Rohit</td>\n",
              "      <td>75.5</td>\n",
              "      <td>80.0</td>\n",
              "    </tr>\n",
              "    <tr>\n",
              "      <th>2</th>\n",
              "      <td>Venkat</td>\n",
              "      <td>96.0</td>\n",
              "      <td>60.0</td>\n",
              "    </tr>\n",
              "    <tr>\n",
              "      <th>3</th>\n",
              "      <td>Sahil</td>\n",
              "      <td>0.0</td>\n",
              "      <td>50.0</td>\n",
              "    </tr>\n",
              "    <tr>\n",
              "      <th>4</th>\n",
              "      <td>Ankita</td>\n",
              "      <td>100.0</td>\n",
              "      <td>99.0</td>\n",
              "    </tr>\n",
              "    <tr>\n",
              "      <th>5</th>\n",
              "      <td>Robby</td>\n",
              "      <td>60.5</td>\n",
              "      <td>55.5</td>\n",
              "    </tr>\n",
              "  </tbody>\n",
              "</table>\n",
              "</div>"
            ],
            "text/plain": [
              "     Name     OS  DBMS\n",
              "0   Rahul   25.0  20.0\n",
              "1   Rohit   75.5  80.0\n",
              "2  Venkat   96.0  60.0\n",
              "3   Sahil    0.0  50.0\n",
              "4  Ankita  100.0  99.0\n",
              "5   Robby   60.5  55.5"
            ]
          },
          "execution_count": 192,
          "metadata": {},
          "output_type": "execute_result"
        }
      ],
      "source": [
        "# 2st method fro row addition\n",
        "df1 = df1.append(data2,ignore_index = True)\n",
        "df1"
      ]
    },
    {
      "cell_type": "markdown",
      "metadata": {
        "id": "vW5SN5OsxF_p"
      },
      "source": [
        "#### 2.Concat"
      ]
    },
    {
      "cell_type": "code",
      "execution_count": 193,
      "metadata": {
        "colab": {
          "base_uri": "https://localhost:8080/",
          "height": 81
        },
        "id": "jwqVFQJvwUFT",
        "outputId": "b9559156-2a56-4200-c00d-0a48f55c3c64"
      },
      "outputs": [
        {
          "data": {
            "text/html": [
              "<div>\n",
              "<style scoped>\n",
              "    .dataframe tbody tr th:only-of-type {\n",
              "        vertical-align: middle;\n",
              "    }\n",
              "\n",
              "    .dataframe tbody tr th {\n",
              "        vertical-align: top;\n",
              "    }\n",
              "\n",
              "    .dataframe thead th {\n",
              "        text-align: right;\n",
              "    }\n",
              "</style>\n",
              "<table border=\"1\" class=\"dataframe\">\n",
              "  <thead>\n",
              "    <tr style=\"text-align: right;\">\n",
              "      <th></th>\n",
              "      <th>Name</th>\n",
              "      <th>OS</th>\n",
              "      <th>DBMS</th>\n",
              "    </tr>\n",
              "  </thead>\n",
              "  <tbody>\n",
              "    <tr>\n",
              "      <th>0</th>\n",
              "      <td>Venom</td>\n",
              "      <td>80.5</td>\n",
              "      <td>75</td>\n",
              "    </tr>\n",
              "  </tbody>\n",
              "</table>\n",
              "</div>"
            ],
            "text/plain": [
              "    Name    OS  DBMS\n",
              "0  Venom  80.5    75"
            ]
          },
          "execution_count": 193,
          "metadata": {},
          "output_type": "execute_result"
        }
      ],
      "source": [
        "# 2nd method for row addition\n",
        "data3 = {\"Name\":'Venom', \"OS\": 80.5, \"DBMS\": 75}\n",
        "\n",
        "df3 = pd.DataFrame(data3, index = [0])\n",
        "df3"
      ]
    },
    {
      "cell_type": "code",
      "execution_count": 194,
      "metadata": {
        "colab": {
          "base_uri": "https://localhost:8080/",
          "height": 300
        },
        "id": "X2eg6m-Nxvq8",
        "outputId": "e8b752bf-a5d0-4bd5-c33f-c1c86f85f656"
      },
      "outputs": [
        {
          "data": {
            "text/html": [
              "<div>\n",
              "<style scoped>\n",
              "    .dataframe tbody tr th:only-of-type {\n",
              "        vertical-align: middle;\n",
              "    }\n",
              "\n",
              "    .dataframe tbody tr th {\n",
              "        vertical-align: top;\n",
              "    }\n",
              "\n",
              "    .dataframe thead th {\n",
              "        text-align: right;\n",
              "    }\n",
              "</style>\n",
              "<table border=\"1\" class=\"dataframe\">\n",
              "  <thead>\n",
              "    <tr style=\"text-align: right;\">\n",
              "      <th></th>\n",
              "      <th>Name</th>\n",
              "      <th>OS</th>\n",
              "      <th>DBMS</th>\n",
              "    </tr>\n",
              "  </thead>\n",
              "  <tbody>\n",
              "    <tr>\n",
              "      <th>0</th>\n",
              "      <td>Venom</td>\n",
              "      <td>80.5</td>\n",
              "      <td>75.0</td>\n",
              "    </tr>\n",
              "    <tr>\n",
              "      <th>1</th>\n",
              "      <td>Rahul</td>\n",
              "      <td>25.0</td>\n",
              "      <td>20.0</td>\n",
              "    </tr>\n",
              "    <tr>\n",
              "      <th>2</th>\n",
              "      <td>Rohit</td>\n",
              "      <td>75.5</td>\n",
              "      <td>80.0</td>\n",
              "    </tr>\n",
              "    <tr>\n",
              "      <th>3</th>\n",
              "      <td>Venkat</td>\n",
              "      <td>96.0</td>\n",
              "      <td>60.0</td>\n",
              "    </tr>\n",
              "    <tr>\n",
              "      <th>4</th>\n",
              "      <td>Sahil</td>\n",
              "      <td>0.0</td>\n",
              "      <td>50.0</td>\n",
              "    </tr>\n",
              "    <tr>\n",
              "      <th>5</th>\n",
              "      <td>Ankita</td>\n",
              "      <td>100.0</td>\n",
              "      <td>99.0</td>\n",
              "    </tr>\n",
              "    <tr>\n",
              "      <th>6</th>\n",
              "      <td>Robby</td>\n",
              "      <td>60.5</td>\n",
              "      <td>55.5</td>\n",
              "    </tr>\n",
              "  </tbody>\n",
              "</table>\n",
              "</div>"
            ],
            "text/plain": [
              "     Name     OS  DBMS\n",
              "0   Venom   80.5  75.0\n",
              "1   Rahul   25.0  20.0\n",
              "2   Rohit   75.5  80.0\n",
              "3  Venkat   96.0  60.0\n",
              "4   Sahil    0.0  50.0\n",
              "5  Ankita  100.0  99.0\n",
              "6   Robby   60.5  55.5"
            ]
          },
          "execution_count": 194,
          "metadata": {},
          "output_type": "execute_result"
        }
      ],
      "source": [
        "df1 = pd.concat([df3,df1], ignore_index = True)\n",
        "df1"
      ]
    },
    {
      "cell_type": "code",
      "execution_count": 195,
      "metadata": {
        "colab": {
          "base_uri": "https://localhost:8080/",
          "height": 81
        },
        "id": "iekINDH4yp4x",
        "outputId": "a9b97492-db2d-464b-9027-6cc81723a685"
      },
      "outputs": [
        {
          "data": {
            "text/html": [
              "<div>\n",
              "<style scoped>\n",
              "    .dataframe tbody tr th:only-of-type {\n",
              "        vertical-align: middle;\n",
              "    }\n",
              "\n",
              "    .dataframe tbody tr th {\n",
              "        vertical-align: top;\n",
              "    }\n",
              "\n",
              "    .dataframe thead th {\n",
              "        text-align: right;\n",
              "    }\n",
              "</style>\n",
              "<table border=\"1\" class=\"dataframe\">\n",
              "  <thead>\n",
              "    <tr style=\"text-align: right;\">\n",
              "      <th></th>\n",
              "      <th>Name</th>\n",
              "      <th>OS</th>\n",
              "      <th>DBMS</th>\n",
              "    </tr>\n",
              "  </thead>\n",
              "  <tbody>\n",
              "    <tr>\n",
              "      <th>0</th>\n",
              "      <td>Venom</td>\n",
              "      <td>80.5</td>\n",
              "      <td>75.0</td>\n",
              "    </tr>\n",
              "  </tbody>\n",
              "</table>\n",
              "</div>"
            ],
            "text/plain": [
              "    Name    OS  DBMS\n",
              "0  Venom  80.5  75.0"
            ]
          },
          "execution_count": 195,
          "metadata": {},
          "output_type": "execute_result"
        }
      ],
      "source": [
        "df1.iloc[[0]]"
      ]
    },
    {
      "cell_type": "code",
      "execution_count": 196,
      "metadata": {
        "colab": {
          "base_uri": "https://localhost:8080/",
          "height": 81
        },
        "id": "y1kkEmYC0z3E",
        "outputId": "8bea818b-9ebd-4a18-83bd-12d5b8584362"
      },
      "outputs": [
        {
          "data": {
            "text/html": [
              "<div>\n",
              "<style scoped>\n",
              "    .dataframe tbody tr th:only-of-type {\n",
              "        vertical-align: middle;\n",
              "    }\n",
              "\n",
              "    .dataframe tbody tr th {\n",
              "        vertical-align: top;\n",
              "    }\n",
              "\n",
              "    .dataframe thead th {\n",
              "        text-align: right;\n",
              "    }\n",
              "</style>\n",
              "<table border=\"1\" class=\"dataframe\">\n",
              "  <thead>\n",
              "    <tr style=\"text-align: right;\">\n",
              "      <th></th>\n",
              "      <th>Name</th>\n",
              "      <th>OS</th>\n",
              "      <th>DBMS</th>\n",
              "    </tr>\n",
              "  </thead>\n",
              "  <tbody>\n",
              "    <tr>\n",
              "      <th>4</th>\n",
              "      <td>Sahil</td>\n",
              "      <td>0.0</td>\n",
              "      <td>50.0</td>\n",
              "    </tr>\n",
              "  </tbody>\n",
              "</table>\n",
              "</div>"
            ],
            "text/plain": [
              "    Name   OS  DBMS\n",
              "4  Sahil  0.0  50.0"
            ]
          },
          "execution_count": 196,
          "metadata": {},
          "output_type": "execute_result"
        }
      ],
      "source": [
        "df1.loc[[4]]"
      ]
    },
    {
      "cell_type": "markdown",
      "metadata": {
        "id": "BZmDS1Y15v_S"
      },
      "source": [
        "- Updating the Index"
      ]
    },
    {
      "cell_type": "code",
      "execution_count": 197,
      "metadata": {
        "colab": {
          "base_uri": "https://localhost:8080/",
          "height": 300
        },
        "id": "Ad8ZQOyy5sQT",
        "outputId": "f7a663cb-11c5-4071-c454-358280322a84"
      },
      "outputs": [
        {
          "data": {
            "text/html": [
              "<div>\n",
              "<style scoped>\n",
              "    .dataframe tbody tr th:only-of-type {\n",
              "        vertical-align: middle;\n",
              "    }\n",
              "\n",
              "    .dataframe tbody tr th {\n",
              "        vertical-align: top;\n",
              "    }\n",
              "\n",
              "    .dataframe thead th {\n",
              "        text-align: right;\n",
              "    }\n",
              "</style>\n",
              "<table border=\"1\" class=\"dataframe\">\n",
              "  <thead>\n",
              "    <tr style=\"text-align: right;\">\n",
              "      <th></th>\n",
              "      <th>Name</th>\n",
              "      <th>OS</th>\n",
              "      <th>DBMS</th>\n",
              "    </tr>\n",
              "  </thead>\n",
              "  <tbody>\n",
              "    <tr>\n",
              "      <th>0</th>\n",
              "      <td>Venom</td>\n",
              "      <td>80.5</td>\n",
              "      <td>75.0</td>\n",
              "    </tr>\n",
              "    <tr>\n",
              "      <th>1</th>\n",
              "      <td>Rahul</td>\n",
              "      <td>25.0</td>\n",
              "      <td>20.0</td>\n",
              "    </tr>\n",
              "    <tr>\n",
              "      <th>2</th>\n",
              "      <td>Rohit</td>\n",
              "      <td>75.5</td>\n",
              "      <td>80.0</td>\n",
              "    </tr>\n",
              "    <tr>\n",
              "      <th>3</th>\n",
              "      <td>Venkat</td>\n",
              "      <td>96.0</td>\n",
              "      <td>60.0</td>\n",
              "    </tr>\n",
              "    <tr>\n",
              "      <th>4</th>\n",
              "      <td>Steve</td>\n",
              "      <td>67.0</td>\n",
              "      <td>23.0</td>\n",
              "    </tr>\n",
              "    <tr>\n",
              "      <th>5</th>\n",
              "      <td>Ankita</td>\n",
              "      <td>100.0</td>\n",
              "      <td>99.0</td>\n",
              "    </tr>\n",
              "    <tr>\n",
              "      <th>6</th>\n",
              "      <td>Robby</td>\n",
              "      <td>60.5</td>\n",
              "      <td>55.5</td>\n",
              "    </tr>\n",
              "  </tbody>\n",
              "</table>\n",
              "</div>"
            ],
            "text/plain": [
              "     Name     OS  DBMS\n",
              "0   Venom   80.5  75.0\n",
              "1   Rahul   25.0  20.0\n",
              "2   Rohit   75.5  80.0\n",
              "3  Venkat   96.0  60.0\n",
              "4   Steve   67.0  23.0\n",
              "5  Ankita  100.0  99.0\n",
              "6   Robby   60.5  55.5"
            ]
          },
          "execution_count": 197,
          "metadata": {},
          "output_type": "execute_result"
        }
      ],
      "source": [
        "df1.loc[4] = ['Steve',67,23]\n",
        "df1"
      ]
    },
    {
      "cell_type": "markdown",
      "metadata": {
        "id": "FbJd39gu8_PA"
      },
      "source": [
        "### Row Delete\n",
        "\n",
        "- del and pop only works in column deletion not in row deletion"
      ]
    },
    {
      "cell_type": "code",
      "execution_count": 198,
      "metadata": {
        "colab": {
          "base_uri": "https://localhost:8080/",
          "height": 269
        },
        "id": "DA87Z2gw56Gt",
        "outputId": "39cd7c5e-7b65-434a-cb02-965d46197d20"
      },
      "outputs": [
        {
          "data": {
            "text/html": [
              "<div>\n",
              "<style scoped>\n",
              "    .dataframe tbody tr th:only-of-type {\n",
              "        vertical-align: middle;\n",
              "    }\n",
              "\n",
              "    .dataframe tbody tr th {\n",
              "        vertical-align: top;\n",
              "    }\n",
              "\n",
              "    .dataframe thead th {\n",
              "        text-align: right;\n",
              "    }\n",
              "</style>\n",
              "<table border=\"1\" class=\"dataframe\">\n",
              "  <thead>\n",
              "    <tr style=\"text-align: right;\">\n",
              "      <th></th>\n",
              "      <th>Name</th>\n",
              "      <th>OS</th>\n",
              "      <th>DBMS</th>\n",
              "    </tr>\n",
              "  </thead>\n",
              "  <tbody>\n",
              "    <tr>\n",
              "      <th>0</th>\n",
              "      <td>Venom</td>\n",
              "      <td>80.5</td>\n",
              "      <td>75.0</td>\n",
              "    </tr>\n",
              "    <tr>\n",
              "      <th>1</th>\n",
              "      <td>Rahul</td>\n",
              "      <td>25.0</td>\n",
              "      <td>20.0</td>\n",
              "    </tr>\n",
              "    <tr>\n",
              "      <th>2</th>\n",
              "      <td>Rohit</td>\n",
              "      <td>75.5</td>\n",
              "      <td>80.0</td>\n",
              "    </tr>\n",
              "    <tr>\n",
              "      <th>3</th>\n",
              "      <td>Venkat</td>\n",
              "      <td>96.0</td>\n",
              "      <td>60.0</td>\n",
              "    </tr>\n",
              "    <tr>\n",
              "      <th>4</th>\n",
              "      <td>Steve</td>\n",
              "      <td>67.0</td>\n",
              "      <td>23.0</td>\n",
              "    </tr>\n",
              "    <tr>\n",
              "      <th>5</th>\n",
              "      <td>Ankita</td>\n",
              "      <td>100.0</td>\n",
              "      <td>99.0</td>\n",
              "    </tr>\n",
              "  </tbody>\n",
              "</table>\n",
              "</div>"
            ],
            "text/plain": [
              "     Name     OS  DBMS\n",
              "0   Venom   80.5  75.0\n",
              "1   Rahul   25.0  20.0\n",
              "2   Rohit   75.5  80.0\n",
              "3  Venkat   96.0  60.0\n",
              "4   Steve   67.0  23.0\n",
              "5  Ankita  100.0  99.0"
            ]
          },
          "execution_count": 198,
          "metadata": {},
          "output_type": "execute_result"
        }
      ],
      "source": [
        "df1.drop(6)"
      ]
    },
    {
      "cell_type": "code",
      "execution_count": 199,
      "metadata": {
        "id": "mps_UanA9H7m"
      },
      "outputs": [],
      "source": [
        "df1.drop(6,inplace = True) #For permenent delete"
      ]
    },
    {
      "cell_type": "code",
      "execution_count": 200,
      "metadata": {
        "colab": {
          "base_uri": "https://localhost:8080/",
          "height": 269
        },
        "id": "08ATK2qK9V2l",
        "outputId": "e23ae743-603f-40dd-b57f-6a05ff172fc1"
      },
      "outputs": [
        {
          "data": {
            "text/html": [
              "<div>\n",
              "<style scoped>\n",
              "    .dataframe tbody tr th:only-of-type {\n",
              "        vertical-align: middle;\n",
              "    }\n",
              "\n",
              "    .dataframe tbody tr th {\n",
              "        vertical-align: top;\n",
              "    }\n",
              "\n",
              "    .dataframe thead th {\n",
              "        text-align: right;\n",
              "    }\n",
              "</style>\n",
              "<table border=\"1\" class=\"dataframe\">\n",
              "  <thead>\n",
              "    <tr style=\"text-align: right;\">\n",
              "      <th></th>\n",
              "      <th>Name</th>\n",
              "      <th>OS</th>\n",
              "      <th>DBMS</th>\n",
              "    </tr>\n",
              "  </thead>\n",
              "  <tbody>\n",
              "    <tr>\n",
              "      <th>0</th>\n",
              "      <td>Venom</td>\n",
              "      <td>80.5</td>\n",
              "      <td>75.0</td>\n",
              "    </tr>\n",
              "    <tr>\n",
              "      <th>1</th>\n",
              "      <td>Rahul</td>\n",
              "      <td>25.0</td>\n",
              "      <td>20.0</td>\n",
              "    </tr>\n",
              "    <tr>\n",
              "      <th>2</th>\n",
              "      <td>Rohit</td>\n",
              "      <td>75.5</td>\n",
              "      <td>80.0</td>\n",
              "    </tr>\n",
              "    <tr>\n",
              "      <th>3</th>\n",
              "      <td>Venkat</td>\n",
              "      <td>96.0</td>\n",
              "      <td>60.0</td>\n",
              "    </tr>\n",
              "    <tr>\n",
              "      <th>4</th>\n",
              "      <td>Steve</td>\n",
              "      <td>67.0</td>\n",
              "      <td>23.0</td>\n",
              "    </tr>\n",
              "    <tr>\n",
              "      <th>5</th>\n",
              "      <td>Ankita</td>\n",
              "      <td>100.0</td>\n",
              "      <td>99.0</td>\n",
              "    </tr>\n",
              "  </tbody>\n",
              "</table>\n",
              "</div>"
            ],
            "text/plain": [
              "     Name     OS  DBMS\n",
              "0   Venom   80.5  75.0\n",
              "1   Rahul   25.0  20.0\n",
              "2   Rohit   75.5  80.0\n",
              "3  Venkat   96.0  60.0\n",
              "4   Steve   67.0  23.0\n",
              "5  Ankita  100.0  99.0"
            ]
          },
          "execution_count": 200,
          "metadata": {},
          "output_type": "execute_result"
        }
      ],
      "source": [
        "df1"
      ]
    },
    {
      "cell_type": "markdown",
      "metadata": {
        "id": "bjgjowrKDkbr"
      },
      "source": [
        "## Pandas\n",
        "- Data Exploration - checking rows,columns,null values. \n",
        "- Data Cleaning -\n",
        "- Data Manuplation -\n",
        "- Data Analysis -\n",
        "\n",
        "\n"
      ]
    },
    {
      "cell_type": "markdown",
      "metadata": {
        "id": "BGVy8pETGQga"
      },
      "source": [
        "### Data Exploration\n",
        "\n",
        "- head ( )\n",
        "- tail ( )\n",
        "- dtypes \n",
        "- empty  - To check the detaframe is empty or not.\n",
        "- ndim \n",
        "- shape\n",
        "- size\n",
        "- values - It will return in array in 2-D\n",
        "- describe ( )\n",
        "- T - transpose\n",
        "- sum ( )\n",
        "- mean ( )\n",
        "- median ( )\n",
        "- mode ( )\n",
        "- std - Standaard deviation\n",
        "- min ( )\n",
        "- max ( )\n",
        "- cumsum ()\n",
        "- cumprod ( )"
      ]
    },
    {
      "cell_type": "code",
      "execution_count": 227,
      "metadata": {
        "colab": {
          "base_uri": "https://localhost:8080/",
          "height": 269
        },
        "id": "Sqi4qHIV93V9",
        "outputId": "696850ad-c51a-4eed-dfec-f71ad642a51b"
      },
      "outputs": [
        {
          "data": {
            "text/html": [
              "<div>\n",
              "<style scoped>\n",
              "    .dataframe tbody tr th:only-of-type {\n",
              "        vertical-align: middle;\n",
              "    }\n",
              "\n",
              "    .dataframe tbody tr th {\n",
              "        vertical-align: top;\n",
              "    }\n",
              "\n",
              "    .dataframe thead th {\n",
              "        text-align: right;\n",
              "    }\n",
              "</style>\n",
              "<table border=\"1\" class=\"dataframe\">\n",
              "  <thead>\n",
              "    <tr style=\"text-align: right;\">\n",
              "      <th></th>\n",
              "      <th>Name</th>\n",
              "      <th>OS</th>\n",
              "      <th>DBMS</th>\n",
              "    </tr>\n",
              "  </thead>\n",
              "  <tbody>\n",
              "    <tr>\n",
              "      <th>0</th>\n",
              "      <td>Venom</td>\n",
              "      <td>80.5</td>\n",
              "      <td>75.0</td>\n",
              "    </tr>\n",
              "    <tr>\n",
              "      <th>1</th>\n",
              "      <td>Rahul</td>\n",
              "      <td>25.0</td>\n",
              "      <td>20.0</td>\n",
              "    </tr>\n",
              "    <tr>\n",
              "      <th>2</th>\n",
              "      <td>Rohit</td>\n",
              "      <td>75.5</td>\n",
              "      <td>80.0</td>\n",
              "    </tr>\n",
              "    <tr>\n",
              "      <th>3</th>\n",
              "      <td>Venkat</td>\n",
              "      <td>96.0</td>\n",
              "      <td>60.0</td>\n",
              "    </tr>\n",
              "    <tr>\n",
              "      <th>4</th>\n",
              "      <td>Steve</td>\n",
              "      <td>67.0</td>\n",
              "      <td>23.0</td>\n",
              "    </tr>\n",
              "    <tr>\n",
              "      <th>5</th>\n",
              "      <td>Ankita</td>\n",
              "      <td>100.0</td>\n",
              "      <td>99.0</td>\n",
              "    </tr>\n",
              "  </tbody>\n",
              "</table>\n",
              "</div>"
            ],
            "text/plain": [
              "     Name     OS  DBMS\n",
              "0   Venom   80.5  75.0\n",
              "1   Rahul   25.0  20.0\n",
              "2   Rohit   75.5  80.0\n",
              "3  Venkat   96.0  60.0\n",
              "4   Steve   67.0  23.0\n",
              "5  Ankita  100.0  99.0"
            ]
          },
          "execution_count": 227,
          "metadata": {},
          "output_type": "execute_result"
        }
      ],
      "source": [
        "df1  # Population --> (Superset of all the Sample)"
      ]
    },
    {
      "cell_type": "code",
      "execution_count": 228,
      "metadata": {
        "colab": {
          "base_uri": "https://localhost:8080/",
          "height": 206
        },
        "id": "4ucP21P8GXTP",
        "outputId": "a3fb2f4f-f42a-425c-eac8-935b192b3ced"
      },
      "outputs": [
        {
          "data": {
            "text/html": [
              "<div>\n",
              "<style scoped>\n",
              "    .dataframe tbody tr th:only-of-type {\n",
              "        vertical-align: middle;\n",
              "    }\n",
              "\n",
              "    .dataframe tbody tr th {\n",
              "        vertical-align: top;\n",
              "    }\n",
              "\n",
              "    .dataframe thead th {\n",
              "        text-align: right;\n",
              "    }\n",
              "</style>\n",
              "<table border=\"1\" class=\"dataframe\">\n",
              "  <thead>\n",
              "    <tr style=\"text-align: right;\">\n",
              "      <th></th>\n",
              "      <th>Name</th>\n",
              "      <th>OS</th>\n",
              "      <th>DBMS</th>\n",
              "    </tr>\n",
              "  </thead>\n",
              "  <tbody>\n",
              "    <tr>\n",
              "      <th>0</th>\n",
              "      <td>Venom</td>\n",
              "      <td>80.5</td>\n",
              "      <td>75.0</td>\n",
              "    </tr>\n",
              "    <tr>\n",
              "      <th>1</th>\n",
              "      <td>Rahul</td>\n",
              "      <td>25.0</td>\n",
              "      <td>20.0</td>\n",
              "    </tr>\n",
              "    <tr>\n",
              "      <th>2</th>\n",
              "      <td>Rohit</td>\n",
              "      <td>75.5</td>\n",
              "      <td>80.0</td>\n",
              "    </tr>\n",
              "    <tr>\n",
              "      <th>3</th>\n",
              "      <td>Venkat</td>\n",
              "      <td>96.0</td>\n",
              "      <td>60.0</td>\n",
              "    </tr>\n",
              "    <tr>\n",
              "      <th>4</th>\n",
              "      <td>Steve</td>\n",
              "      <td>67.0</td>\n",
              "      <td>23.0</td>\n",
              "    </tr>\n",
              "  </tbody>\n",
              "</table>\n",
              "</div>"
            ],
            "text/plain": [
              "     Name    OS  DBMS\n",
              "0   Venom  80.5  75.0\n",
              "1   Rahul  25.0  20.0\n",
              "2   Rohit  75.5  80.0\n",
              "3  Venkat  96.0  60.0\n",
              "4   Steve  67.0  23.0"
            ]
          },
          "execution_count": 228,
          "metadata": {},
          "output_type": "execute_result"
        }
      ],
      "source": [
        "# Sample --> (Subset of population)\n",
        "df1.head()  "
      ]
    },
    {
      "cell_type": "code",
      "execution_count": 229,
      "metadata": {
        "colab": {
          "base_uri": "https://localhost:8080/",
          "height": 175
        },
        "id": "WKVwnuLYGZWm",
        "outputId": "014c01ae-a2db-421f-e505-340879b7c318"
      },
      "outputs": [
        {
          "data": {
            "text/html": [
              "<div>\n",
              "<style scoped>\n",
              "    .dataframe tbody tr th:only-of-type {\n",
              "        vertical-align: middle;\n",
              "    }\n",
              "\n",
              "    .dataframe tbody tr th {\n",
              "        vertical-align: top;\n",
              "    }\n",
              "\n",
              "    .dataframe thead th {\n",
              "        text-align: right;\n",
              "    }\n",
              "</style>\n",
              "<table border=\"1\" class=\"dataframe\">\n",
              "  <thead>\n",
              "    <tr style=\"text-align: right;\">\n",
              "      <th></th>\n",
              "      <th>Apples</th>\n",
              "      <th>Grapes</th>\n",
              "      <th>Bananas</th>\n",
              "      <th>Pear</th>\n",
              "      <th>Mangoes</th>\n",
              "      <th>Jackfruit</th>\n",
              "      <th>Strawberry</th>\n",
              "      <th>Oranges</th>\n",
              "    </tr>\n",
              "  </thead>\n",
              "  <tbody>\n",
              "    <tr>\n",
              "      <th>A</th>\n",
              "      <td>102</td>\n",
              "      <td>50</td>\n",
              "      <td>100</td>\n",
              "      <td>200</td>\n",
              "      <td>700</td>\n",
              "      <td>200</td>\n",
              "      <td>400</td>\n",
              "      <td>470</td>\n",
              "    </tr>\n",
              "    <tr>\n",
              "      <th>B</th>\n",
              "      <td>500</td>\n",
              "      <td>150</td>\n",
              "      <td>200</td>\n",
              "      <td>300</td>\n",
              "      <td>800</td>\n",
              "      <td>300</td>\n",
              "      <td>500</td>\n",
              "      <td>570</td>\n",
              "    </tr>\n",
              "    <tr>\n",
              "      <th>C</th>\n",
              "      <td>250</td>\n",
              "      <td>90</td>\n",
              "      <td>140</td>\n",
              "      <td>240</td>\n",
              "      <td>740</td>\n",
              "      <td>240</td>\n",
              "      <td>440</td>\n",
              "      <td>510</td>\n",
              "    </tr>\n",
              "    <tr>\n",
              "      <th>D</th>\n",
              "      <td>75</td>\n",
              "      <td>45</td>\n",
              "      <td>95</td>\n",
              "      <td>195</td>\n",
              "      <td>695</td>\n",
              "      <td>195</td>\n",
              "      <td>395</td>\n",
              "      <td>465</td>\n",
              "    </tr>\n",
              "  </tbody>\n",
              "</table>\n",
              "</div>"
            ],
            "text/plain": [
              "   Apples  Grapes  Bananas  Pear  Mangoes  Jackfruit  Strawberry  Oranges\n",
              "A     102      50      100   200      700        200         400      470\n",
              "B     500     150      200   300      800        300         500      570\n",
              "C     250      90      140   240      740        240         440      510\n",
              "D      75      45       95   195      695        195         395      465"
            ]
          },
          "execution_count": 229,
          "metadata": {},
          "output_type": "execute_result"
        }
      ],
      "source": [
        "df.tail()"
      ]
    },
    {
      "cell_type": "code",
      "execution_count": 230,
      "metadata": {
        "colab": {
          "base_uri": "https://localhost:8080/"
        },
        "id": "7J5ZnmxBIJw1",
        "outputId": "f53c40a6-6c7e-4b19-ca68-d1c7049e46ac"
      },
      "outputs": [
        {
          "data": {
            "text/plain": [
              "Name     object\n",
              "OS      float64\n",
              "DBMS    float64\n",
              "dtype: object"
            ]
          },
          "execution_count": 230,
          "metadata": {},
          "output_type": "execute_result"
        }
      ],
      "source": [
        "df1.dtypes"
      ]
    },
    {
      "cell_type": "code",
      "execution_count": 231,
      "metadata": {
        "colab": {
          "base_uri": "https://localhost:8080/"
        },
        "id": "S017kgXlJBvk",
        "outputId": "8a699cc9-04cc-4713-fe1f-84a1e8eef7ff"
      },
      "outputs": [
        {
          "data": {
            "text/plain": [
              "False"
            ]
          },
          "execution_count": 231,
          "metadata": {},
          "output_type": "execute_result"
        }
      ],
      "source": [
        "df1.empty"
      ]
    },
    {
      "cell_type": "code",
      "execution_count": 232,
      "metadata": {
        "colab": {
          "base_uri": "https://localhost:8080/"
        },
        "id": "Hv-9fADvJ2aO",
        "outputId": "afe2ccb5-2934-4774-81c1-e546713ed7eb"
      },
      "outputs": [
        {
          "data": {
            "text/plain": [
              "2"
            ]
          },
          "execution_count": 232,
          "metadata": {},
          "output_type": "execute_result"
        }
      ],
      "source": [
        "df.ndim"
      ]
    },
    {
      "cell_type": "code",
      "execution_count": 233,
      "metadata": {
        "colab": {
          "base_uri": "https://localhost:8080/"
        },
        "id": "Vrtc9jS2KCEl",
        "outputId": "d7666058-5108-4442-8214-43ff87da07e4"
      },
      "outputs": [
        {
          "data": {
            "text/plain": [
              "(6, 3)"
            ]
          },
          "execution_count": 233,
          "metadata": {},
          "output_type": "execute_result"
        }
      ],
      "source": [
        "df1.shape"
      ]
    },
    {
      "cell_type": "code",
      "execution_count": 234,
      "metadata": {
        "colab": {
          "base_uri": "https://localhost:8080/"
        },
        "id": "ZM9hWF7zKKSs",
        "outputId": "9317ed8c-0e2b-40fb-9559-41e1927cbcc6"
      },
      "outputs": [
        {
          "data": {
            "text/plain": [
              "18"
            ]
          },
          "execution_count": 234,
          "metadata": {},
          "output_type": "execute_result"
        }
      ],
      "source": [
        "df1.size"
      ]
    },
    {
      "cell_type": "code",
      "execution_count": 235,
      "metadata": {
        "colab": {
          "base_uri": "https://localhost:8080/"
        },
        "id": "FGjK-NaEKTyc",
        "outputId": "1eb2b0e6-547b-4066-94f4-b6849ebcd618"
      },
      "outputs": [
        {
          "data": {
            "text/plain": [
              "array([['Venom', 80.5, 75.0],\n",
              "       ['Rahul', 25.0, 20.0],\n",
              "       ['Rohit', 75.5, 80.0],\n",
              "       ['Venkat', 96.0, 60.0],\n",
              "       ['Steve', 67.0, 23.0],\n",
              "       ['Ankita', 100.0, 99.0]], dtype=object)"
            ]
          },
          "execution_count": 235,
          "metadata": {},
          "output_type": "execute_result"
        }
      ],
      "source": [
        "df1.values"
      ]
    },
    {
      "cell_type": "code",
      "execution_count": 236,
      "metadata": {
        "colab": {
          "base_uri": "https://localhost:8080/",
          "height": 300
        },
        "id": "1eBR3-l-KcK-",
        "outputId": "ea7e0357-078e-4ce6-c398-b2edc73027a6"
      },
      "outputs": [
        {
          "data": {
            "text/html": [
              "<div>\n",
              "<style scoped>\n",
              "    .dataframe tbody tr th:only-of-type {\n",
              "        vertical-align: middle;\n",
              "    }\n",
              "\n",
              "    .dataframe tbody tr th {\n",
              "        vertical-align: top;\n",
              "    }\n",
              "\n",
              "    .dataframe thead th {\n",
              "        text-align: right;\n",
              "    }\n",
              "</style>\n",
              "<table border=\"1\" class=\"dataframe\">\n",
              "  <thead>\n",
              "    <tr style=\"text-align: right;\">\n",
              "      <th></th>\n",
              "      <th>OS</th>\n",
              "      <th>DBMS</th>\n",
              "    </tr>\n",
              "  </thead>\n",
              "  <tbody>\n",
              "    <tr>\n",
              "      <th>count</th>\n",
              "      <td>6.000000</td>\n",
              "      <td>6.000000</td>\n",
              "    </tr>\n",
              "    <tr>\n",
              "      <th>mean</th>\n",
              "      <td>74.000000</td>\n",
              "      <td>59.500000</td>\n",
              "    </tr>\n",
              "    <tr>\n",
              "      <th>std</th>\n",
              "      <td>27.035162</td>\n",
              "      <td>31.979681</td>\n",
              "    </tr>\n",
              "    <tr>\n",
              "      <th>min</th>\n",
              "      <td>25.000000</td>\n",
              "      <td>20.000000</td>\n",
              "    </tr>\n",
              "    <tr>\n",
              "      <th>25%</th>\n",
              "      <td>69.125000</td>\n",
              "      <td>32.250000</td>\n",
              "    </tr>\n",
              "    <tr>\n",
              "      <th>50%</th>\n",
              "      <td>78.000000</td>\n",
              "      <td>67.500000</td>\n",
              "    </tr>\n",
              "    <tr>\n",
              "      <th>75%</th>\n",
              "      <td>92.125000</td>\n",
              "      <td>78.750000</td>\n",
              "    </tr>\n",
              "    <tr>\n",
              "      <th>max</th>\n",
              "      <td>100.000000</td>\n",
              "      <td>99.000000</td>\n",
              "    </tr>\n",
              "  </tbody>\n",
              "</table>\n",
              "</div>"
            ],
            "text/plain": [
              "               OS       DBMS\n",
              "count    6.000000   6.000000\n",
              "mean    74.000000  59.500000\n",
              "std     27.035162  31.979681\n",
              "min     25.000000  20.000000\n",
              "25%     69.125000  32.250000\n",
              "50%     78.000000  67.500000\n",
              "75%     92.125000  78.750000\n",
              "max    100.000000  99.000000"
            ]
          },
          "execution_count": 236,
          "metadata": {},
          "output_type": "execute_result"
        }
      ],
      "source": [
        "df1.describe()\n",
        "# 25, 60,75 is the cortile values"
      ]
    },
    {
      "cell_type": "code",
      "execution_count": 237,
      "metadata": {
        "colab": {
          "base_uri": "https://localhost:8080/",
          "height": 143
        },
        "id": "We_3PP5OKxFl",
        "outputId": "237b8825-c117-435e-a3af-5e4880a8fd7d"
      },
      "outputs": [
        {
          "data": {
            "text/html": [
              "<div>\n",
              "<style scoped>\n",
              "    .dataframe tbody tr th:only-of-type {\n",
              "        vertical-align: middle;\n",
              "    }\n",
              "\n",
              "    .dataframe tbody tr th {\n",
              "        vertical-align: top;\n",
              "    }\n",
              "\n",
              "    .dataframe thead th {\n",
              "        text-align: right;\n",
              "    }\n",
              "</style>\n",
              "<table border=\"1\" class=\"dataframe\">\n",
              "  <thead>\n",
              "    <tr style=\"text-align: right;\">\n",
              "      <th></th>\n",
              "      <th>0</th>\n",
              "      <th>1</th>\n",
              "      <th>2</th>\n",
              "      <th>3</th>\n",
              "      <th>4</th>\n",
              "      <th>5</th>\n",
              "    </tr>\n",
              "  </thead>\n",
              "  <tbody>\n",
              "    <tr>\n",
              "      <th>Name</th>\n",
              "      <td>Venom</td>\n",
              "      <td>Rahul</td>\n",
              "      <td>Rohit</td>\n",
              "      <td>Venkat</td>\n",
              "      <td>Steve</td>\n",
              "      <td>Ankita</td>\n",
              "    </tr>\n",
              "    <tr>\n",
              "      <th>OS</th>\n",
              "      <td>80.5</td>\n",
              "      <td>25.0</td>\n",
              "      <td>75.5</td>\n",
              "      <td>96.0</td>\n",
              "      <td>67.0</td>\n",
              "      <td>100.0</td>\n",
              "    </tr>\n",
              "    <tr>\n",
              "      <th>DBMS</th>\n",
              "      <td>75.0</td>\n",
              "      <td>20.0</td>\n",
              "      <td>80.0</td>\n",
              "      <td>60.0</td>\n",
              "      <td>23.0</td>\n",
              "      <td>99.0</td>\n",
              "    </tr>\n",
              "  </tbody>\n",
              "</table>\n",
              "</div>"
            ],
            "text/plain": [
              "          0      1      2       3      4       5\n",
              "Name  Venom  Rahul  Rohit  Venkat  Steve  Ankita\n",
              "OS     80.5   25.0   75.5    96.0   67.0   100.0\n",
              "DBMS   75.0   20.0   80.0    60.0   23.0    99.0"
            ]
          },
          "execution_count": 237,
          "metadata": {},
          "output_type": "execute_result"
        }
      ],
      "source": [
        "df1.T # it is a temp change."
      ]
    },
    {
      "cell_type": "code",
      "execution_count": 238,
      "metadata": {
        "colab": {
          "base_uri": "https://localhost:8080/"
        },
        "id": "sFBa3Z2FLZBf",
        "outputId": "95084861-8883-4822-ab75-2ff21adc0a6b"
      },
      "outputs": [
        {
          "data": {
            "text/plain": [
              "Name    Rohit\n",
              "OS       75.5\n",
              "DBMS     80.0\n",
              "Name: 2, dtype: object"
            ]
          },
          "execution_count": 238,
          "metadata": {},
          "output_type": "execute_result"
        }
      ],
      "source": [
        "df1.iloc[2]"
      ]
    },
    {
      "cell_type": "code",
      "execution_count": 239,
      "metadata": {
        "colab": {
          "base_uri": "https://localhost:8080/",
          "height": 143
        },
        "id": "yHPrODQ0Lg00",
        "outputId": "223dc1d9-2119-4a0f-bb2b-0c7ebf8ef45f"
      },
      "outputs": [
        {
          "data": {
            "text/html": [
              "<div>\n",
              "<style scoped>\n",
              "    .dataframe tbody tr th:only-of-type {\n",
              "        vertical-align: middle;\n",
              "    }\n",
              "\n",
              "    .dataframe tbody tr th {\n",
              "        vertical-align: top;\n",
              "    }\n",
              "\n",
              "    .dataframe thead th {\n",
              "        text-align: right;\n",
              "    }\n",
              "</style>\n",
              "<table border=\"1\" class=\"dataframe\">\n",
              "  <thead>\n",
              "    <tr style=\"text-align: right;\">\n",
              "      <th></th>\n",
              "      <th>0</th>\n",
              "      <th>1</th>\n",
              "      <th>2</th>\n",
              "      <th>3</th>\n",
              "      <th>4</th>\n",
              "      <th>5</th>\n",
              "    </tr>\n",
              "  </thead>\n",
              "  <tbody>\n",
              "    <tr>\n",
              "      <th>Name</th>\n",
              "      <td>Venom</td>\n",
              "      <td>Rahul</td>\n",
              "      <td>Rohit</td>\n",
              "      <td>Venkat</td>\n",
              "      <td>Steve</td>\n",
              "      <td>Ankita</td>\n",
              "    </tr>\n",
              "    <tr>\n",
              "      <th>OS</th>\n",
              "      <td>80.5</td>\n",
              "      <td>25.0</td>\n",
              "      <td>75.5</td>\n",
              "      <td>96.0</td>\n",
              "      <td>67.0</td>\n",
              "      <td>100.0</td>\n",
              "    </tr>\n",
              "    <tr>\n",
              "      <th>DBMS</th>\n",
              "      <td>75.0</td>\n",
              "      <td>20.0</td>\n",
              "      <td>80.0</td>\n",
              "      <td>60.0</td>\n",
              "      <td>23.0</td>\n",
              "      <td>99.0</td>\n",
              "    </tr>\n",
              "  </tbody>\n",
              "</table>\n",
              "</div>"
            ],
            "text/plain": [
              "          0      1      2       3      4       5\n",
              "Name  Venom  Rahul  Rohit  Venkat  Steve  Ankita\n",
              "OS     80.5   25.0   75.5    96.0   67.0   100.0\n",
              "DBMS   75.0   20.0   80.0    60.0   23.0    99.0"
            ]
          },
          "execution_count": 239,
          "metadata": {},
          "output_type": "execute_result"
        }
      ],
      "source": [
        "ad = df1.T\n",
        "ad"
      ]
    },
    {
      "cell_type": "code",
      "execution_count": 240,
      "metadata": {
        "colab": {
          "base_uri": "https://localhost:8080/"
        },
        "id": "YoIHY_9uLtMA",
        "outputId": "f22f5e1b-a580-47bb-9f4b-1ce79c3ad82b"
      },
      "outputs": [
        {
          "data": {
            "text/plain": [
              "0     80.5\n",
              "1     25.0\n",
              "2     75.5\n",
              "3     96.0\n",
              "4     67.0\n",
              "5    100.0\n",
              "Name: OS, dtype: object"
            ]
          },
          "execution_count": 240,
          "metadata": {},
          "output_type": "execute_result"
        }
      ],
      "source": [
        "ad.iloc[1]"
      ]
    },
    {
      "cell_type": "code",
      "execution_count": 241,
      "metadata": {
        "colab": {
          "base_uri": "https://localhost:8080/"
        },
        "id": "BU-ji0_UMIqE",
        "outputId": "3decdbac-802d-4624-fdc5-53420cd12637"
      },
      "outputs": [
        {
          "data": {
            "text/plain": [
              "Name    VenomRahulRohitVenkatSteveAnkita\n",
              "OS                                 444.0\n",
              "DBMS                               357.0\n",
              "dtype: object"
            ]
          },
          "execution_count": 241,
          "metadata": {},
          "output_type": "execute_result"
        }
      ],
      "source": [
        "df1.sum()\n",
        "# It will going to concatinate all the dataframe"
      ]
    },
    {
      "cell_type": "code",
      "execution_count": 242,
      "metadata": {
        "colab": {
          "base_uri": "https://localhost:8080/"
        },
        "id": "bUJUh8C8MLGG",
        "outputId": "dd9f2e58-310f-4c35-c254-f04784ff4213"
      },
      "outputs": [
        {
          "data": {
            "text/plain": [
              "444.0"
            ]
          },
          "execution_count": 242,
          "metadata": {},
          "output_type": "execute_result"
        }
      ],
      "source": [
        "df1['OS'].sum()"
      ]
    },
    {
      "cell_type": "code",
      "execution_count": 243,
      "metadata": {
        "colab": {
          "base_uri": "https://localhost:8080/"
        },
        "id": "9v39xp30MdMF",
        "outputId": "bc48c77f-8bcc-49e1-fd7d-8ad7eb7af01f"
      },
      "outputs": [
        {
          "data": {
            "text/plain": [
              "357.0"
            ]
          },
          "execution_count": 243,
          "metadata": {},
          "output_type": "execute_result"
        }
      ],
      "source": [
        "df1['DBMS'].sum()"
      ]
    },
    {
      "cell_type": "code",
      "execution_count": 244,
      "metadata": {
        "colab": {
          "base_uri": "https://localhost:8080/"
        },
        "id": "8v_WIQ_2MgtE",
        "outputId": "8d46a8ba-ba71-45c1-976e-a8c195b8fcb1"
      },
      "outputs": [
        {
          "name": "stdout",
          "output_type": "stream",
          "text": [
            "     Name     OS  DBMS\n",
            "0   Venom   80.5  75.0\n",
            "1   Rahul   25.0  20.0\n",
            "2   Rohit   75.5  80.0\n",
            "3  Venkat   96.0  60.0\n",
            "4   Steve   67.0  23.0\n",
            "5  Ankita  100.0  99.0 \n",
            "\n"
          ]
        },
        {
          "data": {
            "text/plain": [
              "0    155.5\n",
              "1     45.0\n",
              "2    155.5\n",
              "3    156.0\n",
              "4     90.0\n",
              "5    199.0\n",
              "dtype: float64"
            ]
          },
          "execution_count": 244,
          "metadata": {},
          "output_type": "execute_result"
        }
      ],
      "source": [
        "print (df1,'\\n')\n",
        "df1.sum(1) # 1 --> Axis\n",
        "# It will sum all the row and print out the output. "
      ]
    },
    {
      "cell_type": "code",
      "execution_count": 245,
      "metadata": {
        "colab": {
          "base_uri": "https://localhost:8080/"
        },
        "id": "wSKVi-azMkb1",
        "outputId": "0ac3ad0e-3b80-423f-c363-7b7fe1198265"
      },
      "outputs": [
        {
          "data": {
            "text/plain": [
              "OS      74.0\n",
              "DBMS    59.5\n",
              "dtype: float64"
            ]
          },
          "execution_count": 245,
          "metadata": {},
          "output_type": "execute_result"
        }
      ],
      "source": [
        "df1.mean()"
      ]
    },
    {
      "cell_type": "code",
      "execution_count": 246,
      "metadata": {
        "colab": {
          "base_uri": "https://localhost:8080/"
        },
        "id": "GFy8mFPmMqul",
        "outputId": "3183bd5a-56ed-4822-fb21-3fc9710f6725"
      },
      "outputs": [
        {
          "data": {
            "text/plain": [
              "0    77.75\n",
              "1    22.50\n",
              "2    77.75\n",
              "3    78.00\n",
              "4    45.00\n",
              "5    99.50\n",
              "dtype: float64"
            ]
          },
          "execution_count": 246,
          "metadata": {},
          "output_type": "execute_result"
        }
      ],
      "source": [
        "  df1.mean(1)"
      ]
    },
    {
      "cell_type": "code",
      "execution_count": 247,
      "metadata": {
        "colab": {
          "base_uri": "https://localhost:8080/"
        },
        "id": "UBYh5FgzNeNN",
        "outputId": "70cc67e1-4822-4bd6-fbf1-9bfe1e2f3135"
      },
      "outputs": [
        {
          "data": {
            "text/plain": [
              "OS      78.0\n",
              "DBMS    67.5\n",
              "dtype: float64"
            ]
          },
          "execution_count": 247,
          "metadata": {},
          "output_type": "execute_result"
        }
      ],
      "source": [
        "df1.median()"
      ]
    },
    {
      "cell_type": "code",
      "execution_count": 248,
      "metadata": {
        "colab": {
          "base_uri": "https://localhost:8080/",
          "height": 269
        },
        "id": "zEHacxTWNzGu",
        "outputId": "0ebab694-b87c-4985-9138-8b75454d49b8"
      },
      "outputs": [
        {
          "data": {
            "text/html": [
              "<div>\n",
              "<style scoped>\n",
              "    .dataframe tbody tr th:only-of-type {\n",
              "        vertical-align: middle;\n",
              "    }\n",
              "\n",
              "    .dataframe tbody tr th {\n",
              "        vertical-align: top;\n",
              "    }\n",
              "\n",
              "    .dataframe thead th {\n",
              "        text-align: right;\n",
              "    }\n",
              "</style>\n",
              "<table border=\"1\" class=\"dataframe\">\n",
              "  <thead>\n",
              "    <tr style=\"text-align: right;\">\n",
              "      <th></th>\n",
              "      <th>Name</th>\n",
              "      <th>OS</th>\n",
              "      <th>DBMS</th>\n",
              "    </tr>\n",
              "  </thead>\n",
              "  <tbody>\n",
              "    <tr>\n",
              "      <th>0</th>\n",
              "      <td>Venom</td>\n",
              "      <td>80.5</td>\n",
              "      <td>75.0</td>\n",
              "    </tr>\n",
              "    <tr>\n",
              "      <th>1</th>\n",
              "      <td>Rahul</td>\n",
              "      <td>25.0</td>\n",
              "      <td>20.0</td>\n",
              "    </tr>\n",
              "    <tr>\n",
              "      <th>2</th>\n",
              "      <td>Rohit</td>\n",
              "      <td>75.5</td>\n",
              "      <td>80.0</td>\n",
              "    </tr>\n",
              "    <tr>\n",
              "      <th>3</th>\n",
              "      <td>Venkat</td>\n",
              "      <td>96.0</td>\n",
              "      <td>60.0</td>\n",
              "    </tr>\n",
              "    <tr>\n",
              "      <th>4</th>\n",
              "      <td>Steve</td>\n",
              "      <td>67.0</td>\n",
              "      <td>23.0</td>\n",
              "    </tr>\n",
              "    <tr>\n",
              "      <th>5</th>\n",
              "      <td>Ankita</td>\n",
              "      <td>100.0</td>\n",
              "      <td>99.0</td>\n",
              "    </tr>\n",
              "  </tbody>\n",
              "</table>\n",
              "</div>"
            ],
            "text/plain": [
              "     Name     OS  DBMS\n",
              "0   Venom   80.5  75.0\n",
              "1   Rahul   25.0  20.0\n",
              "2   Rohit   75.5  80.0\n",
              "3  Venkat   96.0  60.0\n",
              "4   Steve   67.0  23.0\n",
              "5  Ankita  100.0  99.0"
            ]
          },
          "execution_count": 248,
          "metadata": {},
          "output_type": "execute_result"
        }
      ],
      "source": [
        "df1"
      ]
    },
    {
      "cell_type": "code",
      "execution_count": 249,
      "metadata": {
        "colab": {
          "base_uri": "https://localhost:8080/",
          "height": 81
        },
        "id": "8iKwS5q2N1Y3",
        "outputId": "beba195b-095e-42a6-b6de-a969a4817b5c"
      },
      "outputs": [
        {
          "data": {
            "text/html": [
              "<div>\n",
              "<style scoped>\n",
              "    .dataframe tbody tr th:only-of-type {\n",
              "        vertical-align: middle;\n",
              "    }\n",
              "\n",
              "    .dataframe tbody tr th {\n",
              "        vertical-align: top;\n",
              "    }\n",
              "\n",
              "    .dataframe thead th {\n",
              "        text-align: right;\n",
              "    }\n",
              "</style>\n",
              "<table border=\"1\" class=\"dataframe\">\n",
              "  <thead>\n",
              "    <tr style=\"text-align: right;\">\n",
              "      <th></th>\n",
              "      <th>Name</th>\n",
              "      <th>OS</th>\n",
              "      <th>DBMS</th>\n",
              "    </tr>\n",
              "  </thead>\n",
              "  <tbody>\n",
              "    <tr>\n",
              "      <th>0</th>\n",
              "      <td>Ankita</td>\n",
              "      <td>25.0</td>\n",
              "      <td>20.0</td>\n",
              "    </tr>\n",
              "    <tr>\n",
              "      <th>1</th>\n",
              "      <td>Rahul</td>\n",
              "      <td>67.0</td>\n",
              "      <td>23.0</td>\n",
              "    </tr>\n",
              "    <tr>\n",
              "      <th>2</th>\n",
              "      <td>Rohit</td>\n",
              "      <td>75.5</td>\n",
              "      <td>60.0</td>\n",
              "    </tr>\n",
              "    <tr>\n",
              "      <th>3</th>\n",
              "      <td>Steve</td>\n",
              "      <td>80.5</td>\n",
              "      <td>75.0</td>\n",
              "    </tr>\n",
              "    <tr>\n",
              "      <th>4</th>\n",
              "      <td>Venkat</td>\n",
              "      <td>96.0</td>\n",
              "      <td>80.0</td>\n",
              "    </tr>\n",
              "    <tr>\n",
              "      <th>5</th>\n",
              "      <td>Venom</td>\n",
              "      <td>100.0</td>\n",
              "      <td>99.0</td>\n",
              "    </tr>\n",
              "  </tbody>\n",
              "</table>\n",
              "</div>"
            ],
            "text/plain": [
              "     Name     OS  DBMS\n",
              "0  Ankita   25.0  20.0\n",
              "1   Rahul   67.0  23.0\n",
              "2   Rohit   75.5  60.0\n",
              "3   Steve   80.5  75.0\n",
              "4  Venkat   96.0  80.0\n",
              "5   Venom  100.0  99.0"
            ]
          },
          "execution_count": 249,
          "metadata": {},
          "output_type": "execute_result"
        }
      ],
      "source": [
        "df1.mode() \n",
        "# if there will be no repeted values all the data will get sorted in ascending order"
      ]
    },
    {
      "cell_type": "code",
      "execution_count": 250,
      "metadata": {
        "colab": {
          "base_uri": "https://localhost:8080/"
        },
        "id": "gjM_vMmAOaJt",
        "outputId": "514e5c5c-dc76-41ab-a97b-cf836930b306"
      },
      "outputs": [
        {
          "data": {
            "text/plain": [
              "OS      27.035162\n",
              "DBMS    31.979681\n",
              "dtype: float64"
            ]
          },
          "execution_count": 250,
          "metadata": {},
          "output_type": "execute_result"
        }
      ],
      "source": [
        "df1.std()"
      ]
    },
    {
      "cell_type": "code",
      "execution_count": 253,
      "metadata": {
        "colab": {
          "base_uri": "https://localhost:8080/"
        },
        "id": "4zWWyZ1pO8D1",
        "outputId": "6515d995-524a-4f8c-9c70-009f773b2e40"
      },
      "outputs": [
        {
          "data": {
            "text/plain": [
              "0     3.889087\n",
              "1     3.535534\n",
              "2     3.181981\n",
              "3    25.455844\n",
              "4    31.112698\n",
              "5     0.707107\n",
              "dtype: float64"
            ]
          },
          "execution_count": 253,
          "metadata": {},
          "output_type": "execute_result"
        }
      ],
      "source": [
        "df1.std(1)"
      ]
    },
    {
      "cell_type": "code",
      "execution_count": 254,
      "metadata": {
        "colab": {
          "base_uri": "https://localhost:8080/"
        },
        "id": "dDDWjlvMPleN",
        "outputId": "f70a988b-0308-4fd3-aeff-98b4f63b5741"
      },
      "outputs": [
        {
          "data": {
            "text/plain": [
              "Name    Ankita\n",
              "OS        25.0\n",
              "DBMS      20.0\n",
              "dtype: object"
            ]
          },
          "execution_count": 254,
          "metadata": {},
          "output_type": "execute_result"
        }
      ],
      "source": [
        "df1.min()"
      ]
    },
    {
      "cell_type": "code",
      "execution_count": 255,
      "metadata": {
        "colab": {
          "base_uri": "https://localhost:8080/"
        },
        "id": "_eAdXzRnP5je",
        "outputId": "31783571-d563-4508-be05-b2a7ab207505"
      },
      "outputs": [
        {
          "data": {
            "text/plain": [
              "Name    Venom\n",
              "OS      100.0\n",
              "DBMS     99.0\n",
              "dtype: object"
            ]
          },
          "execution_count": 255,
          "metadata": {},
          "output_type": "execute_result"
        }
      ],
      "source": [
        "df1.max()"
      ]
    },
    {
      "cell_type": "code",
      "execution_count": 256,
      "metadata": {
        "colab": {
          "base_uri": "https://localhost:8080/"
        },
        "id": "5aDcM-O8P7cV",
        "outputId": "8faefa1f-4ccf-4b96-be8c-79f3086afb0c"
      },
      "outputs": [
        {
          "data": {
            "text/plain": [
              "0    75.0\n",
              "1    20.0\n",
              "2    75.5\n",
              "3    60.0\n",
              "4    23.0\n",
              "5    99.0\n",
              "dtype: float64"
            ]
          },
          "execution_count": 256,
          "metadata": {},
          "output_type": "execute_result"
        }
      ],
      "source": [
        "df1.min(1)"
      ]
    },
    {
      "cell_type": "code",
      "execution_count": 257,
      "metadata": {
        "colab": {
          "base_uri": "https://localhost:8080/"
        },
        "id": "3szJnwVOP9U-",
        "outputId": "7710a92f-d2d4-49fe-db92-7144b9b2ad88"
      },
      "outputs": [
        {
          "data": {
            "text/plain": [
              "0     80.5\n",
              "1     25.0\n",
              "2     80.0\n",
              "3     96.0\n",
              "4     67.0\n",
              "5    100.0\n",
              "dtype: float64"
            ]
          },
          "execution_count": 257,
          "metadata": {},
          "output_type": "execute_result"
        }
      ],
      "source": [
        "df1.max(1)"
      ]
    },
    {
      "cell_type": "code",
      "execution_count": 258,
      "metadata": {
        "colab": {
          "base_uri": "https://localhost:8080/",
          "height": 269
        },
        "id": "nun8ZLE3P_UM",
        "outputId": "229175b2-dbfc-47eb-8850-71c5c2eb3bdd"
      },
      "outputs": [
        {
          "data": {
            "text/html": [
              "<div>\n",
              "<style scoped>\n",
              "    .dataframe tbody tr th:only-of-type {\n",
              "        vertical-align: middle;\n",
              "    }\n",
              "\n",
              "    .dataframe tbody tr th {\n",
              "        vertical-align: top;\n",
              "    }\n",
              "\n",
              "    .dataframe thead th {\n",
              "        text-align: right;\n",
              "    }\n",
              "</style>\n",
              "<table border=\"1\" class=\"dataframe\">\n",
              "  <thead>\n",
              "    <tr style=\"text-align: right;\">\n",
              "      <th></th>\n",
              "      <th>Name</th>\n",
              "      <th>OS</th>\n",
              "      <th>DBMS</th>\n",
              "    </tr>\n",
              "  </thead>\n",
              "  <tbody>\n",
              "    <tr>\n",
              "      <th>0</th>\n",
              "      <td>Venom</td>\n",
              "      <td>80.5</td>\n",
              "      <td>75.0</td>\n",
              "    </tr>\n",
              "    <tr>\n",
              "      <th>1</th>\n",
              "      <td>VenomRahul</td>\n",
              "      <td>105.5</td>\n",
              "      <td>95.0</td>\n",
              "    </tr>\n",
              "    <tr>\n",
              "      <th>2</th>\n",
              "      <td>VenomRahulRohit</td>\n",
              "      <td>181.0</td>\n",
              "      <td>175.0</td>\n",
              "    </tr>\n",
              "    <tr>\n",
              "      <th>3</th>\n",
              "      <td>VenomRahulRohitVenkat</td>\n",
              "      <td>277.0</td>\n",
              "      <td>235.0</td>\n",
              "    </tr>\n",
              "    <tr>\n",
              "      <th>4</th>\n",
              "      <td>VenomRahulRohitVenkatSteve</td>\n",
              "      <td>344.0</td>\n",
              "      <td>258.0</td>\n",
              "    </tr>\n",
              "    <tr>\n",
              "      <th>5</th>\n",
              "      <td>VenomRahulRohitVenkatSteveAnkita</td>\n",
              "      <td>444.0</td>\n",
              "      <td>357.0</td>\n",
              "    </tr>\n",
              "  </tbody>\n",
              "</table>\n",
              "</div>"
            ],
            "text/plain": [
              "                               Name     OS   DBMS\n",
              "0                             Venom   80.5   75.0\n",
              "1                        VenomRahul  105.5   95.0\n",
              "2                   VenomRahulRohit  181.0  175.0\n",
              "3             VenomRahulRohitVenkat  277.0  235.0\n",
              "4        VenomRahulRohitVenkatSteve  344.0  258.0\n",
              "5  VenomRahulRohitVenkatSteveAnkita  444.0  357.0"
            ]
          },
          "execution_count": 258,
          "metadata": {},
          "output_type": "execute_result"
        }
      ],
      "source": [
        "df1.cumsum()"
      ]
    },
    {
      "cell_type": "markdown",
      "metadata": {
        "id": "vUWC3UoGdt2l"
      },
      "source": [
        "# Day 25"
      ]
    },
    {
      "cell_type": "markdown",
      "metadata": {
        "id": "b5XtegeAd0cV"
      },
      "source": [
        "## Data Cleaning and Data Manipulation"
      ]
    },
    {
      "cell_type": "code",
      "execution_count": 259,
      "metadata": {
        "id": "IIjCjntAQQxP"
      },
      "outputs": [],
      "source": [
        "import numpy as np\n",
        "import pandas as pd"
      ]
    },
    {
      "cell_type": "code",
      "execution_count": 260,
      "metadata": {
        "id": "Ztx_OTibQaZL"
      },
      "outputs": [],
      "source": [
        "data1 = np.random.rand(10,3)\n",
        "data2 = np.random.rand(7,3)"
      ]
    },
    {
      "cell_type": "code",
      "execution_count": 261,
      "metadata": {
        "id": "YdDV5Bg2eUxm"
      },
      "outputs": [],
      "source": [
        "df1 = pd.DataFrame(data1, columns =['col1','col2','col3'])\n",
        "df2 = pd.DataFrame(data2, columns =['col1','col2','col3'])"
      ]
    },
    {
      "cell_type": "code",
      "execution_count": 262,
      "metadata": {
        "colab": {
          "base_uri": "https://localhost:8080/",
          "height": 363
        },
        "id": "f9EHQHDreoWA",
        "outputId": "833cd9de-c28e-4278-d773-070bd20b3e21"
      },
      "outputs": [
        {
          "data": {
            "text/html": [
              "<div>\n",
              "<style scoped>\n",
              "    .dataframe tbody tr th:only-of-type {\n",
              "        vertical-align: middle;\n",
              "    }\n",
              "\n",
              "    .dataframe tbody tr th {\n",
              "        vertical-align: top;\n",
              "    }\n",
              "\n",
              "    .dataframe thead th {\n",
              "        text-align: right;\n",
              "    }\n",
              "</style>\n",
              "<table border=\"1\" class=\"dataframe\">\n",
              "  <thead>\n",
              "    <tr style=\"text-align: right;\">\n",
              "      <th></th>\n",
              "      <th>col1</th>\n",
              "      <th>col2</th>\n",
              "      <th>col3</th>\n",
              "    </tr>\n",
              "  </thead>\n",
              "  <tbody>\n",
              "    <tr>\n",
              "      <th>0</th>\n",
              "      <td>0.787881</td>\n",
              "      <td>0.206257</td>\n",
              "      <td>0.453105</td>\n",
              "    </tr>\n",
              "    <tr>\n",
              "      <th>1</th>\n",
              "      <td>0.425835</td>\n",
              "      <td>0.559122</td>\n",
              "      <td>0.913961</td>\n",
              "    </tr>\n",
              "    <tr>\n",
              "      <th>2</th>\n",
              "      <td>0.064862</td>\n",
              "      <td>0.726644</td>\n",
              "      <td>0.057390</td>\n",
              "    </tr>\n",
              "    <tr>\n",
              "      <th>3</th>\n",
              "      <td>0.739837</td>\n",
              "      <td>0.863452</td>\n",
              "      <td>0.371117</td>\n",
              "    </tr>\n",
              "    <tr>\n",
              "      <th>4</th>\n",
              "      <td>0.857346</td>\n",
              "      <td>0.032999</td>\n",
              "      <td>0.125343</td>\n",
              "    </tr>\n",
              "    <tr>\n",
              "      <th>5</th>\n",
              "      <td>0.926936</td>\n",
              "      <td>0.569222</td>\n",
              "      <td>0.692944</td>\n",
              "    </tr>\n",
              "    <tr>\n",
              "      <th>6</th>\n",
              "      <td>0.844903</td>\n",
              "      <td>0.913935</td>\n",
              "      <td>0.458493</td>\n",
              "    </tr>\n",
              "    <tr>\n",
              "      <th>7</th>\n",
              "      <td>0.045321</td>\n",
              "      <td>0.287195</td>\n",
              "      <td>0.450833</td>\n",
              "    </tr>\n",
              "    <tr>\n",
              "      <th>8</th>\n",
              "      <td>0.712175</td>\n",
              "      <td>0.442347</td>\n",
              "      <td>0.969196</td>\n",
              "    </tr>\n",
              "    <tr>\n",
              "      <th>9</th>\n",
              "      <td>0.983448</td>\n",
              "      <td>0.511809</td>\n",
              "      <td>0.573865</td>\n",
              "    </tr>\n",
              "  </tbody>\n",
              "</table>\n",
              "</div>"
            ],
            "text/plain": [
              "       col1      col2      col3\n",
              "0  0.787881  0.206257  0.453105\n",
              "1  0.425835  0.559122  0.913961\n",
              "2  0.064862  0.726644  0.057390\n",
              "3  0.739837  0.863452  0.371117\n",
              "4  0.857346  0.032999  0.125343\n",
              "5  0.926936  0.569222  0.692944\n",
              "6  0.844903  0.913935  0.458493\n",
              "7  0.045321  0.287195  0.450833\n",
              "8  0.712175  0.442347  0.969196\n",
              "9  0.983448  0.511809  0.573865"
            ]
          },
          "execution_count": 262,
          "metadata": {},
          "output_type": "execute_result"
        }
      ],
      "source": [
        "df1"
      ]
    },
    {
      "cell_type": "code",
      "execution_count": 263,
      "metadata": {
        "colab": {
          "base_uri": "https://localhost:8080/",
          "height": 269
        },
        "id": "DupwNISvepD9",
        "outputId": "e1f8bda4-962a-44a6-d053-54fbb54f91ef"
      },
      "outputs": [
        {
          "data": {
            "text/html": [
              "<div>\n",
              "<style scoped>\n",
              "    .dataframe tbody tr th:only-of-type {\n",
              "        vertical-align: middle;\n",
              "    }\n",
              "\n",
              "    .dataframe tbody tr th {\n",
              "        vertical-align: top;\n",
              "    }\n",
              "\n",
              "    .dataframe thead th {\n",
              "        text-align: right;\n",
              "    }\n",
              "</style>\n",
              "<table border=\"1\" class=\"dataframe\">\n",
              "  <thead>\n",
              "    <tr style=\"text-align: right;\">\n",
              "      <th></th>\n",
              "      <th>col1</th>\n",
              "      <th>col2</th>\n",
              "      <th>col3</th>\n",
              "    </tr>\n",
              "  </thead>\n",
              "  <tbody>\n",
              "    <tr>\n",
              "      <th>0</th>\n",
              "      <td>0.234919</td>\n",
              "      <td>0.044510</td>\n",
              "      <td>0.440413</td>\n",
              "    </tr>\n",
              "    <tr>\n",
              "      <th>1</th>\n",
              "      <td>0.042301</td>\n",
              "      <td>0.204663</td>\n",
              "      <td>0.875775</td>\n",
              "    </tr>\n",
              "    <tr>\n",
              "      <th>2</th>\n",
              "      <td>0.544399</td>\n",
              "      <td>0.317039</td>\n",
              "      <td>0.352392</td>\n",
              "    </tr>\n",
              "    <tr>\n",
              "      <th>3</th>\n",
              "      <td>0.434936</td>\n",
              "      <td>0.799592</td>\n",
              "      <td>0.867572</td>\n",
              "    </tr>\n",
              "    <tr>\n",
              "      <th>4</th>\n",
              "      <td>0.691188</td>\n",
              "      <td>0.693963</td>\n",
              "      <td>0.247958</td>\n",
              "    </tr>\n",
              "    <tr>\n",
              "      <th>5</th>\n",
              "      <td>0.474674</td>\n",
              "      <td>0.734125</td>\n",
              "      <td>0.044502</td>\n",
              "    </tr>\n",
              "    <tr>\n",
              "      <th>6</th>\n",
              "      <td>0.231282</td>\n",
              "      <td>0.580525</td>\n",
              "      <td>0.063928</td>\n",
              "    </tr>\n",
              "  </tbody>\n",
              "</table>\n",
              "</div>"
            ],
            "text/plain": [
              "       col1      col2      col3\n",
              "0  0.234919  0.044510  0.440413\n",
              "1  0.042301  0.204663  0.875775\n",
              "2  0.544399  0.317039  0.352392\n",
              "3  0.434936  0.799592  0.867572\n",
              "4  0.691188  0.693963  0.247958\n",
              "5  0.474674  0.734125  0.044502\n",
              "6  0.231282  0.580525  0.063928"
            ]
          },
          "execution_count": 263,
          "metadata": {},
          "output_type": "execute_result"
        }
      ],
      "source": [
        "df2"
      ]
    },
    {
      "cell_type": "code",
      "execution_count": 264,
      "metadata": {
        "colab": {
          "base_uri": "https://localhost:8080/",
          "height": 583
        },
        "id": "YgPJRH8xeqtW",
        "outputId": "d52828cf-58d7-405b-fd17-194f88cca612"
      },
      "outputs": [
        {
          "data": {
            "text/html": [
              "<div>\n",
              "<style scoped>\n",
              "    .dataframe tbody tr th:only-of-type {\n",
              "        vertical-align: middle;\n",
              "    }\n",
              "\n",
              "    .dataframe tbody tr th {\n",
              "        vertical-align: top;\n",
              "    }\n",
              "\n",
              "    .dataframe thead th {\n",
              "        text-align: right;\n",
              "    }\n",
              "</style>\n",
              "<table border=\"1\" class=\"dataframe\">\n",
              "  <thead>\n",
              "    <tr style=\"text-align: right;\">\n",
              "      <th></th>\n",
              "      <th>col1</th>\n",
              "      <th>col2</th>\n",
              "      <th>col3</th>\n",
              "    </tr>\n",
              "  </thead>\n",
              "  <tbody>\n",
              "    <tr>\n",
              "      <th>0</th>\n",
              "      <td>0.787881</td>\n",
              "      <td>0.206257</td>\n",
              "      <td>0.453105</td>\n",
              "    </tr>\n",
              "    <tr>\n",
              "      <th>1</th>\n",
              "      <td>0.425835</td>\n",
              "      <td>0.559122</td>\n",
              "      <td>0.913961</td>\n",
              "    </tr>\n",
              "    <tr>\n",
              "      <th>2</th>\n",
              "      <td>0.064862</td>\n",
              "      <td>0.726644</td>\n",
              "      <td>0.057390</td>\n",
              "    </tr>\n",
              "    <tr>\n",
              "      <th>3</th>\n",
              "      <td>0.739837</td>\n",
              "      <td>0.863452</td>\n",
              "      <td>0.371117</td>\n",
              "    </tr>\n",
              "    <tr>\n",
              "      <th>4</th>\n",
              "      <td>0.857346</td>\n",
              "      <td>0.032999</td>\n",
              "      <td>0.125343</td>\n",
              "    </tr>\n",
              "    <tr>\n",
              "      <th>5</th>\n",
              "      <td>0.926936</td>\n",
              "      <td>0.569222</td>\n",
              "      <td>0.692944</td>\n",
              "    </tr>\n",
              "    <tr>\n",
              "      <th>6</th>\n",
              "      <td>0.844903</td>\n",
              "      <td>0.913935</td>\n",
              "      <td>0.458493</td>\n",
              "    </tr>\n",
              "    <tr>\n",
              "      <th>7</th>\n",
              "      <td>0.045321</td>\n",
              "      <td>0.287195</td>\n",
              "      <td>0.450833</td>\n",
              "    </tr>\n",
              "    <tr>\n",
              "      <th>8</th>\n",
              "      <td>0.712175</td>\n",
              "      <td>0.442347</td>\n",
              "      <td>0.969196</td>\n",
              "    </tr>\n",
              "    <tr>\n",
              "      <th>9</th>\n",
              "      <td>0.983448</td>\n",
              "      <td>0.511809</td>\n",
              "      <td>0.573865</td>\n",
              "    </tr>\n",
              "    <tr>\n",
              "      <th>10</th>\n",
              "      <td>0.234919</td>\n",
              "      <td>0.044510</td>\n",
              "      <td>0.440413</td>\n",
              "    </tr>\n",
              "    <tr>\n",
              "      <th>11</th>\n",
              "      <td>0.042301</td>\n",
              "      <td>0.204663</td>\n",
              "      <td>0.875775</td>\n",
              "    </tr>\n",
              "    <tr>\n",
              "      <th>12</th>\n",
              "      <td>0.544399</td>\n",
              "      <td>0.317039</td>\n",
              "      <td>0.352392</td>\n",
              "    </tr>\n",
              "    <tr>\n",
              "      <th>13</th>\n",
              "      <td>0.434936</td>\n",
              "      <td>0.799592</td>\n",
              "      <td>0.867572</td>\n",
              "    </tr>\n",
              "    <tr>\n",
              "      <th>14</th>\n",
              "      <td>0.691188</td>\n",
              "      <td>0.693963</td>\n",
              "      <td>0.247958</td>\n",
              "    </tr>\n",
              "    <tr>\n",
              "      <th>15</th>\n",
              "      <td>0.474674</td>\n",
              "      <td>0.734125</td>\n",
              "      <td>0.044502</td>\n",
              "    </tr>\n",
              "    <tr>\n",
              "      <th>16</th>\n",
              "      <td>0.231282</td>\n",
              "      <td>0.580525</td>\n",
              "      <td>0.063928</td>\n",
              "    </tr>\n",
              "  </tbody>\n",
              "</table>\n",
              "</div>"
            ],
            "text/plain": [
              "        col1      col2      col3\n",
              "0   0.787881  0.206257  0.453105\n",
              "1   0.425835  0.559122  0.913961\n",
              "2   0.064862  0.726644  0.057390\n",
              "3   0.739837  0.863452  0.371117\n",
              "4   0.857346  0.032999  0.125343\n",
              "5   0.926936  0.569222  0.692944\n",
              "6   0.844903  0.913935  0.458493\n",
              "7   0.045321  0.287195  0.450833\n",
              "8   0.712175  0.442347  0.969196\n",
              "9   0.983448  0.511809  0.573865\n",
              "10  0.234919  0.044510  0.440413\n",
              "11  0.042301  0.204663  0.875775\n",
              "12  0.544399  0.317039  0.352392\n",
              "13  0.434936  0.799592  0.867572\n",
              "14  0.691188  0.693963  0.247958\n",
              "15  0.474674  0.734125  0.044502\n",
              "16  0.231282  0.580525  0.063928"
            ]
          },
          "execution_count": 264,
          "metadata": {},
          "output_type": "execute_result"
        }
      ],
      "source": [
        "df3 = pd.concat([df1,df2],ignore_index = True)\n",
        "df3"
      ]
    },
    {
      "cell_type": "code",
      "execution_count": 265,
      "metadata": {
        "colab": {
          "base_uri": "https://localhost:8080/"
        },
        "id": "P8XbVbv_fWq2",
        "outputId": "df9a08db-629e-498a-cf64-9574bfa799aa"
      },
      "outputs": [
        {
          "name": "stdout",
          "output_type": "stream",
          "text": [
            "0.45310455169596153\n",
            "0.9139606012677391\n",
            "0.057389608755112564\n",
            "0.3711174150931381\n",
            "0.12534271190811253\n",
            "0.6929444002255982\n",
            "0.45849299217023953\n",
            "0.45083285976926724\n",
            "0.9691961860491067\n",
            "0.5738650702144997\n",
            "0.44041254502081184\n",
            "0.8757752453180931\n",
            "0.35239160122341573\n",
            "0.8675720419647955\n",
            "0.24795798401580216\n",
            "0.04450207463295286\n",
            "0.06392754595722705\n"
          ]
        }
      ],
      "source": [
        "# if i want to call col3 in loop.\n",
        "for i in df3.col3:\n",
        "  print (i)"
      ]
    },
    {
      "cell_type": "markdown",
      "metadata": {
        "id": "oNJfny8Dgogs"
      },
      "source": [
        "### Iteritems\n",
        "\n",
        "- for column"
      ]
    },
    {
      "cell_type": "code",
      "execution_count": 266,
      "metadata": {
        "colab": {
          "base_uri": "https://localhost:8080/"
        },
        "id": "h0Zs54gWfw9I",
        "outputId": "6c96e76d-14c6-4505-d6e5-2b77037b969b"
      },
      "outputs": [
        {
          "name": "stdout",
          "output_type": "stream",
          "text": [
            "col1 0     0.787881\n",
            "1     0.425835\n",
            "2     0.064862\n",
            "3     0.739837\n",
            "4     0.857346\n",
            "5     0.926936\n",
            "6     0.844903\n",
            "7     0.045321\n",
            "8     0.712175\n",
            "9     0.983448\n",
            "10    0.234919\n",
            "11    0.042301\n",
            "12    0.544399\n",
            "13    0.434936\n",
            "14    0.691188\n",
            "15    0.474674\n",
            "16    0.231282\n",
            "Name: col1, dtype: float64\n",
            "col2 0     0.206257\n",
            "1     0.559122\n",
            "2     0.726644\n",
            "3     0.863452\n",
            "4     0.032999\n",
            "5     0.569222\n",
            "6     0.913935\n",
            "7     0.287195\n",
            "8     0.442347\n",
            "9     0.511809\n",
            "10    0.044510\n",
            "11    0.204663\n",
            "12    0.317039\n",
            "13    0.799592\n",
            "14    0.693963\n",
            "15    0.734125\n",
            "16    0.580525\n",
            "Name: col2, dtype: float64\n",
            "col3 0     0.453105\n",
            "1     0.913961\n",
            "2     0.057390\n",
            "3     0.371117\n",
            "4     0.125343\n",
            "5     0.692944\n",
            "6     0.458493\n",
            "7     0.450833\n",
            "8     0.969196\n",
            "9     0.573865\n",
            "10    0.440413\n",
            "11    0.875775\n",
            "12    0.352392\n",
            "13    0.867572\n",
            "14    0.247958\n",
            "15    0.044502\n",
            "16    0.063928\n",
            "Name: col3, dtype: float64\n"
          ]
        }
      ],
      "source": [
        "# if you have to iterate each column in loops.\n",
        "\n",
        "for key, values in df3.iteritems():\n",
        "  print (key,values)"
      ]
    },
    {
      "cell_type": "markdown",
      "metadata": {
        "id": "Pv5auxvrhwZA"
      },
      "source": [
        "### iterrows\n",
        "\n",
        "- if we want to iterate the rows."
      ]
    },
    {
      "cell_type": "code",
      "execution_count": 267,
      "metadata": {
        "colab": {
          "base_uri": "https://localhost:8080/"
        },
        "id": "-2uPZxL2gmUP",
        "outputId": "6e0cbbd7-1449-4292-8151-dc4885e5326e"
      },
      "outputs": [
        {
          "name": "stdout",
          "output_type": "stream",
          "text": [
            "0 col1    0.787881\n",
            "col2    0.206257\n",
            "col3    0.453105\n",
            "Name: 0, dtype: float64\n",
            "1 col1    0.425835\n",
            "col2    0.559122\n",
            "col3    0.913961\n",
            "Name: 1, dtype: float64\n",
            "2 col1    0.064862\n",
            "col2    0.726644\n",
            "col3    0.057390\n",
            "Name: 2, dtype: float64\n",
            "3 col1    0.739837\n",
            "col2    0.863452\n",
            "col3    0.371117\n",
            "Name: 3, dtype: float64\n",
            "4 col1    0.857346\n",
            "col2    0.032999\n",
            "col3    0.125343\n",
            "Name: 4, dtype: float64\n",
            "5 col1    0.926936\n",
            "col2    0.569222\n",
            "col3    0.692944\n",
            "Name: 5, dtype: float64\n",
            "6 col1    0.844903\n",
            "col2    0.913935\n",
            "col3    0.458493\n",
            "Name: 6, dtype: float64\n",
            "7 col1    0.045321\n",
            "col2    0.287195\n",
            "col3    0.450833\n",
            "Name: 7, dtype: float64\n",
            "8 col1    0.712175\n",
            "col2    0.442347\n",
            "col3    0.969196\n",
            "Name: 8, dtype: float64\n",
            "9 col1    0.983448\n",
            "col2    0.511809\n",
            "col3    0.573865\n",
            "Name: 9, dtype: float64\n",
            "10 col1    0.234919\n",
            "col2    0.044510\n",
            "col3    0.440413\n",
            "Name: 10, dtype: float64\n",
            "11 col1    0.042301\n",
            "col2    0.204663\n",
            "col3    0.875775\n",
            "Name: 11, dtype: float64\n",
            "12 col1    0.544399\n",
            "col2    0.317039\n",
            "col3    0.352392\n",
            "Name: 12, dtype: float64\n",
            "13 col1    0.434936\n",
            "col2    0.799592\n",
            "col3    0.867572\n",
            "Name: 13, dtype: float64\n",
            "14 col1    0.691188\n",
            "col2    0.693963\n",
            "col3    0.247958\n",
            "Name: 14, dtype: float64\n",
            "15 col1    0.474674\n",
            "col2    0.734125\n",
            "col3    0.044502\n",
            "Name: 15, dtype: float64\n",
            "16 col1    0.231282\n",
            "col2    0.580525\n",
            "col3    0.063928\n",
            "Name: 16, dtype: float64\n"
          ]
        }
      ],
      "source": [
        "for index, row in df3.iterrows():\n",
        "  print (index, row)"
      ]
    },
    {
      "cell_type": "markdown",
      "metadata": {
        "id": "yFL_HTZUz2TS"
      },
      "source": [
        "### sort - sort_index ( )\n",
        "\n",
        "- Rows"
      ]
    },
    {
      "cell_type": "code",
      "execution_count": 268,
      "metadata": {
        "colab": {
          "base_uri": "https://localhost:8080/",
          "height": 363
        },
        "id": "HU5N0uzdh4EP",
        "outputId": "28c6847f-9d8c-4b03-d45b-8dff17939378"
      },
      "outputs": [
        {
          "data": {
            "text/html": [
              "<div>\n",
              "<style scoped>\n",
              "    .dataframe tbody tr th:only-of-type {\n",
              "        vertical-align: middle;\n",
              "    }\n",
              "\n",
              "    .dataframe tbody tr th {\n",
              "        vertical-align: top;\n",
              "    }\n",
              "\n",
              "    .dataframe thead th {\n",
              "        text-align: right;\n",
              "    }\n",
              "</style>\n",
              "<table border=\"1\" class=\"dataframe\">\n",
              "  <thead>\n",
              "    <tr style=\"text-align: right;\">\n",
              "      <th></th>\n",
              "      <th>col1</th>\n",
              "      <th>col2</th>\n",
              "      <th>col3</th>\n",
              "    </tr>\n",
              "  </thead>\n",
              "  <tbody>\n",
              "    <tr>\n",
              "      <th>5</th>\n",
              "      <td>0.269832</td>\n",
              "      <td>0.826161</td>\n",
              "      <td>0.331373</td>\n",
              "    </tr>\n",
              "    <tr>\n",
              "      <th>7</th>\n",
              "      <td>0.001054</td>\n",
              "      <td>0.304685</td>\n",
              "      <td>0.312490</td>\n",
              "    </tr>\n",
              "    <tr>\n",
              "      <th>3</th>\n",
              "      <td>0.203290</td>\n",
              "      <td>0.330149</td>\n",
              "      <td>0.418278</td>\n",
              "    </tr>\n",
              "    <tr>\n",
              "      <th>9</th>\n",
              "      <td>0.595823</td>\n",
              "      <td>0.392655</td>\n",
              "      <td>0.198027</td>\n",
              "    </tr>\n",
              "    <tr>\n",
              "      <th>2</th>\n",
              "      <td>0.403988</td>\n",
              "      <td>0.523430</td>\n",
              "      <td>0.399732</td>\n",
              "    </tr>\n",
              "    <tr>\n",
              "      <th>1</th>\n",
              "      <td>0.282858</td>\n",
              "      <td>0.967738</td>\n",
              "      <td>0.306247</td>\n",
              "    </tr>\n",
              "    <tr>\n",
              "      <th>9</th>\n",
              "      <td>0.475639</td>\n",
              "      <td>0.418365</td>\n",
              "      <td>0.545414</td>\n",
              "    </tr>\n",
              "    <tr>\n",
              "      <th>11</th>\n",
              "      <td>0.991630</td>\n",
              "      <td>0.560819</td>\n",
              "      <td>0.162634</td>\n",
              "    </tr>\n",
              "    <tr>\n",
              "      <th>21</th>\n",
              "      <td>0.901331</td>\n",
              "      <td>0.405263</td>\n",
              "      <td>0.927219</td>\n",
              "    </tr>\n",
              "    <tr>\n",
              "      <th>4</th>\n",
              "      <td>0.009828</td>\n",
              "      <td>0.641480</td>\n",
              "      <td>0.832129</td>\n",
              "    </tr>\n",
              "  </tbody>\n",
              "</table>\n",
              "</div>"
            ],
            "text/plain": [
              "        col1      col2      col3\n",
              "5   0.269832  0.826161  0.331373\n",
              "7   0.001054  0.304685  0.312490\n",
              "3   0.203290  0.330149  0.418278\n",
              "9   0.595823  0.392655  0.198027\n",
              "2   0.403988  0.523430  0.399732\n",
              "1   0.282858  0.967738  0.306247\n",
              "9   0.475639  0.418365  0.545414\n",
              "11  0.991630  0.560819  0.162634\n",
              "21  0.901331  0.405263  0.927219\n",
              "4   0.009828  0.641480  0.832129"
            ]
          },
          "execution_count": 268,
          "metadata": {},
          "output_type": "execute_result"
        }
      ],
      "source": [
        "unsorted_df = pd.DataFrame (np.random.rand(10,3),\n",
        "                            index = [5,7,3,9,2,1,9,11,21,4],\n",
        "                            columns = ['col1','col2','col3'])  \n",
        "\n",
        "unsorted_df"
      ]
    },
    {
      "cell_type": "code",
      "execution_count": 269,
      "metadata": {
        "colab": {
          "base_uri": "https://localhost:8080/",
          "height": 363
        },
        "id": "479s-DIM1vio",
        "outputId": "a3716ed2-c244-415f-d19e-74e6a49f51e7"
      },
      "outputs": [
        {
          "data": {
            "text/html": [
              "<div>\n",
              "<style scoped>\n",
              "    .dataframe tbody tr th:only-of-type {\n",
              "        vertical-align: middle;\n",
              "    }\n",
              "\n",
              "    .dataframe tbody tr th {\n",
              "        vertical-align: top;\n",
              "    }\n",
              "\n",
              "    .dataframe thead th {\n",
              "        text-align: right;\n",
              "    }\n",
              "</style>\n",
              "<table border=\"1\" class=\"dataframe\">\n",
              "  <thead>\n",
              "    <tr style=\"text-align: right;\">\n",
              "      <th></th>\n",
              "      <th>col1</th>\n",
              "      <th>col2</th>\n",
              "      <th>col3</th>\n",
              "    </tr>\n",
              "  </thead>\n",
              "  <tbody>\n",
              "    <tr>\n",
              "      <th>1</th>\n",
              "      <td>0.282858</td>\n",
              "      <td>0.967738</td>\n",
              "      <td>0.306247</td>\n",
              "    </tr>\n",
              "    <tr>\n",
              "      <th>2</th>\n",
              "      <td>0.403988</td>\n",
              "      <td>0.523430</td>\n",
              "      <td>0.399732</td>\n",
              "    </tr>\n",
              "    <tr>\n",
              "      <th>3</th>\n",
              "      <td>0.203290</td>\n",
              "      <td>0.330149</td>\n",
              "      <td>0.418278</td>\n",
              "    </tr>\n",
              "    <tr>\n",
              "      <th>4</th>\n",
              "      <td>0.009828</td>\n",
              "      <td>0.641480</td>\n",
              "      <td>0.832129</td>\n",
              "    </tr>\n",
              "    <tr>\n",
              "      <th>5</th>\n",
              "      <td>0.269832</td>\n",
              "      <td>0.826161</td>\n",
              "      <td>0.331373</td>\n",
              "    </tr>\n",
              "    <tr>\n",
              "      <th>7</th>\n",
              "      <td>0.001054</td>\n",
              "      <td>0.304685</td>\n",
              "      <td>0.312490</td>\n",
              "    </tr>\n",
              "    <tr>\n",
              "      <th>9</th>\n",
              "      <td>0.595823</td>\n",
              "      <td>0.392655</td>\n",
              "      <td>0.198027</td>\n",
              "    </tr>\n",
              "    <tr>\n",
              "      <th>9</th>\n",
              "      <td>0.475639</td>\n",
              "      <td>0.418365</td>\n",
              "      <td>0.545414</td>\n",
              "    </tr>\n",
              "    <tr>\n",
              "      <th>11</th>\n",
              "      <td>0.991630</td>\n",
              "      <td>0.560819</td>\n",
              "      <td>0.162634</td>\n",
              "    </tr>\n",
              "    <tr>\n",
              "      <th>21</th>\n",
              "      <td>0.901331</td>\n",
              "      <td>0.405263</td>\n",
              "      <td>0.927219</td>\n",
              "    </tr>\n",
              "  </tbody>\n",
              "</table>\n",
              "</div>"
            ],
            "text/plain": [
              "        col1      col2      col3\n",
              "1   0.282858  0.967738  0.306247\n",
              "2   0.403988  0.523430  0.399732\n",
              "3   0.203290  0.330149  0.418278\n",
              "4   0.009828  0.641480  0.832129\n",
              "5   0.269832  0.826161  0.331373\n",
              "7   0.001054  0.304685  0.312490\n",
              "9   0.595823  0.392655  0.198027\n",
              "9   0.475639  0.418365  0.545414\n",
              "11  0.991630  0.560819  0.162634\n",
              "21  0.901331  0.405263  0.927219"
            ]
          },
          "execution_count": 269,
          "metadata": {},
          "output_type": "execute_result"
        }
      ],
      "source": [
        "unsorted_df.sort_index()"
      ]
    },
    {
      "cell_type": "code",
      "execution_count": 270,
      "metadata": {
        "colab": {
          "base_uri": "https://localhost:8080/",
          "height": 363
        },
        "id": "s-L4QzGf11vg",
        "outputId": "5294f2a2-4532-4f1c-c8d0-93a0c79fe2db"
      },
      "outputs": [
        {
          "data": {
            "text/html": [
              "<div>\n",
              "<style scoped>\n",
              "    .dataframe tbody tr th:only-of-type {\n",
              "        vertical-align: middle;\n",
              "    }\n",
              "\n",
              "    .dataframe tbody tr th {\n",
              "        vertical-align: top;\n",
              "    }\n",
              "\n",
              "    .dataframe thead th {\n",
              "        text-align: right;\n",
              "    }\n",
              "</style>\n",
              "<table border=\"1\" class=\"dataframe\">\n",
              "  <thead>\n",
              "    <tr style=\"text-align: right;\">\n",
              "      <th></th>\n",
              "      <th>col1</th>\n",
              "      <th>col2</th>\n",
              "      <th>col3</th>\n",
              "    </tr>\n",
              "  </thead>\n",
              "  <tbody>\n",
              "    <tr>\n",
              "      <th>21</th>\n",
              "      <td>0.901331</td>\n",
              "      <td>0.405263</td>\n",
              "      <td>0.927219</td>\n",
              "    </tr>\n",
              "    <tr>\n",
              "      <th>11</th>\n",
              "      <td>0.991630</td>\n",
              "      <td>0.560819</td>\n",
              "      <td>0.162634</td>\n",
              "    </tr>\n",
              "    <tr>\n",
              "      <th>9</th>\n",
              "      <td>0.595823</td>\n",
              "      <td>0.392655</td>\n",
              "      <td>0.198027</td>\n",
              "    </tr>\n",
              "    <tr>\n",
              "      <th>9</th>\n",
              "      <td>0.475639</td>\n",
              "      <td>0.418365</td>\n",
              "      <td>0.545414</td>\n",
              "    </tr>\n",
              "    <tr>\n",
              "      <th>7</th>\n",
              "      <td>0.001054</td>\n",
              "      <td>0.304685</td>\n",
              "      <td>0.312490</td>\n",
              "    </tr>\n",
              "    <tr>\n",
              "      <th>5</th>\n",
              "      <td>0.269832</td>\n",
              "      <td>0.826161</td>\n",
              "      <td>0.331373</td>\n",
              "    </tr>\n",
              "    <tr>\n",
              "      <th>4</th>\n",
              "      <td>0.009828</td>\n",
              "      <td>0.641480</td>\n",
              "      <td>0.832129</td>\n",
              "    </tr>\n",
              "    <tr>\n",
              "      <th>3</th>\n",
              "      <td>0.203290</td>\n",
              "      <td>0.330149</td>\n",
              "      <td>0.418278</td>\n",
              "    </tr>\n",
              "    <tr>\n",
              "      <th>2</th>\n",
              "      <td>0.403988</td>\n",
              "      <td>0.523430</td>\n",
              "      <td>0.399732</td>\n",
              "    </tr>\n",
              "    <tr>\n",
              "      <th>1</th>\n",
              "      <td>0.282858</td>\n",
              "      <td>0.967738</td>\n",
              "      <td>0.306247</td>\n",
              "    </tr>\n",
              "  </tbody>\n",
              "</table>\n",
              "</div>"
            ],
            "text/plain": [
              "        col1      col2      col3\n",
              "21  0.901331  0.405263  0.927219\n",
              "11  0.991630  0.560819  0.162634\n",
              "9   0.595823  0.392655  0.198027\n",
              "9   0.475639  0.418365  0.545414\n",
              "7   0.001054  0.304685  0.312490\n",
              "5   0.269832  0.826161  0.331373\n",
              "4   0.009828  0.641480  0.832129\n",
              "3   0.203290  0.330149  0.418278\n",
              "2   0.403988  0.523430  0.399732\n",
              "1   0.282858  0.967738  0.306247"
            ]
          },
          "execution_count": 270,
          "metadata": {},
          "output_type": "execute_result"
        }
      ],
      "source": [
        "unsorted_df.sort_index(ascending = False)"
      ]
    },
    {
      "cell_type": "markdown",
      "metadata": {
        "id": "UZ_rvOT32wuG"
      },
      "source": [
        "- columns"
      ]
    },
    {
      "cell_type": "code",
      "execution_count": 271,
      "metadata": {
        "colab": {
          "base_uri": "https://localhost:8080/",
          "height": 363
        },
        "id": "mEFNb_042p4o",
        "outputId": "22a43fc8-d129-4893-98a8-56cd9b46f104"
      },
      "outputs": [
        {
          "data": {
            "text/html": [
              "<div>\n",
              "<style scoped>\n",
              "    .dataframe tbody tr th:only-of-type {\n",
              "        vertical-align: middle;\n",
              "    }\n",
              "\n",
              "    .dataframe tbody tr th {\n",
              "        vertical-align: top;\n",
              "    }\n",
              "\n",
              "    .dataframe thead th {\n",
              "        text-align: right;\n",
              "    }\n",
              "</style>\n",
              "<table border=\"1\" class=\"dataframe\">\n",
              "  <thead>\n",
              "    <tr style=\"text-align: right;\">\n",
              "      <th></th>\n",
              "      <th>col1</th>\n",
              "      <th>col2</th>\n",
              "      <th>col3</th>\n",
              "    </tr>\n",
              "  </thead>\n",
              "  <tbody>\n",
              "    <tr>\n",
              "      <th>5</th>\n",
              "      <td>0.269832</td>\n",
              "      <td>0.826161</td>\n",
              "      <td>0.331373</td>\n",
              "    </tr>\n",
              "    <tr>\n",
              "      <th>7</th>\n",
              "      <td>0.001054</td>\n",
              "      <td>0.304685</td>\n",
              "      <td>0.312490</td>\n",
              "    </tr>\n",
              "    <tr>\n",
              "      <th>3</th>\n",
              "      <td>0.203290</td>\n",
              "      <td>0.330149</td>\n",
              "      <td>0.418278</td>\n",
              "    </tr>\n",
              "    <tr>\n",
              "      <th>9</th>\n",
              "      <td>0.595823</td>\n",
              "      <td>0.392655</td>\n",
              "      <td>0.198027</td>\n",
              "    </tr>\n",
              "    <tr>\n",
              "      <th>2</th>\n",
              "      <td>0.403988</td>\n",
              "      <td>0.523430</td>\n",
              "      <td>0.399732</td>\n",
              "    </tr>\n",
              "    <tr>\n",
              "      <th>1</th>\n",
              "      <td>0.282858</td>\n",
              "      <td>0.967738</td>\n",
              "      <td>0.306247</td>\n",
              "    </tr>\n",
              "    <tr>\n",
              "      <th>9</th>\n",
              "      <td>0.475639</td>\n",
              "      <td>0.418365</td>\n",
              "      <td>0.545414</td>\n",
              "    </tr>\n",
              "    <tr>\n",
              "      <th>11</th>\n",
              "      <td>0.991630</td>\n",
              "      <td>0.560819</td>\n",
              "      <td>0.162634</td>\n",
              "    </tr>\n",
              "    <tr>\n",
              "      <th>21</th>\n",
              "      <td>0.901331</td>\n",
              "      <td>0.405263</td>\n",
              "      <td>0.927219</td>\n",
              "    </tr>\n",
              "    <tr>\n",
              "      <th>4</th>\n",
              "      <td>0.009828</td>\n",
              "      <td>0.641480</td>\n",
              "      <td>0.832129</td>\n",
              "    </tr>\n",
              "  </tbody>\n",
              "</table>\n",
              "</div>"
            ],
            "text/plain": [
              "        col1      col2      col3\n",
              "5   0.269832  0.826161  0.331373\n",
              "7   0.001054  0.304685  0.312490\n",
              "3   0.203290  0.330149  0.418278\n",
              "9   0.595823  0.392655  0.198027\n",
              "2   0.403988  0.523430  0.399732\n",
              "1   0.282858  0.967738  0.306247\n",
              "9   0.475639  0.418365  0.545414\n",
              "11  0.991630  0.560819  0.162634\n",
              "21  0.901331  0.405263  0.927219\n",
              "4   0.009828  0.641480  0.832129"
            ]
          },
          "execution_count": 271,
          "metadata": {},
          "output_type": "execute_result"
        }
      ],
      "source": [
        "unsorted_df.sort_index(axis = 1)"
      ]
    },
    {
      "cell_type": "code",
      "execution_count": 272,
      "metadata": {
        "colab": {
          "base_uri": "https://localhost:8080/",
          "height": 363
        },
        "id": "ovHm68BS22Dv",
        "outputId": "716e0f51-a352-41b8-be46-8dc93f9de032"
      },
      "outputs": [
        {
          "data": {
            "text/html": [
              "<div>\n",
              "<style scoped>\n",
              "    .dataframe tbody tr th:only-of-type {\n",
              "        vertical-align: middle;\n",
              "    }\n",
              "\n",
              "    .dataframe tbody tr th {\n",
              "        vertical-align: top;\n",
              "    }\n",
              "\n",
              "    .dataframe thead th {\n",
              "        text-align: right;\n",
              "    }\n",
              "</style>\n",
              "<table border=\"1\" class=\"dataframe\">\n",
              "  <thead>\n",
              "    <tr style=\"text-align: right;\">\n",
              "      <th></th>\n",
              "      <th>col3</th>\n",
              "      <th>col2</th>\n",
              "      <th>col1</th>\n",
              "    </tr>\n",
              "  </thead>\n",
              "  <tbody>\n",
              "    <tr>\n",
              "      <th>5</th>\n",
              "      <td>0.331373</td>\n",
              "      <td>0.826161</td>\n",
              "      <td>0.269832</td>\n",
              "    </tr>\n",
              "    <tr>\n",
              "      <th>7</th>\n",
              "      <td>0.312490</td>\n",
              "      <td>0.304685</td>\n",
              "      <td>0.001054</td>\n",
              "    </tr>\n",
              "    <tr>\n",
              "      <th>3</th>\n",
              "      <td>0.418278</td>\n",
              "      <td>0.330149</td>\n",
              "      <td>0.203290</td>\n",
              "    </tr>\n",
              "    <tr>\n",
              "      <th>9</th>\n",
              "      <td>0.198027</td>\n",
              "      <td>0.392655</td>\n",
              "      <td>0.595823</td>\n",
              "    </tr>\n",
              "    <tr>\n",
              "      <th>2</th>\n",
              "      <td>0.399732</td>\n",
              "      <td>0.523430</td>\n",
              "      <td>0.403988</td>\n",
              "    </tr>\n",
              "    <tr>\n",
              "      <th>1</th>\n",
              "      <td>0.306247</td>\n",
              "      <td>0.967738</td>\n",
              "      <td>0.282858</td>\n",
              "    </tr>\n",
              "    <tr>\n",
              "      <th>9</th>\n",
              "      <td>0.545414</td>\n",
              "      <td>0.418365</td>\n",
              "      <td>0.475639</td>\n",
              "    </tr>\n",
              "    <tr>\n",
              "      <th>11</th>\n",
              "      <td>0.162634</td>\n",
              "      <td>0.560819</td>\n",
              "      <td>0.991630</td>\n",
              "    </tr>\n",
              "    <tr>\n",
              "      <th>21</th>\n",
              "      <td>0.927219</td>\n",
              "      <td>0.405263</td>\n",
              "      <td>0.901331</td>\n",
              "    </tr>\n",
              "    <tr>\n",
              "      <th>4</th>\n",
              "      <td>0.832129</td>\n",
              "      <td>0.641480</td>\n",
              "      <td>0.009828</td>\n",
              "    </tr>\n",
              "  </tbody>\n",
              "</table>\n",
              "</div>"
            ],
            "text/plain": [
              "        col3      col2      col1\n",
              "5   0.331373  0.826161  0.269832\n",
              "7   0.312490  0.304685  0.001054\n",
              "3   0.418278  0.330149  0.203290\n",
              "9   0.198027  0.392655  0.595823\n",
              "2   0.399732  0.523430  0.403988\n",
              "1   0.306247  0.967738  0.282858\n",
              "9   0.545414  0.418365  0.475639\n",
              "11  0.162634  0.560819  0.991630\n",
              "21  0.927219  0.405263  0.901331\n",
              "4   0.832129  0.641480  0.009828"
            ]
          },
          "execution_count": 272,
          "metadata": {},
          "output_type": "execute_result"
        }
      ],
      "source": [
        "unsorted_df.sort_index(axis = 1,ascending = False)"
      ]
    },
    {
      "cell_type": "markdown",
      "metadata": {
        "id": "vItZaKfA3voj"
      },
      "source": [
        "### sort_values ( )"
      ]
    },
    {
      "cell_type": "code",
      "execution_count": 311,
      "metadata": {
        "colab": {
          "base_uri": "https://localhost:8080/",
          "height": 175
        },
        "id": "Wz6bGZvB3JeP",
        "outputId": "357e7ea9-a2a1-4246-ccbd-2ae22d94aa1d"
      },
      "outputs": [
        {
          "data": {
            "text/html": [
              "<div>\n",
              "<style scoped>\n",
              "    .dataframe tbody tr th:only-of-type {\n",
              "        vertical-align: middle;\n",
              "    }\n",
              "\n",
              "    .dataframe tbody tr th {\n",
              "        vertical-align: top;\n",
              "    }\n",
              "\n",
              "    .dataframe thead th {\n",
              "        text-align: right;\n",
              "    }\n",
              "</style>\n",
              "<table border=\"1\" class=\"dataframe\">\n",
              "  <thead>\n",
              "    <tr style=\"text-align: right;\">\n",
              "      <th></th>\n",
              "      <th>Apples</th>\n",
              "      <th>Grapes</th>\n",
              "    </tr>\n",
              "  </thead>\n",
              "  <tbody>\n",
              "    <tr>\n",
              "      <th>0</th>\n",
              "      <td>50</td>\n",
              "      <td>100</td>\n",
              "    </tr>\n",
              "    <tr>\n",
              "      <th>1</th>\n",
              "      <td>95</td>\n",
              "      <td>45</td>\n",
              "    </tr>\n",
              "    <tr>\n",
              "      <th>2</th>\n",
              "      <td>105</td>\n",
              "      <td>99</td>\n",
              "    </tr>\n",
              "    <tr>\n",
              "      <th>3</th>\n",
              "      <td>75</td>\n",
              "      <td>0</td>\n",
              "    </tr>\n",
              "  </tbody>\n",
              "</table>\n",
              "</div>"
            ],
            "text/plain": [
              "   Apples  Grapes\n",
              "0      50     100\n",
              "1      95      45\n",
              "2     105      99\n",
              "3      75       0"
            ]
          },
          "execution_count": 311,
          "metadata": {},
          "output_type": "execute_result"
        }
      ],
      "source": [
        "df = pd.DataFrame({\"Apples\":[50,95,105,75], \"Grapes\":[100,45,99,0]})\n",
        "df"
      ]
    },
    {
      "cell_type": "code",
      "execution_count": 274,
      "metadata": {
        "colab": {
          "base_uri": "https://localhost:8080/",
          "height": 175
        },
        "id": "-IxabGBQ4Jq7",
        "outputId": "feede0c2-f83e-4887-c2c5-9dc74e2b04d8"
      },
      "outputs": [
        {
          "data": {
            "text/html": [
              "<div>\n",
              "<style scoped>\n",
              "    .dataframe tbody tr th:only-of-type {\n",
              "        vertical-align: middle;\n",
              "    }\n",
              "\n",
              "    .dataframe tbody tr th {\n",
              "        vertical-align: top;\n",
              "    }\n",
              "\n",
              "    .dataframe thead th {\n",
              "        text-align: right;\n",
              "    }\n",
              "</style>\n",
              "<table border=\"1\" class=\"dataframe\">\n",
              "  <thead>\n",
              "    <tr style=\"text-align: right;\">\n",
              "      <th></th>\n",
              "      <th>Apples</th>\n",
              "      <th>Grapes</th>\n",
              "    </tr>\n",
              "  </thead>\n",
              "  <tbody>\n",
              "    <tr>\n",
              "      <th>0</th>\n",
              "      <td>50</td>\n",
              "      <td>100</td>\n",
              "    </tr>\n",
              "    <tr>\n",
              "      <th>3</th>\n",
              "      <td>75</td>\n",
              "      <td>0</td>\n",
              "    </tr>\n",
              "    <tr>\n",
              "      <th>1</th>\n",
              "      <td>95</td>\n",
              "      <td>45</td>\n",
              "    </tr>\n",
              "    <tr>\n",
              "      <th>2</th>\n",
              "      <td>105</td>\n",
              "      <td>99</td>\n",
              "    </tr>\n",
              "  </tbody>\n",
              "</table>\n",
              "</div>"
            ],
            "text/plain": [
              "   Apples  Grapes\n",
              "0      50     100\n",
              "3      75       0\n",
              "1      95      45\n",
              "2     105      99"
            ]
          },
          "execution_count": 274,
          "metadata": {},
          "output_type": "execute_result"
        }
      ],
      "source": [
        "df.sort_values(by = ['Apples','Grapes'])"
      ]
    },
    {
      "cell_type": "markdown",
      "metadata": {
        "id": "FFGrQNk-CtxW"
      },
      "source": [
        "- sort_value using kind\n",
        "    - types of kind:\n",
        "      - Quicksort\n",
        "      - Mergesort\n",
        "      - Heapsort"
      ]
    },
    {
      "cell_type": "code",
      "execution_count": 275,
      "metadata": {
        "colab": {
          "base_uri": "https://localhost:8080/",
          "height": 175
        },
        "id": "LtmWT0ry4Yfu",
        "outputId": "3728dc74-c086-43a8-e469-fbd100b282ba"
      },
      "outputs": [
        {
          "data": {
            "text/html": [
              "<div>\n",
              "<style scoped>\n",
              "    .dataframe tbody tr th:only-of-type {\n",
              "        vertical-align: middle;\n",
              "    }\n",
              "\n",
              "    .dataframe tbody tr th {\n",
              "        vertical-align: top;\n",
              "    }\n",
              "\n",
              "    .dataframe thead th {\n",
              "        text-align: right;\n",
              "    }\n",
              "</style>\n",
              "<table border=\"1\" class=\"dataframe\">\n",
              "  <thead>\n",
              "    <tr style=\"text-align: right;\">\n",
              "      <th></th>\n",
              "      <th>Apples</th>\n",
              "      <th>Grapes</th>\n",
              "    </tr>\n",
              "  </thead>\n",
              "  <tbody>\n",
              "    <tr>\n",
              "      <th>0</th>\n",
              "      <td>50</td>\n",
              "      <td>100</td>\n",
              "    </tr>\n",
              "    <tr>\n",
              "      <th>3</th>\n",
              "      <td>75</td>\n",
              "      <td>0</td>\n",
              "    </tr>\n",
              "    <tr>\n",
              "      <th>1</th>\n",
              "      <td>95</td>\n",
              "      <td>45</td>\n",
              "    </tr>\n",
              "    <tr>\n",
              "      <th>2</th>\n",
              "      <td>105</td>\n",
              "      <td>99</td>\n",
              "    </tr>\n",
              "  </tbody>\n",
              "</table>\n",
              "</div>"
            ],
            "text/plain": [
              "   Apples  Grapes\n",
              "0      50     100\n",
              "3      75       0\n",
              "1      95      45\n",
              "2     105      99"
            ]
          },
          "execution_count": 275,
          "metadata": {},
          "output_type": "execute_result"
        }
      ],
      "source": [
        "df.sort_values(by = ['Apples','Grapes'],kind ='mergesort')"
      ]
    },
    {
      "attachments": {},
      "cell_type": "markdown",
      "metadata": {
        "id": "Dxpmh6hvDN_R"
      },
      "source": [
        "## Stast - Advance"
      ]
    },
    {
      "cell_type": "code",
      "execution_count": 276,
      "metadata": {
        "colab": {
          "base_uri": "https://localhost:8080/",
          "height": 583
        },
        "id": "Je_DBOWDDMHx",
        "outputId": "76069ae0-59bf-403f-9781-94233bbd8c49"
      },
      "outputs": [
        {
          "data": {
            "text/html": [
              "<div>\n",
              "<style scoped>\n",
              "    .dataframe tbody tr th:only-of-type {\n",
              "        vertical-align: middle;\n",
              "    }\n",
              "\n",
              "    .dataframe tbody tr th {\n",
              "        vertical-align: top;\n",
              "    }\n",
              "\n",
              "    .dataframe thead th {\n",
              "        text-align: right;\n",
              "    }\n",
              "</style>\n",
              "<table border=\"1\" class=\"dataframe\">\n",
              "  <thead>\n",
              "    <tr style=\"text-align: right;\">\n",
              "      <th></th>\n",
              "      <th>col1</th>\n",
              "      <th>col2</th>\n",
              "      <th>col3</th>\n",
              "    </tr>\n",
              "  </thead>\n",
              "  <tbody>\n",
              "    <tr>\n",
              "      <th>0</th>\n",
              "      <td>0.787881</td>\n",
              "      <td>0.206257</td>\n",
              "      <td>0.453105</td>\n",
              "    </tr>\n",
              "    <tr>\n",
              "      <th>1</th>\n",
              "      <td>0.425835</td>\n",
              "      <td>0.559122</td>\n",
              "      <td>0.913961</td>\n",
              "    </tr>\n",
              "    <tr>\n",
              "      <th>2</th>\n",
              "      <td>0.064862</td>\n",
              "      <td>0.726644</td>\n",
              "      <td>0.057390</td>\n",
              "    </tr>\n",
              "    <tr>\n",
              "      <th>3</th>\n",
              "      <td>0.739837</td>\n",
              "      <td>0.863452</td>\n",
              "      <td>0.371117</td>\n",
              "    </tr>\n",
              "    <tr>\n",
              "      <th>4</th>\n",
              "      <td>0.857346</td>\n",
              "      <td>0.032999</td>\n",
              "      <td>0.125343</td>\n",
              "    </tr>\n",
              "    <tr>\n",
              "      <th>5</th>\n",
              "      <td>0.926936</td>\n",
              "      <td>0.569222</td>\n",
              "      <td>0.692944</td>\n",
              "    </tr>\n",
              "    <tr>\n",
              "      <th>6</th>\n",
              "      <td>0.844903</td>\n",
              "      <td>0.913935</td>\n",
              "      <td>0.458493</td>\n",
              "    </tr>\n",
              "    <tr>\n",
              "      <th>7</th>\n",
              "      <td>0.045321</td>\n",
              "      <td>0.287195</td>\n",
              "      <td>0.450833</td>\n",
              "    </tr>\n",
              "    <tr>\n",
              "      <th>8</th>\n",
              "      <td>0.712175</td>\n",
              "      <td>0.442347</td>\n",
              "      <td>0.969196</td>\n",
              "    </tr>\n",
              "    <tr>\n",
              "      <th>9</th>\n",
              "      <td>0.983448</td>\n",
              "      <td>0.511809</td>\n",
              "      <td>0.573865</td>\n",
              "    </tr>\n",
              "    <tr>\n",
              "      <th>10</th>\n",
              "      <td>0.234919</td>\n",
              "      <td>0.044510</td>\n",
              "      <td>0.440413</td>\n",
              "    </tr>\n",
              "    <tr>\n",
              "      <th>11</th>\n",
              "      <td>0.042301</td>\n",
              "      <td>0.204663</td>\n",
              "      <td>0.875775</td>\n",
              "    </tr>\n",
              "    <tr>\n",
              "      <th>12</th>\n",
              "      <td>0.544399</td>\n",
              "      <td>0.317039</td>\n",
              "      <td>0.352392</td>\n",
              "    </tr>\n",
              "    <tr>\n",
              "      <th>13</th>\n",
              "      <td>0.434936</td>\n",
              "      <td>0.799592</td>\n",
              "      <td>0.867572</td>\n",
              "    </tr>\n",
              "    <tr>\n",
              "      <th>14</th>\n",
              "      <td>0.691188</td>\n",
              "      <td>0.693963</td>\n",
              "      <td>0.247958</td>\n",
              "    </tr>\n",
              "    <tr>\n",
              "      <th>15</th>\n",
              "      <td>0.474674</td>\n",
              "      <td>0.734125</td>\n",
              "      <td>0.044502</td>\n",
              "    </tr>\n",
              "    <tr>\n",
              "      <th>16</th>\n",
              "      <td>0.231282</td>\n",
              "      <td>0.580525</td>\n",
              "      <td>0.063928</td>\n",
              "    </tr>\n",
              "  </tbody>\n",
              "</table>\n",
              "</div>"
            ],
            "text/plain": [
              "        col1      col2      col3\n",
              "0   0.787881  0.206257  0.453105\n",
              "1   0.425835  0.559122  0.913961\n",
              "2   0.064862  0.726644  0.057390\n",
              "3   0.739837  0.863452  0.371117\n",
              "4   0.857346  0.032999  0.125343\n",
              "5   0.926936  0.569222  0.692944\n",
              "6   0.844903  0.913935  0.458493\n",
              "7   0.045321  0.287195  0.450833\n",
              "8   0.712175  0.442347  0.969196\n",
              "9   0.983448  0.511809  0.573865\n",
              "10  0.234919  0.044510  0.440413\n",
              "11  0.042301  0.204663  0.875775\n",
              "12  0.544399  0.317039  0.352392\n",
              "13  0.434936  0.799592  0.867572\n",
              "14  0.691188  0.693963  0.247958\n",
              "15  0.474674  0.734125  0.044502\n",
              "16  0.231282  0.580525  0.063928"
            ]
          },
          "execution_count": 276,
          "metadata": {},
          "output_type": "execute_result"
        }
      ],
      "source": [
        "df3"
      ]
    },
    {
      "cell_type": "code",
      "execution_count": 277,
      "metadata": {
        "colab": {
          "base_uri": "https://localhost:8080/",
          "height": 300
        },
        "id": "Okx_B3L1DUmR",
        "outputId": "ea519c2c-1e2b-4fdc-9ddd-8dc84eaea396"
      },
      "outputs": [
        {
          "data": {
            "text/html": [
              "<div>\n",
              "<style scoped>\n",
              "    .dataframe tbody tr th:only-of-type {\n",
              "        vertical-align: middle;\n",
              "    }\n",
              "\n",
              "    .dataframe tbody tr th {\n",
              "        vertical-align: top;\n",
              "    }\n",
              "\n",
              "    .dataframe thead th {\n",
              "        text-align: right;\n",
              "    }\n",
              "</style>\n",
              "<table border=\"1\" class=\"dataframe\">\n",
              "  <thead>\n",
              "    <tr style=\"text-align: right;\">\n",
              "      <th></th>\n",
              "      <th>col1</th>\n",
              "      <th>col2</th>\n",
              "      <th>col3</th>\n",
              "    </tr>\n",
              "  </thead>\n",
              "  <tbody>\n",
              "    <tr>\n",
              "      <th>0</th>\n",
              "      <td>0.787881</td>\n",
              "      <td>0.206257</td>\n",
              "      <td>0.453105</td>\n",
              "    </tr>\n",
              "    <tr>\n",
              "      <th>1</th>\n",
              "      <td>0.425835</td>\n",
              "      <td>0.559122</td>\n",
              "      <td>0.913961</td>\n",
              "    </tr>\n",
              "    <tr>\n",
              "      <th>2</th>\n",
              "      <td>0.064862</td>\n",
              "      <td>0.726644</td>\n",
              "      <td>0.057390</td>\n",
              "    </tr>\n",
              "    <tr>\n",
              "      <th>3</th>\n",
              "      <td>0.739837</td>\n",
              "      <td>0.863452</td>\n",
              "      <td>0.371117</td>\n",
              "    </tr>\n",
              "    <tr>\n",
              "      <th>4</th>\n",
              "      <td>0.857346</td>\n",
              "      <td>0.032999</td>\n",
              "      <td>0.125343</td>\n",
              "    </tr>\n",
              "    <tr>\n",
              "      <th>5</th>\n",
              "      <td>0.926936</td>\n",
              "      <td>0.569222</td>\n",
              "      <td>0.692944</td>\n",
              "    </tr>\n",
              "    <tr>\n",
              "      <th>6</th>\n",
              "      <td>0.844903</td>\n",
              "      <td>0.913935</td>\n",
              "      <td>0.458493</td>\n",
              "    </tr>\n",
              "    <tr>\n",
              "      <th>7</th>\n",
              "      <td>0.045321</td>\n",
              "      <td>0.287195</td>\n",
              "      <td>0.450833</td>\n",
              "    </tr>\n",
              "  </tbody>\n",
              "</table>\n",
              "</div>"
            ],
            "text/plain": [
              "       col1      col2      col3\n",
              "0  0.787881  0.206257  0.453105\n",
              "1  0.425835  0.559122  0.913961\n",
              "2  0.064862  0.726644  0.057390\n",
              "3  0.739837  0.863452  0.371117\n",
              "4  0.857346  0.032999  0.125343\n",
              "5  0.926936  0.569222  0.692944\n",
              "6  0.844903  0.913935  0.458493\n",
              "7  0.045321  0.287195  0.450833"
            ]
          },
          "execution_count": 277,
          "metadata": {},
          "output_type": "execute_result"
        }
      ],
      "source": [
        "df4 = df3.drop([8,9,10,11,12,13,14,15,16])\n",
        "df4"
      ]
    },
    {
      "cell_type": "markdown",
      "metadata": {
        "id": "5O7qMcLrFF1u"
      },
      "source": [
        "## Covariance \n",
        "- cov ( )"
      ]
    },
    {
      "cell_type": "code",
      "execution_count": 278,
      "metadata": {
        "colab": {
          "base_uri": "https://localhost:8080/"
        },
        "id": "dl68MjhxDatr",
        "outputId": "b06a74fd-a5a4-48c2-d111-b0d2d1c175ec"
      },
      "outputs": [
        {
          "data": {
            "text/plain": [
              "0    0.206257\n",
              "1    0.559122\n",
              "2    0.726644\n",
              "3    0.863452\n",
              "4    0.032999\n",
              "5    0.569222\n",
              "6    0.913935\n",
              "7    0.287195\n",
              "Name: col2, dtype: float64"
            ]
          },
          "execution_count": 278,
          "metadata": {},
          "output_type": "execute_result"
        }
      ],
      "source": [
        "df4['col2']"
      ]
    },
    {
      "cell_type": "code",
      "execution_count": 279,
      "metadata": {
        "colab": {
          "base_uri": "https://localhost:8080/"
        },
        "id": "68E539c8FQ0U",
        "outputId": "df1212ce-3b8e-4da9-84ad-86c71accd164"
      },
      "outputs": [
        {
          "data": {
            "text/plain": [
              "0    0.206257\n",
              "1    0.559122\n",
              "2    0.726644\n",
              "3    0.863452\n",
              "4    0.032999\n",
              "5    0.569222\n",
              "6    0.913935\n",
              "7    0.287195\n",
              "Name: col2, dtype: float64"
            ]
          },
          "execution_count": 279,
          "metadata": {},
          "output_type": "execute_result"
        }
      ],
      "source": [
        "df4.col2"
      ]
    },
    {
      "cell_type": "code",
      "execution_count": 280,
      "metadata": {
        "colab": {
          "base_uri": "https://localhost:8080/"
        },
        "id": "lSIKmhd8FZs6",
        "outputId": "856663d8-9a61-4a43-c573-2b2341132f51"
      },
      "outputs": [
        {
          "data": {
            "text/plain": [
              "0.011737353644905505"
            ]
          },
          "execution_count": 280,
          "metadata": {},
          "output_type": "execute_result"
        }
      ],
      "source": [
        "df4['col2'].cov(df4['col3'])"
      ]
    },
    {
      "cell_type": "code",
      "execution_count": 281,
      "metadata": {
        "colab": {
          "base_uri": "https://localhost:8080/",
          "height": 143
        },
        "id": "_7S3132-FoCb",
        "outputId": "4f43c8fe-a046-4343-c73c-05589416a65b"
      },
      "outputs": [
        {
          "data": {
            "text/html": [
              "<div>\n",
              "<style scoped>\n",
              "    .dataframe tbody tr th:only-of-type {\n",
              "        vertical-align: middle;\n",
              "    }\n",
              "\n",
              "    .dataframe tbody tr th {\n",
              "        vertical-align: top;\n",
              "    }\n",
              "\n",
              "    .dataframe thead th {\n",
              "        text-align: right;\n",
              "    }\n",
              "</style>\n",
              "<table border=\"1\" class=\"dataframe\">\n",
              "  <thead>\n",
              "    <tr style=\"text-align: right;\">\n",
              "      <th></th>\n",
              "      <th>col1</th>\n",
              "      <th>col2</th>\n",
              "      <th>col3</th>\n",
              "    </tr>\n",
              "  </thead>\n",
              "  <tbody>\n",
              "    <tr>\n",
              "      <th>col1</th>\n",
              "      <td>0.130127</td>\n",
              "      <td>-0.001708</td>\n",
              "      <td>0.016474</td>\n",
              "    </tr>\n",
              "    <tr>\n",
              "      <th>col2</th>\n",
              "      <td>-0.001708</td>\n",
              "      <td>0.101372</td>\n",
              "      <td>0.011737</td>\n",
              "    </tr>\n",
              "    <tr>\n",
              "      <th>col3</th>\n",
              "      <td>0.016474</td>\n",
              "      <td>0.011737</td>\n",
              "      <td>0.077056</td>\n",
              "    </tr>\n",
              "  </tbody>\n",
              "</table>\n",
              "</div>"
            ],
            "text/plain": [
              "          col1      col2      col3\n",
              "col1  0.130127 -0.001708  0.016474\n",
              "col2 -0.001708  0.101372  0.011737\n",
              "col3  0.016474  0.011737  0.077056"
            ]
          },
          "execution_count": 281,
          "metadata": {},
          "output_type": "execute_result"
        }
      ],
      "source": [
        "# covarience of whole dataframe.\n",
        "df4.cov()"
      ]
    },
    {
      "cell_type": "markdown",
      "metadata": {
        "id": "6GjRNggAF_Cj"
      },
      "source": [
        "## Correlation\n",
        "- corr ()"
      ]
    },
    {
      "cell_type": "code",
      "execution_count": 282,
      "metadata": {
        "colab": {
          "base_uri": "https://localhost:8080/"
        },
        "id": "Ij7GcmxpGVMi",
        "outputId": "0f657de6-95f7-4a28-fbac-9c683d81a1bd"
      },
      "outputs": [
        {
          "data": {
            "text/plain": [
              "0.13280295629591402"
            ]
          },
          "execution_count": 282,
          "metadata": {},
          "output_type": "execute_result"
        }
      ],
      "source": [
        "# Correlation between columns\n",
        "df4['col2'].corr(df4['col3'])"
      ]
    },
    {
      "cell_type": "code",
      "execution_count": 283,
      "metadata": {
        "colab": {
          "base_uri": "https://localhost:8080/",
          "height": 143
        },
        "id": "RciFi1sgF94s",
        "outputId": "48cfa977-0ed5-4e98-930d-e434b5576a2f"
      },
      "outputs": [
        {
          "data": {
            "text/html": [
              "<div>\n",
              "<style scoped>\n",
              "    .dataframe tbody tr th:only-of-type {\n",
              "        vertical-align: middle;\n",
              "    }\n",
              "\n",
              "    .dataframe tbody tr th {\n",
              "        vertical-align: top;\n",
              "    }\n",
              "\n",
              "    .dataframe thead th {\n",
              "        text-align: right;\n",
              "    }\n",
              "</style>\n",
              "<table border=\"1\" class=\"dataframe\">\n",
              "  <thead>\n",
              "    <tr style=\"text-align: right;\">\n",
              "      <th></th>\n",
              "      <th>col1</th>\n",
              "      <th>col2</th>\n",
              "      <th>col3</th>\n",
              "    </tr>\n",
              "  </thead>\n",
              "  <tbody>\n",
              "    <tr>\n",
              "      <th>col1</th>\n",
              "      <td>1.000000</td>\n",
              "      <td>-0.014875</td>\n",
              "      <td>0.164513</td>\n",
              "    </tr>\n",
              "    <tr>\n",
              "      <th>col2</th>\n",
              "      <td>-0.014875</td>\n",
              "      <td>1.000000</td>\n",
              "      <td>0.132803</td>\n",
              "    </tr>\n",
              "    <tr>\n",
              "      <th>col3</th>\n",
              "      <td>0.164513</td>\n",
              "      <td>0.132803</td>\n",
              "      <td>1.000000</td>\n",
              "    </tr>\n",
              "  </tbody>\n",
              "</table>\n",
              "</div>"
            ],
            "text/plain": [
              "          col1      col2      col3\n",
              "col1  1.000000 -0.014875  0.164513\n",
              "col2 -0.014875  1.000000  0.132803\n",
              "col3  0.164513  0.132803  1.000000"
            ]
          },
          "execution_count": 283,
          "metadata": {},
          "output_type": "execute_result"
        }
      ],
      "source": [
        "# COrrelation of whole dataframe.\n",
        "df4.corr()"
      ]
    },
    {
      "cell_type": "markdown",
      "metadata": {
        "id": "any6OxVYI3Zk"
      },
      "source": [
        "### Correlation types:\n",
        "- Pearson r correlation:\n",
        "- Rank Correlation\n",
        "- Spearmint correlation\n",
        "- Spearman rank correlation"
      ]
    },
    {
      "cell_type": "markdown",
      "metadata": {
        "id": "hX7VrODjJ2Q4"
      },
      "source": [
        "## Data Cleaning"
      ]
    },
    {
      "cell_type": "code",
      "execution_count": 284,
      "metadata": {
        "colab": {
          "base_uri": "https://localhost:8080/",
          "height": 206
        },
        "id": "ZKq3UHRMGOnC",
        "outputId": "c90ecf17-7cb6-4b2d-c536-399915c3473d"
      },
      "outputs": [
        {
          "data": {
            "text/html": [
              "<div>\n",
              "<style scoped>\n",
              "    .dataframe tbody tr th:only-of-type {\n",
              "        vertical-align: middle;\n",
              "    }\n",
              "\n",
              "    .dataframe tbody tr th {\n",
              "        vertical-align: top;\n",
              "    }\n",
              "\n",
              "    .dataframe thead th {\n",
              "        text-align: right;\n",
              "    }\n",
              "</style>\n",
              "<table border=\"1\" class=\"dataframe\">\n",
              "  <thead>\n",
              "    <tr style=\"text-align: right;\">\n",
              "      <th></th>\n",
              "      <th>col1</th>\n",
              "      <th>col2</th>\n",
              "      <th>col3</th>\n",
              "    </tr>\n",
              "  </thead>\n",
              "  <tbody>\n",
              "    <tr>\n",
              "      <th>A</th>\n",
              "      <td>0.265447</td>\n",
              "      <td>0.168067</td>\n",
              "      <td>0.070290</td>\n",
              "    </tr>\n",
              "    <tr>\n",
              "      <th>C</th>\n",
              "      <td>0.034934</td>\n",
              "      <td>0.598406</td>\n",
              "      <td>0.693514</td>\n",
              "    </tr>\n",
              "    <tr>\n",
              "      <th>B</th>\n",
              "      <td>0.292694</td>\n",
              "      <td>0.983822</td>\n",
              "      <td>0.745113</td>\n",
              "    </tr>\n",
              "    <tr>\n",
              "      <th>E</th>\n",
              "      <td>0.240152</td>\n",
              "      <td>0.753745</td>\n",
              "      <td>0.998007</td>\n",
              "    </tr>\n",
              "    <tr>\n",
              "      <th>D</th>\n",
              "      <td>0.898112</td>\n",
              "      <td>0.299140</td>\n",
              "      <td>0.593300</td>\n",
              "    </tr>\n",
              "  </tbody>\n",
              "</table>\n",
              "</div>"
            ],
            "text/plain": [
              "       col1      col2      col3\n",
              "A  0.265447  0.168067  0.070290\n",
              "C  0.034934  0.598406  0.693514\n",
              "B  0.292694  0.983822  0.745113\n",
              "E  0.240152  0.753745  0.998007\n",
              "D  0.898112  0.299140  0.593300"
            ]
          },
          "execution_count": 284,
          "metadata": {},
          "output_type": "execute_result"
        }
      ],
      "source": [
        "df = pd.DataFrame(np.random.rand(5,3),\n",
        "                  index =[\"A\",'C','B','E','D'],\n",
        "                  columns = ['col1','col2','col3'])\n",
        "df"
      ]
    },
    {
      "cell_type": "code",
      "execution_count": 285,
      "metadata": {
        "colab": {
          "base_uri": "https://localhost:8080/",
          "height": 206
        },
        "id": "fdEAL2p1OIcB",
        "outputId": "ec08e6d0-1a4a-4421-ad48-dc511b8be0f1"
      },
      "outputs": [
        {
          "data": {
            "text/html": [
              "<div>\n",
              "<style scoped>\n",
              "    .dataframe tbody tr th:only-of-type {\n",
              "        vertical-align: middle;\n",
              "    }\n",
              "\n",
              "    .dataframe tbody tr th {\n",
              "        vertical-align: top;\n",
              "    }\n",
              "\n",
              "    .dataframe thead th {\n",
              "        text-align: right;\n",
              "    }\n",
              "</style>\n",
              "<table border=\"1\" class=\"dataframe\">\n",
              "  <thead>\n",
              "    <tr style=\"text-align: right;\">\n",
              "      <th></th>\n",
              "      <th>col1</th>\n",
              "      <th>col2</th>\n",
              "      <th>col3</th>\n",
              "    </tr>\n",
              "  </thead>\n",
              "  <tbody>\n",
              "    <tr>\n",
              "      <th>A</th>\n",
              "      <td>0.265447</td>\n",
              "      <td>0.168067</td>\n",
              "      <td>0.070290</td>\n",
              "    </tr>\n",
              "    <tr>\n",
              "      <th>B</th>\n",
              "      <td>0.292694</td>\n",
              "      <td>0.983822</td>\n",
              "      <td>0.745113</td>\n",
              "    </tr>\n",
              "    <tr>\n",
              "      <th>C</th>\n",
              "      <td>0.034934</td>\n",
              "      <td>0.598406</td>\n",
              "      <td>0.693514</td>\n",
              "    </tr>\n",
              "    <tr>\n",
              "      <th>D</th>\n",
              "      <td>0.898112</td>\n",
              "      <td>0.299140</td>\n",
              "      <td>0.593300</td>\n",
              "    </tr>\n",
              "    <tr>\n",
              "      <th>E</th>\n",
              "      <td>0.240152</td>\n",
              "      <td>0.753745</td>\n",
              "      <td>0.998007</td>\n",
              "    </tr>\n",
              "  </tbody>\n",
              "</table>\n",
              "</div>"
            ],
            "text/plain": [
              "       col1      col2      col3\n",
              "A  0.265447  0.168067  0.070290\n",
              "B  0.292694  0.983822  0.745113\n",
              "C  0.034934  0.598406  0.693514\n",
              "D  0.898112  0.299140  0.593300\n",
              "E  0.240152  0.753745  0.998007"
            ]
          },
          "execution_count": 285,
          "metadata": {},
          "output_type": "execute_result"
        }
      ],
      "source": [
        "df.sort_index()"
      ]
    },
    {
      "cell_type": "markdown",
      "metadata": {
        "id": "M4XUWEgaKSbe"
      },
      "source": [
        "### Reindexing\n",
        "\n",
        "In reindexing if we exceed our indexing value we will not get the error like us use to get before.\\\n",
        "Instead of getting error we will get the indexing with the NaN values."
      ]
    },
    {
      "cell_type": "code",
      "execution_count": 286,
      "metadata": {
        "colab": {
          "base_uri": "https://localhost:8080/",
          "height": 332
        },
        "id": "mxGUNSc0KLqU",
        "outputId": "46cb3440-4a36-419d-fce5-fcffae788e3c"
      },
      "outputs": [
        {
          "data": {
            "text/html": [
              "<div>\n",
              "<style scoped>\n",
              "    .dataframe tbody tr th:only-of-type {\n",
              "        vertical-align: middle;\n",
              "    }\n",
              "\n",
              "    .dataframe tbody tr th {\n",
              "        vertical-align: top;\n",
              "    }\n",
              "\n",
              "    .dataframe thead th {\n",
              "        text-align: right;\n",
              "    }\n",
              "</style>\n",
              "<table border=\"1\" class=\"dataframe\">\n",
              "  <thead>\n",
              "    <tr style=\"text-align: right;\">\n",
              "      <th></th>\n",
              "      <th>col1</th>\n",
              "      <th>col2</th>\n",
              "      <th>col3</th>\n",
              "    </tr>\n",
              "  </thead>\n",
              "  <tbody>\n",
              "    <tr>\n",
              "      <th>A</th>\n",
              "      <td>0.265447</td>\n",
              "      <td>0.168067</td>\n",
              "      <td>0.070290</td>\n",
              "    </tr>\n",
              "    <tr>\n",
              "      <th>B</th>\n",
              "      <td>0.292694</td>\n",
              "      <td>0.983822</td>\n",
              "      <td>0.745113</td>\n",
              "    </tr>\n",
              "    <tr>\n",
              "      <th>C</th>\n",
              "      <td>0.034934</td>\n",
              "      <td>0.598406</td>\n",
              "      <td>0.693514</td>\n",
              "    </tr>\n",
              "    <tr>\n",
              "      <th>D</th>\n",
              "      <td>0.898112</td>\n",
              "      <td>0.299140</td>\n",
              "      <td>0.593300</td>\n",
              "    </tr>\n",
              "    <tr>\n",
              "      <th>E</th>\n",
              "      <td>0.240152</td>\n",
              "      <td>0.753745</td>\n",
              "      <td>0.998007</td>\n",
              "    </tr>\n",
              "    <tr>\n",
              "      <th>F</th>\n",
              "      <td>NaN</td>\n",
              "      <td>NaN</td>\n",
              "      <td>NaN</td>\n",
              "    </tr>\n",
              "    <tr>\n",
              "      <th>G</th>\n",
              "      <td>NaN</td>\n",
              "      <td>NaN</td>\n",
              "      <td>NaN</td>\n",
              "    </tr>\n",
              "    <tr>\n",
              "      <th>H</th>\n",
              "      <td>NaN</td>\n",
              "      <td>NaN</td>\n",
              "      <td>NaN</td>\n",
              "    </tr>\n",
              "    <tr>\n",
              "      <th>I</th>\n",
              "      <td>NaN</td>\n",
              "      <td>NaN</td>\n",
              "      <td>NaN</td>\n",
              "    </tr>\n",
              "  </tbody>\n",
              "</table>\n",
              "</div>"
            ],
            "text/plain": [
              "       col1      col2      col3\n",
              "A  0.265447  0.168067  0.070290\n",
              "B  0.292694  0.983822  0.745113\n",
              "C  0.034934  0.598406  0.693514\n",
              "D  0.898112  0.299140  0.593300\n",
              "E  0.240152  0.753745  0.998007\n",
              "F       NaN       NaN       NaN\n",
              "G       NaN       NaN       NaN\n",
              "H       NaN       NaN       NaN\n",
              "I       NaN       NaN       NaN"
            ]
          },
          "execution_count": 286,
          "metadata": {},
          "output_type": "execute_result"
        }
      ],
      "source": [
        "df = df.reindex(['A','B','C','D','E','F','G','H','I'])\n",
        "df"
      ]
    },
    {
      "cell_type": "markdown",
      "metadata": {
        "id": "iaRkGAbmQ5FI"
      },
      "source": [
        "### isnull and isna"
      ]
    },
    {
      "cell_type": "code",
      "execution_count": 287,
      "metadata": {
        "colab": {
          "base_uri": "https://localhost:8080/",
          "height": 332
        },
        "id": "TsBLoNcnOBj5",
        "outputId": "56f3e0fe-3149-41bb-f452-f64f6e19004a"
      },
      "outputs": [
        {
          "data": {
            "text/html": [
              "<div>\n",
              "<style scoped>\n",
              "    .dataframe tbody tr th:only-of-type {\n",
              "        vertical-align: middle;\n",
              "    }\n",
              "\n",
              "    .dataframe tbody tr th {\n",
              "        vertical-align: top;\n",
              "    }\n",
              "\n",
              "    .dataframe thead th {\n",
              "        text-align: right;\n",
              "    }\n",
              "</style>\n",
              "<table border=\"1\" class=\"dataframe\">\n",
              "  <thead>\n",
              "    <tr style=\"text-align: right;\">\n",
              "      <th></th>\n",
              "      <th>col1</th>\n",
              "      <th>col2</th>\n",
              "      <th>col3</th>\n",
              "    </tr>\n",
              "  </thead>\n",
              "  <tbody>\n",
              "    <tr>\n",
              "      <th>A</th>\n",
              "      <td>False</td>\n",
              "      <td>False</td>\n",
              "      <td>False</td>\n",
              "    </tr>\n",
              "    <tr>\n",
              "      <th>B</th>\n",
              "      <td>False</td>\n",
              "      <td>False</td>\n",
              "      <td>False</td>\n",
              "    </tr>\n",
              "    <tr>\n",
              "      <th>C</th>\n",
              "      <td>False</td>\n",
              "      <td>False</td>\n",
              "      <td>False</td>\n",
              "    </tr>\n",
              "    <tr>\n",
              "      <th>D</th>\n",
              "      <td>False</td>\n",
              "      <td>False</td>\n",
              "      <td>False</td>\n",
              "    </tr>\n",
              "    <tr>\n",
              "      <th>E</th>\n",
              "      <td>False</td>\n",
              "      <td>False</td>\n",
              "      <td>False</td>\n",
              "    </tr>\n",
              "    <tr>\n",
              "      <th>F</th>\n",
              "      <td>True</td>\n",
              "      <td>True</td>\n",
              "      <td>True</td>\n",
              "    </tr>\n",
              "    <tr>\n",
              "      <th>G</th>\n",
              "      <td>True</td>\n",
              "      <td>True</td>\n",
              "      <td>True</td>\n",
              "    </tr>\n",
              "    <tr>\n",
              "      <th>H</th>\n",
              "      <td>True</td>\n",
              "      <td>True</td>\n",
              "      <td>True</td>\n",
              "    </tr>\n",
              "    <tr>\n",
              "      <th>I</th>\n",
              "      <td>True</td>\n",
              "      <td>True</td>\n",
              "      <td>True</td>\n",
              "    </tr>\n",
              "  </tbody>\n",
              "</table>\n",
              "</div>"
            ],
            "text/plain": [
              "    col1   col2   col3\n",
              "A  False  False  False\n",
              "B  False  False  False\n",
              "C  False  False  False\n",
              "D  False  False  False\n",
              "E  False  False  False\n",
              "F   True   True   True\n",
              "G   True   True   True\n",
              "H   True   True   True\n",
              "I   True   True   True"
            ]
          },
          "execution_count": 287,
          "metadata": {},
          "output_type": "execute_result"
        }
      ],
      "source": [
        "df.isnull()"
      ]
    },
    {
      "cell_type": "code",
      "execution_count": 288,
      "metadata": {
        "colab": {
          "base_uri": "https://localhost:8080/"
        },
        "id": "ZjyW_eciRn6u",
        "outputId": "fda418f0-b969-4ed4-a696-9a851b1d8452"
      },
      "outputs": [
        {
          "data": {
            "text/plain": [
              "col1    4\n",
              "col2    4\n",
              "col3    4\n",
              "dtype: int64"
            ]
          },
          "execution_count": 288,
          "metadata": {},
          "output_type": "execute_result"
        }
      ],
      "source": [
        "df.isnull().sum()"
      ]
    },
    {
      "cell_type": "code",
      "execution_count": 289,
      "metadata": {
        "colab": {
          "base_uri": "https://localhost:8080/"
        },
        "id": "k7T_4-nrSunc",
        "outputId": "16f24c53-ba37-4365-b70d-9f7b111123d8"
      },
      "outputs": [
        {
          "data": {
            "text/plain": [
              "12"
            ]
          },
          "execution_count": 289,
          "metadata": {},
          "output_type": "execute_result"
        }
      ],
      "source": [
        "df.isnull().sum().sum()"
      ]
    },
    {
      "cell_type": "code",
      "execution_count": 290,
      "metadata": {
        "colab": {
          "base_uri": "https://localhost:8080/"
        },
        "id": "VSnmNb6QTjYI",
        "outputId": "c8d06ca3-3253-4b1a-f173-2bab1f34da60"
      },
      "outputs": [
        {
          "data": {
            "text/plain": [
              "A    False\n",
              "B    False\n",
              "C    False\n",
              "D    False\n",
              "E    False\n",
              "F     True\n",
              "G     True\n",
              "H     True\n",
              "I     True\n",
              "Name: col1, dtype: bool"
            ]
          },
          "execution_count": 290,
          "metadata": {},
          "output_type": "execute_result"
        }
      ],
      "source": [
        "# Isnull can also check the null values by column\n",
        "df['col1'].isnull()"
      ]
    },
    {
      "cell_type": "code",
      "execution_count": 291,
      "metadata": {
        "colab": {
          "base_uri": "https://localhost:8080/"
        },
        "id": "KOColzmOT4SE",
        "outputId": "ad62530f-d9d1-4a1a-afc7-045988351f87"
      },
      "outputs": [
        {
          "data": {
            "text/plain": [
              "col1    True\n",
              "col2    True\n",
              "col3    True\n",
              "Name: G, dtype: bool"
            ]
          },
          "execution_count": 291,
          "metadata": {},
          "output_type": "execute_result"
        }
      ],
      "source": [
        "# Isnull for row null value check.\n",
        "df.loc['G'].isnull ()"
      ]
    },
    {
      "cell_type": "code",
      "execution_count": 292,
      "metadata": {
        "colab": {
          "base_uri": "https://localhost:8080/",
          "height": 332
        },
        "id": "TFyzwzV-Q99B",
        "outputId": "b2b5eb5d-4106-4ab5-82bc-8e9ac9bebd18"
      },
      "outputs": [
        {
          "data": {
            "text/html": [
              "<div>\n",
              "<style scoped>\n",
              "    .dataframe tbody tr th:only-of-type {\n",
              "        vertical-align: middle;\n",
              "    }\n",
              "\n",
              "    .dataframe tbody tr th {\n",
              "        vertical-align: top;\n",
              "    }\n",
              "\n",
              "    .dataframe thead th {\n",
              "        text-align: right;\n",
              "    }\n",
              "</style>\n",
              "<table border=\"1\" class=\"dataframe\">\n",
              "  <thead>\n",
              "    <tr style=\"text-align: right;\">\n",
              "      <th></th>\n",
              "      <th>col1</th>\n",
              "      <th>col2</th>\n",
              "      <th>col3</th>\n",
              "    </tr>\n",
              "  </thead>\n",
              "  <tbody>\n",
              "    <tr>\n",
              "      <th>A</th>\n",
              "      <td>False</td>\n",
              "      <td>False</td>\n",
              "      <td>False</td>\n",
              "    </tr>\n",
              "    <tr>\n",
              "      <th>B</th>\n",
              "      <td>False</td>\n",
              "      <td>False</td>\n",
              "      <td>False</td>\n",
              "    </tr>\n",
              "    <tr>\n",
              "      <th>C</th>\n",
              "      <td>False</td>\n",
              "      <td>False</td>\n",
              "      <td>False</td>\n",
              "    </tr>\n",
              "    <tr>\n",
              "      <th>D</th>\n",
              "      <td>False</td>\n",
              "      <td>False</td>\n",
              "      <td>False</td>\n",
              "    </tr>\n",
              "    <tr>\n",
              "      <th>E</th>\n",
              "      <td>False</td>\n",
              "      <td>False</td>\n",
              "      <td>False</td>\n",
              "    </tr>\n",
              "    <tr>\n",
              "      <th>F</th>\n",
              "      <td>True</td>\n",
              "      <td>True</td>\n",
              "      <td>True</td>\n",
              "    </tr>\n",
              "    <tr>\n",
              "      <th>G</th>\n",
              "      <td>True</td>\n",
              "      <td>True</td>\n",
              "      <td>True</td>\n",
              "    </tr>\n",
              "    <tr>\n",
              "      <th>H</th>\n",
              "      <td>True</td>\n",
              "      <td>True</td>\n",
              "      <td>True</td>\n",
              "    </tr>\n",
              "    <tr>\n",
              "      <th>I</th>\n",
              "      <td>True</td>\n",
              "      <td>True</td>\n",
              "      <td>True</td>\n",
              "    </tr>\n",
              "  </tbody>\n",
              "</table>\n",
              "</div>"
            ],
            "text/plain": [
              "    col1   col2   col3\n",
              "A  False  False  False\n",
              "B  False  False  False\n",
              "C  False  False  False\n",
              "D  False  False  False\n",
              "E  False  False  False\n",
              "F   True   True   True\n",
              "G   True   True   True\n",
              "H   True   True   True\n",
              "I   True   True   True"
            ]
          },
          "execution_count": 292,
          "metadata": {},
          "output_type": "execute_result"
        }
      ],
      "source": [
        "df.isna()"
      ]
    },
    {
      "attachments": {},
      "cell_type": "markdown",
      "metadata": {
        "id": "tn8HUxtBROnr"
      },
      "source": [
        "### notnull - It will return the null values false."
      ]
    },
    {
      "cell_type": "code",
      "execution_count": 293,
      "metadata": {
        "colab": {
          "base_uri": "https://localhost:8080/",
          "height": 332
        },
        "id": "SDw5tYNiRAZR",
        "outputId": "a8c8001b-5d16-4b2b-f0bf-4aa5ac55aad9"
      },
      "outputs": [
        {
          "data": {
            "text/html": [
              "<div>\n",
              "<style scoped>\n",
              "    .dataframe tbody tr th:only-of-type {\n",
              "        vertical-align: middle;\n",
              "    }\n",
              "\n",
              "    .dataframe tbody tr th {\n",
              "        vertical-align: top;\n",
              "    }\n",
              "\n",
              "    .dataframe thead th {\n",
              "        text-align: right;\n",
              "    }\n",
              "</style>\n",
              "<table border=\"1\" class=\"dataframe\">\n",
              "  <thead>\n",
              "    <tr style=\"text-align: right;\">\n",
              "      <th></th>\n",
              "      <th>col1</th>\n",
              "      <th>col2</th>\n",
              "      <th>col3</th>\n",
              "    </tr>\n",
              "  </thead>\n",
              "  <tbody>\n",
              "    <tr>\n",
              "      <th>A</th>\n",
              "      <td>True</td>\n",
              "      <td>True</td>\n",
              "      <td>True</td>\n",
              "    </tr>\n",
              "    <tr>\n",
              "      <th>B</th>\n",
              "      <td>True</td>\n",
              "      <td>True</td>\n",
              "      <td>True</td>\n",
              "    </tr>\n",
              "    <tr>\n",
              "      <th>C</th>\n",
              "      <td>True</td>\n",
              "      <td>True</td>\n",
              "      <td>True</td>\n",
              "    </tr>\n",
              "    <tr>\n",
              "      <th>D</th>\n",
              "      <td>True</td>\n",
              "      <td>True</td>\n",
              "      <td>True</td>\n",
              "    </tr>\n",
              "    <tr>\n",
              "      <th>E</th>\n",
              "      <td>True</td>\n",
              "      <td>True</td>\n",
              "      <td>True</td>\n",
              "    </tr>\n",
              "    <tr>\n",
              "      <th>F</th>\n",
              "      <td>False</td>\n",
              "      <td>False</td>\n",
              "      <td>False</td>\n",
              "    </tr>\n",
              "    <tr>\n",
              "      <th>G</th>\n",
              "      <td>False</td>\n",
              "      <td>False</td>\n",
              "      <td>False</td>\n",
              "    </tr>\n",
              "    <tr>\n",
              "      <th>H</th>\n",
              "      <td>False</td>\n",
              "      <td>False</td>\n",
              "      <td>False</td>\n",
              "    </tr>\n",
              "    <tr>\n",
              "      <th>I</th>\n",
              "      <td>False</td>\n",
              "      <td>False</td>\n",
              "      <td>False</td>\n",
              "    </tr>\n",
              "  </tbody>\n",
              "</table>\n",
              "</div>"
            ],
            "text/plain": [
              "    col1   col2   col3\n",
              "A   True   True   True\n",
              "B   True   True   True\n",
              "C   True   True   True\n",
              "D   True   True   True\n",
              "E   True   True   True\n",
              "F  False  False  False\n",
              "G  False  False  False\n",
              "H  False  False  False\n",
              "I  False  False  False"
            ]
          },
          "execution_count": 293,
          "metadata": {},
          "output_type": "execute_result"
        }
      ],
      "source": [
        "df.notnull()"
      ]
    },
    {
      "cell_type": "code",
      "execution_count": 294,
      "metadata": {
        "colab": {
          "base_uri": "https://localhost:8080/"
        },
        "id": "SNoIqC3oRNOx",
        "outputId": "5bce5a04-4d78-4a68-b447-cc7c7e176786"
      },
      "outputs": [
        {
          "data": {
            "text/plain": [
              "col1    5\n",
              "col2    5\n",
              "col3    5\n",
              "dtype: int64"
            ]
          },
          "execution_count": 294,
          "metadata": {},
          "output_type": "execute_result"
        }
      ],
      "source": [
        "df.notnull().sum()"
      ]
    },
    {
      "cell_type": "code",
      "execution_count": 295,
      "metadata": {
        "colab": {
          "base_uri": "https://localhost:8080/"
        },
        "id": "6xTdHFfGSjAx",
        "outputId": "6cf85d28-320e-493f-8b4d-6b82b693d11e"
      },
      "outputs": [
        {
          "data": {
            "text/plain": [
              "15"
            ]
          },
          "execution_count": 295,
          "metadata": {},
          "output_type": "execute_result"
        }
      ],
      "source": [
        "df.notnull().sum().sum()"
      ]
    },
    {
      "cell_type": "code",
      "execution_count": 296,
      "metadata": {
        "colab": {
          "base_uri": "https://localhost:8080/"
        },
        "id": "sgu-LFKLS2SJ",
        "outputId": "9733813a-3131-413b-939c-f8377aa7ae36"
      },
      "outputs": [
        {
          "data": {
            "text/plain": [
              "col1    5\n",
              "col2    5\n",
              "col3    5\n",
              "dtype: int64"
            ]
          },
          "execution_count": 296,
          "metadata": {},
          "output_type": "execute_result"
        }
      ],
      "source": [
        "df.count()\n",
        "# It is going to show us not null values in dataframe."
      ]
    },
    {
      "cell_type": "markdown",
      "metadata": {
        "id": "xpmydL2BURom"
      },
      "source": [
        "## Cleaning Missing (NaN) Values.\n",
        "-fillna ( )\n",
        "  - we don't use fillna (int) much in projects"
      ]
    },
    {
      "cell_type": "code",
      "execution_count": 297,
      "metadata": {
        "colab": {
          "base_uri": "https://localhost:8080/",
          "height": 332
        },
        "id": "hTnFZ-UvTP_i",
        "outputId": "d406975c-1322-4f7d-ee45-ccb8d2da3c59"
      },
      "outputs": [
        {
          "data": {
            "text/html": [
              "<div>\n",
              "<style scoped>\n",
              "    .dataframe tbody tr th:only-of-type {\n",
              "        vertical-align: middle;\n",
              "    }\n",
              "\n",
              "    .dataframe tbody tr th {\n",
              "        vertical-align: top;\n",
              "    }\n",
              "\n",
              "    .dataframe thead th {\n",
              "        text-align: right;\n",
              "    }\n",
              "</style>\n",
              "<table border=\"1\" class=\"dataframe\">\n",
              "  <thead>\n",
              "    <tr style=\"text-align: right;\">\n",
              "      <th></th>\n",
              "      <th>col1</th>\n",
              "      <th>col2</th>\n",
              "      <th>col3</th>\n",
              "    </tr>\n",
              "  </thead>\n",
              "  <tbody>\n",
              "    <tr>\n",
              "      <th>A</th>\n",
              "      <td>0.265447</td>\n",
              "      <td>0.168067</td>\n",
              "      <td>0.070290</td>\n",
              "    </tr>\n",
              "    <tr>\n",
              "      <th>B</th>\n",
              "      <td>0.292694</td>\n",
              "      <td>0.983822</td>\n",
              "      <td>0.745113</td>\n",
              "    </tr>\n",
              "    <tr>\n",
              "      <th>C</th>\n",
              "      <td>0.034934</td>\n",
              "      <td>0.598406</td>\n",
              "      <td>0.693514</td>\n",
              "    </tr>\n",
              "    <tr>\n",
              "      <th>D</th>\n",
              "      <td>0.898112</td>\n",
              "      <td>0.299140</td>\n",
              "      <td>0.593300</td>\n",
              "    </tr>\n",
              "    <tr>\n",
              "      <th>E</th>\n",
              "      <td>0.240152</td>\n",
              "      <td>0.753745</td>\n",
              "      <td>0.998007</td>\n",
              "    </tr>\n",
              "    <tr>\n",
              "      <th>F</th>\n",
              "      <td>NaN</td>\n",
              "      <td>NaN</td>\n",
              "      <td>NaN</td>\n",
              "    </tr>\n",
              "    <tr>\n",
              "      <th>G</th>\n",
              "      <td>NaN</td>\n",
              "      <td>NaN</td>\n",
              "      <td>NaN</td>\n",
              "    </tr>\n",
              "    <tr>\n",
              "      <th>H</th>\n",
              "      <td>NaN</td>\n",
              "      <td>NaN</td>\n",
              "      <td>NaN</td>\n",
              "    </tr>\n",
              "    <tr>\n",
              "      <th>I</th>\n",
              "      <td>NaN</td>\n",
              "      <td>NaN</td>\n",
              "      <td>NaN</td>\n",
              "    </tr>\n",
              "  </tbody>\n",
              "</table>\n",
              "</div>"
            ],
            "text/plain": [
              "       col1      col2      col3\n",
              "A  0.265447  0.168067  0.070290\n",
              "B  0.292694  0.983822  0.745113\n",
              "C  0.034934  0.598406  0.693514\n",
              "D  0.898112  0.299140  0.593300\n",
              "E  0.240152  0.753745  0.998007\n",
              "F       NaN       NaN       NaN\n",
              "G       NaN       NaN       NaN\n",
              "H       NaN       NaN       NaN\n",
              "I       NaN       NaN       NaN"
            ]
          },
          "execution_count": 297,
          "metadata": {},
          "output_type": "execute_result"
        }
      ],
      "source": [
        "df"
      ]
    },
    {
      "cell_type": "code",
      "execution_count": 298,
      "metadata": {
        "colab": {
          "base_uri": "https://localhost:8080/",
          "height": 332
        },
        "id": "ZBB6kIDRUbep",
        "outputId": "ce055b2c-6a25-4b81-ff23-5c0b47f5a7d1"
      },
      "outputs": [
        {
          "data": {
            "text/html": [
              "<div>\n",
              "<style scoped>\n",
              "    .dataframe tbody tr th:only-of-type {\n",
              "        vertical-align: middle;\n",
              "    }\n",
              "\n",
              "    .dataframe tbody tr th {\n",
              "        vertical-align: top;\n",
              "    }\n",
              "\n",
              "    .dataframe thead th {\n",
              "        text-align: right;\n",
              "    }\n",
              "</style>\n",
              "<table border=\"1\" class=\"dataframe\">\n",
              "  <thead>\n",
              "    <tr style=\"text-align: right;\">\n",
              "      <th></th>\n",
              "      <th>col1</th>\n",
              "      <th>col2</th>\n",
              "      <th>col3</th>\n",
              "    </tr>\n",
              "  </thead>\n",
              "  <tbody>\n",
              "    <tr>\n",
              "      <th>A</th>\n",
              "      <td>0.265447</td>\n",
              "      <td>0.168067</td>\n",
              "      <td>0.070290</td>\n",
              "    </tr>\n",
              "    <tr>\n",
              "      <th>B</th>\n",
              "      <td>0.292694</td>\n",
              "      <td>0.983822</td>\n",
              "      <td>0.745113</td>\n",
              "    </tr>\n",
              "    <tr>\n",
              "      <th>C</th>\n",
              "      <td>0.034934</td>\n",
              "      <td>0.598406</td>\n",
              "      <td>0.693514</td>\n",
              "    </tr>\n",
              "    <tr>\n",
              "      <th>D</th>\n",
              "      <td>0.898112</td>\n",
              "      <td>0.299140</td>\n",
              "      <td>0.593300</td>\n",
              "    </tr>\n",
              "    <tr>\n",
              "      <th>E</th>\n",
              "      <td>0.240152</td>\n",
              "      <td>0.753745</td>\n",
              "      <td>0.998007</td>\n",
              "    </tr>\n",
              "    <tr>\n",
              "      <th>F</th>\n",
              "      <td>0.842225</td>\n",
              "      <td>0.842225</td>\n",
              "      <td>0.842225</td>\n",
              "    </tr>\n",
              "    <tr>\n",
              "      <th>G</th>\n",
              "      <td>0.842225</td>\n",
              "      <td>0.842225</td>\n",
              "      <td>0.842225</td>\n",
              "    </tr>\n",
              "    <tr>\n",
              "      <th>H</th>\n",
              "      <td>0.842225</td>\n",
              "      <td>0.842225</td>\n",
              "      <td>0.842225</td>\n",
              "    </tr>\n",
              "    <tr>\n",
              "      <th>I</th>\n",
              "      <td>0.842225</td>\n",
              "      <td>0.842225</td>\n",
              "      <td>0.842225</td>\n",
              "    </tr>\n",
              "  </tbody>\n",
              "</table>\n",
              "</div>"
            ],
            "text/plain": [
              "       col1      col2      col3\n",
              "A  0.265447  0.168067  0.070290\n",
              "B  0.292694  0.983822  0.745113\n",
              "C  0.034934  0.598406  0.693514\n",
              "D  0.898112  0.299140  0.593300\n",
              "E  0.240152  0.753745  0.998007\n",
              "F  0.842225  0.842225  0.842225\n",
              "G  0.842225  0.842225  0.842225\n",
              "H  0.842225  0.842225  0.842225\n",
              "I  0.842225  0.842225  0.842225"
            ]
          },
          "execution_count": 298,
          "metadata": {},
          "output_type": "execute_result"
        }
      ],
      "source": [
        "df.fillna(np.random.rand())"
      ]
    },
    {
      "cell_type": "markdown",
      "metadata": {
        "id": "5R9Xm7L6U6zS"
      },
      "source": [
        "### Types of methods:\n",
        "- Forward Method\n",
        "  - pad / ffill\n",
        "- Backward Method\n",
        "  - bfill / backfill"
      ]
    },
    {
      "cell_type": "code",
      "execution_count": 299,
      "metadata": {
        "colab": {
          "base_uri": "https://localhost:8080/",
          "height": 332
        },
        "id": "g5RrtcoQU1ha",
        "outputId": "db9f8e37-472f-40fa-b193-bfc02ddec793"
      },
      "outputs": [
        {
          "data": {
            "text/html": [
              "<div>\n",
              "<style scoped>\n",
              "    .dataframe tbody tr th:only-of-type {\n",
              "        vertical-align: middle;\n",
              "    }\n",
              "\n",
              "    .dataframe tbody tr th {\n",
              "        vertical-align: top;\n",
              "    }\n",
              "\n",
              "    .dataframe thead th {\n",
              "        text-align: right;\n",
              "    }\n",
              "</style>\n",
              "<table border=\"1\" class=\"dataframe\">\n",
              "  <thead>\n",
              "    <tr style=\"text-align: right;\">\n",
              "      <th></th>\n",
              "      <th>col1</th>\n",
              "      <th>col2</th>\n",
              "      <th>col3</th>\n",
              "    </tr>\n",
              "  </thead>\n",
              "  <tbody>\n",
              "    <tr>\n",
              "      <th>A</th>\n",
              "      <td>0.265447</td>\n",
              "      <td>0.168067</td>\n",
              "      <td>0.070290</td>\n",
              "    </tr>\n",
              "    <tr>\n",
              "      <th>B</th>\n",
              "      <td>0.292694</td>\n",
              "      <td>0.983822</td>\n",
              "      <td>0.745113</td>\n",
              "    </tr>\n",
              "    <tr>\n",
              "      <th>C</th>\n",
              "      <td>0.034934</td>\n",
              "      <td>0.598406</td>\n",
              "      <td>0.693514</td>\n",
              "    </tr>\n",
              "    <tr>\n",
              "      <th>D</th>\n",
              "      <td>0.898112</td>\n",
              "      <td>0.299140</td>\n",
              "      <td>0.593300</td>\n",
              "    </tr>\n",
              "    <tr>\n",
              "      <th>E</th>\n",
              "      <td>0.240152</td>\n",
              "      <td>0.753745</td>\n",
              "      <td>0.998007</td>\n",
              "    </tr>\n",
              "    <tr>\n",
              "      <th>F</th>\n",
              "      <td>NaN</td>\n",
              "      <td>NaN</td>\n",
              "      <td>NaN</td>\n",
              "    </tr>\n",
              "    <tr>\n",
              "      <th>G</th>\n",
              "      <td>NaN</td>\n",
              "      <td>NaN</td>\n",
              "      <td>NaN</td>\n",
              "    </tr>\n",
              "    <tr>\n",
              "      <th>H</th>\n",
              "      <td>NaN</td>\n",
              "      <td>NaN</td>\n",
              "      <td>NaN</td>\n",
              "    </tr>\n",
              "    <tr>\n",
              "      <th>I</th>\n",
              "      <td>NaN</td>\n",
              "      <td>NaN</td>\n",
              "      <td>NaN</td>\n",
              "    </tr>\n",
              "  </tbody>\n",
              "</table>\n",
              "</div>"
            ],
            "text/plain": [
              "       col1      col2      col3\n",
              "A  0.265447  0.168067  0.070290\n",
              "B  0.292694  0.983822  0.745113\n",
              "C  0.034934  0.598406  0.693514\n",
              "D  0.898112  0.299140  0.593300\n",
              "E  0.240152  0.753745  0.998007\n",
              "F       NaN       NaN       NaN\n",
              "G       NaN       NaN       NaN\n",
              "H       NaN       NaN       NaN\n",
              "I       NaN       NaN       NaN"
            ]
          },
          "execution_count": 299,
          "metadata": {},
          "output_type": "execute_result"
        }
      ],
      "source": [
        "df"
      ]
    },
    {
      "cell_type": "code",
      "execution_count": 300,
      "metadata": {
        "colab": {
          "base_uri": "https://localhost:8080/",
          "height": 332
        },
        "id": "n1E24hv8VkEx",
        "outputId": "643f4935-2e18-4a6f-d173-2648e1df70c0"
      },
      "outputs": [
        {
          "data": {
            "text/html": [
              "<div>\n",
              "<style scoped>\n",
              "    .dataframe tbody tr th:only-of-type {\n",
              "        vertical-align: middle;\n",
              "    }\n",
              "\n",
              "    .dataframe tbody tr th {\n",
              "        vertical-align: top;\n",
              "    }\n",
              "\n",
              "    .dataframe thead th {\n",
              "        text-align: right;\n",
              "    }\n",
              "</style>\n",
              "<table border=\"1\" class=\"dataframe\">\n",
              "  <thead>\n",
              "    <tr style=\"text-align: right;\">\n",
              "      <th></th>\n",
              "      <th>col1</th>\n",
              "      <th>col2</th>\n",
              "      <th>col3</th>\n",
              "    </tr>\n",
              "  </thead>\n",
              "  <tbody>\n",
              "    <tr>\n",
              "      <th>A</th>\n",
              "      <td>0.265447</td>\n",
              "      <td>0.168067</td>\n",
              "      <td>0.070290</td>\n",
              "    </tr>\n",
              "    <tr>\n",
              "      <th>B</th>\n",
              "      <td>0.292694</td>\n",
              "      <td>0.983822</td>\n",
              "      <td>0.745113</td>\n",
              "    </tr>\n",
              "    <tr>\n",
              "      <th>C</th>\n",
              "      <td>0.034934</td>\n",
              "      <td>0.598406</td>\n",
              "      <td>0.693514</td>\n",
              "    </tr>\n",
              "    <tr>\n",
              "      <th>D</th>\n",
              "      <td>0.898112</td>\n",
              "      <td>0.299140</td>\n",
              "      <td>0.593300</td>\n",
              "    </tr>\n",
              "    <tr>\n",
              "      <th>E</th>\n",
              "      <td>0.240152</td>\n",
              "      <td>0.753745</td>\n",
              "      <td>0.998007</td>\n",
              "    </tr>\n",
              "    <tr>\n",
              "      <th>F</th>\n",
              "      <td>0.240152</td>\n",
              "      <td>0.753745</td>\n",
              "      <td>0.998007</td>\n",
              "    </tr>\n",
              "    <tr>\n",
              "      <th>G</th>\n",
              "      <td>0.240152</td>\n",
              "      <td>0.753745</td>\n",
              "      <td>0.998007</td>\n",
              "    </tr>\n",
              "    <tr>\n",
              "      <th>H</th>\n",
              "      <td>0.240152</td>\n",
              "      <td>0.753745</td>\n",
              "      <td>0.998007</td>\n",
              "    </tr>\n",
              "    <tr>\n",
              "      <th>I</th>\n",
              "      <td>0.240152</td>\n",
              "      <td>0.753745</td>\n",
              "      <td>0.998007</td>\n",
              "    </tr>\n",
              "  </tbody>\n",
              "</table>\n",
              "</div>"
            ],
            "text/plain": [
              "       col1      col2      col3\n",
              "A  0.265447  0.168067  0.070290\n",
              "B  0.292694  0.983822  0.745113\n",
              "C  0.034934  0.598406  0.693514\n",
              "D  0.898112  0.299140  0.593300\n",
              "E  0.240152  0.753745  0.998007\n",
              "F  0.240152  0.753745  0.998007\n",
              "G  0.240152  0.753745  0.998007\n",
              "H  0.240152  0.753745  0.998007\n",
              "I  0.240152  0.753745  0.998007"
            ]
          },
          "execution_count": 300,
          "metadata": {},
          "output_type": "execute_result"
        }
      ],
      "source": [
        "df.fillna(method='pad')"
      ]
    },
    {
      "cell_type": "code",
      "execution_count": 301,
      "metadata": {
        "id": "sVDgbkRAZHTT"
      },
      "outputs": [],
      "source": [
        "# df.fillna(method='bfill') \n",
        "# as it is not working coz we dont have any last index with values"
      ]
    },
    {
      "cell_type": "code",
      "execution_count": 302,
      "metadata": {
        "colab": {
          "base_uri": "https://localhost:8080/",
          "height": 332
        },
        "id": "Ta8730gAZO_c",
        "outputId": "380a8ff6-f16c-4871-99af-e8537288b064"
      },
      "outputs": [
        {
          "data": {
            "text/html": [
              "<div>\n",
              "<style scoped>\n",
              "    .dataframe tbody tr th:only-of-type {\n",
              "        vertical-align: middle;\n",
              "    }\n",
              "\n",
              "    .dataframe tbody tr th {\n",
              "        vertical-align: top;\n",
              "    }\n",
              "\n",
              "    .dataframe thead th {\n",
              "        text-align: right;\n",
              "    }\n",
              "</style>\n",
              "<table border=\"1\" class=\"dataframe\">\n",
              "  <thead>\n",
              "    <tr style=\"text-align: right;\">\n",
              "      <th></th>\n",
              "      <th>col1</th>\n",
              "      <th>col2</th>\n",
              "      <th>col3</th>\n",
              "    </tr>\n",
              "  </thead>\n",
              "  <tbody>\n",
              "    <tr>\n",
              "      <th>A</th>\n",
              "      <td>0.265447</td>\n",
              "      <td>0.168067</td>\n",
              "      <td>0.070290</td>\n",
              "    </tr>\n",
              "    <tr>\n",
              "      <th>B</th>\n",
              "      <td>0.292694</td>\n",
              "      <td>0.983822</td>\n",
              "      <td>0.745113</td>\n",
              "    </tr>\n",
              "    <tr>\n",
              "      <th>C</th>\n",
              "      <td>0.034934</td>\n",
              "      <td>0.598406</td>\n",
              "      <td>0.693514</td>\n",
              "    </tr>\n",
              "    <tr>\n",
              "      <th>D</th>\n",
              "      <td>0.898112</td>\n",
              "      <td>0.299140</td>\n",
              "      <td>0.593300</td>\n",
              "    </tr>\n",
              "    <tr>\n",
              "      <th>E</th>\n",
              "      <td>0.240152</td>\n",
              "      <td>0.753745</td>\n",
              "      <td>0.998007</td>\n",
              "    </tr>\n",
              "    <tr>\n",
              "      <th>F</th>\n",
              "      <td>NaN</td>\n",
              "      <td>NaN</td>\n",
              "      <td>NaN</td>\n",
              "    </tr>\n",
              "    <tr>\n",
              "      <th>G</th>\n",
              "      <td>NaN</td>\n",
              "      <td>NaN</td>\n",
              "      <td>NaN</td>\n",
              "    </tr>\n",
              "    <tr>\n",
              "      <th>H</th>\n",
              "      <td>NaN</td>\n",
              "      <td>NaN</td>\n",
              "      <td>NaN</td>\n",
              "    </tr>\n",
              "    <tr>\n",
              "      <th>I</th>\n",
              "      <td>NaN</td>\n",
              "      <td>NaN</td>\n",
              "      <td>NaN</td>\n",
              "    </tr>\n",
              "  </tbody>\n",
              "</table>\n",
              "</div>"
            ],
            "text/plain": [
              "       col1      col2      col3\n",
              "A  0.265447  0.168067  0.070290\n",
              "B  0.292694  0.983822  0.745113\n",
              "C  0.034934  0.598406  0.693514\n",
              "D  0.898112  0.299140  0.593300\n",
              "E  0.240152  0.753745  0.998007\n",
              "F       NaN       NaN       NaN\n",
              "G       NaN       NaN       NaN\n",
              "H       NaN       NaN       NaN\n",
              "I       NaN       NaN       NaN"
            ]
          },
          "execution_count": 302,
          "metadata": {},
          "output_type": "execute_result"
        }
      ],
      "source": [
        "df.fillna(method ='pad', axis = 1)\n",
        "# it will only work when there is some value befor nan values in the rows"
      ]
    },
    {
      "cell_type": "markdown",
      "metadata": {
        "id": "0AuyRWWraS-m"
      },
      "source": [
        "### dropna ( )\n",
        "The more the data the will be the accuracy so please try to avoid using the dropna function."
      ]
    },
    {
      "cell_type": "code",
      "execution_count": 304,
      "metadata": {
        "colab": {
          "base_uri": "https://localhost:8080/",
          "height": 206
        },
        "id": "3wtHgkbiZm8L",
        "outputId": "7faac9a3-6650-4682-f73f-16e27638f6f2"
      },
      "outputs": [
        {
          "data": {
            "text/html": [
              "<div>\n",
              "<style scoped>\n",
              "    .dataframe tbody tr th:only-of-type {\n",
              "        vertical-align: middle;\n",
              "    }\n",
              "\n",
              "    .dataframe tbody tr th {\n",
              "        vertical-align: top;\n",
              "    }\n",
              "\n",
              "    .dataframe thead th {\n",
              "        text-align: right;\n",
              "    }\n",
              "</style>\n",
              "<table border=\"1\" class=\"dataframe\">\n",
              "  <thead>\n",
              "    <tr style=\"text-align: right;\">\n",
              "      <th></th>\n",
              "      <th>col1</th>\n",
              "      <th>col2</th>\n",
              "      <th>col3</th>\n",
              "    </tr>\n",
              "  </thead>\n",
              "  <tbody>\n",
              "    <tr>\n",
              "      <th>A</th>\n",
              "      <td>0.265447</td>\n",
              "      <td>0.168067</td>\n",
              "      <td>0.070290</td>\n",
              "    </tr>\n",
              "    <tr>\n",
              "      <th>B</th>\n",
              "      <td>0.292694</td>\n",
              "      <td>0.983822</td>\n",
              "      <td>0.745113</td>\n",
              "    </tr>\n",
              "    <tr>\n",
              "      <th>C</th>\n",
              "      <td>0.034934</td>\n",
              "      <td>0.598406</td>\n",
              "      <td>0.693514</td>\n",
              "    </tr>\n",
              "    <tr>\n",
              "      <th>D</th>\n",
              "      <td>0.898112</td>\n",
              "      <td>0.299140</td>\n",
              "      <td>0.593300</td>\n",
              "    </tr>\n",
              "    <tr>\n",
              "      <th>E</th>\n",
              "      <td>0.240152</td>\n",
              "      <td>0.753745</td>\n",
              "      <td>0.998007</td>\n",
              "    </tr>\n",
              "  </tbody>\n",
              "</table>\n",
              "</div>"
            ],
            "text/plain": [
              "       col1      col2      col3\n",
              "A  0.265447  0.168067  0.070290\n",
              "B  0.292694  0.983822  0.745113\n",
              "C  0.034934  0.598406  0.693514\n",
              "D  0.898112  0.299140  0.593300\n",
              "E  0.240152  0.753745  0.998007"
            ]
          },
          "execution_count": 304,
          "metadata": {},
          "output_type": "execute_result"
        }
      ],
      "source": [
        "df.dropna()"
      ]
    },
    {
      "cell_type": "markdown",
      "metadata": {
        "id": "IriDyabTfIde"
      },
      "source": [
        "## Replacing the values\n",
        "- replace ( )"
      ]
    },
    {
      "cell_type": "code",
      "execution_count": 305,
      "metadata": {
        "colab": {
          "base_uri": "https://localhost:8080/",
          "height": 175
        },
        "id": "vXBdgvWlf5Ft",
        "outputId": "8be45640-e109-426b-f546-f13a42a4c3ae"
      },
      "outputs": [
        {
          "data": {
            "text/html": [
              "<div>\n",
              "<style scoped>\n",
              "    .dataframe tbody tr th:only-of-type {\n",
              "        vertical-align: middle;\n",
              "    }\n",
              "\n",
              "    .dataframe tbody tr th {\n",
              "        vertical-align: top;\n",
              "    }\n",
              "\n",
              "    .dataframe thead th {\n",
              "        text-align: right;\n",
              "    }\n",
              "</style>\n",
              "<table border=\"1\" class=\"dataframe\">\n",
              "  <thead>\n",
              "    <tr style=\"text-align: right;\">\n",
              "      <th></th>\n",
              "      <th>col1</th>\n",
              "      <th>col2</th>\n",
              "      <th>col3</th>\n",
              "    </tr>\n",
              "  </thead>\n",
              "  <tbody>\n",
              "    <tr>\n",
              "      <th>A</th>\n",
              "      <td>0.265447</td>\n",
              "      <td>0.168067</td>\n",
              "      <td>0.070290</td>\n",
              "    </tr>\n",
              "    <tr>\n",
              "      <th>B</th>\n",
              "      <td>0.292694</td>\n",
              "      <td>0.983822</td>\n",
              "      <td>0.745113</td>\n",
              "    </tr>\n",
              "    <tr>\n",
              "      <th>C</th>\n",
              "      <td>0.034934</td>\n",
              "      <td>0.598406</td>\n",
              "      <td>0.693514</td>\n",
              "    </tr>\n",
              "    <tr>\n",
              "      <th>D</th>\n",
              "      <td>0.898112</td>\n",
              "      <td>0.299140</td>\n",
              "      <td>0.593300</td>\n",
              "    </tr>\n",
              "    <tr>\n",
              "      <th>E</th>\n",
              "      <td>0.240152</td>\n",
              "      <td>0.753745</td>\n",
              "      <td>0.998007</td>\n",
              "    </tr>\n",
              "    <tr>\n",
              "      <th>F</th>\n",
              "      <td>NaN</td>\n",
              "      <td>NaN</td>\n",
              "      <td>NaN</td>\n",
              "    </tr>\n",
              "    <tr>\n",
              "      <th>G</th>\n",
              "      <td>NaN</td>\n",
              "      <td>NaN</td>\n",
              "      <td>NaN</td>\n",
              "    </tr>\n",
              "    <tr>\n",
              "      <th>H</th>\n",
              "      <td>NaN</td>\n",
              "      <td>NaN</td>\n",
              "      <td>NaN</td>\n",
              "    </tr>\n",
              "    <tr>\n",
              "      <th>I</th>\n",
              "      <td>NaN</td>\n",
              "      <td>NaN</td>\n",
              "      <td>NaN</td>\n",
              "    </tr>\n",
              "  </tbody>\n",
              "</table>\n",
              "</div>"
            ],
            "text/plain": [
              "       col1      col2      col3\n",
              "A  0.265447  0.168067  0.070290\n",
              "B  0.292694  0.983822  0.745113\n",
              "C  0.034934  0.598406  0.693514\n",
              "D  0.898112  0.299140  0.593300\n",
              "E  0.240152  0.753745  0.998007\n",
              "F       NaN       NaN       NaN\n",
              "G       NaN       NaN       NaN\n",
              "H       NaN       NaN       NaN\n",
              "I       NaN       NaN       NaN"
            ]
          },
          "execution_count": 305,
          "metadata": {},
          "output_type": "execute_result"
        }
      ],
      "source": [
        "df"
      ]
    },
    {
      "cell_type": "code",
      "execution_count": 306,
      "metadata": {
        "colab": {
          "base_uri": "https://localhost:8080/",
          "height": 175
        },
        "id": "7uCpHIZVbK77",
        "outputId": "8a5d1347-6180-4559-8e94-16deac3414e3"
      },
      "outputs": [
        {
          "data": {
            "text/html": [
              "<div>\n",
              "<style scoped>\n",
              "    .dataframe tbody tr th:only-of-type {\n",
              "        vertical-align: middle;\n",
              "    }\n",
              "\n",
              "    .dataframe tbody tr th {\n",
              "        vertical-align: top;\n",
              "    }\n",
              "\n",
              "    .dataframe thead th {\n",
              "        text-align: right;\n",
              "    }\n",
              "</style>\n",
              "<table border=\"1\" class=\"dataframe\">\n",
              "  <thead>\n",
              "    <tr style=\"text-align: right;\">\n",
              "      <th></th>\n",
              "      <th>col1</th>\n",
              "      <th>col2</th>\n",
              "      <th>col3</th>\n",
              "    </tr>\n",
              "  </thead>\n",
              "  <tbody>\n",
              "    <tr>\n",
              "      <th>A</th>\n",
              "      <td>0.265447</td>\n",
              "      <td>0.168067</td>\n",
              "      <td>0.070290</td>\n",
              "    </tr>\n",
              "    <tr>\n",
              "      <th>B</th>\n",
              "      <td>0.292694</td>\n",
              "      <td>0.983822</td>\n",
              "      <td>0.745113</td>\n",
              "    </tr>\n",
              "    <tr>\n",
              "      <th>C</th>\n",
              "      <td>0.034934</td>\n",
              "      <td>0.598406</td>\n",
              "      <td>0.693514</td>\n",
              "    </tr>\n",
              "    <tr>\n",
              "      <th>D</th>\n",
              "      <td>0.898112</td>\n",
              "      <td>0.299140</td>\n",
              "      <td>0.593300</td>\n",
              "    </tr>\n",
              "    <tr>\n",
              "      <th>E</th>\n",
              "      <td>0.240152</td>\n",
              "      <td>0.753745</td>\n",
              "      <td>0.998007</td>\n",
              "    </tr>\n",
              "    <tr>\n",
              "      <th>F</th>\n",
              "      <td>NaN</td>\n",
              "      <td>NaN</td>\n",
              "      <td>NaN</td>\n",
              "    </tr>\n",
              "    <tr>\n",
              "      <th>G</th>\n",
              "      <td>NaN</td>\n",
              "      <td>NaN</td>\n",
              "      <td>NaN</td>\n",
              "    </tr>\n",
              "    <tr>\n",
              "      <th>H</th>\n",
              "      <td>NaN</td>\n",
              "      <td>NaN</td>\n",
              "      <td>NaN</td>\n",
              "    </tr>\n",
              "    <tr>\n",
              "      <th>I</th>\n",
              "      <td>NaN</td>\n",
              "      <td>NaN</td>\n",
              "      <td>NaN</td>\n",
              "    </tr>\n",
              "  </tbody>\n",
              "</table>\n",
              "</div>"
            ],
            "text/plain": [
              "       col1      col2      col3\n",
              "A  0.265447  0.168067  0.070290\n",
              "B  0.292694  0.983822  0.745113\n",
              "C  0.034934  0.598406  0.693514\n",
              "D  0.898112  0.299140  0.593300\n",
              "E  0.240152  0.753745  0.998007\n",
              "F       NaN       NaN       NaN\n",
              "G       NaN       NaN       NaN\n",
              "H       NaN       NaN       NaN\n",
              "I       NaN       NaN       NaN"
            ]
          },
          "execution_count": 306,
          "metadata": {},
          "output_type": "execute_result"
        }
      ],
      "source": [
        "df.replace({50:90, 99 : 245})"
      ]
    },
    {
      "cell_type": "code",
      "execution_count": 307,
      "metadata": {
        "colab": {
          "base_uri": "https://localhost:8080/",
          "height": 332
        },
        "id": "57QU4xVifuUs",
        "outputId": "00dfa164-6e4b-4ca3-ba46-134365c9d4d2"
      },
      "outputs": [
        {
          "data": {
            "text/html": [
              "<div>\n",
              "<style scoped>\n",
              "    .dataframe tbody tr th:only-of-type {\n",
              "        vertical-align: middle;\n",
              "    }\n",
              "\n",
              "    .dataframe tbody tr th {\n",
              "        vertical-align: top;\n",
              "    }\n",
              "\n",
              "    .dataframe thead th {\n",
              "        text-align: right;\n",
              "    }\n",
              "</style>\n",
              "<table border=\"1\" class=\"dataframe\">\n",
              "  <thead>\n",
              "    <tr style=\"text-align: right;\">\n",
              "      <th></th>\n",
              "      <th>col1</th>\n",
              "      <th>col2</th>\n",
              "      <th>col3</th>\n",
              "    </tr>\n",
              "  </thead>\n",
              "  <tbody>\n",
              "    <tr>\n",
              "      <th>A</th>\n",
              "      <td>0.265</td>\n",
              "      <td>0.168</td>\n",
              "      <td>0.070</td>\n",
              "    </tr>\n",
              "    <tr>\n",
              "      <th>B</th>\n",
              "      <td>0.293</td>\n",
              "      <td>0.984</td>\n",
              "      <td>0.745</td>\n",
              "    </tr>\n",
              "    <tr>\n",
              "      <th>C</th>\n",
              "      <td>0.035</td>\n",
              "      <td>0.598</td>\n",
              "      <td>0.694</td>\n",
              "    </tr>\n",
              "    <tr>\n",
              "      <th>D</th>\n",
              "      <td>0.898</td>\n",
              "      <td>0.299</td>\n",
              "      <td>0.593</td>\n",
              "    </tr>\n",
              "    <tr>\n",
              "      <th>E</th>\n",
              "      <td>0.240</td>\n",
              "      <td>0.754</td>\n",
              "      <td>0.998</td>\n",
              "    </tr>\n",
              "    <tr>\n",
              "      <th>F</th>\n",
              "      <td>NaN</td>\n",
              "      <td>NaN</td>\n",
              "      <td>NaN</td>\n",
              "    </tr>\n",
              "    <tr>\n",
              "      <th>G</th>\n",
              "      <td>NaN</td>\n",
              "      <td>NaN</td>\n",
              "      <td>NaN</td>\n",
              "    </tr>\n",
              "    <tr>\n",
              "      <th>H</th>\n",
              "      <td>NaN</td>\n",
              "      <td>NaN</td>\n",
              "      <td>NaN</td>\n",
              "    </tr>\n",
              "    <tr>\n",
              "      <th>I</th>\n",
              "      <td>NaN</td>\n",
              "      <td>NaN</td>\n",
              "      <td>NaN</td>\n",
              "    </tr>\n",
              "  </tbody>\n",
              "</table>\n",
              "</div>"
            ],
            "text/plain": [
              "    col1   col2   col3\n",
              "A  0.265  0.168  0.070\n",
              "B  0.293  0.984  0.745\n",
              "C  0.035  0.598  0.694\n",
              "D  0.898  0.299  0.593\n",
              "E  0.240  0.754  0.998\n",
              "F    NaN    NaN    NaN\n",
              "G    NaN    NaN    NaN\n",
              "H    NaN    NaN    NaN\n",
              "I    NaN    NaN    NaN"
            ]
          },
          "execution_count": 307,
          "metadata": {},
          "output_type": "execute_result"
        }
      ],
      "source": [
        "df.replace({0.101609 : 10, 0.691288 : 123}).round(3)"
      ]
    },
    {
      "cell_type": "code",
      "execution_count": 312,
      "metadata": {
        "colab": {
          "base_uri": "https://localhost:8080/",
          "height": 175
        },
        "id": "be6cYMMpmD99",
        "outputId": "0d148d00-57a9-4b2d-8158-2e17010157a9"
      },
      "outputs": [
        {
          "data": {
            "text/html": [
              "<div>\n",
              "<style scoped>\n",
              "    .dataframe tbody tr th:only-of-type {\n",
              "        vertical-align: middle;\n",
              "    }\n",
              "\n",
              "    .dataframe tbody tr th {\n",
              "        vertical-align: top;\n",
              "    }\n",
              "\n",
              "    .dataframe thead th {\n",
              "        text-align: right;\n",
              "    }\n",
              "</style>\n",
              "<table border=\"1\" class=\"dataframe\">\n",
              "  <thead>\n",
              "    <tr style=\"text-align: right;\">\n",
              "      <th></th>\n",
              "      <th>Apples</th>\n",
              "      <th>Grapes</th>\n",
              "    </tr>\n",
              "  </thead>\n",
              "  <tbody>\n",
              "    <tr>\n",
              "      <th>0</th>\n",
              "      <td>50</td>\n",
              "      <td>100</td>\n",
              "    </tr>\n",
              "    <tr>\n",
              "      <th>1</th>\n",
              "      <td>95</td>\n",
              "      <td>45</td>\n",
              "    </tr>\n",
              "    <tr>\n",
              "      <th>2</th>\n",
              "      <td>105</td>\n",
              "      <td>99</td>\n",
              "    </tr>\n",
              "    <tr>\n",
              "      <th>3</th>\n",
              "      <td>75</td>\n",
              "      <td>0</td>\n",
              "    </tr>\n",
              "  </tbody>\n",
              "</table>\n",
              "</div>"
            ],
            "text/plain": [
              "   Apples  Grapes\n",
              "0      50     100\n",
              "1      95      45\n",
              "2     105      99\n",
              "3      75       0"
            ]
          },
          "execution_count": 312,
          "metadata": {},
          "output_type": "execute_result"
        }
      ],
      "source": [
        "df"
      ]
    },
    {
      "cell_type": "code",
      "execution_count": 313,
      "metadata": {
        "id": "iZCDIX16mjL8"
      },
      "outputs": [],
      "source": [
        "# replace 105 without using any function\n",
        "df.Apples.loc[2] = 500"
      ]
    },
    {
      "cell_type": "code",
      "execution_count": 314,
      "metadata": {
        "colab": {
          "base_uri": "https://localhost:8080/",
          "height": 175
        },
        "id": "sf3du8Hlm3HU",
        "outputId": "33bfd1a0-7fab-466e-b9b4-483d14867a8b"
      },
      "outputs": [
        {
          "data": {
            "text/html": [
              "<div>\n",
              "<style scoped>\n",
              "    .dataframe tbody tr th:only-of-type {\n",
              "        vertical-align: middle;\n",
              "    }\n",
              "\n",
              "    .dataframe tbody tr th {\n",
              "        vertical-align: top;\n",
              "    }\n",
              "\n",
              "    .dataframe thead th {\n",
              "        text-align: right;\n",
              "    }\n",
              "</style>\n",
              "<table border=\"1\" class=\"dataframe\">\n",
              "  <thead>\n",
              "    <tr style=\"text-align: right;\">\n",
              "      <th></th>\n",
              "      <th>Apples</th>\n",
              "      <th>Grapes</th>\n",
              "    </tr>\n",
              "  </thead>\n",
              "  <tbody>\n",
              "    <tr>\n",
              "      <th>0</th>\n",
              "      <td>50</td>\n",
              "      <td>100</td>\n",
              "    </tr>\n",
              "    <tr>\n",
              "      <th>1</th>\n",
              "      <td>95</td>\n",
              "      <td>45</td>\n",
              "    </tr>\n",
              "    <tr>\n",
              "      <th>2</th>\n",
              "      <td>500</td>\n",
              "      <td>99</td>\n",
              "    </tr>\n",
              "    <tr>\n",
              "      <th>3</th>\n",
              "      <td>75</td>\n",
              "      <td>0</td>\n",
              "    </tr>\n",
              "  </tbody>\n",
              "</table>\n",
              "</div>"
            ],
            "text/plain": [
              "   Apples  Grapes\n",
              "0      50     100\n",
              "1      95      45\n",
              "2     500      99\n",
              "3      75       0"
            ]
          },
          "execution_count": 314,
          "metadata": {},
          "output_type": "execute_result"
        }
      ],
      "source": [
        "df"
      ]
    },
    {
      "cell_type": "code",
      "execution_count": 315,
      "metadata": {
        "colab": {
          "base_uri": "https://localhost:8080/",
          "height": 175
        },
        "id": "QvxQeYMVm4Cc",
        "outputId": "0b2ca987-fec5-4825-9b79-4fbe0ef5ae41"
      },
      "outputs": [
        {
          "data": {
            "text/html": [
              "<div>\n",
              "<style scoped>\n",
              "    .dataframe tbody tr th:only-of-type {\n",
              "        vertical-align: middle;\n",
              "    }\n",
              "\n",
              "    .dataframe tbody tr th {\n",
              "        vertical-align: top;\n",
              "    }\n",
              "\n",
              "    .dataframe thead th {\n",
              "        text-align: right;\n",
              "    }\n",
              "</style>\n",
              "<table border=\"1\" class=\"dataframe\">\n",
              "  <thead>\n",
              "    <tr style=\"text-align: right;\">\n",
              "      <th></th>\n",
              "      <th>Apples</th>\n",
              "      <th>Grapes</th>\n",
              "    </tr>\n",
              "  </thead>\n",
              "  <tbody>\n",
              "    <tr>\n",
              "      <th>0</th>\n",
              "      <td>50</td>\n",
              "      <td>100</td>\n",
              "    </tr>\n",
              "    <tr>\n",
              "      <th>1</th>\n",
              "      <td>95</td>\n",
              "      <td>45</td>\n",
              "    </tr>\n",
              "    <tr>\n",
              "      <th>2</th>\n",
              "      <td>500</td>\n",
              "      <td>299</td>\n",
              "    </tr>\n",
              "    <tr>\n",
              "      <th>3</th>\n",
              "      <td>75</td>\n",
              "      <td>0</td>\n",
              "    </tr>\n",
              "  </tbody>\n",
              "</table>\n",
              "</div>"
            ],
            "text/plain": [
              "   Apples  Grapes\n",
              "0      50     100\n",
              "1      95      45\n",
              "2     500     299\n",
              "3      75       0"
            ]
          },
          "execution_count": 315,
          "metadata": {},
          "output_type": "execute_result"
        }
      ],
      "source": [
        "df.Grapes.loc[2] = 299\n",
        "df"
      ]
    },
    {
      "cell_type": "markdown",
      "metadata": {
        "id": "byud-gzcnbc4"
      },
      "source": [
        "## Handle Duplicates Values"
      ]
    },
    {
      "cell_type": "markdown",
      "metadata": {
        "id": "rN-HM3-vnkb8"
      },
      "source": [
        "Check the duplicate values\n",
        "- duplicated ( )"
      ]
    },
    {
      "cell_type": "code",
      "execution_count": 316,
      "metadata": {
        "colab": {
          "base_uri": "https://localhost:8080/"
        },
        "id": "1M-3QRwLnJcD",
        "outputId": "ed8e44e6-36f4-42ff-dd08-c5ba25a87b30"
      },
      "outputs": [
        {
          "data": {
            "text/plain": [
              "0    False\n",
              "1    False\n",
              "2    False\n",
              "3    False\n",
              "dtype: bool"
            ]
          },
          "execution_count": 316,
          "metadata": {},
          "output_type": "execute_result"
        }
      ],
      "source": [
        "df.duplicated()"
      ]
    },
    {
      "cell_type": "code",
      "execution_count": 317,
      "metadata": {
        "colab": {
          "base_uri": "https://localhost:8080/"
        },
        "id": "1nd57cwenrYF",
        "outputId": "91d7b9a6-734c-4615-8e00-513f57642377"
      },
      "outputs": [
        {
          "data": {
            "text/plain": [
              "0    False\n",
              "1    False\n",
              "2    False\n",
              "3    False\n",
              "dtype: bool"
            ]
          },
          "execution_count": 317,
          "metadata": {},
          "output_type": "execute_result"
        }
      ],
      "source": [
        "# find out duplicate values in columns \n",
        "df.duplicated(subset = ['Apples'])"
      ]
    },
    {
      "cell_type": "markdown",
      "metadata": {
        "id": "k4ee_cVzoiVF"
      },
      "source": [
        "- Remove Duplicate values\n",
        "-drop_duplicates( )\n",
        "\n",
        "it only use when we have same entry twice in the datasets."
      ]
    },
    {
      "cell_type": "code",
      "execution_count": 318,
      "metadata": {
        "colab": {
          "base_uri": "https://localhost:8080/",
          "height": 175
        },
        "id": "yVPDFczanzuP",
        "outputId": "71a0c581-eabe-4c72-827f-2d93c3ed3357"
      },
      "outputs": [
        {
          "data": {
            "text/html": [
              "<div>\n",
              "<style scoped>\n",
              "    .dataframe tbody tr th:only-of-type {\n",
              "        vertical-align: middle;\n",
              "    }\n",
              "\n",
              "    .dataframe tbody tr th {\n",
              "        vertical-align: top;\n",
              "    }\n",
              "\n",
              "    .dataframe thead th {\n",
              "        text-align: right;\n",
              "    }\n",
              "</style>\n",
              "<table border=\"1\" class=\"dataframe\">\n",
              "  <thead>\n",
              "    <tr style=\"text-align: right;\">\n",
              "      <th></th>\n",
              "      <th>Apples</th>\n",
              "      <th>Grapes</th>\n",
              "    </tr>\n",
              "  </thead>\n",
              "  <tbody>\n",
              "    <tr>\n",
              "      <th>0</th>\n",
              "      <td>50</td>\n",
              "      <td>100</td>\n",
              "    </tr>\n",
              "    <tr>\n",
              "      <th>1</th>\n",
              "      <td>95</td>\n",
              "      <td>45</td>\n",
              "    </tr>\n",
              "    <tr>\n",
              "      <th>2</th>\n",
              "      <td>500</td>\n",
              "      <td>299</td>\n",
              "    </tr>\n",
              "    <tr>\n",
              "      <th>3</th>\n",
              "      <td>75</td>\n",
              "      <td>0</td>\n",
              "    </tr>\n",
              "  </tbody>\n",
              "</table>\n",
              "</div>"
            ],
            "text/plain": [
              "   Apples  Grapes\n",
              "0      50     100\n",
              "1      95      45\n",
              "2     500     299\n",
              "3      75       0"
            ]
          },
          "execution_count": 318,
          "metadata": {},
          "output_type": "execute_result"
        }
      ],
      "source": [
        "df.drop_duplicates (subset = ['Apples'])"
      ]
    },
    {
      "cell_type": "markdown",
      "metadata": {
        "id": "381_mNWhpwZR"
      },
      "source": [
        "## Import & Export a Dataset"
      ]
    },
    {
      "cell_type": "code",
      "execution_count": 319,
      "metadata": {
        "id": "9xZgq9j-ow6u"
      },
      "outputs": [],
      "source": [
        "df = pd.read_csv(\"https://raw.githubusercontent.com/ShapeAI/Python-for-Data-Science-/master/stocks.csv\")"
      ]
    },
    {
      "cell_type": "code",
      "execution_count": 320,
      "metadata": {
        "colab": {
          "base_uri": "https://localhost:8080/",
          "height": 488
        },
        "id": "S41iGGs7qzq1",
        "outputId": "9f5c5406-be1f-42ca-e288-3bcc6c24a024"
      },
      "outputs": [
        {
          "data": {
            "text/html": [
              "<div>\n",
              "<style scoped>\n",
              "    .dataframe tbody tr th:only-of-type {\n",
              "        vertical-align: middle;\n",
              "    }\n",
              "\n",
              "    .dataframe tbody tr th {\n",
              "        vertical-align: top;\n",
              "    }\n",
              "\n",
              "    .dataframe thead th {\n",
              "        text-align: right;\n",
              "    }\n",
              "</style>\n",
              "<table border=\"1\" class=\"dataframe\">\n",
              "  <thead>\n",
              "    <tr style=\"text-align: right;\">\n",
              "      <th></th>\n",
              "      <th>Date</th>\n",
              "      <th>Open</th>\n",
              "      <th>High</th>\n",
              "      <th>Low</th>\n",
              "      <th>Close</th>\n",
              "      <th>Adj Close</th>\n",
              "      <th>Volume</th>\n",
              "    </tr>\n",
              "  </thead>\n",
              "  <tbody>\n",
              "    <tr>\n",
              "      <th>0</th>\n",
              "      <td>2004-08-19</td>\n",
              "      <td>49.676899</td>\n",
              "      <td>51.693783</td>\n",
              "      <td>47.669952</td>\n",
              "      <td>49.845802</td>\n",
              "      <td>49.845802</td>\n",
              "      <td>44994500</td>\n",
              "    </tr>\n",
              "    <tr>\n",
              "      <th>1</th>\n",
              "      <td>2004-08-20</td>\n",
              "      <td>50.178635</td>\n",
              "      <td>54.187561</td>\n",
              "      <td>49.925285</td>\n",
              "      <td>53.805050</td>\n",
              "      <td>53.805050</td>\n",
              "      <td>23005800</td>\n",
              "    </tr>\n",
              "    <tr>\n",
              "      <th>2</th>\n",
              "      <td>2004-08-23</td>\n",
              "      <td>55.017166</td>\n",
              "      <td>56.373344</td>\n",
              "      <td>54.172661</td>\n",
              "      <td>54.346527</td>\n",
              "      <td>54.346527</td>\n",
              "      <td>18393200</td>\n",
              "    </tr>\n",
              "    <tr>\n",
              "      <th>3</th>\n",
              "      <td>2004-08-24</td>\n",
              "      <td>55.260582</td>\n",
              "      <td>55.439419</td>\n",
              "      <td>51.450363</td>\n",
              "      <td>52.096165</td>\n",
              "      <td>52.096165</td>\n",
              "      <td>15361800</td>\n",
              "    </tr>\n",
              "    <tr>\n",
              "      <th>4</th>\n",
              "      <td>2004-08-25</td>\n",
              "      <td>52.140873</td>\n",
              "      <td>53.651051</td>\n",
              "      <td>51.604362</td>\n",
              "      <td>52.657513</td>\n",
              "      <td>52.657513</td>\n",
              "      <td>9257400</td>\n",
              "    </tr>\n",
              "    <tr>\n",
              "      <th>...</th>\n",
              "      <td>...</td>\n",
              "      <td>...</td>\n",
              "      <td>...</td>\n",
              "      <td>...</td>\n",
              "      <td>...</td>\n",
              "      <td>...</td>\n",
              "      <td>...</td>\n",
              "    </tr>\n",
              "    <tr>\n",
              "      <th>3308</th>\n",
              "      <td>2017-10-09</td>\n",
              "      <td>980.000000</td>\n",
              "      <td>985.424988</td>\n",
              "      <td>976.109985</td>\n",
              "      <td>977.000000</td>\n",
              "      <td>977.000000</td>\n",
              "      <td>891400</td>\n",
              "    </tr>\n",
              "    <tr>\n",
              "      <th>3309</th>\n",
              "      <td>2017-10-10</td>\n",
              "      <td>980.000000</td>\n",
              "      <td>981.570007</td>\n",
              "      <td>966.080017</td>\n",
              "      <td>972.599976</td>\n",
              "      <td>972.599976</td>\n",
              "      <td>968400</td>\n",
              "    </tr>\n",
              "    <tr>\n",
              "      <th>3310</th>\n",
              "      <td>2017-10-11</td>\n",
              "      <td>973.719971</td>\n",
              "      <td>990.710022</td>\n",
              "      <td>972.250000</td>\n",
              "      <td>989.250000</td>\n",
              "      <td>989.250000</td>\n",
              "      <td>1693300</td>\n",
              "    </tr>\n",
              "    <tr>\n",
              "      <th>3311</th>\n",
              "      <td>2017-10-12</td>\n",
              "      <td>987.450012</td>\n",
              "      <td>994.119995</td>\n",
              "      <td>985.000000</td>\n",
              "      <td>987.830017</td>\n",
              "      <td>987.830017</td>\n",
              "      <td>1262400</td>\n",
              "    </tr>\n",
              "    <tr>\n",
              "      <th>3312</th>\n",
              "      <td>2017-10-13</td>\n",
              "      <td>992.000000</td>\n",
              "      <td>997.210022</td>\n",
              "      <td>989.000000</td>\n",
              "      <td>989.679993</td>\n",
              "      <td>989.679993</td>\n",
              "      <td>1157700</td>\n",
              "    </tr>\n",
              "  </tbody>\n",
              "</table>\n",
              "<p>3313 rows × 7 columns</p>\n",
              "</div>"
            ],
            "text/plain": [
              "            Date        Open        High         Low       Close   Adj Close  \\\n",
              "0     2004-08-19   49.676899   51.693783   47.669952   49.845802   49.845802   \n",
              "1     2004-08-20   50.178635   54.187561   49.925285   53.805050   53.805050   \n",
              "2     2004-08-23   55.017166   56.373344   54.172661   54.346527   54.346527   \n",
              "3     2004-08-24   55.260582   55.439419   51.450363   52.096165   52.096165   \n",
              "4     2004-08-25   52.140873   53.651051   51.604362   52.657513   52.657513   \n",
              "...          ...         ...         ...         ...         ...         ...   \n",
              "3308  2017-10-09  980.000000  985.424988  976.109985  977.000000  977.000000   \n",
              "3309  2017-10-10  980.000000  981.570007  966.080017  972.599976  972.599976   \n",
              "3310  2017-10-11  973.719971  990.710022  972.250000  989.250000  989.250000   \n",
              "3311  2017-10-12  987.450012  994.119995  985.000000  987.830017  987.830017   \n",
              "3312  2017-10-13  992.000000  997.210022  989.000000  989.679993  989.679993   \n",
              "\n",
              "        Volume  \n",
              "0     44994500  \n",
              "1     23005800  \n",
              "2     18393200  \n",
              "3     15361800  \n",
              "4      9257400  \n",
              "...        ...  \n",
              "3308    891400  \n",
              "3309    968400  \n",
              "3310   1693300  \n",
              "3311   1262400  \n",
              "3312   1157700  \n",
              "\n",
              "[3313 rows x 7 columns]"
            ]
          },
          "execution_count": 320,
          "metadata": {},
          "output_type": "execute_result"
        }
      ],
      "source": [
        "df"
      ]
    },
    {
      "cell_type": "markdown",
      "metadata": {
        "id": "vsjVIxmmr-9s"
      },
      "source": [
        "When we are done with data cleaning visualization and prediction\n",
        "\n",
        "When we want to export the data."
      ]
    },
    {
      "cell_type": "code",
      "execution_count": 321,
      "metadata": {
        "id": "ilFK1WxUq1M3"
      },
      "outputs": [],
      "source": [
        "# pd.to_csv('Name_of_the_new_file.csv', 'Location')  "
      ]
    },
    {
      "cell_type": "code",
      "execution_count": 322,
      "metadata": {
        "colab": {
          "base_uri": "https://localhost:8080/"
        },
        "id": "BRx-OLhitiyo",
        "outputId": "2031b610-ca0e-4610-da99-7c22c341d8c6"
      },
      "outputs": [
        {
          "data": {
            "text/plain": [
              "3208"
            ]
          },
          "execution_count": 322,
          "metadata": {},
          "output_type": "execute_result"
        }
      ],
      "source": [
        "df['Open'].nunique()"
      ]
    },
    {
      "cell_type": "code",
      "execution_count": 323,
      "metadata": {
        "colab": {
          "base_uri": "https://localhost:8080/"
        },
        "id": "n7ESgZpyt3Bm",
        "outputId": "a0e4cff7-edd5-4f93-9d84-2f34f7aa1dea"
      },
      "outputs": [
        {
          "data": {
            "text/plain": [
              "<bound method Series.unique of 0        49.676899\n",
              "1        50.178635\n",
              "2        55.017166\n",
              "3        55.260582\n",
              "4        52.140873\n",
              "           ...    \n",
              "3308    980.000000\n",
              "3309    980.000000\n",
              "3310    973.719971\n",
              "3311    987.450012\n",
              "3312    992.000000\n",
              "Name: Open, Length: 3313, dtype: float64>"
            ]
          },
          "execution_count": 323,
          "metadata": {},
          "output_type": "execute_result"
        }
      ],
      "source": [
        "df['Open'].unique"
      ]
    },
    {
      "cell_type": "code",
      "execution_count": 324,
      "metadata": {
        "colab": {
          "base_uri": "https://localhost:8080/"
        },
        "id": "ZfJRNrqRt9sO",
        "outputId": "c2cecc7f-c032-4755-cc5f-716735dac1ba"
      },
      "outputs": [
        {
          "name": "stdout",
          "output_type": "stream",
          "text": [
            "<class 'pandas.core.frame.DataFrame'>\n",
            "RangeIndex: 3313 entries, 0 to 3312\n",
            "Data columns (total 7 columns):\n",
            " #   Column     Non-Null Count  Dtype  \n",
            "---  ------     --------------  -----  \n",
            " 0   Date       3313 non-null   object \n",
            " 1   Open       3313 non-null   float64\n",
            " 2   High       3313 non-null   float64\n",
            " 3   Low        3313 non-null   float64\n",
            " 4   Close      3313 non-null   float64\n",
            " 5   Adj Close  3313 non-null   float64\n",
            " 6   Volume     3313 non-null   int64  \n",
            "dtypes: float64(5), int64(1), object(1)\n",
            "memory usage: 181.3+ KB\n"
          ]
        }
      ],
      "source": [
        "df.info()"
      ]
    },
    {
      "cell_type": "code",
      "execution_count": 325,
      "metadata": {
        "colab": {
          "base_uri": "https://localhost:8080/"
        },
        "id": "N5WBCUkcuCRO",
        "outputId": "c5382455-45c5-4cd6-ad67-98acb7e4aefc"
      },
      "outputs": [
        {
          "data": {
            "text/plain": [
              "pandas.core.frame.DataFrame"
            ]
          },
          "execution_count": 325,
          "metadata": {},
          "output_type": "execute_result"
        }
      ],
      "source": [
        "type(df)"
      ]
    },
    {
      "cell_type": "markdown",
      "metadata": {
        "id": "L3fkc5PFuVtO"
      },
      "source": [
        "- string \n",
        "- groupby"
      ]
    },
    {
      "cell_type": "code",
      "execution_count": null,
      "metadata": {
        "id": "lS4a41geuOqO"
      },
      "outputs": [],
      "source": []
    }
  ],
  "metadata": {
    "colab": {
      "collapsed_sections": [
        "hkJgL9FyTb1Q"
      ],
      "provenance": [],
      "toc_visible": true
    },
    "kernelspec": {
      "display_name": "Python 3",
      "language": "python",
      "name": "python3"
    },
    "language_info": {
      "codemirror_mode": {
        "name": "ipython",
        "version": 3
      },
      "file_extension": ".py",
      "mimetype": "text/x-python",
      "name": "python",
      "nbconvert_exporter": "python",
      "pygments_lexer": "ipython3",
      "version": "3.11.1"
    },
    "vscode": {
      "interpreter": {
        "hash": "1d04659f779425b4779ce901f7c7f4af747918a419b2140d26b4a15082a887e3"
      }
    }
  },
  "nbformat": 4,
  "nbformat_minor": 0
}
