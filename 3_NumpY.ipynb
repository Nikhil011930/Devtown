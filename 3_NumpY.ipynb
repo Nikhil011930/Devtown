{
 "cells": [
  {
   "cell_type": "markdown",
   "metadata": {
    "id": "HqV45W1gsWbx"
   },
   "source": [
    "# Day 17\n"
   ]
  },
  {
   "cell_type": "markdown",
   "metadata": {
    "id": "vPcoPKB7sZRQ"
   },
   "source": [
    "# NUMPY\n",
    "\n",
    "\n",
    "- Time taken by list is slower while the numpy is faster as it is very easy and state forward.\n",
    "- Array stores only those elements which are of single datatypes with multiple elements.\n",
    "- But in numpy we can store multiple datatypes as well as multiple data files.\n",
    "- We use numpy for much optimizatio to act faster.\n",
    "- Whenever we say arry the object of the perticulat array is known as list, Same way we are dealing withe the numpy lib we say ndarray."
   ]
  },
  {
   "cell_type": "code",
   "execution_count": 8,
   "metadata": {
    "id": "inFUEAmjsRHo"
   },
   "outputs": [],
   "source": [
    "import numpy as np\n",
    "import time"
   ]
  },
  {
   "cell_type": "code",
   "execution_count": 9,
   "metadata": {
    "id": "G-OEVRiqys5z"
   },
   "outputs": [],
   "source": [
    "a = np.random.rand(100000000)\n",
    "\n",
    "# It creates the random values of 0 and 1 till those numbers like binary code."
   ]
  },
  {
   "cell_type": "code",
   "execution_count": 10,
   "metadata": {
    "colab": {
     "base_uri": "https://localhost:8080/"
    },
    "id": "MTLaCAUJy1Sc",
    "outputId": "977ad436-6729-48bd-9500-29e7c63f4287"
   },
   "outputs": [
    {
     "name": "stdout",
     "output_type": "stream",
     "text": [
      "7.814604997634888\n"
     ]
    }
   ],
   "source": [
    "# List\n",
    "\n",
    "start = time.time()\n",
    "mean_list = sum(a)/len(a)\n",
    "print (time.time()-start)"
   ]
  },
  {
   "cell_type": "code",
   "execution_count": 11,
   "metadata": {
    "colab": {
     "base_uri": "https://localhost:8080/"
    },
    "id": "PGaJF8bF1Eok",
    "outputId": "21eddb00-d437-4309-c097-7f0048dd8dc4"
   },
   "outputs": [
    {
     "name": "stdout",
     "output_type": "stream",
     "text": [
      "0.1171870231628418\n"
     ]
    }
   ],
   "source": [
    "# Numpy \n",
    "\n",
    "start = time.time()\n",
    "mean_np = np.mean(a)\n",
    "print (time.time()-start)"
   ]
  },
  {
   "cell_type": "code",
   "execution_count": 12,
   "metadata": {
    "colab": {
     "base_uri": "https://localhost:8080/",
     "height": 35
    },
    "id": "fD07n6C416K8",
    "outputId": "06cebd15-376c-4842-fc89-c38a2c856a39"
   },
   "outputs": [
    {
     "data": {
      "text/plain": [
       "'1.24.1'"
      ]
     },
     "execution_count": 12,
     "metadata": {},
     "output_type": "execute_result"
    }
   ],
   "source": [
    "np.__version__"
   ]
  },
  {
   "cell_type": "markdown",
   "metadata": {
    "id": "vmnCb4Xp-QjO"
   },
   "source": [
    "# OPERATIONs"
   ]
  },
  {
   "cell_type": "markdown",
   "metadata": {
    "id": "H1cdb6Li-XE9"
   },
   "source": [
    "## Initializing the NumPy Array"
   ]
  },
  {
   "cell_type": "code",
   "execution_count": 13,
   "metadata": {
    "id": "WSu4hY6r2E08"
   },
   "outputs": [],
   "source": [
    "# Synatx\n",
    "# arr = np.array()"
   ]
  },
  {
   "cell_type": "code",
   "execution_count": 14,
   "metadata": {
    "colab": {
     "base_uri": "https://localhost:8080/"
    },
    "id": "ymoFz0jk2Fmm",
    "outputId": "8405189e-68be-47de-a74a-7ea3ddb6552a"
   },
   "outputs": [
    {
     "data": {
      "text/plain": [
       "array(4)"
      ]
     },
     "execution_count": 14,
     "metadata": {},
     "output_type": "execute_result"
    }
   ],
   "source": [
    "# 0-D (Zero Dimensional)\n",
    "arr = np.array(4)\n",
    "arr"
   ]
  },
  {
   "cell_type": "code",
   "execution_count": 15,
   "metadata": {
    "colab": {
     "base_uri": "https://localhost:8080/"
    },
    "id": "HKVKDvy62F2l",
    "outputId": "9d03b4ae-02d0-421f-c0b1-97c426aab13f"
   },
   "outputs": [
    {
     "data": {
      "text/plain": [
       "array([ 1,  2,  3,  4,  5,  6,  7,  8,  9, 10])"
      ]
     },
     "execution_count": 15,
     "metadata": {},
     "output_type": "execute_result"
    }
   ],
   "source": [
    "# 1-D (One Dimensional)\n",
    "arr = np.array([1,2,3,4,5,6,7,8,9,10])\n",
    "arr"
   ]
  },
  {
   "cell_type": "code",
   "execution_count": 16,
   "metadata": {
    "colab": {
     "base_uri": "https://localhost:8080/"
    },
    "id": "iCHVODOO2GBs",
    "outputId": "35d41643-14b3-435d-d5a3-9ee0ec053f3d"
   },
   "outputs": [
    {
     "data": {
      "text/plain": [
       "array([[ 1,  2,  3,  4,  5],\n",
       "       [ 6,  7,  8,  9, 10],\n",
       "       [11, 12, 13, 14, 15]])"
      ]
     },
     "execution_count": 16,
     "metadata": {},
     "output_type": "execute_result"
    }
   ],
   "source": [
    "# 2-D (TWo Dimensional)\n",
    "arr = np.array([[1,2,3,4,5], [6,7,8,9,10], [11,12,13,14,15]])\n",
    "arr"
   ]
  },
  {
   "cell_type": "code",
   "execution_count": 17,
   "metadata": {
    "colab": {
     "base_uri": "https://localhost:8080/"
    },
    "id": "GLDL-EpC2GL8",
    "outputId": "3557689a-a9c1-4922-af7a-4af19e48ba4d"
   },
   "outputs": [
    {
     "data": {
      "text/plain": [
       "array([[[ 1,  2,  3,  4,  5],\n",
       "        [ 6,  7,  8,  9, 10]],\n",
       "\n",
       "       [[11, 12, 13, 14, 15],\n",
       "        [11, 12, 13, 14, 15]]])"
      ]
     },
     "execution_count": 17,
     "metadata": {},
     "output_type": "execute_result"
    }
   ],
   "source": [
    "# 3-D (Three Dimensional)\n",
    "arr = np.array([\n",
    "    [\n",
    "        [1,2,3,4,5],\n",
    "     [6,7,8,9,10]\n",
    "    ],\n",
    "    [\n",
    "        [11,12,13,14,15],\n",
    "     [11,12,13,14,15]\n",
    "    ]\n",
    "])\n",
    "arr"
   ]
  },
  {
   "cell_type": "markdown",
   "metadata": {
    "id": "YubTelk_f9C4"
   },
   "source": [
    "## ndim attribute --> It will gonna return the dimensions of the array."
   ]
  },
  {
   "cell_type": "code",
   "execution_count": 18,
   "metadata": {
    "colab": {
     "base_uri": "https://localhost:8080/"
    },
    "id": "6JtyqIjkeW7z",
    "outputId": "604cbad1-3f67-4523-bd68-d8c79628231a"
   },
   "outputs": [
    {
     "data": {
      "text/plain": [
       "0"
      ]
     },
     "execution_count": 18,
     "metadata": {},
     "output_type": "execute_result"
    }
   ],
   "source": [
    "# 0-D (Zero Dimensional)\n",
    "arr = np.array(4)\n",
    "arr.ndim"
   ]
  },
  {
   "cell_type": "code",
   "execution_count": 19,
   "metadata": {
    "colab": {
     "base_uri": "https://localhost:8080/"
    },
    "id": "QT8m3BxZe79U",
    "outputId": "686d5fb4-bbf0-48af-a4c8-ae6bcfe9e38e"
   },
   "outputs": [
    {
     "data": {
      "text/plain": [
       "1"
      ]
     },
     "execution_count": 19,
     "metadata": {},
     "output_type": "execute_result"
    }
   ],
   "source": [
    "# 1-D (One Dimensional)\n",
    "arr = np.array([1,2,3,4,5,6,7,8,9,10])\n",
    "arr.ndim"
   ]
  },
  {
   "cell_type": "code",
   "execution_count": 20,
   "metadata": {
    "colab": {
     "base_uri": "https://localhost:8080/"
    },
    "id": "sVf3j1qVgV6W",
    "outputId": "8eea1a82-4e12-462b-fd12-4c60ef091f14"
   },
   "outputs": [
    {
     "data": {
      "text/plain": [
       "2"
      ]
     },
     "execution_count": 20,
     "metadata": {},
     "output_type": "execute_result"
    }
   ],
   "source": [
    "# 2-D (TWo Dimensional)\n",
    "arr = np.array([[1,2,3,4,5],[6,7,8,9,10], [11,12,13,14,15]])\n",
    "arr.ndim"
   ]
  },
  {
   "cell_type": "code",
   "execution_count": 21,
   "metadata": {
    "colab": {
     "base_uri": "https://localhost:8080/"
    },
    "id": "04yNmBaegZF8",
    "outputId": "4da3ad21-1fb5-4e02-83de-12474f88e15b"
   },
   "outputs": [
    {
     "data": {
      "text/plain": [
       "3"
      ]
     },
     "execution_count": 21,
     "metadata": {},
     "output_type": "execute_result"
    }
   ],
   "source": [
    "# 3-D (Three Dimensional)\n",
    "arr = np.array([\n",
    "    [\n",
    "        [1,2,3,4,5],\n",
    "     [6,7,8,9,10]\n",
    "    ],\n",
    "    [\n",
    "        [11,12,13,14,15],\n",
    "     [11,12,13,14,15]\n",
    "    ]\n",
    "])\n",
    "arr.ndim"
   ]
  },
  {
   "cell_type": "markdown",
   "metadata": {
    "id": "OE-7vtLjKjFo"
   },
   "source": [
    "## ndmin ( ) --> Converting 1-D array into any other Dimension."
   ]
  },
  {
   "cell_type": "code",
   "execution_count": 22,
   "metadata": {
    "colab": {
     "base_uri": "https://localhost:8080/"
    },
    "id": "jIlx1eGMgcsl",
    "outputId": "32b0517f-3cf4-440e-eb21-c8b22db5d500"
   },
   "outputs": [
    {
     "data": {
      "text/plain": [
       "array([[[[[[[ 1,  2,  3,  4,  5,  6,  7,  8,  9, 10]]]]]]])"
      ]
     },
     "execution_count": 22,
     "metadata": {},
     "output_type": "execute_result"
    }
   ],
   "source": [
    "# IF we want to convert one dimensional array into any other dimensional array we can use ndmin function.\n",
    "# 1-D (One Dimensional)\n",
    "arr = np.array([1,2,3,4,5,6,7,8,9,10],ndmin = 7)\n",
    "arr"
   ]
  },
  {
   "cell_type": "code",
   "execution_count": 23,
   "metadata": {
    "colab": {
     "base_uri": "https://localhost:8080/"
    },
    "id": "C-RViByTrKSA",
    "outputId": "afc0c529-5f87-4b7b-a6d5-9dde1d01cf98"
   },
   "outputs": [
    {
     "data": {
      "text/plain": [
       "7"
      ]
     },
     "execution_count": 23,
     "metadata": {},
     "output_type": "execute_result"
    }
   ],
   "source": [
    "arr.ndim"
   ]
  },
  {
   "cell_type": "markdown",
   "metadata": {
    "id": "dU_ZXkVur0If"
   },
   "source": [
    "## Shape --->  IT tells about then size of elements."
   ]
  },
  {
   "cell_type": "code",
   "execution_count": 24,
   "metadata": {
    "colab": {
     "base_uri": "https://localhost:8080/"
    },
    "id": "eeMSJbZWrS0P",
    "outputId": "8504eaa7-0d83-4144-ae97-e1790a74fc89"
   },
   "outputs": [
    {
     "data": {
      "text/plain": [
       "(3, 5)"
      ]
     },
     "execution_count": 24,
     "metadata": {},
     "output_type": "execute_result"
    }
   ],
   "source": [
    "# 2-D (Two Dimensional)\n",
    "arr = np.array([[1,2,3,4,5],[6,7,8,9,10], [11,12,13,14,15]])\n",
    "arr.shape"
   ]
  },
  {
   "cell_type": "code",
   "execution_count": 25,
   "metadata": {
    "colab": {
     "base_uri": "https://localhost:8080/"
    },
    "id": "RUtJt5MasJpg",
    "outputId": "059a75bd-9bc3-4938-a8fb-62b38d90fc9f"
   },
   "outputs": [
    {
     "data": {
      "text/plain": [
       "(1, 1, 1, 1, 1, 1, 1, 2, 2, 5)"
      ]
     },
     "execution_count": 25,
     "metadata": {},
     "output_type": "execute_result"
    }
   ],
   "source": [
    "# 3-D (Three Dimensional)\n",
    "arr = np.array([\n",
    "    [\n",
    "        [1,2,3,4,5],\n",
    "     [6,7,8,9,10]\n",
    "    ],\n",
    "    [\n",
    "        [11,12,13,14,15],\n",
    "     [11,12,13,14,15]\n",
    "    ]\n",
    "],ndmin = 10)\n",
    "arr.shape\n"
   ]
  },
  {
   "cell_type": "markdown",
   "metadata": {
    "id": "MRC2pzyyPWGv"
   },
   "source": [
    "## dtypes"
   ]
  },
  {
   "cell_type": "code",
   "execution_count": 26,
   "metadata": {
    "colab": {
     "base_uri": "https://localhost:8080/"
    },
    "id": "TS7wb1awNcmD",
    "outputId": "5fe0d518-50bb-4e0d-be0a-5e6e86e50730"
   },
   "outputs": [
    {
     "data": {
      "text/plain": [
       "dtype('int32')"
      ]
     },
     "execution_count": 26,
     "metadata": {},
     "output_type": "execute_result"
    }
   ],
   "source": [
    "arr.dtype"
   ]
  },
  {
   "cell_type": "code",
   "execution_count": 27,
   "metadata": {
    "colab": {
     "base_uri": "https://localhost:8080/"
    },
    "id": "F9tJV3-8Pb8T",
    "outputId": "6507c0b1-c7e3-4bff-a480-e740fce26710"
   },
   "outputs": [
    {
     "data": {
      "text/plain": [
       "dtype('<U32')"
      ]
     },
     "execution_count": 27,
     "metadata": {},
     "output_type": "execute_result"
    }
   ],
   "source": [
    "arr = np.array(['apple', 'mangoes', 'cherry', 9.9])\n",
    "arr.dtype\n",
    "\n",
    "# U stands for Unicode\n",
    "# I --> Integer\n",
    "# S --> String\n",
    "# B --> Boolean\n",
    "# C --> Complex\n",
    "# F --> Float"
   ]
  },
  {
   "cell_type": "markdown",
   "metadata": {
    "id": "3j6EBbBkSfBO"
   },
   "source": [
    "## size - Total numbers of elements in the data."
   ]
  },
  {
   "cell_type": "code",
   "execution_count": 28,
   "metadata": {
    "colab": {
     "base_uri": "https://localhost:8080/"
    },
    "id": "ig_1KVyAPp8b",
    "outputId": "32be3bef-6b34-4ae2-a011-37e9b29ccbd3"
   },
   "outputs": [
    {
     "data": {
      "text/plain": [
       "4"
      ]
     },
     "execution_count": 28,
     "metadata": {},
     "output_type": "execute_result"
    }
   ],
   "source": [
    "arr.size  # this is attribute"
   ]
  },
  {
   "cell_type": "code",
   "execution_count": 29,
   "metadata": {
    "id": "C1aq5kRySiRc"
   },
   "outputs": [],
   "source": [
    "# np.size(ndarry,1 (row), 0 (column) ) ## this the the function "
   ]
  },
  {
   "cell_type": "code",
   "execution_count": 30,
   "metadata": {
    "colab": {
     "base_uri": "https://localhost:8080/"
    },
    "id": "bXHhjDJgTN6z",
    "outputId": "a1cedae4-e958-4bba-a457-4fb6de88573f"
   },
   "outputs": [
    {
     "data": {
      "text/plain": [
       "20"
      ]
     },
     "execution_count": 30,
     "metadata": {},
     "output_type": "execute_result"
    }
   ],
   "source": [
    "# 3-D (Three Dimensional)\n",
    "arr = np.array([\n",
    "    [1,2,3,4,5],\n",
    "    [6,7,8,9,10],\n",
    "    [11,12,13,14,15],\n",
    "    [11,12,13,14,15]\n",
    "    \n",
    "])\n",
    "arr.size"
   ]
  },
  {
   "cell_type": "code",
   "execution_count": 31,
   "metadata": {
    "colab": {
     "base_uri": "https://localhost:8080/"
    },
    "id": "2FZaFVsWTUTU",
    "outputId": "dbc228a7-d04d-41de-d1a7-a3a1fc79cff7"
   },
   "outputs": [
    {
     "data": {
      "text/plain": [
       "4"
      ]
     },
     "execution_count": 31,
     "metadata": {},
     "output_type": "execute_result"
    }
   ],
   "source": [
    "np.size(arr,0)"
   ]
  },
  {
   "cell_type": "markdown",
   "metadata": {
    "id": "N-iKDoS_Tyl7"
   },
   "source": [
    "## Itemsize - It tells us about the length of the single element in the bytes."
   ]
  },
  {
   "cell_type": "code",
   "execution_count": 32,
   "metadata": {
    "colab": {
     "base_uri": "https://localhost:8080/"
    },
    "id": "mbGTz7PITYJt",
    "outputId": "cb152b52-abc9-48d1-ff88-078bed4d15a4"
   },
   "outputs": [
    {
     "data": {
      "text/plain": [
       "4"
      ]
     },
     "execution_count": 32,
     "metadata": {},
     "output_type": "execute_result"
    }
   ],
   "source": [
    "arr.itemsize"
   ]
  },
  {
   "cell_type": "markdown",
   "metadata": {
    "id": "GlZ-F7y8VjuK"
   },
   "source": [
    "## nbytes --> Total bytes\n",
    "\n"
   ]
  },
  {
   "cell_type": "code",
   "execution_count": 33,
   "metadata": {
    "colab": {
     "base_uri": "https://localhost:8080/"
    },
    "id": "5UDn8uveUOZ0",
    "outputId": "5f5f973e-ee2d-402a-f470-d8616910d8d7"
   },
   "outputs": [
    {
     "data": {
      "text/plain": [
       "80"
      ]
     },
     "execution_count": 33,
     "metadata": {},
     "output_type": "execute_result"
    }
   ],
   "source": [
    "arr.nbytes"
   ]
  },
  {
   "cell_type": "markdown",
   "metadata": {
    "id": "e2YXr93bV80a"
   },
   "source": [
    "# Day 18"
   ]
  },
  {
   "cell_type": "markdown",
   "metadata": {
    "id": "2K47udXbXv-X"
   },
   "source": [
    "# CRUD Operators"
   ]
  },
  {
   "cell_type": "code",
   "execution_count": 34,
   "metadata": {
    "id": "Hf5VR1c0WAm8"
   },
   "outputs": [],
   "source": [
    "import numpy as np "
   ]
  },
  {
   "cell_type": "markdown",
   "metadata": {
    "id": "In-R_boQX3sk"
   },
   "source": [
    "## C - Create"
   ]
  },
  {
   "cell_type": "code",
   "execution_count": 35,
   "metadata": {
    "colab": {
     "base_uri": "https://localhost:8080/"
    },
    "id": "gqrDUVv9ZftA",
    "outputId": "863006c5-38cb-42d0-c23c-afd806908309"
   },
   "outputs": [
    {
     "data": {
      "text/plain": [
       "2"
      ]
     },
     "execution_count": 35,
     "metadata": {},
     "output_type": "execute_result"
    }
   ],
   "source": [
    "arr = np.array ([[1,2,3],[4,5,6]])\n",
    "arr.ndim"
   ]
  },
  {
   "cell_type": "code",
   "execution_count": null,
   "metadata": {
    "colab": {
     "base_uri": "https://localhost:8080/"
    },
    "id": "QaXAD2UdX27m",
    "outputId": "2b6590c6-0659-41b8-b2ac-16fc6bf1ea48"
   },
   "outputs": [
    {
     "data": {
      "text/plain": [
       "array([[0., 0., 0.],\n",
       "       [0., 0., 0.],\n",
       "       [0., 0., 0.]])"
      ]
     },
     "execution_count": 10,
     "metadata": {},
     "output_type": "execute_result"
    }
   ],
   "source": [
    "# np.zerose() it will create all the elements with zero elements\n",
    "\n",
    "arr = np.zeros((3,3))\n",
    "arr"
   ]
  },
  {
   "cell_type": "code",
   "execution_count": null,
   "metadata": {
    "colab": {
     "base_uri": "https://localhost:8080/"
    },
    "id": "MP54WKVrZ2Xq",
    "outputId": "b82229c3-1c2c-47ce-e063-d06f7e8f5d60"
   },
   "outputs": [
    {
     "data": {
      "text/plain": [
       "array([[1., 1., 1., 1., 1., 1., 1., 1.],\n",
       "       [1., 1., 1., 1., 1., 1., 1., 1.],\n",
       "       [1., 1., 1., 1., 1., 1., 1., 1.],\n",
       "       [1., 1., 1., 1., 1., 1., 1., 1.],\n",
       "       [1., 1., 1., 1., 1., 1., 1., 1.]])"
      ]
     },
     "execution_count": 11,
     "metadata": {},
     "output_type": "execute_result"
    }
   ],
   "source": [
    "#  np.ones() it will create all the elements with 1 elements\n",
    "\n",
    "arr = np.ones((5,8))\n",
    "arr"
   ]
  },
  {
   "cell_type": "code",
   "execution_count": 36,
   "metadata": {
    "colab": {
     "base_uri": "https://localhost:8080/"
    },
    "id": "A0Icbpocby8O",
    "outputId": "230869f7-4f76-492f-92e0-31fbe0c997a6"
   },
   "outputs": [
    {
     "data": {
      "text/plain": [
       "array([[1.20708497e-311, 6.95182276e-310, 1.20708497e-311,\n",
       "        6.95182276e-310, 1.20708496e-311],\n",
       "       [6.95182276e-310, 1.20708496e-311, 6.95182276e-310,\n",
       "        1.20708496e-311, 6.95182276e-310],\n",
       "       [1.20708496e-311, 6.95182276e-310, 1.20708496e-311,\n",
       "        6.95182276e-310, 1.20708496e-311],\n",
       "       [6.95182276e-310, 1.20708496e-311, 6.95182276e-310,\n",
       "        1.20708496e-311, 6.95182276e-310]])"
      ]
     },
     "execution_count": 36,
     "metadata": {},
     "output_type": "execute_result"
    }
   ],
   "source": [
    "#  np.empty() it will get filled up with the random values.\n",
    "\n",
    "arr = np.empty((4,5))\n",
    "arr"
   ]
  },
  {
   "cell_type": "code",
   "execution_count": 38,
   "metadata": {
    "colab": {
     "base_uri": "https://localhost:8080/"
    },
    "id": "0mNBvksucJV2",
    "outputId": "3552238b-794d-4dc9-b181-c9c6fdd26057"
   },
   "outputs": [
    {
     "data": {
      "text/plain": [
       "array([[[19, 19, 19, 19, 19],\n",
       "        [19, 19, 19, 19, 19],\n",
       "        [19, 19, 19, 19, 19],\n",
       "        [19, 19, 19, 19, 19]],\n",
       "\n",
       "       [[19, 19, 19, 19, 19],\n",
       "        [19, 19, 19, 19, 19],\n",
       "        [19, 19, 19, 19, 19],\n",
       "        [19, 19, 19, 19, 19]],\n",
       "\n",
       "       [[19, 19, 19, 19, 19],\n",
       "        [19, 19, 19, 19, 19],\n",
       "        [19, 19, 19, 19, 19],\n",
       "        [19, 19, 19, 19, 19]]])"
      ]
     },
     "execution_count": 38,
     "metadata": {},
     "output_type": "execute_result"
    }
   ],
   "source": [
    "# np.full()\n",
    "\n",
    "arr = np.full([3,4,5],19)\n",
    "arr"
   ]
  },
  {
   "cell_type": "code",
   "execution_count": 39,
   "metadata": {
    "colab": {
     "base_uri": "https://localhost:8080/"
    },
    "id": "XE6hln0l8Zwl",
    "outputId": "54b5b4c3-4cf5-4463-aa5f-57a64d8b7d57"
   },
   "outputs": [
    {
     "data": {
      "text/plain": [
       "array([[1., 0.],\n",
       "       [0., 1.]])"
      ]
     },
     "execution_count": 39,
     "metadata": {},
     "output_type": "execute_result"
    }
   ],
   "source": [
    "# np.eye() --> Identity Matrix\n",
    "# In identity matrix no of rows and column are same.\n",
    "\n",
    "arr = np.eye(2)\n",
    "arr "
   ]
  },
  {
   "cell_type": "code",
   "execution_count": 40,
   "metadata": {
    "colab": {
     "base_uri": "https://localhost:8080/"
    },
    "id": "QVhwXfBy9Hwu",
    "outputId": "f87ad536-6582-483c-ab8c-8dc9e7937d35"
   },
   "outputs": [
    {
     "data": {
      "text/plain": [
       "array([[10,  0,  0,  0,  0,  0,  0,  0,  0],\n",
       "       [ 0, 20,  0,  0,  0,  0,  0,  0,  0],\n",
       "       [ 0,  0, 30,  0,  0,  0,  0,  0,  0],\n",
       "       [ 0,  0,  0, 40,  0,  0,  0,  0,  0],\n",
       "       [ 0,  0,  0,  0, 50,  0,  0,  0,  0],\n",
       "       [ 0,  0,  0,  0,  0, 60,  0,  0,  0],\n",
       "       [ 0,  0,  0,  0,  0,  0, 70,  0,  0],\n",
       "       [ 0,  0,  0,  0,  0,  0,  0, 80,  0],\n",
       "       [ 0,  0,  0,  0,  0,  0,  0,  0, 90]])"
      ]
     },
     "execution_count": 40,
     "metadata": {},
     "output_type": "execute_result"
    }
   ],
   "source": [
    "# np.diag()\n",
    "\n",
    "arr = np.diag([10,20,30,40,50,60,70,80,90])\n",
    "arr"
   ]
  },
  {
   "cell_type": "code",
   "execution_count": 41,
   "metadata": {
    "colab": {
     "base_uri": "https://localhost:8080/"
    },
    "id": "cB4iY00FAwBv",
    "outputId": "25c5b1f3-8b6e-4524-bfdc-760d005fb949"
   },
   "outputs": [
    {
     "data": {
      "text/plain": [
       "array([ 10.,  20.,  30.,  40.,  50.,  60.,  70.,  80.,  90., 100.])"
      ]
     },
     "execution_count": 41,
     "metadata": {},
     "output_type": "execute_result"
    }
   ],
   "source": [
    "# np.linspace() --->\n",
    "# 10 to 100 give 10 elements\n",
    "\n",
    "arr = np.linspace(10,100,10) \n",
    "arr"
   ]
  },
  {
   "cell_type": "code",
   "execution_count": 42,
   "metadata": {
    "colab": {
     "base_uri": "https://localhost:8080/"
    },
    "id": "Bww3Ee1TBCD6",
    "outputId": "543ac50c-4b01-46da-ea99-e78c1fd97f52"
   },
   "outputs": [
    {
     "data": {
      "text/plain": [
       "array([0.82958535, 0.44646171, 0.3753689 , 0.05123938, 0.37398765,\n",
       "       0.43824047, 0.39580656, 0.01423181, 0.77861904, 0.39006833])"
      ]
     },
     "execution_count": 42,
     "metadata": {},
     "output_type": "execute_result"
    }
   ],
   "source": [
    "# np.random.rand()\n",
    "\n",
    "arr = np.random.rand(10)\n",
    "arr"
   ]
  },
  {
   "cell_type": "code",
   "execution_count": 43,
   "metadata": {
    "colab": {
     "base_uri": "https://localhost:8080/"
    },
    "id": "TYPmGLU2gCbr",
    "outputId": "9329f6f6-f66b-4dfa-9bb4-92b761af6f5a"
   },
   "outputs": [
    {
     "data": {
      "text/plain": [
       "array([[25, 19, 20, 22],\n",
       "       [27, 23, 28, 26],\n",
       "       [25, 24, 29, 27]])"
      ]
     },
     "execution_count": 43,
     "metadata": {},
     "output_type": "execute_result"
    }
   ],
   "source": [
    "arr = np.random.randint(19,30, size = (3,4))\n",
    "arr"
   ]
  },
  {
   "cell_type": "code",
   "execution_count": 44,
   "metadata": {
    "colab": {
     "base_uri": "https://localhost:8080/"
    },
    "id": "DBCn6xR5gVU7",
    "outputId": "2ad89df0-b056-46e2-c7ef-91687eb8bc16"
   },
   "outputs": [
    {
     "data": {
      "text/plain": [
       "array([ 1,  3,  5,  7,  9, 11])"
      ]
     },
     "execution_count": 44,
     "metadata": {},
     "output_type": "execute_result"
    }
   ],
   "source": [
    "# np.arange()\n",
    "\n",
    "arr = np.arange(1,12,2)\n",
    "arr"
   ]
  },
  {
   "cell_type": "markdown",
   "metadata": {
    "id": "5GG-ZppD7qzO"
   },
   "source": [
    "# U --> Update"
   ]
  },
  {
   "cell_type": "code",
   "execution_count": 47,
   "metadata": {
    "colab": {
     "base_uri": "https://localhost:8080/"
    },
    "id": "cNP5aZpT8rOG",
    "outputId": "ccf59afa-210a-443e-efde-e62c903ff785"
   },
   "outputs": [
    {
     "name": "stdout",
     "output_type": "stream",
     "text": [
      "[1 2 3 4 5]\n",
      "\n",
      " [[1 2 3 4]\n",
      " [5 6 7 8]\n",
      " [1 3 5 7]]\n",
      "\n",
      " This is 3-D \n",
      "\n",
      " [[[ 1  2  3]\n",
      "  [ 4  5  6]]\n",
      "\n",
      " [[ 7  8  9]\n",
      "  [11 12 13]]]\n"
     ]
    }
   ],
   "source": [
    "arr1 = np.array([1,2,3,4,5])\n",
    "arr2 = np.array([[1,2,3,4],[5,6,7,8],[1,3,5,7]])\n",
    "arr3 = np.array([\n",
    "    [\n",
    "      [1,2,3],\n",
    "     [4,5,6]],[\n",
    "         [7,8,9],\n",
    "         [11,12,13]\n",
    "     ]\n",
    "])\n",
    "\n",
    "print(arr1) \n",
    "print(\"\\n\", arr2)\n",
    "print('\\n This is 3-D \\n\\n',arr3)"
   ]
  },
  {
   "cell_type": "code",
   "execution_count": 48,
   "metadata": {
    "colab": {
     "base_uri": "https://localhost:8080/"
    },
    "id": "4IILovs96j2A",
    "outputId": "8ddc36a5-7aee-4dc4-f562-f762413cfee4"
   },
   "outputs": [
    {
     "name": "stdout",
     "output_type": "stream",
     "text": [
      "5 4\n",
      "7\n",
      "5\n",
      "[[[ 1  2  3]\n",
      "  [ 4 19  6]]\n",
      "\n",
      " [[ 7  8  9]\n",
      "  [11 12 13]]]\n"
     ]
    }
   ],
   "source": [
    "# Indexing\n",
    " \n",
    "#  1-D Array\n",
    "print(arr1[-1], arr1[3])\n",
    "\n",
    "# 2-D Array\n",
    "# arr[row:column]\n",
    "print(arr2 [2,3])\n",
    "\n",
    "# 3-D Array\n",
    "print(arr3[0,1,1])\n",
    "\n",
    "# updating the value in matrix\n",
    "arr3[0,1,1] = 19\n",
    "print(arr3)"
   ]
  },
  {
   "cell_type": "code",
   "execution_count": 49,
   "metadata": {
    "colab": {
     "base_uri": "https://localhost:8080/"
    },
    "id": "3T7PGTrR92no",
    "outputId": "676e7bcc-3799-4915-d770-c780189848a5"
   },
   "outputs": [
    {
     "data": {
      "text/plain": [
       "array([[5, 6, 7, 8],\n",
       "       [1, 3, 5, 7]])"
      ]
     },
     "execution_count": 49,
     "metadata": {},
     "output_type": "execute_result"
    }
   ],
   "source": [
    "# Slicing --> Accessing the certain data of the files.\n",
    "arr2\n",
    "arr2[1:]"
   ]
  },
  {
   "cell_type": "code",
   "execution_count": 50,
   "metadata": {
    "colab": {
     "base_uri": "https://localhost:8080/"
    },
    "id": "PuHrPwNhA5rI",
    "outputId": "85e48f05-0e49-4d5a-a080-d14dc2c9b320"
   },
   "outputs": [
    {
     "data": {
      "text/plain": [
       "array([[[ 1,  2,  3],\n",
       "        [ 4, 19,  6]],\n",
       "\n",
       "       [[ 7,  8,  9],\n",
       "        [11, 12, 13]]])"
      ]
     },
     "execution_count": 50,
     "metadata": {},
     "output_type": "execute_result"
    }
   ],
   "source": [
    "arr3"
   ]
  },
  {
   "cell_type": "code",
   "execution_count": 52,
   "metadata": {
    "colab": {
     "base_uri": "https://localhost:8080/"
    },
    "id": "ULhjBDDWBikn",
    "outputId": "300330cb-08fa-4609-d2ab-3f20d383d781"
   },
   "outputs": [
    {
     "data": {
      "text/plain": [
       "array([ 4, 19])"
      ]
     },
     "execution_count": 52,
     "metadata": {},
     "output_type": "execute_result"
    }
   ],
   "source": [
    "# arr3[0,1,0:2]\n",
    "arr3[0,1][0:2]"
   ]
  },
  {
   "cell_type": "code",
   "execution_count": 53,
   "metadata": {
    "colab": {
     "base_uri": "https://localhost:8080/"
    },
    "id": "5-MiPEKZBuyH",
    "outputId": "6c090aef-b255-48cd-e049-00e803345459"
   },
   "outputs": [
    {
     "data": {
      "text/plain": [
       "array([[ 10.        ,  54.54545455,  99.09090909, 143.63636364],\n",
       "       [188.18181818, 232.72727273, 277.27272727, 321.81818182],\n",
       "       [366.36363636, 410.90909091, 455.45454545, 500.        ]])"
      ]
     },
     "execution_count": 53,
     "metadata": {},
     "output_type": "execute_result"
    }
   ],
   "source": [
    "# reshape\n",
    "# Quiz \n",
    "\n",
    "# Create a matrix 3x4,10 to 500 + elements should be evenly distributed.\n",
    "\n",
    "mat =  np.linspace(10,500,12)\n",
    "mat.reshape(3,4)\n",
    "\n",
    "# element(12) % n-dimentsion == 0"
   ]
  },
  {
   "cell_type": "code",
   "execution_count": null,
   "metadata": {
    "colab": {
     "base_uri": "https://localhost:8080/"
    },
    "id": "Xco8BhFjF_aP",
    "outputId": "b4129c35-eb6e-4685-94fd-0f4a5666c2ca"
   },
   "outputs": [
    {
     "data": {
      "text/plain": [
       "array([[61, 73, 71, 52, 30, 45, 59, 33, 16],\n",
       "       [32, 37,  4, 14, 40, 90, 54, 15, 98],\n",
       "       [57, 27, 18, 54, 59, 83, 72, 93, 79],\n",
       "       [50, 19, 29, 62, 28, 23, 80, 83, 45],\n",
       "       [21,  9, 69, 92, 56, 87, 63, 23, 87],\n",
       "       [61,  2, 76, 26, 92, 14, 18, 53, 37],\n",
       "       [27, 56, 98, 38, 88, 32, 83, 79, 95]])"
      ]
     },
     "execution_count": 18,
     "metadata": {},
     "output_type": "execute_result"
    }
   ],
   "source": [
    "#  Create a 7x9 matrix where all the elements are rondom\n",
    "\n",
    "# ra = np.random.rand(63).reshape(7,9)\n",
    "# ra\n",
    "\n",
    "ra = np.random.randint (100, size =(7,9))\n",
    "ra"
   ]
  },
  {
   "cell_type": "code",
   "execution_count": null,
   "metadata": {
    "colab": {
     "base_uri": "https://localhost:8080/"
    },
    "id": "Z_sFVG8oLjB-",
    "outputId": "d03f0625-b780-425e-949a-5402639402d3"
   },
   "outputs": [
    {
     "data": {
      "text/plain": [
       "array([[1, 2, 3, 4],\n",
       "       [5, 6, 7, 8],\n",
       "       [1, 3, 5, 7]])"
      ]
     },
     "execution_count": 93,
     "metadata": {},
     "output_type": "execute_result"
    }
   ],
   "source": [
    "arr2"
   ]
  },
  {
   "cell_type": "code",
   "execution_count": null,
   "metadata": {
    "id": "cXrEAMofMLS2"
   },
   "outputs": [],
   "source": [
    "arr2d = np.array([15,16,17,18])\n",
    "arr2dd = np.array([15,16,17,18])"
   ]
  },
  {
   "cell_type": "code",
   "execution_count": null,
   "metadata": {
    "colab": {
     "base_uri": "https://localhost:8080/"
    },
    "id": "TY3SVJjuMTw2",
    "outputId": "c2c95fbf-1c03-42d4-868b-2febe09971fe"
   },
   "outputs": [
    {
     "data": {
      "text/plain": [
       "array([[15, 16, 17, 18],\n",
       "       [15, 16, 17, 18]])"
      ]
     },
     "execution_count": 106,
     "metadata": {},
     "output_type": "execute_result"
    }
   ],
   "source": [
    "# Adding to array\n",
    "\n",
    "np.append([arr2d], [arr2dd], axis=0)"
   ]
  },
  {
   "cell_type": "markdown",
   "metadata": {
    "id": "tii4EMiOgy3L"
   },
   "source": [
    "# Day 19"
   ]
  },
  {
   "cell_type": "code",
   "execution_count": null,
   "metadata": {
    "id": "HIy_Nl7KM7S_"
   },
   "outputs": [],
   "source": [
    "import numpy as np"
   ]
  },
  {
   "cell_type": "code",
   "execution_count": null,
   "metadata": {
    "id": "Yr1EAV8bg87D"
   },
   "outputs": [],
   "source": [
    "arr1 = np.array([ [3,6,9,], [12,15,18]])\n",
    "arr2 = np.array([[24,20,16],[12,8,4]])"
   ]
  },
  {
   "cell_type": "code",
   "execution_count": null,
   "metadata": {
    "colab": {
     "base_uri": "https://localhost:8080/"
    },
    "id": "xaorz0J7hdkz",
    "outputId": "3eab63f9-c4b5-43ab-e9ac-e30315438a71"
   },
   "outputs": [
    {
     "data": {
      "text/plain": [
       "array([[ 3,  6,  9],\n",
       "       [12, 15, 18]])"
      ]
     },
     "execution_count": 20,
     "metadata": {},
     "output_type": "execute_result"
    }
   ],
   "source": [
    "arr1"
   ]
  },
  {
   "cell_type": "code",
   "execution_count": null,
   "metadata": {
    "colab": {
     "base_uri": "https://localhost:8080/"
    },
    "id": "UAUlc0IqhgGA",
    "outputId": "2fc92349-cbc7-493c-add3-921ff2396f7e"
   },
   "outputs": [
    {
     "data": {
      "text/plain": [
       "array([[24, 20, 16],\n",
       "       [12,  8,  4]])"
      ]
     },
     "execution_count": 21,
     "metadata": {},
     "output_type": "execute_result"
    }
   ],
   "source": [
    "arr2"
   ]
  },
  {
   "cell_type": "markdown",
   "metadata": {
    "id": "uvzqnb0ch4Ra"
   },
   "source": [
    "# Mathematical Functions and Stats"
   ]
  },
  {
   "cell_type": "markdown",
   "metadata": {
    "id": "MT-4t3Yih__R"
   },
   "source": [
    "## Addition --> Add two matrices or add and element to a matrix."
   ]
  },
  {
   "cell_type": "code",
   "execution_count": null,
   "metadata": {
    "colab": {
     "base_uri": "https://localhost:8080/"
    },
    "id": "nPz1DUm3hhBL",
    "outputId": "a8a0d76a-4879-4c53-9ce8-e11b7f16fe9e"
   },
   "outputs": [
    {
     "data": {
      "text/plain": [
       "array([[27, 26, 25],\n",
       "       [24, 23, 22]])"
      ]
     },
     "execution_count": 22,
     "metadata": {},
     "output_type": "execute_result"
    }
   ],
   "source": [
    "# Adding two matrics\n",
    "arr1 + arr2"
   ]
  },
  {
   "cell_type": "code",
   "execution_count": null,
   "metadata": {
    "colab": {
     "base_uri": "https://localhost:8080/"
    },
    "id": "eRbvzlGliY80",
    "outputId": "bf41c4ba-1b82-493c-ca0a-216cfb4dc72e"
   },
   "outputs": [
    {
     "data": {
      "text/plain": [
       "array([[43, 39, 35],\n",
       "       [31, 27, 23]])"
      ]
     },
     "execution_count": 23,
     "metadata": {},
     "output_type": "execute_result"
    }
   ],
   "source": [
    "# Adding an element\n",
    "\n",
    "arr2 + 19"
   ]
  },
  {
   "cell_type": "code",
   "execution_count": null,
   "metadata": {
    "colab": {
     "base_uri": "https://localhost:8080/"
    },
    "id": "UVupApA4i_ur",
    "outputId": "92ab32d4-0f5b-4896-8e6c-1c4787d4ae96"
   },
   "outputs": [
    {
     "data": {
      "text/plain": [
       "array([[25, 30, 35],\n",
       "       [13, 18, 23]])"
      ]
     },
     "execution_count": 24,
     "metadata": {},
     "output_type": "execute_result"
    }
   ],
   "source": [
    "arr3 = np.array([1,10,19])\n",
    "arr2 + arr3"
   ]
  },
  {
   "cell_type": "markdown",
   "metadata": {
    "id": "ml4xzsRPkUA0"
   },
   "source": [
    "## Subtraction"
   ]
  },
  {
   "cell_type": "code",
   "execution_count": null,
   "metadata": {
    "colab": {
     "base_uri": "https://localhost:8080/"
    },
    "id": "PFG0N6iEjXHK",
    "outputId": "cff110f9-d392-4e03-9e19-e1037031ff45"
   },
   "outputs": [
    {
     "name": "stdout",
     "output_type": "stream",
     "text": [
      "[[ 3  6  9]\n",
      " [12 15 18]]\n",
      "\n",
      " [[24 20 16]\n",
      " [12  8  4]]\n"
     ]
    }
   ],
   "source": [
    "print(arr1)\n",
    "print(\"\\n\", arr2)"
   ]
  },
  {
   "cell_type": "code",
   "execution_count": null,
   "metadata": {
    "colab": {
     "base_uri": "https://localhost:8080/"
    },
    "id": "1OHkVoE9kdcc",
    "outputId": "3d8b0474-ed5f-44ee-9d39-88609aef96e6"
   },
   "outputs": [
    {
     "data": {
      "text/plain": [
       "array([[-21, -14,  -7],\n",
       "       [  0,   7,  14]])"
      ]
     },
     "execution_count": 26,
     "metadata": {},
     "output_type": "execute_result"
    }
   ],
   "source": [
    "arr1 - arr2"
   ]
  },
  {
   "cell_type": "code",
   "execution_count": null,
   "metadata": {
    "colab": {
     "base_uri": "https://localhost:8080/"
    },
    "id": "qhX5Gw8_kgV6",
    "outputId": "e32b1118-2c36-438f-9e0f-f8f445203dc3"
   },
   "outputs": [
    {
     "data": {
      "text/plain": [
       "array([[-97, -94, -91],\n",
       "       [-88, -85, -82]])"
      ]
     },
     "execution_count": 27,
     "metadata": {},
     "output_type": "execute_result"
    }
   ],
   "source": [
    "arr1 - 100"
   ]
  },
  {
   "cell_type": "markdown",
   "metadata": {
    "id": "WyROrVV4kmlM"
   },
   "source": [
    "## Division"
   ]
  },
  {
   "cell_type": "code",
   "execution_count": null,
   "metadata": {
    "colab": {
     "base_uri": "https://localhost:8080/"
    },
    "id": "MhJ-0nSTkkBa",
    "outputId": "5b733f4b-cf8b-427d-b90a-2a72f1a63e7e"
   },
   "outputs": [
    {
     "data": {
      "text/plain": [
       "array([[0.125 , 0.3   , 0.5625],\n",
       "       [1.    , 1.875 , 4.5   ]])"
      ]
     },
     "execution_count": 28,
     "metadata": {},
     "output_type": "execute_result"
    }
   ],
   "source": [
    "arr1 / arr2"
   ]
  },
  {
   "cell_type": "code",
   "execution_count": null,
   "metadata": {
    "colab": {
     "base_uri": "https://localhost:8080/"
    },
    "id": "eLm7T2I2krFD",
    "outputId": "99108c4f-9e86-48b0-c69d-6bad6dba612d"
   },
   "outputs": [
    {
     "data": {
      "text/plain": [
       "array([[1., 1., 1.],\n",
       "       [1., 1., 1.]])"
      ]
     },
     "execution_count": 29,
     "metadata": {},
     "output_type": "execute_result"
    }
   ],
   "source": [
    "arr1 / arr1"
   ]
  },
  {
   "cell_type": "code",
   "execution_count": null,
   "metadata": {
    "colab": {
     "base_uri": "https://localhost:8080/"
    },
    "id": "SP5pbNBSkwsr",
    "outputId": "2d0a02dd-3fed-4861-e7c5-bd22e04167a2"
   },
   "outputs": [
    {
     "data": {
      "text/plain": [
       "array([[0.75, 1.5 , 2.25],\n",
       "       [3.  , 3.75, 4.5 ]])"
      ]
     },
     "execution_count": 30,
     "metadata": {},
     "output_type": "execute_result"
    }
   ],
   "source": [
    " arr1 / 4"
   ]
  },
  {
   "cell_type": "markdown",
   "metadata": {
    "id": "eB_gxB9PmNum"
   },
   "source": [
    "## Exponential"
   ]
  },
  {
   "cell_type": "code",
   "execution_count": null,
   "metadata": {
    "colab": {
     "base_uri": "https://localhost:8080/"
    },
    "id": "PcofhHy-mMGq",
    "outputId": "34c0dcd8-8d4a-4273-b614-985ce2270cf8"
   },
   "outputs": [
    {
     "data": {
      "text/plain": [
       "array([[    282429536481, 3656158440062976, 1853020188851841],\n",
       "       [   8916100448256,       2562890625,           104976]])"
      ]
     },
     "execution_count": 31,
     "metadata": {},
     "output_type": "execute_result"
    }
   ],
   "source": [
    "arr1 ** arr2"
   ]
  },
  {
   "cell_type": "code",
   "execution_count": null,
   "metadata": {
    "colab": {
     "base_uri": "https://localhost:8080/"
    },
    "id": "GEvT723wmWEC",
    "outputId": "1373d4f5-235a-4ee2-fa27-111705660902"
   },
   "outputs": [
    {
     "data": {
      "text/plain": [
       "array([[  9,  36,  81],\n",
       "       [144, 225, 324]])"
      ]
     },
     "execution_count": 32,
     "metadata": {},
     "output_type": "execute_result"
    }
   ],
   "source": [
    "arr1 ** 2"
   ]
  },
  {
   "cell_type": "markdown",
   "metadata": {
    "id": "aWOj2rFZmu9W"
   },
   "source": [
    "## Multiplication --> Cross and Dot"
   ]
  },
  {
   "cell_type": "code",
   "execution_count": null,
   "metadata": {
    "colab": {
     "base_uri": "https://localhost:8080/"
    },
    "id": "LYwqc7q2mhXD",
    "outputId": "29a3f4df-ba7b-4bc0-e586-b2ae1893a607"
   },
   "outputs": [
    {
     "name": "stdout",
     "output_type": "stream",
     "text": [
      "[[ 3  6  9]\n",
      " [12 15 18]]\n",
      "\n",
      "\n",
      "[[24 20 16]\n",
      " [12  8  4]]\n"
     ]
    }
   ],
   "source": [
    "print(arr1)\n",
    "print (\"\\n\")\n",
    "print (arr2)"
   ]
  },
  {
   "cell_type": "code",
   "execution_count": null,
   "metadata": {
    "colab": {
     "base_uri": "https://localhost:8080/"
    },
    "id": "DJlQfreim7Yy",
    "outputId": "7be94e5f-6185-4040-8a3f-f808bbd806f5"
   },
   "outputs": [
    {
     "data": {
      "text/plain": [
       "array([[ 72, 120, 144],\n",
       "       [144, 120,  72]])"
      ]
     },
     "execution_count": 34,
     "metadata": {},
     "output_type": "execute_result"
    }
   ],
   "source": [
    "# Cross Product\n",
    "\n",
    "arr1 * arr2"
   ]
  },
  {
   "cell_type": "code",
   "execution_count": null,
   "metadata": {
    "colab": {
     "base_uri": "https://localhost:8080/"
    },
    "id": "AuH6PlCgm9uR",
    "outputId": "83362d6c-123b-4bc6-934b-a346c56c83d8"
   },
   "outputs": [
    {
     "data": {
      "text/plain": [
       "2"
      ]
     },
     "execution_count": 20,
     "metadata": {},
     "output_type": "execute_result"
    }
   ],
   "source": [
    "# Dot product\n",
    "\n",
    "arr3 = np.array([[1,2],[3,4],[5,6]])\n",
    "arr3.ndim"
   ]
  },
  {
   "cell_type": "code",
   "execution_count": null,
   "metadata": {
    "colab": {
     "base_uri": "https://localhost:8080/"
    },
    "id": "drGEs3yCMoLu",
    "outputId": "90a949e9-6f0b-4d37-c794-a300760f899a"
   },
   "outputs": [
    {
     "data": {
      "text/plain": [
       "(3, 2)"
      ]
     },
     "execution_count": 21,
     "metadata": {},
     "output_type": "execute_result"
    }
   ],
   "source": [
    "arr3.shape"
   ]
  },
  {
   "cell_type": "code",
   "execution_count": null,
   "metadata": {
    "colab": {
     "base_uri": "https://localhost:8080/"
    },
    "id": "lC-A522iNFe5",
    "outputId": "e85e629f-d20e-4066-82d7-533864924fb4"
   },
   "outputs": [
    {
     "data": {
      "text/plain": [
       "(2, 3)"
      ]
     },
     "execution_count": 22,
     "metadata": {},
     "output_type": "execute_result"
    }
   ],
   "source": [
    "arr1.shape"
   ]
  },
  {
   "cell_type": "code",
   "execution_count": null,
   "metadata": {
    "colab": {
     "base_uri": "https://localhost:8080/"
    },
    "id": "b0yzU8VzNHwC",
    "outputId": "9071331d-1f33-400d-818d-95cb376a6724"
   },
   "outputs": [
    {
     "data": {
      "text/plain": [
       "array([[ 27,  36,  45],\n",
       "       [ 57,  78,  99],\n",
       "       [ 87, 120, 153]])"
      ]
     },
     "execution_count": 26,
     "metadata": {},
     "output_type": "execute_result"
    }
   ],
   "source": [
    "# Step1\n",
    "# np.dot(arr1,arr3)\n",
    "np.dot(arr3,arr1)"
   ]
  },
  {
   "cell_type": "code",
   "execution_count": null,
   "metadata": {
    "colab": {
     "base_uri": "https://localhost:8080/"
    },
    "id": "eSyl2ZxHNV86",
    "outputId": "ca1c861e-37c6-4541-c9da-d60aac6644d9"
   },
   "outputs": [
    {
     "data": {
      "text/plain": [
       "array([[ 66,  84],\n",
       "       [147, 192]])"
      ]
     },
     "execution_count": 27,
     "metadata": {},
     "output_type": "execute_result"
    }
   ],
   "source": [
    "# Step2\n",
    "np.matmul(arr1,arr3)\n",
    "\n",
    "# np.matmul(arr3,arr1)"
   ]
  },
  {
   "cell_type": "markdown",
   "metadata": {
    "id": "URVpAMCJOuDK"
   },
   "source": [
    "# Determinant\n",
    "\n",
    "* Square matrix --> No. of rows = No. of columns.\n",
    "* No of rows and no. of columns = Same\n",
    "\n",
    "* The output of determinant can be  positive and negative.\n"
   ]
  },
  {
   "cell_type": "code",
   "execution_count": null,
   "metadata": {
    "colab": {
     "base_uri": "https://localhost:8080/"
    },
    "id": "TEORjso3OGDx",
    "outputId": "e0d7c5c8-c3a6-449f-c7c4-49a1292e7815"
   },
   "outputs": [
    {
     "data": {
      "text/plain": [
       "2"
      ]
     },
     "execution_count": 14,
     "metadata": {},
     "output_type": "execute_result"
    }
   ],
   "source": [
    "detarray = np.array([[-4,-10],[0,5]])\n",
    "detarray.ndim"
   ]
  },
  {
   "cell_type": "code",
   "execution_count": null,
   "metadata": {
    "colab": {
     "base_uri": "https://localhost:8080/"
    },
    "id": "9z6OKCSAPL3h",
    "outputId": "e343ebcb-68dd-47d1-d08d-37ad5465281f"
   },
   "outputs": [
    {
     "data": {
      "text/plain": [
       "-19.999999999999996"
      ]
     },
     "execution_count": 15,
     "metadata": {},
     "output_type": "execute_result"
    }
   ],
   "source": [
    "# np.linalg.det(arr)\n",
    "\n",
    "np.linalg.det(detarray)"
   ]
  },
  {
   "cell_type": "code",
   "execution_count": null,
   "metadata": {
    "colab": {
     "base_uri": "https://localhost:8080/"
    },
    "id": "zr4pAETZRIEC",
    "outputId": "5faa2ed1-453d-4bc6-8d4b-b7714babe0a8"
   },
   "outputs": [
    {
     "data": {
      "text/plain": [
       "528.0"
      ]
     },
     "execution_count": 30,
     "metadata": {},
     "output_type": "execute_result"
    }
   ],
   "source": [
    "darray = np.array([[-4,-10,-6],[0,5,7],[-9,6,0]])\n",
    "np.linalg.det(darray)"
   ]
  },
  {
   "cell_type": "markdown",
   "metadata": {
    "id": "PRp49fmuVFYb"
   },
   "source": [
    "## Inverse of Matrix:"
   ]
  },
  {
   "cell_type": "code",
   "execution_count": null,
   "metadata": {
    "colab": {
     "base_uri": "https://localhost:8080/"
    },
    "id": "YPTcXcpNRZpR",
    "outputId": "904a2654-f4a9-41df-a8bc-68141656ee03"
   },
   "outputs": [
    {
     "data": {
      "text/plain": [
       "array([[3, 4],\n",
       "       [7, 8]])"
      ]
     },
     "execution_count": 31,
     "metadata": {},
     "output_type": "execute_result"
    }
   ],
   "source": [
    "arrinv = np.array([[3,4], [7,8]])\n",
    "arrinv"
   ]
  },
  {
   "cell_type": "code",
   "execution_count": null,
   "metadata": {
    "colab": {
     "base_uri": "https://localhost:8080/"
    },
    "id": "oKY8QUthVPqC",
    "outputId": "84abd9e5-ab46-43a4-a100-9b2eed68a785"
   },
   "outputs": [
    {
     "data": {
      "text/plain": [
       "array([[-2.  ,  1.  ],\n",
       "       [ 1.75, -0.75]])"
      ]
     },
     "execution_count": 45,
     "metadata": {},
     "output_type": "execute_result"
    }
   ],
   "source": [
    "np.linalg.inv(arrinv)"
   ]
  },
  {
   "cell_type": "code",
   "execution_count": null,
   "metadata": {
    "colab": {
     "base_uri": "https://localhost:8080/"
    },
    "id": "fgJFKzEcVaBq",
    "outputId": "3b1d2448-98f4-4942-aa5e-16ee235cf3de"
   },
   "outputs": [
    {
     "data": {
      "text/plain": [
       "-4.000000000000001"
      ]
     },
     "execution_count": 48,
     "metadata": {},
     "output_type": "execute_result"
    }
   ],
   "source": [
    "# Inverse = (1/det(mat)) * transpose(Cofactorial of the matrix)\n",
    "\n",
    "deter = np.linalg.det(arrinv) \n",
    "deter"
   ]
  },
  {
   "cell_type": "code",
   "execution_count": null,
   "metadata": {
    "colab": {
     "base_uri": "https://localhost:8080/"
    },
    "id": "L8lU1RmRWaG6",
    "outputId": "c0ebfdd7-51f0-480a-8597-fce183875839"
   },
   "outputs": [
    {
     "data": {
      "text/plain": [
       "-0.24999999999999994"
      ]
     },
     "execution_count": 49,
     "metadata": {},
     "output_type": "execute_result"
    }
   ],
   "source": [
    "newdet = 1 / deter\n",
    "newdet"
   ]
  },
  {
   "cell_type": "code",
   "execution_count": null,
   "metadata": {
    "colab": {
     "base_uri": "https://localhost:8080/"
    },
    "id": "iFAdXkiMXM_q",
    "outputId": "8eb7777a-f9ed-4110-ca92-b9ea0fc2d680"
   },
   "outputs": [
    {
     "data": {
      "text/plain": [
       "array([[-2.  ,  1.  ],\n",
       "       [ 1.75, -0.75]])"
      ]
     },
     "execution_count": 51,
     "metadata": {},
     "output_type": "execute_result"
    }
   ],
   "source": [
    "# Adjoint of matrix --> we have to find the cofactor of the matrix.\n",
    "\n",
    "np.linalg.inv(arrinv)"
   ]
  },
  {
   "cell_type": "code",
   "execution_count": null,
   "metadata": {
    "colab": {
     "base_uri": "https://localhost:8080/"
    },
    "id": "5SxC-mb9XXuZ",
    "outputId": "9c7f27c7-4ded-4386-8972-ae531caa2a1d"
   },
   "outputs": [
    {
     "data": {
      "text/plain": [
       "array([[3, 4],\n",
       "       [7, 8]])"
      ]
     },
     "execution_count": 54,
     "metadata": {},
     "output_type": "execute_result"
    }
   ],
   "source": [
    "arrinv"
   ]
  },
  {
   "cell_type": "code",
   "execution_count": null,
   "metadata": {
    "colab": {
     "base_uri": "https://localhost:8080/"
    },
    "id": "SLhtDvCua9_Y",
    "outputId": "4e84c97c-3ce5-4db3-fecf-803bbcaae8b4"
   },
   "outputs": [
    {
     "data": {
      "text/plain": [
       "array([[3, 7],\n",
       "       [4, 8]])"
      ]
     },
     "execution_count": 55,
     "metadata": {},
     "output_type": "execute_result"
    }
   ],
   "source": [
    "arrinv.transpose()"
   ]
  },
  {
   "cell_type": "markdown",
   "metadata": {
    "id": "5l38D4vZbur0"
   },
   "source": [
    "## Reciprocal"
   ]
  },
  {
   "cell_type": "code",
   "execution_count": null,
   "metadata": {
    "colab": {
     "base_uri": "https://localhost:8080/"
    },
    "id": "KuAwDZRobYow",
    "outputId": "ab71f436-0491-4883-8835-05731adf5d28"
   },
   "outputs": [
    {
     "data": {
      "text/plain": [
       "array([[10., 20.],\n",
       "       [30., 40.]])"
      ]
     },
     "execution_count": 59,
     "metadata": {},
     "output_type": "execute_result"
    }
   ],
   "source": [
    "arreci = np.array([[10,20],[30,40]],dtype = 'float')\n",
    "arreci"
   ]
  },
  {
   "cell_type": "code",
   "execution_count": null,
   "metadata": {
    "colab": {
     "base_uri": "https://localhost:8080/"
    },
    "id": "oKdPKayNb-54",
    "outputId": "e1aa6bd5-01d9-4905-a5d6-103791a38d9c"
   },
   "outputs": [
    {
     "data": {
      "text/plain": [
       "array([[0.1       , 0.05      ],\n",
       "       [0.03333333, 0.025     ]])"
      ]
     },
     "execution_count": 60,
     "metadata": {},
     "output_type": "execute_result"
    }
   ],
   "source": [
    "# np.reciprocal(array_name)\n",
    "\n",
    "np.reciprocal((arreci))"
   ]
  },
  {
   "cell_type": "markdown",
   "metadata": {
    "id": "omkIP64qdGj6"
   },
   "source": [
    "# Statistics"
   ]
  },
  {
   "cell_type": "code",
   "execution_count": 54,
   "metadata": {
    "colab": {
     "base_uri": "https://localhost:8080/"
    },
    "id": "p9_6sIlicHFl",
    "outputId": "28d63692-fc1c-47cc-bcac-46f79340cb0b"
   },
   "outputs": [
    {
     "name": "stdout",
     "output_type": "stream",
     "text": [
      "2\n",
      "\n",
      "\n",
      "(3, 3)\n",
      "\n",
      "\n",
      "[[ 20  50 -40]\n",
      " [  9  10  -1]\n",
      " [  7  26  32]]\n"
     ]
    }
   ],
   "source": [
    "statarr = np.array([[20,50,-40],[9,10,-1],[7,26,32]])\n",
    "print(statarr.ndim)\n",
    "print('\\n')\n",
    "print(statarr.shape)\n",
    "print('\\n')\n",
    "print (statarr)"
   ]
  },
  {
   "cell_type": "markdown",
   "metadata": {
    "id": "MQ7Vf8yndrHT"
   },
   "source": [
    "## max()"
   ]
  },
  {
   "cell_type": "code",
   "execution_count": 55,
   "metadata": {
    "colab": {
     "base_uri": "https://localhost:8080/"
    },
    "id": "7rcBTzpOdc5x",
    "outputId": "642b258a-16e1-4719-c120-258dd5d27074"
   },
   "outputs": [
    {
     "data": {
      "text/plain": [
       "50"
      ]
     },
     "execution_count": 55,
     "metadata": {},
     "output_type": "execute_result"
    }
   ],
   "source": [
    "np.max(statarr)"
   ]
  },
  {
   "cell_type": "code",
   "execution_count": 56,
   "metadata": {
    "colab": {
     "base_uri": "https://localhost:8080/"
    },
    "id": "4fmkI6oodvXo",
    "outputId": "8840f934-59e3-4b42-d730-5bff02db88bc"
   },
   "outputs": [
    {
     "name": "stdout",
     "output_type": "stream",
     "text": [
      "[20 50 32]\n",
      "\n",
      "\n",
      "[50 10 32]\n"
     ]
    }
   ],
   "source": [
    "# If we give (axix= 0 col, 1 = row) then it will print out all the max values of each  column.\n",
    "\n",
    "print(np.max(statarr,axis = 0))\n",
    "print(\"\\n\")\n",
    "print(np.max(statarr,axis = 1))"
   ]
  },
  {
   "cell_type": "markdown",
   "metadata": {
    "id": "xTJlGxT9hL9X"
   },
   "source": [
    "##  min()"
   ]
  },
  {
   "cell_type": "code",
   "execution_count": 57,
   "metadata": {
    "colab": {
     "base_uri": "https://localhost:8080/"
    },
    "id": "yJFqYiBTd3zA",
    "outputId": "99dea0f0-668e-41d8-de5c-77abff743d4d"
   },
   "outputs": [
    {
     "name": "stdout",
     "output_type": "stream",
     "text": [
      "-40\n",
      "\n",
      "\n",
      "[  7  10 -40]\n",
      "\n",
      "\n",
      "[-40  -1   7]\n"
     ]
    }
   ],
   "source": [
    "print (np.min(statarr))\n",
    "print ('\\n')\n",
    "print(np.min(statarr,axis = 0))\n",
    "print('\\n')\n",
    "print(np.min(statarr,axis = 1))"
   ]
  },
  {
   "cell_type": "markdown",
   "metadata": {
    "id": "xx0PYIMFgBva"
   },
   "source": [
    "##  Sum"
   ]
  },
  {
   "cell_type": "code",
   "execution_count": 58,
   "metadata": {
    "colab": {
     "base_uri": "https://localhost:8080/"
    },
    "id": "qaNxtu5OewOF",
    "outputId": "17a90ded-6354-45db-eae8-f1177c5c4f4c"
   },
   "outputs": [
    {
     "data": {
      "text/plain": [
       "array([[ 20,  50, -40],\n",
       "       [  9,  10,  -1],\n",
       "       [  7,  26,  32]])"
      ]
     },
     "execution_count": 58,
     "metadata": {},
     "output_type": "execute_result"
    }
   ],
   "source": [
    "statarr"
   ]
  },
  {
   "cell_type": "code",
   "execution_count": 59,
   "metadata": {
    "colab": {
     "base_uri": "https://localhost:8080/"
    },
    "id": "orQs2x4YgFRs",
    "outputId": "34ceade4-b56b-4484-8af2-63b687de3525"
   },
   "outputs": [
    {
     "data": {
      "text/plain": [
       "113"
      ]
     },
     "execution_count": 59,
     "metadata": {},
     "output_type": "execute_result"
    }
   ],
   "source": [
    "np.sum(statarr)"
   ]
  },
  {
   "cell_type": "code",
   "execution_count": 60,
   "metadata": {
    "colab": {
     "base_uri": "https://localhost:8080/"
    },
    "id": "vChAAG9XgIrX",
    "outputId": "33caac81-58b8-4b0f-d6f7-63d874ca5e2d"
   },
   "outputs": [
    {
     "data": {
      "text/plain": [
       "array([36, 86, -9])"
      ]
     },
     "execution_count": 60,
     "metadata": {},
     "output_type": "execute_result"
    }
   ],
   "source": [
    "np.sum(statarr,axis =0)"
   ]
  },
  {
   "cell_type": "code",
   "execution_count": 61,
   "metadata": {
    "colab": {
     "base_uri": "https://localhost:8080/"
    },
    "id": "xbZu4zumgW22",
    "outputId": "72f53977-4be3-4276-bb1f-e746dd4232f9"
   },
   "outputs": [
    {
     "data": {
      "text/plain": [
       "array([30, 18, 65])"
      ]
     },
     "execution_count": 61,
     "metadata": {},
     "output_type": "execute_result"
    }
   ],
   "source": [
    "np.sum(statarr,axis =1)"
   ]
  },
  {
   "cell_type": "markdown",
   "metadata": {
    "id": "T4rHj1SsgwTD"
   },
   "source": [
    "## argmax( ) --> It will give the INDEX POSITION of the maximum element. "
   ]
  },
  {
   "cell_type": "code",
   "execution_count": 62,
   "metadata": {
    "colab": {
     "base_uri": "https://localhost:8080/"
    },
    "id": "nLV96kXVgb1e",
    "outputId": "799ea999-ff75-4274-c28e-3166bd33c330"
   },
   "outputs": [
    {
     "data": {
      "text/plain": [
       "array([[ 20,  50, -40],\n",
       "       [  9,  10,  -1],\n",
       "       [  7,  26,  32]])"
      ]
     },
     "execution_count": 62,
     "metadata": {},
     "output_type": "execute_result"
    }
   ],
   "source": [
    "statarr"
   ]
  },
  {
   "cell_type": "code",
   "execution_count": 63,
   "metadata": {
    "colab": {
     "base_uri": "https://localhost:8080/"
    },
    "id": "7IPXaCG-gz3s",
    "outputId": "1fe40495-4a32-4475-ef81-30ad576aa586"
   },
   "outputs": [
    {
     "data": {
      "text/plain": [
       "1"
      ]
     },
     "execution_count": 63,
     "metadata": {},
     "output_type": "execute_result"
    }
   ],
   "source": [
    "np.argmax(statarr)"
   ]
  },
  {
   "cell_type": "code",
   "execution_count": 64,
   "metadata": {
    "colab": {
     "base_uri": "https://localhost:8080/"
    },
    "id": "p4X3BRrjhwvn",
    "outputId": "119f5d90-3a36-4595-c2a1-80c4d141e273"
   },
   "outputs": [
    {
     "data": {
      "text/plain": [
       "array([[  20,   50,  -40],\n",
       "       [   9, -100,   -1],\n",
       "       [   7,  100,   32]])"
      ]
     },
     "execution_count": 64,
     "metadata": {},
     "output_type": "execute_result"
    }
   ],
   "source": [
    "statarr[2,1] = 100\n",
    "statarr[1,1] = -100\n",
    "statarr"
   ]
  },
  {
   "cell_type": "code",
   "execution_count": null,
   "metadata": {
    "colab": {
     "base_uri": "https://localhost:8080/"
    },
    "id": "MV3qWMzIh15Q",
    "outputId": "56b2abdc-f332-4e89-acdd-e3262e02dada"
   },
   "outputs": [
    {
     "data": {
      "text/plain": [
       "array([1, 0, 1])"
      ]
     },
     "execution_count": 100,
     "metadata": {},
     "output_type": "execute_result"
    }
   ],
   "source": [
    "np.argmax(statarr,axis = 1)"
   ]
  },
  {
   "cell_type": "code",
   "execution_count": null,
   "metadata": {
    "colab": {
     "base_uri": "https://localhost:8080/"
    },
    "id": "gQ32yPrLidaf",
    "outputId": "634e37ef-2aaf-407a-f63b-4eb52a0c342e"
   },
   "outputs": [
    {
     "data": {
      "text/plain": [
       "array([0, 2, 2])"
      ]
     },
     "execution_count": 101,
     "metadata": {},
     "output_type": "execute_result"
    }
   ],
   "source": [
    "np.argmax(statarr,axis = 0)"
   ]
  },
  {
   "cell_type": "markdown",
   "metadata": {
    "id": "UI12u2xvi0Y7"
   },
   "source": [
    "## argmin( )"
   ]
  },
  {
   "cell_type": "code",
   "execution_count": null,
   "metadata": {
    "colab": {
     "base_uri": "https://localhost:8080/"
    },
    "id": "UXjUoAfxiiHu",
    "outputId": "9e942b67-ce66-40c8-a72c-334e3fdc8458"
   },
   "outputs": [
    {
     "data": {
      "text/plain": [
       "array([[  20,   50,  -40],\n",
       "       [   9, -100,   -1],\n",
       "       [   7,  100,   32]])"
      ]
     },
     "execution_count": 102,
     "metadata": {},
     "output_type": "execute_result"
    }
   ],
   "source": [
    "statarr"
   ]
  },
  {
   "cell_type": "code",
   "execution_count": null,
   "metadata": {
    "colab": {
     "base_uri": "https://localhost:8080/"
    },
    "id": "HrvZnjJzi2wH",
    "outputId": "8ef23943-f106-408b-d7c2-7d1b2b70ad15"
   },
   "outputs": [
    {
     "data": {
      "text/plain": [
       "4"
      ]
     },
     "execution_count": 103,
     "metadata": {},
     "output_type": "execute_result"
    }
   ],
   "source": [
    "np.argmin(statarr)"
   ]
  },
  {
   "cell_type": "code",
   "execution_count": null,
   "metadata": {
    "colab": {
     "base_uri": "https://localhost:8080/"
    },
    "id": "5MtuMtlEi6am",
    "outputId": "8ffe105a-c37a-4cce-ba17-2e22db263337"
   },
   "outputs": [
    {
     "data": {
      "text/plain": [
       "array([2, 1, 0])"
      ]
     },
     "execution_count": 104,
     "metadata": {},
     "output_type": "execute_result"
    }
   ],
   "source": [
    "np.argmin(statarr,axis = 0)"
   ]
  },
  {
   "cell_type": "code",
   "execution_count": null,
   "metadata": {
    "colab": {
     "base_uri": "https://localhost:8080/"
    },
    "id": "YLxrCd13i-9_",
    "outputId": "ad8e6c03-b320-4a44-97aa-b3688448c114"
   },
   "outputs": [
    {
     "data": {
      "text/plain": [
       "array([2, 1, 0])"
      ]
     },
     "execution_count": 105,
     "metadata": {},
     "output_type": "execute_result"
    }
   ],
   "source": [
    "np.argmin(statarr,axis = 1)"
   ]
  },
  {
   "cell_type": "markdown",
   "metadata": {
    "id": "bBrp31FmkOqe"
   },
   "source": [
    "## around( ) --> it will round up the values to the nearest value"
   ]
  },
  {
   "cell_type": "code",
   "execution_count": 65,
   "metadata": {
    "id": "ywFoYmqjjG7j"
   },
   "outputs": [],
   "source": [
    "arr_ = np.array([3.501,0.98])"
   ]
  },
  {
   "cell_type": "code",
   "execution_count": 66,
   "metadata": {
    "colab": {
     "base_uri": "https://localhost:8080/"
    },
    "id": "MjcjC_T1kgPP",
    "outputId": "196e1ae9-a858-4d93-ecf5-d3eb2fa5bf68"
   },
   "outputs": [
    {
     "data": {
      "text/plain": [
       "array([3.5 , 0.98])"
      ]
     },
     "execution_count": 66,
     "metadata": {},
     "output_type": "execute_result"
    }
   ],
   "source": [
    "np.around(arr_,decimals = 2)"
   ]
  },
  {
   "cell_type": "markdown",
   "metadata": {
    "id": "f_GcrIQ3rRkv"
   },
   "source": [
    "## floor (lowest nearest integer) & ceil (uppere nearest integer)\n",
    "\n",
    "- Ceiling is the upward direction  \n",
    "- Floor is in the downward direction\n",
    "- It round of the values in the int "
   ]
  },
  {
   "cell_type": "code",
   "execution_count": null,
   "metadata": {
    "colab": {
     "base_uri": "https://localhost:8080/"
    },
    "id": "hZwBc3EIkiQd",
    "outputId": "91124aad-21e3-4b1b-b2e4-af1b9004299c"
   },
   "outputs": [
    {
     "data": {
      "text/plain": [
       "array([-1.7 , -4.2 ,  4.6 , -0.87,  4.9 ])"
      ]
     },
     "execution_count": 16,
     "metadata": {},
     "output_type": "execute_result"
    }
   ],
   "source": [
    "a = np.array([-1.7, -4.2, 4.6, -0.87, 4.9])\n",
    "a"
   ]
  },
  {
   "cell_type": "code",
   "execution_count": null,
   "metadata": {
    "colab": {
     "base_uri": "https://localhost:8080/"
    },
    "id": "bj1YDpoarfMX",
    "outputId": "d3ff6cae-6145-42da-f1ca-c5576137e9de"
   },
   "outputs": [
    {
     "data": {
      "text/plain": [
       "array([-2., -5.,  4., -1.,  4.])"
      ]
     },
     "execution_count": 17,
     "metadata": {},
     "output_type": "execute_result"
    }
   ],
   "source": [
    "np.floor(a)"
   ]
  },
  {
   "cell_type": "code",
   "execution_count": null,
   "metadata": {
    "colab": {
     "base_uri": "https://localhost:8080/"
    },
    "id": "Fuszaha5rhsw",
    "outputId": "a74038cd-858c-415e-9d29-5d243c4fdcd6"
   },
   "outputs": [
    {
     "data": {
      "text/plain": [
       "array([-1., -4.,  5., -0.])"
      ]
     },
     "execution_count": 125,
     "metadata": {},
     "output_type": "execute_result"
    }
   ],
   "source": [
    "np.ceil(a)"
   ]
  },
  {
   "cell_type": "markdown",
   "metadata": {
    "id": "b8SVtWj4tWDH"
   },
   "source": [
    "## copy (copy the original file and won'y get reflected in the copy file) \n",
    "## view (the changes will be reflected in the original file)"
   ]
  },
  {
   "cell_type": "code",
   "execution_count": null,
   "metadata": {
    "colab": {
     "base_uri": "https://localhost:8080/"
    },
    "id": "8iLlsQ6urmG9",
    "outputId": "fde6a76a-176e-4d27-cb0a-5c62c9a1e353"
   },
   "outputs": [
    {
     "data": {
      "text/plain": [
       "array([-1.7 , -4.2 ,  4.6 , -0.87])"
      ]
     },
     "execution_count": 127,
     "metadata": {},
     "output_type": "execute_result"
    }
   ],
   "source": [
    "a"
   ]
  },
  {
   "cell_type": "code",
   "execution_count": null,
   "metadata": {
    "id": "DHoS8f6_trKM"
   },
   "outputs": [],
   "source": [
    "# copy\n",
    "x = a.copy()"
   ]
  },
  {
   "cell_type": "code",
   "execution_count": null,
   "metadata": {
    "colab": {
     "base_uri": "https://localhost:8080/"
    },
    "id": "UEjsoIxdtv52",
    "outputId": "a3d7372d-51bb-417d-a842-6d93690777c6"
   },
   "outputs": [
    {
     "data": {
      "text/plain": [
       "array([10.  , -4.2 ,  4.6 , -0.87])"
      ]
     },
     "execution_count": 130,
     "metadata": {},
     "output_type": "execute_result"
    }
   ],
   "source": [
    "x[0] = 10\n",
    "x"
   ]
  },
  {
   "cell_type": "code",
   "execution_count": null,
   "metadata": {
    "colab": {
     "base_uri": "https://localhost:8080/"
    },
    "id": "TB51xbpXtxst",
    "outputId": "17e8656c-441c-42f4-fcfe-9263e483bfd4"
   },
   "outputs": [
    {
     "data": {
      "text/plain": [
       "array([-1.7 , -4.2 ,  4.6 , -0.87])"
      ]
     },
     "execution_count": 131,
     "metadata": {},
     "output_type": "execute_result"
    }
   ],
   "source": [
    "a"
   ]
  },
  {
   "cell_type": "code",
   "execution_count": null,
   "metadata": {
    "id": "BDN8cm1htzg2"
   },
   "outputs": [],
   "source": [
    "# view\n",
    "y = a.view()"
   ]
  },
  {
   "cell_type": "code",
   "execution_count": null,
   "metadata": {
    "colab": {
     "base_uri": "https://localhost:8080/"
    },
    "id": "_RIfO_U6t622",
    "outputId": "525fe52f-ebae-4e8a-d7cd-b0da5aba17ec"
   },
   "outputs": [
    {
     "data": {
      "text/plain": [
       "array([-1.7 ,  5.  ,  4.6 , -0.87])"
      ]
     },
     "execution_count": 137,
     "metadata": {},
     "output_type": "execute_result"
    }
   ],
   "source": [
    "y[1] = 5\n",
    "y"
   ]
  },
  {
   "cell_type": "code",
   "execution_count": null,
   "metadata": {
    "colab": {
     "base_uri": "https://localhost:8080/"
    },
    "id": "YlV87klat7nt",
    "outputId": "3882968f-42a6-42dc-8161-4996c00f0678"
   },
   "outputs": [
    {
     "data": {
      "text/plain": [
       "array([-1.7 ,  5.  ,  4.6 , -0.87])"
      ]
     },
     "execution_count": 138,
     "metadata": {},
     "output_type": "execute_result"
    }
   ],
   "source": [
    "a"
   ]
  },
  {
   "cell_type": "markdown",
   "metadata": {
    "id": "PrOv4K5zuRIV"
   },
   "source": [
    "## Iteration\n"
   ]
  },
  {
   "cell_type": "code",
   "execution_count": null,
   "metadata": {
    "colab": {
     "base_uri": "https://localhost:8080/"
    },
    "id": "-xMtCen6uIXt",
    "outputId": "9947bf13-24a0-48c9-c46d-e1b10a7034e3"
   },
   "outputs": [
    {
     "data": {
      "text/plain": [
       "array([-1.7 , -4.2 ,  4.6 , -0.87])"
      ]
     },
     "execution_count": 35,
     "metadata": {},
     "output_type": "execute_result"
    }
   ],
   "source": [
    "a"
   ]
  },
  {
   "cell_type": "code",
   "execution_count": null,
   "metadata": {
    "colab": {
     "base_uri": "https://localhost:8080/"
    },
    "id": "SEJ3uulSuTt2",
    "outputId": "dbe2b4c8-7af4-453a-d950-20792bbda0cf"
   },
   "outputs": [
    {
     "name": "stdout",
     "output_type": "stream",
     "text": [
      "-1.7\n",
      "-4.2\n",
      "4.6\n",
      "-0.87\n"
     ]
    }
   ],
   "source": [
    "for i in a:\n",
    "  print (i)"
   ]
  },
  {
   "cell_type": "code",
   "execution_count": null,
   "metadata": {
    "colab": {
     "base_uri": "https://localhost:8080/"
    },
    "id": "G13AkQhHuXn9",
    "outputId": "bb991374-eaea-4721-cea8-b6a117de486a"
   },
   "outputs": [
    {
     "name": "stdout",
     "output_type": "stream",
     "text": [
      "[3 6 9]\n",
      "[12 15 18]\n"
     ]
    }
   ],
   "source": [
    "for i in arr1:\n",
    "  print (i)"
   ]
  },
  {
   "cell_type": "code",
   "execution_count": null,
   "metadata": {
    "colab": {
     "base_uri": "https://localhost:8080/"
    },
    "id": "gUREGX6kua1C",
    "outputId": "c6c79523-8d77-4060-8539-783c471e9da6"
   },
   "outputs": [
    {
     "name": "stdout",
     "output_type": "stream",
     "text": [
      "3\n",
      "6\n",
      "9\n",
      "12\n",
      "15\n",
      "18\n"
     ]
    }
   ],
   "source": [
    "for i in arr1:\n",
    "  for j in i :\n",
    "    print (j)"
   ]
  },
  {
   "cell_type": "code",
   "execution_count": null,
   "metadata": {
    "colab": {
     "base_uri": "https://localhost:8080/"
    },
    "id": "CpDOdD8MuzpO",
    "outputId": "f0dce858-183e-4f43-9b43-59b97890e8b3"
   },
   "outputs": [
    {
     "name": "stdout",
     "output_type": "stream",
     "text": [
      "3\n",
      "6\n",
      "9\n",
      "12\n",
      "15\n",
      "18\n"
     ]
    }
   ],
   "source": [
    "for i in np.nditer(arr1):\n",
    "  print (i)"
   ]
  },
  {
   "cell_type": "code",
   "execution_count": null,
   "metadata": {
    "colab": {
     "base_uri": "https://localhost:8080/"
    },
    "id": "kfRIPaDlu6mV",
    "outputId": "62865de5-b82c-478b-cd18-6fd4b46f8df6"
   },
   "outputs": [
    {
     "name": "stdout",
     "output_type": "stream",
     "text": [
      "12\n",
      "15\n",
      "18\n"
     ]
    }
   ],
   "source": [
    "for i in np.nditer(arr1[1:]):\n",
    "  print (i)"
   ]
  },
  {
   "cell_type": "markdown",
   "metadata": {
    "id": "75XOFvUBISJy"
   },
   "source": [
    "# Day 20"
   ]
  },
  {
   "cell_type": "markdown",
   "metadata": {
    "id": "U5l6W559IW6M"
   },
   "source": [
    "## More on NumPy"
   ]
  },
  {
   "cell_type": "code",
   "execution_count": 67,
   "metadata": {
    "id": "uUCRbn2IIT9-"
   },
   "outputs": [],
   "source": [
    "import numpy as np"
   ]
  },
  {
   "cell_type": "code",
   "execution_count": 68,
   "metadata": {
    "colab": {
     "base_uri": "https://localhost:8080/"
    },
    "id": "doE1ga6_aStl",
    "outputId": "6e384dc7-1361-4c5d-e1f9-cf6ae9baea17"
   },
   "outputs": [
    {
     "name": "stdout",
     "output_type": "stream",
     "text": [
      "[[1 2 3]\n",
      " [4 5 6]]\n",
      "\n",
      "\n",
      "[[11 12 13]\n",
      " [14 15 16]]\n"
     ]
    }
   ],
   "source": [
    "arr1 = np.array([[1,2,3],[4,5,6]])\n",
    "arr2 = np.array([[11,12,13],[14,15,16]])\n",
    "\n",
    "print(arr1)\n",
    "print('\\n')\n",
    "print(arr2)"
   ]
  },
  {
   "cell_type": "markdown",
   "metadata": {
    "id": "-aMnWCgwbCsD"
   },
   "source": [
    "## Stacking --> It means to joins to get more array. \n",
    "\n",
    "- vertical (vstack)-- one below the other\n",
    "- horizontal (hstack)-- right hand side of another."
   ]
  },
  {
   "cell_type": "code",
   "execution_count": 69,
   "metadata": {
    "colab": {
     "base_uri": "https://localhost:8080/"
    },
    "id": "vyJ7mL7gaqs0",
    "outputId": "56782bb4-e7b9-4992-888c-e64d9d7ef035"
   },
   "outputs": [
    {
     "data": {
      "text/plain": [
       "array([[ 1,  2,  3],\n",
       "       [ 4,  5,  6],\n",
       "       [11, 12, 13],\n",
       "       [14, 15, 16],\n",
       "       [ 1,  2,  3],\n",
       "       [ 4,  5,  6],\n",
       "       [ 1,  2,  3],\n",
       "       [ 4,  5,  6]])"
      ]
     },
     "execution_count": 69,
     "metadata": {},
     "output_type": "execute_result"
    }
   ],
   "source": [
    "np.vstack((arr1,arr2,arr1,arr1)) # we can go with () and []"
   ]
  },
  {
   "cell_type": "code",
   "execution_count": null,
   "metadata": {
    "colab": {
     "base_uri": "https://localhost:8080/"
    },
    "id": "jHDS4bLsaeQd",
    "outputId": "1194ab73-6d8e-45e7-c672-040fcc04d33e"
   },
   "outputs": [
    {
     "data": {
      "text/plain": [
       "array([[ 1,  2,  3, 11, 12, 13],\n",
       "       [ 4,  5,  6, 14, 15, 16]])"
      ]
     },
     "execution_count": 57,
     "metadata": {},
     "output_type": "execute_result"
    }
   ],
   "source": [
    "np.hstack ([arr1,arr2])"
   ]
  },
  {
   "cell_type": "code",
   "execution_count": null,
   "metadata": {
    "id": "PlVbNuArb5pk"
   },
   "outputs": [],
   "source": [
    "arr3 = np.array ([100,200,300])"
   ]
  },
  {
   "cell_type": "code",
   "execution_count": null,
   "metadata": {
    "colab": {
     "base_uri": "https://localhost:8080/"
    },
    "id": "EFXJUOkecWQd",
    "outputId": "994461fd-5592-49b5-ee74-07718044b918"
   },
   "outputs": [
    {
     "data": {
      "text/plain": [
       "array([[  1,   2,   3],\n",
       "       [  4,   5,   6],\n",
       "       [100, 200, 300]])"
      ]
     },
     "execution_count": 60,
     "metadata": {},
     "output_type": "execute_result"
    }
   ],
   "source": [
    "np.vstack((arr1,arr3)) \n",
    "# While performing the vstack the no. of columns should = both the arrays"
   ]
  },
  {
   "cell_type": "code",
   "execution_count": null,
   "metadata": {
    "id": "93WiMKBEc6X8"
   },
   "outputs": [],
   "source": [
    "# np.hstack((arr1,arr3)) \n",
    "\n",
    "#  as the arr3 dimension != arr1 dimension so we will get the error \n",
    "# While performing the hstack the no. of rows should = both the arrays"
   ]
  },
  {
   "cell_type": "code",
   "execution_count": null,
   "metadata": {
    "colab": {
     "base_uri": "https://localhost:8080/"
    },
    "id": "YjHFfTnkdATU",
    "outputId": "074fffc5-7110-44cf-aa5b-c1e32e327886"
   },
   "outputs": [
    {
     "name": "stdout",
     "output_type": "stream",
     "text": [
      "arr3 = [100 200 300] \n",
      "\n"
     ]
    },
    {
     "data": {
      "text/plain": [
       "array([500, 600, 700])"
      ]
     },
     "execution_count": 69,
     "metadata": {},
     "output_type": "execute_result"
    }
   ],
   "source": [
    "print (f'arr3 = {arr3}','\\n')\n",
    "arr4 = np.array([500,600,700])\n",
    "arr4"
   ]
  },
  {
   "cell_type": "markdown",
   "metadata": {
    "id": "vw9abEgBeRsD"
   },
   "source": [
    "### dstack --> It will stack along with the height.\n",
    "* The rows changes to columns.\n",
    "* Both the array should have same shape."
   ]
  },
  {
   "cell_type": "code",
   "execution_count": null,
   "metadata": {
    "colab": {
     "base_uri": "https://localhost:8080/"
    },
    "id": "175s95did4gl",
    "outputId": "55024fba-78ac-43f1-efdb-a0c233c1ac5e"
   },
   "outputs": [
    {
     "data": {
      "text/plain": [
       "array([[[100, 500],\n",
       "        [200, 600],\n",
       "        [300, 700]]])"
      ]
     },
     "execution_count": 70,
     "metadata": {},
     "output_type": "execute_result"
    }
   ],
   "source": [
    "np.dstack([arr3,arr4])"
   ]
  },
  {
   "cell_type": "markdown",
   "metadata": {
    "id": "IAP7b2WdfPQD"
   },
   "source": [
    "## spliting --> breaking one array into two or more array.\n",
    "\n",
    "* array_split ( )"
   ]
  },
  {
   "cell_type": "code",
   "execution_count": null,
   "metadata": {
    "colab": {
     "base_uri": "https://localhost:8080/"
    },
    "id": "YHTyvl3CejKm",
    "outputId": "bb0615c8-038f-4bf0-bf2f-1e7631ea2fd0"
   },
   "outputs": [
    {
     "data": {
      "text/plain": [
       "array([100, 200, 300])"
      ]
     },
     "execution_count": 71,
     "metadata": {},
     "output_type": "execute_result"
    }
   ],
   "source": [
    "arr3\n"
   ]
  },
  {
   "cell_type": "code",
   "execution_count": null,
   "metadata": {
    "colab": {
     "base_uri": "https://localhost:8080/"
    },
    "id": "UeUu6cq2fYmN",
    "outputId": "3f8b8e39-9150-4955-f526-95ba97ca90db"
   },
   "outputs": [
    {
     "data": {
      "text/plain": [
       "[array([100]), array([200]), array([300]), array([], dtype=int64)]"
      ]
     },
     "execution_count": 80,
     "metadata": {},
     "output_type": "execute_result"
    }
   ],
   "source": [
    "br = np.array_split(arr3,3)\n",
    "br"
   ]
  },
  {
   "cell_type": "code",
   "execution_count": null,
   "metadata": {
    "colab": {
     "base_uri": "https://localhost:8080/"
    },
    "id": "3a0FhT8sfq6F",
    "outputId": "0753a8c4-3784-496d-c54a-5a51bb057cdf"
   },
   "outputs": [
    {
     "data": {
      "text/plain": [
       "(array([100]), array([300]))"
      ]
     },
     "execution_count": 79,
     "metadata": {},
     "output_type": "execute_result"
    }
   ],
   "source": [
    "br [0], br[2]"
   ]
  },
  {
   "cell_type": "code",
   "execution_count": null,
   "metadata": {
    "colab": {
     "base_uri": "https://localhost:8080/"
    },
    "id": "5CGNjfY5f1Wn",
    "outputId": "f3fb685e-2f4d-4ade-cd68-1dd93fa0150b"
   },
   "outputs": [
    {
     "data": {
      "text/plain": [
       "[array([100]),\n",
       " array([200]),\n",
       " array([300]),\n",
       " array([], dtype=int64),\n",
       " array([], dtype=int64),\n",
       " array([], dtype=int64),\n",
       " array([], dtype=int64),\n",
       " array([], dtype=int64),\n",
       " array([], dtype=int64),\n",
       " array([], dtype=int64)]"
      ]
     },
     "execution_count": 82,
     "metadata": {},
     "output_type": "execute_result"
    }
   ],
   "source": [
    "# If the array have less no than splitting then it will adjust accordingly.\n",
    "br = np.array_split(arr3,10)\n",
    "br"
   ]
  },
  {
   "cell_type": "markdown",
   "metadata": {
    "id": "a1WaDJlXghKb"
   },
   "source": [
    "## searching\n",
    "* function of searching is where( )"
   ]
  },
  {
   "cell_type": "code",
   "execution_count": null,
   "metadata": {
    "colab": {
     "base_uri": "https://localhost:8080/"
    },
    "id": "TkgGwvrmgLtk",
    "outputId": "97c026c7-68f5-4d17-fdd6-a4510951d7bc"
   },
   "outputs": [
    {
     "data": {
      "text/plain": [
       "array([1, 2, 3, 4, 5, 4, 4])"
      ]
     },
     "execution_count": 84,
     "metadata": {},
     "output_type": "execute_result"
    }
   ],
   "source": [
    "newarr = np.array([1,2,3,4,5,4,4])\n",
    "newarr"
   ]
  },
  {
   "cell_type": "code",
   "execution_count": null,
   "metadata": {
    "colab": {
     "base_uri": "https://localhost:8080/"
    },
    "id": "nHkyNV1VgtDs",
    "outputId": "d2e1200a-0cf7-4dff-a953-741c06863f9a"
   },
   "outputs": [
    {
     "data": {
      "text/plain": [
       "(array([3, 5, 6]),)"
      ]
     },
     "execution_count": 86,
     "metadata": {},
     "output_type": "execute_result"
    }
   ],
   "source": [
    "np.where(newarr == 4)\n",
    "\n",
    "# It will return all the index values where it matches 4."
   ]
  },
  {
   "cell_type": "markdown",
   "metadata": {
    "id": "HAE9K9q4ik5T"
   },
   "source": [
    "## sorting"
   ]
  },
  {
   "cell_type": "code",
   "execution_count": null,
   "metadata": {
    "colab": {
     "base_uri": "https://localhost:8080/"
    },
    "id": "ep7oyIw1g6AG",
    "outputId": "c69fbaeb-d940-4022-b3b9-3684a6d923a4"
   },
   "outputs": [
    {
     "data": {
      "text/plain": [
       "array([ 10. ,   5. ,   6. , -10. ,  -7. ,  20. ,   0. ,   4. ,  18. ,\n",
       "         4.6])"
      ]
     },
     "execution_count": 93,
     "metadata": {},
     "output_type": "execute_result"
    }
   ],
   "source": [
    "newarr = np.array([10,5,6,-10,-7,20,0,4,18,4.6])\n",
    "newarr"
   ]
  },
  {
   "cell_type": "code",
   "execution_count": null,
   "metadata": {
    "colab": {
     "base_uri": "https://localhost:8080/"
    },
    "id": "omzWBOtIizu1",
    "outputId": "acf4730f-7b5f-4858-d3b7-6e2762499984"
   },
   "outputs": [
    {
     "data": {
      "text/plain": [
       "array([-10. ,  -7. ,   0. ,   4. ,   4.6,   5. ,   6. ,  10. ,  18. ,\n",
       "        20. ])"
      ]
     },
     "execution_count": 94,
     "metadata": {},
     "output_type": "execute_result"
    }
   ],
   "source": [
    "np.sort(newarr) #ascending"
   ]
  },
  {
   "cell_type": "code",
   "execution_count": null,
   "metadata": {
    "colab": {
     "base_uri": "https://localhost:8080/"
    },
    "id": "vhECNEc9i4Mc",
    "outputId": "a5c9a5ea-6813-4e98-da17-6507cbc2a72e"
   },
   "outputs": [
    {
     "data": {
      "text/plain": [
       "array([ 20. ,  18. ,  10. ,   6. ,   5. ,   4.6,   4. ,   0. ,  -7. ,\n",
       "       -10. ])"
      ]
     },
     "execution_count": 95,
     "metadata": {},
     "output_type": "execute_result"
    }
   ],
   "source": [
    "-np.sort(-newarr) #descending"
   ]
  },
  {
   "cell_type": "markdown",
   "metadata": {
    "id": "cUfRIj-PjrGm"
   },
   "source": [
    "## any ( ) & all ( )\n",
    "\n",
    "## any ( ) -- will return TRUE if any condition satisfy\n",
    "## all ( ) -- only will return TRUE if all the condition satisfy or else it will return FALSE."
   ]
  },
  {
   "cell_type": "code",
   "execution_count": 80,
   "metadata": {
    "colab": {
     "base_uri": "https://localhost:8080/"
    },
    "id": "LEbL4m91jfwe",
    "outputId": "47033a28-a083-409c-a057-32978ddfcab9"
   },
   "outputs": [
    {
     "data": {
      "text/plain": [
       "array([ 2,  4,  6,  8,  9, 10])"
      ]
     },
     "execution_count": 80,
     "metadata": {},
     "output_type": "execute_result"
    }
   ],
   "source": [
    "newarr = np.array([2,4,6,8,9,10])\n",
    "newarr"
   ]
  },
  {
   "cell_type": "code",
   "execution_count": null,
   "metadata": {
    "colab": {
     "base_uri": "https://localhost:8080/"
    },
    "id": "pYglQUrXkakc",
    "outputId": "c7551a73-9996-41cd-a251-f09c56d5b9be"
   },
   "outputs": [
    {
     "data": {
      "text/plain": [
       "True"
      ]
     },
     "execution_count": 101,
     "metadata": {},
     "output_type": "execute_result"
    }
   ],
   "source": [
    "np.any(newarr % 2 == 0) "
   ]
  },
  {
   "cell_type": "code",
   "execution_count": null,
   "metadata": {
    "colab": {
     "base_uri": "https://localhost:8080/"
    },
    "id": "PruYxLG_kka0",
    "outputId": "5235cbfb-47d7-4d38-9935-18d2bda64df4"
   },
   "outputs": [
    {
     "data": {
      "text/plain": [
       "False"
      ]
     },
     "execution_count": 102,
     "metadata": {},
     "output_type": "execute_result"
    }
   ],
   "source": [
    "np.all(newarr % 2 == 0)"
   ]
  },
  {
   "cell_type": "markdown",
   "metadata": {
    "id": "-tzUXPb1mJZ5"
   },
   "source": [
    "## resize ( )"
   ]
  },
  {
   "cell_type": "code",
   "execution_count": 72,
   "metadata": {
    "colab": {
     "base_uri": "https://localhost:8080/"
    },
    "id": "FbPY1qqjkoUU",
    "outputId": "a478f080-fa72-490e-ad59-51534c08bb90"
   },
   "outputs": [
    {
     "data": {
      "text/plain": [
       "array([ 0,  1,  2,  3,  4,  5,  6,  7,  8,  9, 10, 11])"
      ]
     },
     "execution_count": 72,
     "metadata": {},
     "output_type": "execute_result"
    }
   ],
   "source": [
    "a = np.arange(12)\n",
    "a"
   ]
  },
  {
   "cell_type": "code",
   "execution_count": 73,
   "metadata": {
    "colab": {
     "base_uri": "https://localhost:8080/"
    },
    "id": "wtaB1vb9mNt9",
    "outputId": "795e0ab6-7a18-4682-dc17-99a30b7f481a"
   },
   "outputs": [
    {
     "data": {
      "text/plain": [
       "array([[ 0,  1,  2,  3],\n",
       "       [ 4,  5,  6,  7],\n",
       "       [ 8,  9, 10, 11]])"
      ]
     },
     "execution_count": 73,
     "metadata": {},
     "output_type": "execute_result"
    }
   ],
   "source": [
    "np.reshape(a,(3,4))"
   ]
  },
  {
   "cell_type": "code",
   "execution_count": 74,
   "metadata": {
    "colab": {
     "base_uri": "https://localhost:8080/"
    },
    "id": "_jg73p1qmUUV",
    "outputId": "392675a4-9bfb-4a07-f716-68ed772c969f"
   },
   "outputs": [
    {
     "data": {
      "text/plain": [
       "array([[ 0,  1,  2,  3,  4],\n",
       "       [ 5,  6,  7,  8,  9],\n",
       "       [10, 11,  0,  1,  2]])"
      ]
     },
     "execution_count": 74,
     "metadata": {},
     "output_type": "execute_result"
    }
   ],
   "source": [
    "np.resize(a,(3,5))"
   ]
  },
  {
   "cell_type": "code",
   "execution_count": 75,
   "metadata": {
    "colab": {
     "base_uri": "https://localhost:8080/"
    },
    "id": "khWniozNmdgM",
    "outputId": "0549a12e-2f3f-47dc-8b3d-7442a2599b27"
   },
   "outputs": [
    {
     "data": {
      "text/plain": [
       "array([[ 0,  1,  2,  3,  4,  5,  6,  7,  8,  9],\n",
       "       [10, 11,  0,  1,  2,  3,  4,  5,  6,  7],\n",
       "       [ 8,  9, 10, 11,  0,  1,  2,  3,  4,  5],\n",
       "       [ 6,  7,  8,  9, 10, 11,  0,  1,  2,  3],\n",
       "       [ 4,  5,  6,  7,  8,  9, 10, 11,  0,  1],\n",
       "       [ 2,  3,  4,  5,  6,  7,  8,  9, 10, 11],\n",
       "       [ 0,  1,  2,  3,  4,  5,  6,  7,  8,  9],\n",
       "       [10, 11,  0,  1,  2,  3,  4,  5,  6,  7],\n",
       "       [ 8,  9, 10, 11,  0,  1,  2,  3,  4,  5],\n",
       "       [ 6,  7,  8,  9, 10, 11,  0,  1,  2,  3]])"
      ]
     },
     "execution_count": 75,
     "metadata": {},
     "output_type": "execute_result"
    }
   ],
   "source": [
    " np.resize(a,(10,10))"
   ]
  },
  {
   "cell_type": "markdown",
   "metadata": {
    "id": "FItlFPfZpXm-"
   },
   "source": [
    "## delete"
   ]
  },
  {
   "cell_type": "code",
   "execution_count": null,
   "metadata": {
    "colab": {
     "base_uri": "https://localhost:8080/"
    },
    "id": "Az7pycR8nRus",
    "outputId": "d83b50b2-24b8-4e43-c542-3d41a76ec73d"
   },
   "outputs": [
    {
     "data": {
      "text/plain": [
       "array([ 0,  1,  2,  3,  4,  5,  6,  7,  8,  9, 10, 11])"
      ]
     },
     "execution_count": 110,
     "metadata": {},
     "output_type": "execute_result"
    }
   ],
   "source": [
    "a "
   ]
  },
  {
   "cell_type": "code",
   "execution_count": null,
   "metadata": {
    "colab": {
     "base_uri": "https://localhost:8080/"
    },
    "id": "DGeCOyjEpbA-",
    "outputId": "3bab0fd1-31e8-4bbc-d556-c5bb83d17845"
   },
   "outputs": [
    {
     "data": {
      "text/plain": [
       "array([ 0,  1,  2,  3,  4,  6,  7,  8,  9, 10, 11])"
      ]
     },
     "execution_count": 114,
     "metadata": {},
     "output_type": "execute_result"
    }
   ],
   "source": [
    "# delete (arr, obj, axis)\n",
    "np.delete(a,5)"
   ]
  },
  {
   "cell_type": "code",
   "execution_count": null,
   "metadata": {
    "colab": {
     "base_uri": "https://localhost:8080/"
    },
    "id": "RA7J7ZQmpd0k",
    "outputId": "36b7648e-eae9-4400-fcb4-3d25fe1867d0"
   },
   "outputs": [
    {
     "data": {
      "text/plain": [
       "array([[1, 2, 3],\n",
       "       [4, 3, 6]])"
      ]
     },
     "execution_count": 120,
     "metadata": {},
     "output_type": "execute_result"
    }
   ],
   "source": [
    "delmat = np.array([[1,2,3],[4,3,6]])\n",
    "delmat"
   ]
  },
  {
   "cell_type": "code",
   "execution_count": null,
   "metadata": {
    "colab": {
     "base_uri": "https://localhost:8080/"
    },
    "id": "9r0r2ualp0es",
    "outputId": "ed8edec5-3c87-418f-d6bc-807945d00eda"
   },
   "outputs": [
    {
     "data": {
      "text/plain": [
       "array([1, 2, 3, 3, 6])"
      ]
     },
     "execution_count": 121,
     "metadata": {},
     "output_type": "execute_result"
    }
   ],
   "source": [
    "np.delete(delmat,3)"
   ]
  },
  {
   "cell_type": "code",
   "execution_count": null,
   "metadata": {
    "colab": {
     "base_uri": "https://localhost:8080/"
    },
    "id": "XN356bfJqtaE",
    "outputId": "9212e7c4-82ce-4bb2-c8a9-ffd7ee081bb0"
   },
   "outputs": [
    {
     "data": {
      "text/plain": [
       "array([[1, 2, 3]])"
      ]
     },
     "execution_count": 124,
     "metadata": {},
     "output_type": "execute_result"
    }
   ],
   "source": [
    "np.delete(delmat,1,axis=0)"
   ]
  },
  {
   "cell_type": "markdown",
   "metadata": {
    "id": "LrkCDKdh8CcH"
   },
   "source": [
    "## LCM\n",
    "\n",
    "* lcm (arry_name1, arry_name2)\n",
    "if there are more than 2 array or we have to find out the LCM of matrix then we have to use the **reduce** function."
   ]
  },
  {
   "cell_type": "code",
   "execution_count": null,
   "metadata": {
    "colab": {
     "base_uri": "https://localhost:8080/"
    },
    "id": "PhVqvsxZ77KT",
    "outputId": "bde76a6d-fa3d-4ede-b912-497762d3da64"
   },
   "outputs": [
    {
     "data": {
      "text/plain": [
       "625"
      ]
     },
     "execution_count": 135,
     "metadata": {},
     "output_type": "execute_result"
    }
   ],
   "source": [
    "num1 = 25\n",
    "num2 = 125\n",
    "num3 = 625\n",
    "\n",
    "np.lcm.reduce((num2,num3,num1))"
   ]
  },
  {
   "cell_type": "code",
   "execution_count": null,
   "metadata": {
    "colab": {
     "base_uri": "https://localhost:8080/"
    },
    "id": "N8JPKcD69Gcc",
    "outputId": "462c7378-c2ae-4617-b3e1-0cf15a1e7b53"
   },
   "outputs": [
    {
     "data": {
      "text/plain": [
       "array([ 2,  4,  6,  8,  9, 10])"
      ]
     },
     "execution_count": 126,
     "metadata": {},
     "output_type": "execute_result"
    }
   ],
   "source": [
    "newarr"
   ]
  },
  {
   "cell_type": "code",
   "execution_count": null,
   "metadata": {
    "colab": {
     "base_uri": "https://localhost:8080/"
    },
    "id": "Zf9i0A589I1d",
    "outputId": "831e8d68-3be1-4170-d7ec-08f700821a05"
   },
   "outputs": [
    {
     "data": {
      "text/plain": [
       "360"
      ]
     },
     "execution_count": 129,
     "metadata": {},
     "output_type": "execute_result"
    }
   ],
   "source": [
    "np.lcm.reduce(newarr)"
   ]
  },
  {
   "cell_type": "markdown",
   "metadata": {
    "id": "Rm_m79tG-VF_"
   },
   "source": [
    "## GCD (Gretest common Denominator)\n",
    "\n",
    "* np.gcd( )"
   ]
  },
  {
   "cell_type": "code",
   "execution_count": null,
   "metadata": {
    "colab": {
     "base_uri": "https://localhost:8080/"
    },
    "id": "81OvZ7lM9Ltj",
    "outputId": "e1a93000-c4dd-4d68-efd8-b78ce7335ba7"
   },
   "outputs": [
    {
     "data": {
      "text/plain": [
       "16"
      ]
     },
     "execution_count": 142,
     "metadata": {},
     "output_type": "execute_result"
    }
   ],
   "source": [
    "a = 16\n",
    "b = 32\n",
    " \n",
    "np.gcd(a,b)"
   ]
  },
  {
   "cell_type": "code",
   "execution_count": null,
   "metadata": {
    "colab": {
     "base_uri": "https://localhost:8080/"
    },
    "id": "0RYTB4nZ-yc7",
    "outputId": "f762cc99-8a09-4744-9ef4-648d18e78c27"
   },
   "outputs": [
    {
     "data": {
      "text/plain": [
       "16"
      ]
     },
     "execution_count": 144,
     "metadata": {},
     "output_type": "execute_result"
    }
   ],
   "source": [
    "c = 64\n",
    "\n",
    "np.gcd.reduce ((a,b,c))"
   ]
  },
  {
   "cell_type": "markdown",
   "metadata": {
    "id": "Wa5lFPrE_yJk"
   },
   "source": [
    "## Linear Equation\n",
    "\n",
    "* np.linalg.solve( )"
   ]
  },
  {
   "cell_type": "code",
   "execution_count": null,
   "metadata": {
    "id": "6IYbK8lg_AmT"
   },
   "outputs": [],
   "source": [
    "# 3x + y = 9\n",
    "# x + 2y = 8"
   ]
  },
  {
   "cell_type": "code",
   "execution_count": null,
   "metadata": {
    "colab": {
     "base_uri": "https://localhost:8080/"
    },
    "id": "Vu-KlVXs_9CA",
    "outputId": "f6857518-0015-4391-b125-790d95f5ef27"
   },
   "outputs": [
    {
     "name": "stdout",
     "output_type": "stream",
     "text": [
      "[[3 1]\n",
      " [1 2]] \n",
      " \n",
      " [9 8]\n"
     ]
    }
   ],
   "source": [
    "a = np.array([[3,1],[1,2]])\n",
    "b = np.array([9,8])\n",
    "\n",
    "print (a,'\\n','\\n',b)"
   ]
  },
  {
   "cell_type": "code",
   "execution_count": null,
   "metadata": {
    "colab": {
     "base_uri": "https://localhost:8080/"
    },
    "id": "5T-rcRriAOvs",
    "outputId": "4a5ef128-0fd4-4955-bd84-55c8f897908f"
   },
   "outputs": [
    {
     "data": {
      "text/plain": [
       "array([2., 3.])"
      ]
     },
     "execution_count": 153,
     "metadata": {},
     "output_type": "execute_result"
    }
   ],
   "source": [
    "np.linalg.solve(a,b)"
   ]
  },
  {
   "cell_type": "markdown",
   "metadata": {
    "id": "iqEnfms7BEE7"
   },
   "source": [
    "## Quadrictic Equations\n",
    "\n",
    "* np.roots ( )"
   ]
  },
  {
   "cell_type": "code",
   "execution_count": null,
   "metadata": {
    "id": "OIE9S5YuAc4K"
   },
   "outputs": [],
   "source": [
    "# x^2 + 4x = -4\n",
    "# x^2 + 4x + 4 = 0"
   ]
  },
  {
   "cell_type": "code",
   "execution_count": null,
   "metadata": {
    "id": "TuIMm_v7BWdi"
   },
   "outputs": [],
   "source": [
    "coeff = np.array([1,4,4])"
   ]
  },
  {
   "cell_type": "code",
   "execution_count": null,
   "metadata": {
    "colab": {
     "base_uri": "https://localhost:8080/"
    },
    "id": "Y2gzdpmKBw8y",
    "outputId": "2a8078bb-716d-4255-c88c-073ebf51970c"
   },
   "outputs": [
    {
     "data": {
      "text/plain": [
       "array([-2., -2.])"
      ]
     },
     "execution_count": 161,
     "metadata": {},
     "output_type": "execute_result"
    }
   ],
   "source": [
    "np.roots(coeff)"
   ]
  },
  {
   "cell_type": "markdown",
   "metadata": {
    "id": "nBceKeVbCPax"
   },
   "source": [
    "## vdot ( ) --> Vectordot\n"
   ]
  },
  {
   "cell_type": "code",
   "execution_count": null,
   "metadata": {
    "id": "31YZwuMuB3RU"
   },
   "outputs": [],
   "source": [
    "a = np.array([[1,2,3,],[4,5,6]])\n",
    "b = np.array([[10,20,30,],[40,50,60]])\n",
    "\n",
    "#  1*10 + 2*28 +.... + 6*60"
   ]
  },
  {
   "cell_type": "code",
   "execution_count": null,
   "metadata": {
    "colab": {
     "base_uri": "https://localhost:8080/"
    },
    "id": "o1FOtM6TCbAj",
    "outputId": "d503e536-de09-49df-b13d-7090622be96a"
   },
   "outputs": [
    {
     "data": {
      "text/plain": [
       "910"
      ]
     },
     "execution_count": 164,
     "metadata": {},
     "output_type": "execute_result"
    }
   ],
   "source": [
    "np.vdot(a,b)"
   ]
  },
  {
   "cell_type": "markdown",
   "metadata": {
    "id": "G-n39oeuDQzf"
   },
   "source": [
    "## mean ( )"
   ]
  },
  {
   "cell_type": "code",
   "execution_count": null,
   "metadata": {
    "colab": {
     "base_uri": "https://localhost:8080/"
    },
    "id": "T4IqVV49CdhD",
    "outputId": "cb5c72f8-b7bc-4ff4-d8aa-46caeff9d004"
   },
   "outputs": [
    {
     "data": {
      "text/plain": [
       "array([[1, 2, 3],\n",
       "       [4, 5, 6]])"
      ]
     },
     "execution_count": 165,
     "metadata": {},
     "output_type": "execute_result"
    }
   ],
   "source": [
    "a"
   ]
  },
  {
   "cell_type": "code",
   "execution_count": null,
   "metadata": {
    "colab": {
     "base_uri": "https://localhost:8080/"
    },
    "id": "sRVxv51eDS3d",
    "outputId": "7f46441a-8df9-4373-f1c4-5d1a84a980a6"
   },
   "outputs": [
    {
     "data": {
      "text/plain": [
       "3.5"
      ]
     },
     "execution_count": 166,
     "metadata": {},
     "output_type": "execute_result"
    }
   ],
   "source": [
    "np.mean(a)"
   ]
  },
  {
   "cell_type": "markdown",
   "metadata": {
    "id": "S-epiQafDfUj"
   },
   "source": [
    "### varaience is the square of the perticular sd"
   ]
  },
  {
   "cell_type": "markdown",
   "metadata": {
    "id": "zUhlHaHSDobe"
   },
   "source": [
    "## Weighted Mean\n",
    "\n",
    "- First it well get multiplyed with each of their respected element then each element will get added and then then it will get divided with sum of weight.\n",
    "\n",
    "- average(arrey ,weights = weight)"
   ]
  },
  {
   "cell_type": "code",
   "execution_count": null,
   "metadata": {
    "id": "iwBtMFPTDblT"
   },
   "outputs": [],
   "source": [
    "arr = np.array([1,2,3,4])\n",
    "weight = np.array([4,3,2,1])\n",
    "\n",
    "# (1*4 + 2*3 +...+ 4*1 ) / (4+3+2+1)"
   ]
  },
  {
   "cell_type": "code",
   "execution_count": null,
   "metadata": {
    "colab": {
     "base_uri": "https://localhost:8080/"
    },
    "id": "3h4U_7ELD1bT",
    "outputId": "dfbd6cfe-b6b3-42f8-9f65-9c0955f8dc95"
   },
   "outputs": [
    {
     "data": {
      "text/plain": [
       "2.0"
      ]
     },
     "execution_count": 171,
     "metadata": {},
     "output_type": "execute_result"
    }
   ],
   "source": [
    "np.average(arr, weights = weight) "
   ]
  },
  {
   "cell_type": "code",
   "execution_count": 76,
   "metadata": {
    "colab": {
     "base_uri": "https://localhost:8080/"
    },
    "id": "hHfUy22wE4Gr",
    "outputId": "5b505679-97fd-42bc-cb38-95f89a0e33cc"
   },
   "outputs": [
    {
     "data": {
      "text/plain": [
       "array([-10. ,   0.3,   1.5,  19. , -50. ,  -3.5,  11.5,   9. ])"
      ]
     },
     "execution_count": 76,
     "metadata": {},
     "output_type": "execute_result"
    }
   ],
   "source": [
    "array = np.array ([-10, 0.3, 1.5, 19, -50, -3.5, 11.5, 9])\n",
    "array"
   ]
  },
  {
   "cell_type": "code",
   "execution_count": 77,
   "metadata": {
    "colab": {
     "base_uri": "https://localhost:8080/"
    },
    "id": "GBeQh27nFpnD",
    "outputId": "124b2942-99ed-4d20-bc4e-9d122449e01c"
   },
   "outputs": [
    {
     "data": {
      "text/plain": [
       "array([-50. , -10. ,  -3.5,   0.3,   1.5,   9. ,  11.5,  19. ])"
      ]
     },
     "execution_count": 77,
     "metadata": {},
     "output_type": "execute_result"
    }
   ],
   "source": [
    "np.sort(array)"
   ]
  },
  {
   "cell_type": "markdown",
   "metadata": {
    "id": "uZNrVl5SF3Kd"
   },
   "source": [
    "## argsort( ) --> It will returns us the index."
   ]
  },
  {
   "cell_type": "code",
   "execution_count": 78,
   "metadata": {
    "colab": {
     "base_uri": "https://localhost:8080/"
    },
    "id": "uoX8cq_jFwNZ",
    "outputId": "cf37d79a-c423-4571-fd32-876125393c0b"
   },
   "outputs": [
    {
     "data": {
      "text/plain": [
       "array([4, 0, 5, 1, 2, 7, 6, 3], dtype=int64)"
      ]
     },
     "execution_count": 78,
     "metadata": {},
     "output_type": "execute_result"
    }
   ],
   "source": [
    "np.argsort(array)"
   ]
  },
  {
   "cell_type": "markdown",
   "metadata": {
    "id": "T-1QxODMJ-_Q"
   },
   "source": [
    "## sqrt"
   ]
  },
  {
   "cell_type": "code",
   "execution_count": 81,
   "metadata": {
    "colab": {
     "base_uri": "https://localhost:8080/"
    },
    "id": "-ETGGxoHKo3a",
    "outputId": "9cf72b83-344b-4002-a3e7-91cbeefd5315"
   },
   "outputs": [
    {
     "data": {
      "text/plain": [
       "array([ 2,  4,  6,  8,  9, 10])"
      ]
     },
     "execution_count": 81,
     "metadata": {},
     "output_type": "execute_result"
    }
   ],
   "source": [
    "newarr"
   ]
  },
  {
   "cell_type": "code",
   "execution_count": 82,
   "metadata": {
    "colab": {
     "base_uri": "https://localhost:8080/"
    },
    "id": "7yx-xXZ0F9I6",
    "outputId": "c7fe09a3-1639-484d-f882-1b5c8a7cd156"
   },
   "outputs": [
    {
     "data": {
      "text/plain": [
       "array([1.41421356, 2.        , 2.44948974, 2.82842712, 3.        ,\n",
       "       3.16227766])"
      ]
     },
     "execution_count": 82,
     "metadata": {},
     "output_type": "execute_result"
    }
   ],
   "source": [
    "np.sqrt(newarr)"
   ]
  },
  {
   "cell_type": "code",
   "execution_count": 83,
   "metadata": {
    "colab": {
     "base_uri": "https://localhost:8080/"
    },
    "id": "86QRiQ_tKESj",
    "outputId": "d4da424d-4e66-459e-9028-bf2f8f9b811c"
   },
   "outputs": [
    {
     "data": {
      "text/plain": [
       "array([  4,  16,  36,  64,  81, 100])"
      ]
     },
     "execution_count": 83,
     "metadata": {},
     "output_type": "execute_result"
    }
   ],
   "source": [
    "np.square(newarr)"
   ]
  },
  {
   "cell_type": "code",
   "execution_count": null,
   "metadata": {
    "id": "0GTLSzApKm3r"
   },
   "outputs": [],
   "source": []
  }
 ],
 "metadata": {
  "colab": {
   "provenance": [],
   "toc_visible": true
  },
  "kernelspec": {
   "display_name": "Python 3 (ipykernel)",
   "language": "python",
   "name": "python3"
  },
  "language_info": {
   "codemirror_mode": {
    "name": "ipython",
    "version": 3
   },
   "file_extension": ".py",
   "mimetype": "text/x-python",
   "name": "python",
   "nbconvert_exporter": "python",
   "pygments_lexer": "ipython3",
   "version": "3.9.13"
  },
  "vscode": {
   "interpreter": {
    "hash": "1d04659f779425b4779ce901f7c7f4af747918a419b2140d26b4a15082a887e3"
   }
  }
 },
 "nbformat": 4,
 "nbformat_minor": 4
}
