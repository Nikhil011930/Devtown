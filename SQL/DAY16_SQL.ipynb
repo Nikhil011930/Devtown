{
  "nbformat": 4,
  "nbformat_minor": 0,
  "metadata": {
    "colab": {
      "provenance": []
    },
    "kernelspec": {
      "name": "python3",
      "display_name": "Python 3"
    },
    "language_info": {
      "name": "python"
    }
  },
  "cells": [
    {
      "cell_type": "code",
      "execution_count": null,
      "metadata": {
        "id": "kTWht3KXp60Y"
      },
      "outputs": [],
      "source": [
        "import sqlite3 as sq"
      ]
    },
    {
      "cell_type": "markdown",
      "source": [
        "# Create a Database"
      ],
      "metadata": {
        "id": "c_FpoFKwqM48"
      }
    },
    {
      "cell_type": "code",
      "source": [
        "# databse = sq.connect(\"database_name\")\n",
        "databse = sq.connect(\"test.db\")\n",
        "print (\"Databse Successfull Created!\")"
      ],
      "metadata": {
        "colab": {
          "base_uri": "https://localhost:8080/"
        },
        "id": "oF91MhLkqGc1",
        "outputId": "7708e9b3-8e5c-421d-b54a-94ed01e028aa"
      },
      "execution_count": null,
      "outputs": [
        {
          "output_type": "stream",
          "name": "stdout",
          "text": [
            "Databse Successfull Created!\n"
          ]
        }
      ]
    },
    {
      "cell_type": "markdown",
      "source": [
        "# Perform the Queries\n",
        "\n"
      ],
      "metadata": {
        "id": "Kb5pUhRMrGty"
      }
    },
    {
      "cell_type": "code",
      "source": [
        "'''Create Table table_name (\n",
        "    Name char (100),\n",
        "    Age int\n",
        ");'''\n",
        "\n",
        "# databse.execute()"
      ],
      "metadata": {
        "id": "n9y_v5cCq64e"
      },
      "execution_count": null,
      "outputs": []
    },
    {
      "cell_type": "markdown",
      "source": [
        "# Create a Table"
      ],
      "metadata": {
        "id": "Rwb-psrArkGg"
      }
    },
    {
      "cell_type": "code",
      "source": [
        "databse.execute('''\n",
        "Create Table table_name (\n",
        "    Name char (100),\n",
        "    Age int\n",
        ");\n",
        "''')\n",
        "\n",
        "print (\"Table Created\")"
      ],
      "metadata": {
        "colab": {
          "base_uri": "https://localhost:8080/"
        },
        "id": "nnJkZ0h5ri_2",
        "outputId": "fcaf4d1b-67ec-410c-c211-d4943bca4e3f"
      },
      "execution_count": null,
      "outputs": [
        {
          "output_type": "stream",
          "name": "stdout",
          "text": [
            "Table Created\n"
          ]
        }
      ]
    },
    {
      "cell_type": "code",
      "source": [
        "databse.execute(\"INSERT INTO Table_name Values ('TONY', 25);\")\n",
        "databse.execute(\"INSERT INTO Table_name Values ('THOR', 35);\")\n",
        "databse.execute(\"INSERT INTO Table_name Values ('SPIDER', 45);\")\n",
        "\n",
        "print (\"Data has been inserted\")"
      ],
      "metadata": {
        "colab": {
          "base_uri": "https://localhost:8080/"
        },
        "id": "9d2A2OqdsPZI",
        "outputId": "11bebca2-f903-409a-cb67-fa5d5623d246"
      },
      "execution_count": null,
      "outputs": [
        {
          "output_type": "stream",
          "name": "stdout",
          "text": [
            "Data has been inserted\n"
          ]
        }
      ]
    },
    {
      "cell_type": "code",
      "source": [
        "data= databse.execute(\"SELECT * FROM Table_name;\")"
      ],
      "metadata": {
        "id": "Tv4Dkip_tRT_"
      },
      "execution_count": null,
      "outputs": []
    },
    {
      "cell_type": "code",
      "source": [
        "for i in data:\n",
        "  print (i)"
      ],
      "metadata": {
        "colab": {
          "base_uri": "https://localhost:8080/"
        },
        "id": "1tJiHg74tf-n",
        "outputId": "f38ffda8-5f96-4571-8c0b-d3d227c8b934"
      },
      "execution_count": null,
      "outputs": [
        {
          "output_type": "stream",
          "name": "stdout",
          "text": [
            "('TONY', 25)\n",
            "('THOR', 35)\n",
            "('SPIDER', 45)\n"
          ]
        }
      ]
    },
    {
      "cell_type": "code",
      "source": [],
      "metadata": {
        "id": "yl76q_WltqeJ"
      },
      "execution_count": null,
      "outputs": []
    }
  ]
}