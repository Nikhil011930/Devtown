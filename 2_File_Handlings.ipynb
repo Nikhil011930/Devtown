{
  "cells": [
    {
      "cell_type": "markdown",
      "metadata": {
        "id": "0yfyuD1Cknk8"
      },
      "source": [
        "# Day 12: File Handling / File I/O"
      ]
    },
    {
      "cell_type": "code",
      "execution_count": null,
      "metadata": {
        "colab": {
          "base_uri": "https://localhost:8080/",
          "height": 53
        },
        "id": "6AN4E9AakieC",
        "outputId": "b52c5645-10d5-4a3a-f52d-a4da93018535"
      },
      "outputs": [],
      "source": [
        "'''\n",
        "r --> Reading a file\n",
        "w --> Writing in a file\n",
        "a --> appending\n",
        "b --> binary\n",
        "+ --> read and write\n",
        "x --> If the file exist -> Throw error, Else --> Creat the file\n",
        "\n",
        "'''"
      ]
    },
    {
      "cell_type": "code",
      "execution_count": null,
      "metadata": {
        "colab": {
          "base_uri": "https://localhost:8080/"
        },
        "id": "KYWypxadpZhH",
        "outputId": "74fd487d-e765-444d-83d6-c65b1118b4a4"
      },
      "outputs": [
        {
          "data": {
            "text/plain": [
              "<_io.TextIOWrapper name='/content/drive/MyDrive/New Text Document.txt' mode='r' encoding='UTF-8'>"
            ]
          },
          "execution_count": 63,
          "metadata": {},
          "output_type": "execute_result"
        }
      ],
      "source": [
        "f = open(\"/content/drive/MyDrive/New Text Document.txt\")\n",
        "f"
      ]
    },
    {
      "cell_type": "code",
      "execution_count": null,
      "metadata": {
        "colab": {
          "base_uri": "https://localhost:8080/",
          "height": 196
        },
        "id": "3W0qChnMs-CH",
        "outputId": "7dd6b94b-07b4-43ce-8d9f-89e50df32357"
      },
      "outputs": [
        {
          "data": {
            "application/vnd.google.colaboratory.intrinsic+json": {
              "type": "string"
            },
            "text/plain": [
              "'A file with .TXT extension represents a text document that contains plain text in the form of lines. \\nParagraphs in a text document are recognized by carriage returns and are used for better arrangement of file contents. \\nA standard text document can be opened in any text editor or word processing application on different operating systems. \\nAll the text contained in such a file is in human-readable format and represented by sequence of characters.\\n\\nText files can store large amount of data as there is no limitation on the size of contents. However, text editors opening such \\nlarge files need to be smart for loading and displaying these. Almost all operating systems come with text editors that allow you \\nto create and edit text files. For example, Windows OS comes with Notepad and Wordpad for this purpose. Similarly, MacOS comes with \\nTextEdit for creating and editing Text Documents. There are, however, other free text editors available as well over the internet that \\nprovide you the capability to work with Text Documents like Notepad++ which is far more advanced in terms of functionality.'"
            ]
          },
          "execution_count": 59,
          "metadata": {},
          "output_type": "execute_result"
        }
      ],
      "source": [
        "f.read()"
      ]
    },
    {
      "cell_type": "code",
      "execution_count": null,
      "metadata": {
        "id": "l6FtJgYFtAgm"
      },
      "outputs": [],
      "source": [
        "# f.close()"
      ]
    },
    {
      "cell_type": "code",
      "execution_count": null,
      "metadata": {
        "colab": {
          "base_uri": "https://localhost:8080/"
        },
        "id": "KqdxVhaZyG7g",
        "outputId": "95f641d1-d3bb-4123-f5be-36b950629438"
      },
      "outputs": [
        {
          "data": {
            "text/plain": [
              "100"
            ]
          },
          "execution_count": 21,
          "metadata": {},
          "output_type": "execute_result"
        }
      ],
      "source": [
        "# f.tell() # tell the cursor position \n",
        "f.seek(100)  # seeks lets us move our cursore where ever we want. "
      ]
    },
    {
      "cell_type": "code",
      "execution_count": null,
      "metadata": {
        "id": "uXMxeBvAyMyb"
      },
      "outputs": [],
      "source": [
        "for i in f:\n",
        "  print(i,end=\"\")"
      ]
    },
    {
      "cell_type": "code",
      "execution_count": null,
      "metadata": {
        "colab": {
          "base_uri": "https://localhost:8080/",
          "height": 53
        },
        "id": "-VYsiKTFy1Dn",
        "outputId": "dd4eec60-d759-4142-a8a2-5325a4f0a4e9"
      },
      "outputs": [
        {
          "data": {
            "application/vnd.google.colaboratory.intrinsic+json": {
              "type": "string"
            },
            "text/plain": [
              "'A file with .TXT extension represents a text document that contains plain text in the form of lines. \\n'"
            ]
          },
          "execution_count": 64,
          "metadata": {},
          "output_type": "execute_result"
        }
      ],
      "source": [
        "f.readline()"
      ]
    },
    {
      "cell_type": "code",
      "execution_count": null,
      "metadata": {
        "id": "I0VmuoeOz3Yv"
      },
      "outputs": [],
      "source": [
        "arr = f.readlines()"
      ]
    },
    {
      "cell_type": "code",
      "execution_count": null,
      "metadata": {
        "colab": {
          "base_uri": "https://localhost:8080/"
        },
        "id": "oPt6OEza2MHo",
        "outputId": "38a5e59c-95d9-45a9-915c-20cd78a21a50"
      },
      "outputs": [
        {
          "data": {
            "text/plain": [
              "9"
            ]
          },
          "execution_count": 66,
          "metadata": {},
          "output_type": "execute_result"
        }
      ],
      "source": [
        "len(arr)"
      ]
    },
    {
      "cell_type": "code",
      "execution_count": null,
      "metadata": {
        "colab": {
          "base_uri": "https://localhost:8080/"
        },
        "id": "-LeLvGtz3QSP",
        "outputId": "f9f54722-e0ef-41d2-82c9-cb8d7606b613"
      },
      "outputs": [
        {
          "name": "stdout",
          "output_type": "stream",
          "text": [
            "Paragraphs in a text document are recognized by carriage returns and are used for better arrangement of file contents. \n",
            " + Yes\n",
            "A standard text document can be opened in any text editor or word processing application on different operating systems. \n",
            " + Yes\n",
            "All the text contained in such a file is in human-readable format and represented by sequence of characters.\n",
            " + Yes\n",
            "\n",
            " + Yes\n",
            "Text files can store large amount of data as there is no limitation on the size of contents. However, text editors opening such \n",
            " + Yes\n",
            "large files need to be smart for loading and displaying these. Almost all operating systems come with text editors that allow you \n",
            " + Yes\n",
            "to create and edit text files. For example, Windows OS comes with Notepad and Wordpad for this purpose. Similarly, MacOS comes with \n",
            " + Yes\n",
            "TextEdit for creating and editing Text Documents. There are, however, other free text editors available as well over the internet that \n",
            " + Yes\n",
            "provide you the capability to work with Text Documents like Notepad++ which is far more advanced in terms of functionality. + Yes\n"
          ]
        }
      ],
      "source": [
        "for i in arr:\n",
        "  print (f\"{i} + Yes\")"
      ]
    },
    {
      "cell_type": "code",
      "execution_count": null,
      "metadata": {
        "id": "7SGyUzCp3u4w"
      },
      "outputs": [],
      "source": [
        "with open (\"/content/drive/MyDrive/New Text Document.txt\") as f:\n",
        "  f.read()"
      ]
    },
    {
      "cell_type": "code",
      "execution_count": null,
      "metadata": {
        "id": "sO-JHoOMC9nx"
      },
      "outputs": [],
      "source": [
        "# Module  = It is a single file which contain what so ever like file, library.\n",
        "#  A single file where all the logics has been written \n",
        "\n",
        "# Packages = it is the collection of the modules.\n",
        "\n",
        "# Library = IT is the collection of packages\n",
        "\n",
        "# Framwork = it is the collection of Library\n"
      ]
    }
  ],
  "metadata": {
    "colab": {
      "provenance": []
    },
    "kernelspec": {
      "display_name": "base",
      "language": "python",
      "name": "python3"
    },
    "language_info": {
      "name": "python",
      "version": "3.9.15 (main, Nov 24 2022, 14:39:17) [MSC v.1916 64 bit (AMD64)]"
    },
    "vscode": {
      "interpreter": {
        "hash": "ad2bdc8ecc057115af97d19610ffacc2b4e99fae6737bb82f5d7fb13d2f2c186"
      }
    }
  },
  "nbformat": 4,
  "nbformat_minor": 0
}
