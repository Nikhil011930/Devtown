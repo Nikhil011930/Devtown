{
 "cells": [
  {
   "attachments": {},
   "cell_type": "markdown",
   "metadata": {},
   "source": [
    "# Day 38"
   ]
  },
  {
   "attachments": {},
   "cell_type": "markdown",
   "metadata": {},
   "source": [
    "AI - Focuses on Maximizing the chances of success\\\n",
    "AL - It focuses on accuracy and pattern.\\\n",
    "Dl -\n",
    "\n",
    "Data Science it is mixture of all the above things."
   ]
  },
  {
   "attachments": {},
   "cell_type": "markdown",
   "metadata": {},
   "source": [
    "## Types of Machine Learning: \n",
    "(Use python ka chilla for better understanding)\n",
    "1. **Supervised Learning**\n",
    "- Algorithem that learns from x --> y, or from Input --> Output mappings.\n",
    "- It is the first type of ML that use Labelled data to train the algorithms.\n",
    "\n",
    "**Types of Supervised Learning**\n",
    "      \n",
    "     1. Regression ==> When the output is Continuous Values/Numerical.\n",
    "      - Predict a number infinitely many possible output.\n",
    "      - It is also known as Predective Modelling Techinque.\n",
    "      - Where the Output is Dependent Varaible and the Input is Independent Varaibel.\n",
    "      - Simple, Multiple, Polynomial, SVM - SVR & SVC, Ridge & Lasso, Decision Tree, Random Forest, \n",
    " \n",
    "**NOTE** _Which Model we are going to use depends on the ouput. First check the Output if the output is there then use the Supervised Learning. IF the values in it are Continuous then Regression. IF the output is in the form of Categorical then use classification._ \n",
    "   \n",
    "      1. Classification ==> When the output is categorical.\n",
    "      - Predict categories small number of possible outputs.\n",
    "      - Logestic, K-nearest Neighbors, SVC, Naive Base, Decision Tree Classifier, Random Forest Classifier.\n",
    "\n",
    "\n",
    "1. **Unsupervised Learning**\n",
    "- It is the type of ML that use unlabelled data to train the algorithms.\n",
    "- Unsupervised Learning finds something interesting in unlabeled data.\n",
    "- Data only comes with inputs X but not Output labels Y.\n",
    "- Algorithem has to find Structure in the Data.\n",
    "      \n",
    "**Types of Unsupervised Learning**\n",
    "     \n",
    "     1. Clustering - Group similar data Point together.\n",
    "         - Data points are growth in clusters\n",
    "         - K-Mean Clustering \n",
    "         - Hierarchical Clustering\n",
    " \n",
    "     2. Associate\n",
    "         - It is based on the Combination Probability\n",
    "         - Applications:\n",
    "            a. Market BAsket Analysis\n",
    "            b. Recommendation System\n",
    "         - Apriori\n",
    "         - Eclat\n",
    "         - Upper Confidenct Bond\n",
    "         - Thompson Sampling\n",
    "    \n",
    "     3. Anomaly Detection:\n",
    "         - Find Unusual data Points.\n",
    "     \n",
    "     4. Dimensionality Reduction\n",
    "         - Compress data using fewer numbers.\n",
    "\n",
    "1. **Reinforcement Learning**\n",
    "   - Model learns from it's experience.\n",
    " \n",
    "   \n",
    "   "
   ]
  },
  {
   "attachments": {},
   "cell_type": "markdown",
   "metadata": {},
   "source": [
    "## Steps in ML : \n",
    "1. Data Preprocessiong\n",
    "2. Splitting of data - Training & Testing\n",
    "3. Choosing and Algorithm\n",
    "4. Model Fitting (training the model)\\\n",
    "5. Making the Predictions\n",
    "6. Evaluation\n",
    "7. Model Exportation"
   ]
  },
  {
   "cell_type": "markdown",
   "metadata": {},
   "source": []
  }
 ],
 "metadata": {
  "kernelspec": {
   "display_name": "base",
   "language": "python",
   "name": "python3"
  },
  "language_info": {
   "name": "python",
   "version": "3.9.15"
  },
  "orig_nbformat": 4,
  "vscode": {
   "interpreter": {
    "hash": "ad2bdc8ecc057115af97d19610ffacc2b4e99fae6737bb82f5d7fb13d2f2c186"
   }
  }
 },
 "nbformat": 4,
 "nbformat_minor": 2
}
